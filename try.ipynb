{
 "cells": [
  {
   "cell_type": "code",
   "execution_count": 1,
   "metadata": {
    "collapsed": true
   },
   "outputs": [],
   "source": [
    "from __future__ import division\n",
    "\n",
    "import pandas as pd\n",
    "import numpy as np\n",
    "import math\n",
    "from datetime import datetime,timedelta\n",
    "\n",
    "%matplotlib inline"
   ]
  },
  {
   "cell_type": "code",
   "execution_count": 7,
   "metadata": {
    "collapsed": true
   },
   "outputs": [],
   "source": [
    "training_path = 'dataSets/training/'"
   ]
  },
  {
   "cell_type": "code",
   "execution_count": 9,
   "metadata": {
    "collapsed": false
   },
   "outputs": [],
   "source": [
    "training_traj = pd.read_csv(training_path+'trajectories(table 5)_training.csv')"
   ]
  },
  {
   "cell_type": "code",
   "execution_count": 16,
   "metadata": {
    "collapsed": true
   },
   "outputs": [],
   "source": [
    "def time_to_window(x):\n",
    "    dt = datetime.strptime(x, \"%Y-%m-%d %H:%M:%S\")\n",
    "    dtmin = int(dt.minute / 20) * 20\n",
    "    dtwindow = datetime(dt.year, dt.month, dt.day, dt.hour, dtmin, 0)\n",
    "    return dtwindow"
   ]
  },
  {
   "cell_type": "code",
   "execution_count": 20,
   "metadata": {
    "collapsed": false
   },
   "outputs": [],
   "source": [
    "#training_traj['starting_datetime'] = pd.to_datetime(training_path['starting_time'])\n",
    "training_traj['window'] = training_traj['starting_time'].apply(time_to_window)"
   ]
  },
  {
   "cell_type": "code",
   "execution_count": 68,
   "metadata": {
    "collapsed": false
   },
   "outputs": [],
   "source": [
    "training_traj_group_mean = \\\n",
    "training_traj.groupby(['intersection_id','tollgate_id','window']).mean()['travel_time']"
   ]
  },
  {
   "cell_type": "code",
   "execution_count": 185,
   "metadata": {
    "collapsed": true
   },
   "outputs": [],
   "source": [
    "training_traj_group_count = \\\n",
    "training_traj.groupby(['intersection_id','tollgate_id','window']).count()['travel_time']"
   ]
  },
  {
   "cell_type": "code",
   "execution_count": 28,
   "metadata": {
    "collapsed": false
   },
   "outputs": [],
   "source": [
    "ts = training_traj['travel_seq'][0]"
   ]
  },
  {
   "cell_type": "code",
   "execution_count": 29,
   "metadata": {
    "collapsed": false
   },
   "outputs": [
    {
     "data": {
      "text/plain": [
       "'105#2016-07-19 00:14:24#9.56;100#2016-07-19 00:14:34#6.75;111#2016-07-19 00:14:41#13.00;103#2016-07-19 00:14:54#7.47;122#2016-07-19 00:15:02#32.85'"
      ]
     },
     "execution_count": 29,
     "metadata": {},
     "output_type": "execute_result"
    }
   ],
   "source": [
    "ts"
   ]
  },
  {
   "cell_type": "code",
   "execution_count": null,
   "metadata": {
    "collapsed": true
   },
   "outputs": [],
   "source": []
  },
  {
   "cell_type": "code",
   "execution_count": 50,
   "metadata": {
    "collapsed": true
   },
   "outputs": [],
   "source": [
    "from datetime import date, time"
   ]
  },
  {
   "cell_type": "code",
   "execution_count": 47,
   "metadata": {
    "collapsed": false
   },
   "outputs": [],
   "source": [
    "date_list = []\n",
    "\n",
    "d1 = date(2016, 7, 19)  # start date\n",
    "d2 = date(2016, 10, 17)  # end date\n",
    "\n",
    "delta = d2 - d1         # timedelta\n",
    "\n",
    "for i in range(delta.days + 1):\n",
    "    date_list.append(d1 + timedelta(days=i))"
   ]
  },
  {
   "cell_type": "code",
   "execution_count": 52,
   "metadata": {
    "collapsed": false
   },
   "outputs": [],
   "source": [
    "give_time_list1 = [time(6,0), time(6,20), time(6,40), \n",
    "                   time(7,0), time(7,20), time(7,40)]\n",
    "pred_time_list1 = [time(8,0), time(8,20), time(8,40), \n",
    "                   time(9,0), time(9,20), time(9,40)]"
   ]
  },
  {
   "cell_type": "code",
   "execution_count": null,
   "metadata": {
    "collapsed": true
   },
   "outputs": [],
   "source": []
  },
  {
   "cell_type": "code",
   "execution_count": 205,
   "metadata": {
    "collapsed": false
   },
   "outputs": [
    {
     "data": {
      "text/plain": [
       "0.36787968862663156"
      ]
     },
     "execution_count": 205,
     "metadata": {},
     "output_type": "execute_result"
    }
   ],
   "source": [
    "1/2.71828"
   ]
  },
  {
   "cell_type": "code",
   "execution_count": 203,
   "metadata": {
    "collapsed": false
   },
   "outputs": [
    {
     "data": {
      "text/plain": [
       "5"
      ]
     },
     "execution_count": 203,
     "metadata": {},
     "output_type": "execute_result"
    }
   ],
   "source": [
    "A2m.index[300].weekday()"
   ]
  },
  {
   "cell_type": "code",
   "execution_count": 204,
   "metadata": {
    "collapsed": false
   },
   "outputs": [
    {
     "data": {
      "text/plain": [
       "window\n",
       "2016-07-22 18:40:00    11\n",
       "2016-07-22 19:00:00    16\n",
       "2016-07-22 19:20:00    12\n",
       "2016-07-22 19:40:00     9\n",
       "2016-07-22 20:00:00     6\n",
       "2016-07-22 20:20:00    10\n",
       "2016-07-22 20:40:00     8\n",
       "2016-07-22 21:00:00     6\n",
       "2016-07-22 21:20:00    11\n",
       "2016-07-22 21:40:00     1\n",
       "2016-07-22 22:00:00     2\n",
       "2016-07-22 22:20:00     3\n",
       "2016-07-22 22:40:00     4\n",
       "2016-07-22 23:00:00     9\n",
       "2016-07-22 23:20:00     1\n",
       "2016-07-23 06:00:00    12\n",
       "2016-07-23 06:20:00    12\n",
       "2016-07-23 06:40:00    15\n",
       "2016-07-23 07:00:00    12\n",
       "2016-07-23 07:20:00     9\n",
       "2016-07-23 07:40:00    11\n",
       "2016-07-23 08:00:00     8\n",
       "2016-07-23 08:20:00    12\n",
       "2016-07-23 08:40:00    11\n",
       "2016-07-23 09:00:00    17\n",
       "2016-07-23 09:20:00    18\n",
       "2016-07-23 09:40:00    26\n",
       "2016-07-23 10:00:00    17\n",
       "2016-07-23 10:20:00     9\n",
       "2016-07-23 11:00:00     1\n",
       "                       ..\n",
       "2016-10-17 14:00:00    20\n",
       "2016-10-17 14:20:00     6\n",
       "2016-10-17 14:40:00    11\n",
       "2016-10-17 15:00:00    12\n",
       "2016-10-17 15:20:00    15\n",
       "2016-10-17 15:40:00    12\n",
       "2016-10-17 16:00:00    11\n",
       "2016-10-17 16:20:00    17\n",
       "2016-10-17 16:40:00    17\n",
       "2016-10-17 17:00:00    15\n",
       "2016-10-17 17:20:00    14\n",
       "2016-10-17 17:40:00     3\n",
       "2016-10-17 18:00:00     6\n",
       "2016-10-17 18:20:00     3\n",
       "2016-10-17 18:40:00     6\n",
       "2016-10-17 19:00:00     5\n",
       "2016-10-17 19:20:00    12\n",
       "2016-10-17 19:40:00     6\n",
       "2016-10-17 20:00:00     5\n",
       "2016-10-17 20:20:00     3\n",
       "2016-10-17 20:40:00     3\n",
       "2016-10-17 21:00:00     9\n",
       "2016-10-17 21:20:00     4\n",
       "2016-10-17 21:40:00     4\n",
       "2016-10-17 22:00:00     2\n",
       "2016-10-17 22:20:00     4\n",
       "2016-10-17 22:40:00     3\n",
       "2016-10-17 23:00:00     4\n",
       "2016-10-17 23:20:00     5\n",
       "2016-10-17 23:40:00     1\n",
       "Name: travel_time, dtype: int64"
      ]
     },
     "execution_count": 204,
     "metadata": {},
     "output_type": "execute_result"
    }
   ],
   "source": [
    "training_traj_group_count.loc['A'].loc[2][260:]"
   ]
  },
  {
   "cell_type": "code",
   "execution_count": null,
   "metadata": {
    "collapsed": true
   },
   "outputs": [],
   "source": []
  },
  {
   "cell_type": "code",
   "execution_count": 139,
   "metadata": {
    "collapsed": false
   },
   "outputs": [],
   "source": [
    "A2m = training_traj_group_mean.loc['A'].loc[2]"
   ]
  },
  {
   "cell_type": "code",
   "execution_count": 140,
   "metadata": {
    "collapsed": true
   },
   "outputs": [],
   "source": [
    "def interpolate_missing_window(x):\n",
    "    ss = [(i-datetime(1970,1,1)).total_seconds() for i in x.index]\n",
    "    tt = x.values\n",
    "    ssall = np.linspace(ss[0], ss[-1], (ss[-1]-ss[0])/1200+1)\n",
    "    print(len(ss), len(tt), len(ssall))\n",
    "    ttall = np.interp(ssall, ss, tt)\n",
    "    ssall = [int(i) for i in ssall]\n",
    "    ssall = [datetime(1970,1,1)+timedelta(seconds=i) for i in ssall]\n",
    "    return pd.Series(index=ssall, data=ttall)"
   ]
  },
  {
   "cell_type": "code",
   "execution_count": 141,
   "metadata": {
    "collapsed": false
   },
   "outputs": [
    {
     "name": "stdout",
     "output_type": "stream",
     "text": [
      "(5965, 5965, 6551)\n"
     ]
    }
   ],
   "source": [
    "A2m = interpolate_missing_window(A2m)"
   ]
  },
  {
   "cell_type": "code",
   "execution_count": null,
   "metadata": {
    "collapsed": true
   },
   "outputs": [],
   "source": []
  },
  {
   "cell_type": "code",
   "execution_count": 145,
   "metadata": {
    "collapsed": false
   },
   "outputs": [],
   "source": [
    "morning_train66 = []\n",
    "for i in date_list:\n",
    "    tmp = []\n",
    "    for j in give_time_list1:\n",
    "        tmp.append(A2m[datetime.combine(i, j)])\n",
    "    for j in pred_time_list1:\n",
    "        tmp.append(A2m[datetime.combine(i, j)]) \n",
    "    morning_train66.append(tmp)"
   ]
  },
  {
   "cell_type": "code",
   "execution_count": 149,
   "metadata": {
    "collapsed": false
   },
   "outputs": [
    {
     "data": {
      "text/plain": [
       "[46.356000000000009,\n",
       " 48.588000000000001,\n",
       " 66.642499999999998,\n",
       " 64.680999999999997,\n",
       " 85.676000000000016,\n",
       " 58.968888888888877,\n",
       " 81.602857142857147,\n",
       " 80.207857142857137,\n",
       " 63.448461538461544,\n",
       " 78.05117647058826,\n",
       " 69.038333333333341,\n",
       " 69.657142857142858]"
      ]
     },
     "execution_count": 149,
     "metadata": {},
     "output_type": "execute_result"
    }
   ],
   "source": [
    "morning_train66[0]"
   ]
  },
  {
   "cell_type": "code",
   "execution_count": 163,
   "metadata": {
    "collapsed": true
   },
   "outputs": [],
   "source": [
    "def pred_loss(x_pred, x_true):\n",
    "    x_pred = np.array(x_pred)\n",
    "    x_true = np.array(x_true)\n",
    "    return (abs(x_pred-x_true)/x_true).mean()"
   ]
  },
  {
   "cell_type": "code",
   "execution_count": 209,
   "metadata": {
    "collapsed": false
   },
   "outputs": [],
   "source": [
    "def naive_pred_loss(x):\n",
    "    first6 = x[:6]\n",
    "    pred = [np.mean(first6)]*6\n",
    "    return pred_loss(pred, x[6:])"
   ]
  },
  {
   "cell_type": "code",
   "execution_count": 210,
   "metadata": {
    "collapsed": false
   },
   "outputs": [],
   "source": [
    "naive_loss_list = [naive_pred_loss(i) for i in morning_train66]"
   ]
  },
  {
   "cell_type": "code",
   "execution_count": 211,
   "metadata": {
    "collapsed": false
   },
   "outputs": [
    {
     "data": {
      "text/plain": [
       "0.24926126851386465"
      ]
     },
     "execution_count": 211,
     "metadata": {},
     "output_type": "execute_result"
    }
   ],
   "source": [
    "np.mean(naive_loss_list)"
   ]
  },
  {
   "cell_type": "code",
   "execution_count": null,
   "metadata": {
    "collapsed": true
   },
   "outputs": [],
   "source": []
  },
  {
   "cell_type": "code",
   "execution_count": null,
   "metadata": {
    "collapsed": true
   },
   "outputs": [],
   "source": []
  },
  {
   "cell_type": "code",
   "execution_count": null,
   "metadata": {
    "collapsed": true
   },
   "outputs": [],
   "source": []
  },
  {
   "cell_type": "code",
   "execution_count": null,
   "metadata": {
    "collapsed": true
   },
   "outputs": [],
   "source": []
  },
  {
   "cell_type": "code",
   "execution_count": null,
   "metadata": {
    "collapsed": true
   },
   "outputs": [],
   "source": []
  },
  {
   "cell_type": "code",
   "execution_count": 18,
   "metadata": {
    "collapsed": false
   },
   "outputs": [
    {
     "name": "stdout",
     "output_type": "stream",
     "text": [
      "\"B\",\"3\",\"1065642\",\"2016-07-19 00:14:24\",\"105#2016-07-19 00:14:24#9.56;100#2016-07-19 00:14:34#6.75;111#2016-07-19 00:14:41#13.00;103#2016-07-19 00:14:54#7.47;122#2016-07-19 00:15:02#32.85\",\"70.85\"\n",
      "\n"
     ]
    }
   ],
   "source": [
    "# -*- coding: utf-8 -*-\n",
    "#!/usr/bin/env python\n",
    "\n",
    "\"\"\"\n",
    "Objective:\n",
    "Calculate the average travel time for each 20-minute time window.\n",
    "\n",
    "\"\"\"\n",
    "\n",
    "# import necessary modules\n",
    "import math\n",
    "from datetime import datetime,timedelta\n",
    "\n",
    "file_suffix = '.csv'\n",
    "path = 'dataSets/training/'  # set the data directory\n",
    "\n",
    "def avgTravelTime(in_file):\n",
    "\n",
    "    out_suffix = '_20min_avg_travel_time'\n",
    "    in_file_name = in_file + file_suffix\n",
    "    out_file_name = in_file.split('_')[1] + out_suffix + file_suffix\n",
    "\n",
    "    # Step 1: Load trajectories\n",
    "    fr = open(path + in_file_name, 'r')\n",
    "    fr.readline()  # skip the header\n",
    "    traj_data = fr.readlines()\n",
    "    fr.close()\n",
    "    print(traj_data[0])\n",
    "\n",
    "    # Step 2: Create a dictionary to store travel time for each route per time window\n",
    "    travel_times = {}  # key: route_id. Value is also a dictionary of which key is the start time for the time window and value is a list of travel times\n",
    "    for i in range(len(traj_data)):\n",
    "        each_traj = traj_data[i].replace('\"', '').split(',')\n",
    "        intersection_id = each_traj[0]\n",
    "        tollgate_id = each_traj[1]\n",
    "\n",
    "        route_id = intersection_id + '-' + tollgate_id\n",
    "        if route_id not in travel_times.keys():\n",
    "            travel_times[route_id] = {}\n",
    "\n",
    "        trace_start_time = each_traj[3]\n",
    "        trace_start_time = datetime.strptime(trace_start_time, \"%Y-%m-%d %H:%M:%S\")\n",
    "        time_window_minute = int(trace_start_time.minute / 20) * 20\n",
    "        start_time_window = datetime(trace_start_time.year, trace_start_time.month, trace_start_time.day,\n",
    "                                     trace_start_time.hour, time_window_minute, 0)\n",
    "        tt = float(each_traj[-1]) # travel time\n",
    "\n",
    "        if start_time_window not in travel_times[route_id].keys():\n",
    "            travel_times[route_id][start_time_window] = [tt]\n",
    "        else:\n",
    "            travel_times[route_id][start_time_window].append(tt)\n",
    "\n",
    "    # Step 3: Calculate average travel time for each route per time window\n",
    "    fw = open(out_file_name, 'w')\n",
    "    fw.writelines(','.join(['\"intersection_id\"', '\"tollgate_id\"', '\"time_window\"', '\"avg_travel_time\"']) + '\\n')\n",
    "    for route in travel_times.keys():\n",
    "        route_time_windows = list(travel_times[route].keys())\n",
    "        route_time_windows.sort()\n",
    "        for time_window_start in route_time_windows:\n",
    "            time_window_end = time_window_start + timedelta(minutes=20)\n",
    "            tt_set = travel_times[route][time_window_start]\n",
    "            avg_tt = round(sum(tt_set) / float(len(tt_set)), 2)\n",
    "            out_line = ','.join(['\"' + route.split('-')[0] + '\"', '\"' + route.split('-')[1] + '\"',\n",
    "                                 '\"[' + str(time_window_start) + ',' + str(time_window_end) + ')\"',\n",
    "                                 '\"' + str(avg_tt) + '\"']) + '\\n'\n",
    "            fw.writelines(out_line)\n",
    "    fw.close()\n",
    "\n",
    "def main():\n",
    "\n",
    "    in_file = 'trajectories(table 5)_training'\n",
    "    avgTravelTime(in_file)\n",
    "\n",
    "if __name__ == '__main__':\n",
    "    main()\n",
    "\n",
    "\n",
    "\n"
   ]
  },
  {
   "cell_type": "code",
   "execution_count": null,
   "metadata": {
    "collapsed": true
   },
   "outputs": [],
   "source": []
  },
  {
   "cell_type": "code",
   "execution_count": null,
   "metadata": {
    "collapsed": true
   },
   "outputs": [],
   "source": []
  },
  {
   "cell_type": "code",
   "execution_count": null,
   "metadata": {
    "collapsed": true
   },
   "outputs": [],
   "source": []
  },
  {
   "cell_type": "code",
   "execution_count": null,
   "metadata": {
    "collapsed": true
   },
   "outputs": [],
   "source": []
  },
  {
   "cell_type": "code",
   "execution_count": null,
   "metadata": {
    "collapsed": true
   },
   "outputs": [],
   "source": []
  },
  {
   "cell_type": "code",
   "execution_count": 221,
   "metadata": {
    "collapsed": true
   },
   "outputs": [],
   "source": [
    "import httplib, urllib"
   ]
  },
  {
   "cell_type": "code",
   "execution_count": 228,
   "metadata": {
    "collapsed": false
   },
   "outputs": [
    {
     "data": {
      "text/plain": [
       "<httplib.HTTPResponse instance at 0x10997ae18>"
      ]
     },
     "execution_count": 228,
     "metadata": {},
     "output_type": "execute_result"
    }
   ],
   "source": [
    "conn = httplib.HTTPConnection(\"52.206.6.10\",8083)\n",
    "conn.request(\"POST\", \"\", 'cpu_load_short,host=server02 value=0.67')\n",
    "response = conn.getresponse()\n",
    "response\n"
   ]
  },
  {
   "cell_type": "code",
   "execution_count": 230,
   "metadata": {
    "collapsed": false
   },
   "outputs": [
    {
     "data": {
      "text/plain": [
       "200"
      ]
     },
     "execution_count": 230,
     "metadata": {},
     "output_type": "execute_result"
    }
   ],
   "source": [
    "response.status"
   ]
  },
  {
   "cell_type": "code",
   "execution_count": null,
   "metadata": {
    "collapsed": true
   },
   "outputs": [],
   "source": []
  },
  {
   "cell_type": "code",
   "execution_count": null,
   "metadata": {
    "collapsed": true
   },
   "outputs": [],
   "source": []
  }
 ],
 "metadata": {
  "kernelspec": {
   "display_name": "Python 2",
   "language": "python",
   "name": "python2"
  },
  "language_info": {
   "codemirror_mode": {
    "name": "ipython",
    "version": 2
   },
   "file_extension": ".py",
   "mimetype": "text/x-python",
   "name": "python",
   "nbconvert_exporter": "python",
   "pygments_lexer": "ipython2",
   "version": "2.7.12"
  }
 },
 "nbformat": 4,
 "nbformat_minor": 1
}
