{
 "cells": [
  {
   "cell_type": "code",
   "execution_count": 1,
   "metadata": {
    "collapsed": true
   },
   "outputs": [],
   "source": [
    "from __future__ import division\n",
    "\n",
    "import pandas as pd\n",
    "import numpy as np\n",
    "import math\n",
    "from datetime import datetime,timedelta\n",
    "\n",
    "%matplotlib inline"
   ]
  },
  {
   "cell_type": "code",
   "execution_count": 2,
   "metadata": {
    "collapsed": true
   },
   "outputs": [],
   "source": [
    "training_path = 'dataSets/training/'\n",
    "test_path1 = 'dataSets/testing_phase1/'"
   ]
  },
  {
   "cell_type": "code",
   "execution_count": 3,
   "metadata": {
    "collapsed": false
   },
   "outputs": [],
   "source": [
    "training_traj = pd.read_csv(training_path+'trajectories(table 5)_training.csv')"
   ]
  },
  {
   "cell_type": "code",
   "execution_count": 4,
   "metadata": {
    "collapsed": false
   },
   "outputs": [],
   "source": [
    "test_traj1 = pd.read_csv(test_path1+'trajectories(table 5)_test1.csv')"
   ]
  },
  {
   "cell_type": "code",
   "execution_count": 5,
   "metadata": {
    "collapsed": true
   },
   "outputs": [],
   "source": [
    "def time_to_window(x):\n",
    "    dt = datetime.strptime(x, \"%Y-%m-%d %H:%M:%S\")\n",
    "    dtmin = int(dt.minute / 20) * 20\n",
    "    dtwindow = datetime(dt.year, dt.month, dt.day, dt.hour, dtmin, 0)\n",
    "    return dtwindow"
   ]
  },
  {
   "cell_type": "code",
   "execution_count": 21,
   "metadata": {
    "collapsed": true
   },
   "outputs": [],
   "source": [
    "def format_window(wd):\n",
    "    return '[{},{})'.format(str(wd), str(wd+timedelta(minutes=20)))"
   ]
  },
  {
   "cell_type": "code",
   "execution_count": 22,
   "metadata": {
    "collapsed": true
   },
   "outputs": [],
   "source": [
    "#training_traj['starting_datetime'] = pd.to_datetime(training_path['starting_time'])\n",
    "training_traj['window'] = training_traj['starting_time'].apply(time_to_window)\n",
    "\n",
    "training_traj_group_mean = \\\n",
    "training_traj.groupby(['intersection_id','tollgate_id','window']).mean()['travel_time']\n",
    "\n",
    "training_traj_group_count = \\\n",
    "training_traj.groupby(['intersection_id','tollgate_id','window']).count()['travel_time']"
   ]
  },
  {
   "cell_type": "code",
   "execution_count": null,
   "metadata": {
    "collapsed": true
   },
   "outputs": [],
   "source": []
  },
  {
   "cell_type": "code",
   "execution_count": 23,
   "metadata": {
    "collapsed": false
   },
   "outputs": [],
   "source": [
    "ss = pd.read_csv('submission/submission_sample_travelTime.csv')"
   ]
  },
  {
   "cell_type": "code",
   "execution_count": 24,
   "metadata": {
    "collapsed": false
   },
   "outputs": [
    {
     "name": "stdout",
     "output_type": "stream",
     "text": [
      "[2016-10-18 08:00:00,2016-10-18 08:20:00)\n",
      "[2016-07-19 00:00:00,2016-07-19 00:20:00)\n"
     ]
    }
   ],
   "source": [
    "print(ss['time_window'][0])\n",
    "print(format_window(training_traj['window'][0]))"
   ]
  },
  {
   "cell_type": "code",
   "execution_count": 25,
   "metadata": {
    "collapsed": true
   },
   "outputs": [],
   "source": [
    "from datetime import date, time"
   ]
  },
  {
   "cell_type": "code",
   "execution_count": 48,
   "metadata": {
    "collapsed": false
   },
   "outputs": [],
   "source": [
    "date_list = []\n",
    "\n",
    "d1 = date(2016, 7, 19)  # start date\n",
    "d2 = date(2016, 10, 17)  # end date\n",
    "\n",
    "delta = d2 - d1         # timedelta\n",
    "\n",
    "for i in range(delta.days + 1):\n",
    "    date_list.append(d1 + timedelta(days=i))\n",
    "\n",
    "give_time_list1 = [time(6,0), time(6,20), time(6,40), \n",
    "                   time(7,0), time(7,20), time(7,40)]\n",
    "pred_time_list1 = [time(8,0), time(8,20), time(8,40), \n",
    "                   time(9,0), time(9,20), time(9,40)]\n",
    "\n",
    "give_time_list2 = [time(15,0), time(15,20), time(15,40), \n",
    "                   time(16,0), time(16,20), time(16,40)]\n",
    "pred_time_list2 = [time(17,0), time(17,20), time(17,40), \n",
    "                   time(18,0), time(18,20), time(18,40)]\n"
   ]
  },
  {
   "cell_type": "code",
   "execution_count": 83,
   "metadata": {
    "collapsed": true
   },
   "outputs": [],
   "source": [
    "date_list2 = []\n",
    "\n",
    "d1 = date(2016, 10, 11)  # start date\n",
    "d2 = date(2016, 10, 17)  # end date\n",
    "\n",
    "delta = d2 - d1         # timedelta\n",
    "\n",
    "for i in range(delta.days + 1):\n",
    "    date_list2.append(d1 + timedelta(days=i))\n"
   ]
  },
  {
   "cell_type": "code",
   "execution_count": null,
   "metadata": {
    "collapsed": true
   },
   "outputs": [],
   "source": []
  },
  {
   "cell_type": "code",
   "execution_count": 27,
   "metadata": {
    "collapsed": false
   },
   "outputs": [],
   "source": [
    "# A2m.index[300].weekday()"
   ]
  },
  {
   "cell_type": "code",
   "execution_count": null,
   "metadata": {
    "collapsed": true
   },
   "outputs": [],
   "source": []
  },
  {
   "cell_type": "code",
   "execution_count": 29,
   "metadata": {
    "collapsed": true
   },
   "outputs": [],
   "source": [
    "def interpolate_missing_window(x):\n",
    "    ss = [(i-datetime(1970,1,1)).total_seconds() for i in x.index]\n",
    "    tt = x.values\n",
    "    ssall = np.linspace(ss[0], ss[-1], (ss[-1]-ss[0])/1200+1)\n",
    "    print(len(ss), len(tt), len(ssall))\n",
    "    ttall = np.interp(ssall, ss, tt)\n",
    "    ssall = [int(i) for i in ssall]\n",
    "    ssall = [datetime(1970,1,1)+timedelta(seconds=i) for i in ssall]\n",
    "    return pd.Series(index=ssall, data=ttall)"
   ]
  },
  {
   "cell_type": "code",
   "execution_count": 28,
   "metadata": {
    "collapsed": false
   },
   "outputs": [],
   "source": [
    "A2m = training_traj_group_mean.loc['A'].loc[2]\n"
   ]
  },
  {
   "cell_type": "code",
   "execution_count": 30,
   "metadata": {
    "collapsed": false
   },
   "outputs": [
    {
     "name": "stdout",
     "output_type": "stream",
     "text": [
      "(5965, 5965, 6551)\n"
     ]
    }
   ],
   "source": [
    "A2m = interpolate_missing_window(A2m)\n"
   ]
  },
  {
   "cell_type": "code",
   "execution_count": null,
   "metadata": {
    "collapsed": true
   },
   "outputs": [],
   "source": []
  },
  {
   "cell_type": "code",
   "execution_count": 90,
   "metadata": {
    "collapsed": true
   },
   "outputs": [],
   "source": [
    "from scipy.stats import gmean"
   ]
  },
  {
   "cell_type": "code",
   "execution_count": 105,
   "metadata": {
    "collapsed": false
   },
   "outputs": [
    {
     "name": "stdout",
     "output_type": "stream",
     "text": [
      "(5965, 5965, 6551)\n",
      "(5304, 5304, 6548)\n",
      "(3206, 3206, 6550)\n",
      "(4803, 4803, 6551)\n",
      "(3290, 3290, 6547)\n",
      "(2576, 2576, 6547)\n"
     ]
    }
   ],
   "source": [
    "morning_true = np.array([])\n",
    "morning_pred = np.array([])\n",
    "for ii, ti in [('A',2),('A',3),('B',1),('B',3),('C',1),('C',3)]:\n",
    "    mtmp = training_traj_group_mean.loc[ii].loc[ti]\n",
    "    mtmp = interpolate_missing_window(mtmp)\n",
    "    test6 = []\n",
    "    for i in date_list:\n",
    "        tmp = []\n",
    "        for j in pred_time_list2:\n",
    "            tmp.append(mtmp[datetime.combine(i, j)])\n",
    "        test6.append(tmp)\n",
    "    result6 = test6\n",
    "    morning_true = np.append(morning_true, result6)\n",
    "    \n",
    "    test6 = []\n",
    "    for i in date_list:\n",
    "        tmp = []\n",
    "        for j in give_time_list2:\n",
    "            tmp.append(mtmp[datetime.combine(i, j)])\n",
    "        test6.append(tmp)\n",
    "    result6 = np.repeat([np.mean(i) for i in test6], 6)\n",
    "    morning_pred = np.append(morning_pred, result6) \n",
    "    "
   ]
  },
  {
   "cell_type": "code",
   "execution_count": 106,
   "metadata": {
    "collapsed": false
   },
   "outputs": [
    {
     "data": {
      "text/plain": [
       "0.21667818913872719"
      ]
     },
     "execution_count": 106,
     "metadata": {},
     "output_type": "execute_result"
    }
   ],
   "source": [
    "pred_loss(morning_pred, morning_true)"
   ]
  },
  {
   "cell_type": "code",
   "execution_count": null,
   "metadata": {
    "collapsed": true
   },
   "outputs": [],
   "source": []
  },
  {
   "cell_type": "code",
   "execution_count": 31,
   "metadata": {
    "collapsed": false
   },
   "outputs": [],
   "source": [
    "morning_train66 = []\n",
    "for i in date_list:\n",
    "    tmp = []\n",
    "    for j in give_time_list1:\n",
    "        tmp.append(A2m[datetime.combine(i, j)])\n",
    "    for j in pred_time_list1:\n",
    "        tmp.append(A2m[datetime.combine(i, j)]) \n",
    "    morning_train66.append(tmp)\n",
    "    "
   ]
  },
  {
   "cell_type": "code",
   "execution_count": 49,
   "metadata": {
    "collapsed": true
   },
   "outputs": [],
   "source": [
    "night_train66 = []\n",
    "for i in date_list:\n",
    "    tmp = []\n",
    "    for j in give_time_list2:\n",
    "        tmp.append(A2m[datetime.combine(i, j)])\n",
    "    for j in pred_time_list2:\n",
    "        tmp.append(A2m[datetime.combine(i, j)]) \n",
    "    night_train66.append(tmp)\n",
    "    "
   ]
  },
  {
   "cell_type": "code",
   "execution_count": 33,
   "metadata": {
    "collapsed": true
   },
   "outputs": [],
   "source": [
    "def pred_loss(x_pred, x_true):\n",
    "    x_pred = np.array(x_pred)\n",
    "    x_true = np.array(x_true)\n",
    "    return (abs(x_pred-x_true)/x_true).mean()\n"
   ]
  },
  {
   "cell_type": "code",
   "execution_count": 34,
   "metadata": {
    "collapsed": false
   },
   "outputs": [],
   "source": [
    "def naive_pred_loss(x):\n",
    "    first6 = x[:6]\n",
    "    pred = [np.mean(first6)]*6\n",
    "    return pred_loss(pred, x[6:])"
   ]
  },
  {
   "cell_type": "code",
   "execution_count": 35,
   "metadata": {
    "collapsed": false
   },
   "outputs": [],
   "source": [
    "naive_loss_list = [naive_pred_loss(i) for i in morning_train66]\n"
   ]
  },
  {
   "cell_type": "code",
   "execution_count": 50,
   "metadata": {
    "collapsed": true
   },
   "outputs": [],
   "source": [
    "naive_loss_list = [naive_pred_loss(i) for i in night_train66]"
   ]
  },
  {
   "cell_type": "code",
   "execution_count": 52,
   "metadata": {
    "collapsed": false
   },
   "outputs": [
    {
     "data": {
      "text/plain": [
       "0.22280558325098837"
      ]
     },
     "execution_count": 52,
     "metadata": {},
     "output_type": "execute_result"
    }
   ],
   "source": [
    "np.mean(naive_loss_list)\n"
   ]
  },
  {
   "cell_type": "code",
   "execution_count": null,
   "metadata": {
    "collapsed": true
   },
   "outputs": [],
   "source": []
  },
  {
   "cell_type": "code",
   "execution_count": null,
   "metadata": {
    "collapsed": true
   },
   "outputs": [],
   "source": []
  },
  {
   "cell_type": "markdown",
   "metadata": {
    "collapsed": true
   },
   "source": [
    "# Make first submission "
   ]
  },
  {
   "cell_type": "markdown",
   "metadata": {},
   "source": [
    "Most naive approach, use average of the former 2 hours for prediction."
   ]
  },
  {
   "cell_type": "code",
   "execution_count": 37,
   "metadata": {
    "collapsed": true
   },
   "outputs": [],
   "source": [
    "#training_traj['starting_datetime'] = pd.to_datetime(training_path['starting_time'])\n",
    "training_traj['window'] = training_traj['starting_time'].apply(time_to_window)\n",
    "\n",
    "training_traj_group_mean = \\\n",
    "training_traj.groupby(['intersection_id','tollgate_id','window']).mean()['travel_time']\n",
    "\n",
    "training_traj_group_count = \\\n",
    "training_traj.groupby(['intersection_id','tollgate_id','window']).count()['travel_time']"
   ]
  },
  {
   "cell_type": "code",
   "execution_count": 38,
   "metadata": {
    "collapsed": true
   },
   "outputs": [],
   "source": [
    "test_traj1['window'] = test_traj1['starting_time'].apply(time_to_window)\n",
    "test_traj1_group_mean = \\\n",
    "test_traj1.groupby(['intersection_id','tollgate_id','window']).mean()['travel_time']\n",
    "\n"
   ]
  },
  {
   "cell_type": "code",
   "execution_count": 39,
   "metadata": {
    "collapsed": true
   },
   "outputs": [],
   "source": [
    "date_list = []\n",
    "\n",
    "d1 = date(2016, 10, 18)  # start date\n",
    "d2 = date(2016, 10, 24)  # end date\n",
    "\n",
    "delta = d2 - d1         # timedelta\n",
    "\n",
    "for i in range(delta.days + 1):\n",
    "    date_list.append(d1 + timedelta(days=i))\n",
    "\n",
    "give_time_list1 = [time(6,0), time(6,20), time(6,40), \n",
    "                   time(7,0), time(7,20), time(7,40)]\n",
    "# pred_time_list1 = [time(8,0), time(8,20), time(8,40), \n",
    "#                    time(9,0), time(9,20), time(9,40)]\n",
    "give_time_list2 = [time(15,0), time(15,20), time(15,40), \n",
    "                   time(16,0), time(16,20), time(16,40)]"
   ]
  },
  {
   "cell_type": "code",
   "execution_count": 40,
   "metadata": {
    "collapsed": false
   },
   "outputs": [
    {
     "name": "stdout",
     "output_type": "stream",
     "text": [
      "(83, 83, 465)\n"
     ]
    }
   ],
   "source": [
    "A2mt = test_traj1_group_mean.loc['A'].loc[2]\n",
    "A2mt = interpolate_missing_window(A2mt)"
   ]
  },
  {
   "cell_type": "code",
   "execution_count": 41,
   "metadata": {
    "collapsed": false
   },
   "outputs": [],
   "source": [
    "morning_test6 = []\n",
    "for i in date_list:\n",
    "    tmp = []\n",
    "    for j in give_time_list1:\n",
    "        tmp.append(A2mt[datetime.combine(i, j)])\n",
    "    morning_test6.append(tmp)"
   ]
  },
  {
   "cell_type": "code",
   "execution_count": 42,
   "metadata": {
    "collapsed": false
   },
   "outputs": [
    {
     "data": {
      "text/plain": [
       "[41.18833333333334,\n",
       " 50.115714285714283,\n",
       " 37.168000000000006,\n",
       " 75.683750000000003,\n",
       " 54.032857142857146,\n",
       " 78.277999999999992]"
      ]
     },
     "execution_count": 42,
     "metadata": {},
     "output_type": "execute_result"
    }
   ],
   "source": [
    "tmp"
   ]
  },
  {
   "cell_type": "code",
   "execution_count": 43,
   "metadata": {
    "collapsed": false
   },
   "outputs": [
    {
     "name": "stdout",
     "output_type": "stream",
     "text": [
      "(83, 83, 465)\n",
      "(84, 84, 465)\n",
      "(75, 75, 465)\n",
      "(77, 77, 465)\n",
      "(69, 69, 465)\n",
      "(60, 60, 465)\n"
     ]
    }
   ],
   "source": [
    "morning = np.array([])\n",
    "for ii, ti in [('A',2),('A',3),('B',1),('B',3),('C',1),('C',3)]:\n",
    "    mtmp = test_traj1_group_mean.loc[ii].loc[ti]\n",
    "    mtmp = interpolate_missing_window(mtmp)\n",
    "    test6 = []\n",
    "    for i in date_list:\n",
    "        tmp = []\n",
    "        for j in give_time_list1:\n",
    "            tmp.append(mtmp[datetime.combine(i, j)])\n",
    "        test6.append(tmp)\n",
    "    result6 = np.repeat([np.mean(i) for i in test6], 6)\n",
    "    morning = np.append(morning, result6)\n",
    "    "
   ]
  },
  {
   "cell_type": "code",
   "execution_count": 44,
   "metadata": {
    "collapsed": false
   },
   "outputs": [
    {
     "name": "stdout",
     "output_type": "stream",
     "text": [
      "(83, 83, 465)\n",
      "(84, 84, 465)\n",
      "(75, 75, 465)\n",
      "(77, 77, 465)\n",
      "(69, 69, 465)\n",
      "(60, 60, 465)\n"
     ]
    }
   ],
   "source": [
    "night = np.array([])\n",
    "for ii, ti in [('A',2),('A',3),('B',1),('B',3),('C',1),('C',3)]:\n",
    "    mtmp = test_traj1_group_mean.loc[ii].loc[ti]\n",
    "    mtmp = interpolate_missing_window(mtmp)\n",
    "    test6 = []\n",
    "    for i in date_list:\n",
    "        tmp = []\n",
    "        for j in give_time_list2:\n",
    "            tmp.append(mtmp[datetime.combine(i, j)])\n",
    "        test6.append(tmp)\n",
    "    result6 = np.repeat([np.mean(i) for i in test6], 6)\n",
    "    night = np.append(night, result6)"
   ]
  },
  {
   "cell_type": "code",
   "execution_count": 45,
   "metadata": {
    "collapsed": false
   },
   "outputs": [],
   "source": [
    "ss['avg_travel_time'] = np.append(morning, night)"
   ]
  },
  {
   "cell_type": "code",
   "execution_count": 47,
   "metadata": {
    "collapsed": false
   },
   "outputs": [
    {
     "data": {
      "text/html": [
       "<div>\n",
       "<table border=\"1\" class=\"dataframe\">\n",
       "  <thead>\n",
       "    <tr style=\"text-align: right;\">\n",
       "      <th></th>\n",
       "      <th>intersection_id</th>\n",
       "      <th>tollgate_id</th>\n",
       "      <th>time_window</th>\n",
       "      <th>avg_travel_time</th>\n",
       "    </tr>\n",
       "  </thead>\n",
       "  <tbody>\n",
       "    <tr>\n",
       "      <th>0</th>\n",
       "      <td>A</td>\n",
       "      <td>2</td>\n",
       "      <td>[2016-10-18 08:00:00,2016-10-18 08:20:00)</td>\n",
       "      <td>54.195926</td>\n",
       "    </tr>\n",
       "    <tr>\n",
       "      <th>1</th>\n",
       "      <td>A</td>\n",
       "      <td>2</td>\n",
       "      <td>[2016-10-18 08:20:00,2016-10-18 08:40:00)</td>\n",
       "      <td>54.195926</td>\n",
       "    </tr>\n",
       "    <tr>\n",
       "      <th>2</th>\n",
       "      <td>A</td>\n",
       "      <td>2</td>\n",
       "      <td>[2016-10-18 08:40:00,2016-10-18 09:00:00)</td>\n",
       "      <td>54.195926</td>\n",
       "    </tr>\n",
       "    <tr>\n",
       "      <th>3</th>\n",
       "      <td>A</td>\n",
       "      <td>2</td>\n",
       "      <td>[2016-10-18 09:00:00,2016-10-18 09:20:00)</td>\n",
       "      <td>54.195926</td>\n",
       "    </tr>\n",
       "    <tr>\n",
       "      <th>4</th>\n",
       "      <td>A</td>\n",
       "      <td>2</td>\n",
       "      <td>[2016-10-18 09:20:00,2016-10-18 09:40:00)</td>\n",
       "      <td>54.195926</td>\n",
       "    </tr>\n",
       "    <tr>\n",
       "      <th>5</th>\n",
       "      <td>A</td>\n",
       "      <td>2</td>\n",
       "      <td>[2016-10-18 09:40:00,2016-10-18 10:00:00)</td>\n",
       "      <td>54.195926</td>\n",
       "    </tr>\n",
       "    <tr>\n",
       "      <th>6</th>\n",
       "      <td>A</td>\n",
       "      <td>2</td>\n",
       "      <td>[2016-10-19 08:00:00,2016-10-19 08:20:00)</td>\n",
       "      <td>60.403236</td>\n",
       "    </tr>\n",
       "    <tr>\n",
       "      <th>7</th>\n",
       "      <td>A</td>\n",
       "      <td>2</td>\n",
       "      <td>[2016-10-19 08:20:00,2016-10-19 08:40:00)</td>\n",
       "      <td>60.403236</td>\n",
       "    </tr>\n",
       "    <tr>\n",
       "      <th>8</th>\n",
       "      <td>A</td>\n",
       "      <td>2</td>\n",
       "      <td>[2016-10-19 08:40:00,2016-10-19 09:00:00)</td>\n",
       "      <td>60.403236</td>\n",
       "    </tr>\n",
       "    <tr>\n",
       "      <th>9</th>\n",
       "      <td>A</td>\n",
       "      <td>2</td>\n",
       "      <td>[2016-10-19 09:00:00,2016-10-19 09:20:00)</td>\n",
       "      <td>60.403236</td>\n",
       "    </tr>\n",
       "    <tr>\n",
       "      <th>10</th>\n",
       "      <td>A</td>\n",
       "      <td>2</td>\n",
       "      <td>[2016-10-19 09:20:00,2016-10-19 09:40:00)</td>\n",
       "      <td>60.403236</td>\n",
       "    </tr>\n",
       "    <tr>\n",
       "      <th>11</th>\n",
       "      <td>A</td>\n",
       "      <td>2</td>\n",
       "      <td>[2016-10-19 09:40:00,2016-10-19 10:00:00)</td>\n",
       "      <td>60.403236</td>\n",
       "    </tr>\n",
       "    <tr>\n",
       "      <th>12</th>\n",
       "      <td>A</td>\n",
       "      <td>2</td>\n",
       "      <td>[2016-10-20 08:00:00,2016-10-20 08:20:00)</td>\n",
       "      <td>64.519704</td>\n",
       "    </tr>\n",
       "    <tr>\n",
       "      <th>13</th>\n",
       "      <td>A</td>\n",
       "      <td>2</td>\n",
       "      <td>[2016-10-20 08:20:00,2016-10-20 08:40:00)</td>\n",
       "      <td>64.519704</td>\n",
       "    </tr>\n",
       "    <tr>\n",
       "      <th>14</th>\n",
       "      <td>A</td>\n",
       "      <td>2</td>\n",
       "      <td>[2016-10-20 08:40:00,2016-10-20 09:00:00)</td>\n",
       "      <td>64.519704</td>\n",
       "    </tr>\n",
       "    <tr>\n",
       "      <th>15</th>\n",
       "      <td>A</td>\n",
       "      <td>2</td>\n",
       "      <td>[2016-10-20 09:00:00,2016-10-20 09:20:00)</td>\n",
       "      <td>64.519704</td>\n",
       "    </tr>\n",
       "    <tr>\n",
       "      <th>16</th>\n",
       "      <td>A</td>\n",
       "      <td>2</td>\n",
       "      <td>[2016-10-20 09:20:00,2016-10-20 09:40:00)</td>\n",
       "      <td>64.519704</td>\n",
       "    </tr>\n",
       "    <tr>\n",
       "      <th>17</th>\n",
       "      <td>A</td>\n",
       "      <td>2</td>\n",
       "      <td>[2016-10-20 09:40:00,2016-10-20 10:00:00)</td>\n",
       "      <td>64.519704</td>\n",
       "    </tr>\n",
       "    <tr>\n",
       "      <th>18</th>\n",
       "      <td>A</td>\n",
       "      <td>2</td>\n",
       "      <td>[2016-10-21 08:00:00,2016-10-21 08:20:00)</td>\n",
       "      <td>55.246217</td>\n",
       "    </tr>\n",
       "    <tr>\n",
       "      <th>19</th>\n",
       "      <td>A</td>\n",
       "      <td>2</td>\n",
       "      <td>[2016-10-21 08:20:00,2016-10-21 08:40:00)</td>\n",
       "      <td>55.246217</td>\n",
       "    </tr>\n",
       "  </tbody>\n",
       "</table>\n",
       "</div>"
      ],
      "text/plain": [
       "   intersection_id  tollgate_id                                time_window  \\\n",
       "0                A            2  [2016-10-18 08:00:00,2016-10-18 08:20:00)   \n",
       "1                A            2  [2016-10-18 08:20:00,2016-10-18 08:40:00)   \n",
       "2                A            2  [2016-10-18 08:40:00,2016-10-18 09:00:00)   \n",
       "3                A            2  [2016-10-18 09:00:00,2016-10-18 09:20:00)   \n",
       "4                A            2  [2016-10-18 09:20:00,2016-10-18 09:40:00)   \n",
       "5                A            2  [2016-10-18 09:40:00,2016-10-18 10:00:00)   \n",
       "6                A            2  [2016-10-19 08:00:00,2016-10-19 08:20:00)   \n",
       "7                A            2  [2016-10-19 08:20:00,2016-10-19 08:40:00)   \n",
       "8                A            2  [2016-10-19 08:40:00,2016-10-19 09:00:00)   \n",
       "9                A            2  [2016-10-19 09:00:00,2016-10-19 09:20:00)   \n",
       "10               A            2  [2016-10-19 09:20:00,2016-10-19 09:40:00)   \n",
       "11               A            2  [2016-10-19 09:40:00,2016-10-19 10:00:00)   \n",
       "12               A            2  [2016-10-20 08:00:00,2016-10-20 08:20:00)   \n",
       "13               A            2  [2016-10-20 08:20:00,2016-10-20 08:40:00)   \n",
       "14               A            2  [2016-10-20 08:40:00,2016-10-20 09:00:00)   \n",
       "15               A            2  [2016-10-20 09:00:00,2016-10-20 09:20:00)   \n",
       "16               A            2  [2016-10-20 09:20:00,2016-10-20 09:40:00)   \n",
       "17               A            2  [2016-10-20 09:40:00,2016-10-20 10:00:00)   \n",
       "18               A            2  [2016-10-21 08:00:00,2016-10-21 08:20:00)   \n",
       "19               A            2  [2016-10-21 08:20:00,2016-10-21 08:40:00)   \n",
       "\n",
       "    avg_travel_time  \n",
       "0         54.195926  \n",
       "1         54.195926  \n",
       "2         54.195926  \n",
       "3         54.195926  \n",
       "4         54.195926  \n",
       "5         54.195926  \n",
       "6         60.403236  \n",
       "7         60.403236  \n",
       "8         60.403236  \n",
       "9         60.403236  \n",
       "10        60.403236  \n",
       "11        60.403236  \n",
       "12        64.519704  \n",
       "13        64.519704  \n",
       "14        64.519704  \n",
       "15        64.519704  \n",
       "16        64.519704  \n",
       "17        64.519704  \n",
       "18        55.246217  \n",
       "19        55.246217  "
      ]
     },
     "execution_count": 47,
     "metadata": {},
     "output_type": "execute_result"
    }
   ],
   "source": [
    "ss.head(20)"
   ]
  },
  {
   "cell_type": "code",
   "execution_count": 110,
   "metadata": {
    "collapsed": false
   },
   "outputs": [],
   "source": [
    "ss.to_csv('submission/submission_0331.csv', index=False)"
   ]
  },
  {
   "cell_type": "code",
   "execution_count": null,
   "metadata": {
    "collapsed": true
   },
   "outputs": [],
   "source": []
  },
  {
   "cell_type": "markdown",
   "metadata": {
    "collapsed": true
   },
   "source": [
    "# Following is the script given"
   ]
  },
  {
   "cell_type": "code",
   "execution_count": 18,
   "metadata": {
    "collapsed": false
   },
   "outputs": [
    {
     "name": "stdout",
     "output_type": "stream",
     "text": [
      "\"B\",\"3\",\"1065642\",\"2016-07-19 00:14:24\",\"105#2016-07-19 00:14:24#9.56;100#2016-07-19 00:14:34#6.75;111#2016-07-19 00:14:41#13.00;103#2016-07-19 00:14:54#7.47;122#2016-07-19 00:15:02#32.85\",\"70.85\"\n",
      "\n"
     ]
    }
   ],
   "source": [
    "# -*- coding: utf-8 -*-\n",
    "#!/usr/bin/env python\n",
    "\n",
    "\"\"\"\n",
    "Objective:\n",
    "Calculate the average travel time for each 20-minute time window.\n",
    "\n",
    "\"\"\"\n",
    "\n",
    "# import necessary modules\n",
    "import math\n",
    "from datetime import datetime,timedelta\n",
    "\n",
    "file_suffix = '.csv'\n",
    "path = 'dataSets/training/'  # set the data directory\n",
    "\n",
    "def avgTravelTime(in_file):\n",
    "\n",
    "    out_suffix = '_20min_avg_travel_time'\n",
    "    in_file_name = in_file + file_suffix\n",
    "    out_file_name = in_file.split('_')[1] + out_suffix + file_suffix\n",
    "\n",
    "    # Step 1: Load trajectories\n",
    "    fr = open(path + in_file_name, 'r')\n",
    "    fr.readline()  # skip the header\n",
    "    traj_data = fr.readlines()\n",
    "    fr.close()\n",
    "    print(traj_data[0])\n",
    "\n",
    "    # Step 2: Create a dictionary to store travel time for each route per time window\n",
    "    travel_times = {}  # key: route_id. Value is also a dictionary of which key is the start time for the time window and value is a list of travel times\n",
    "    for i in range(len(traj_data)):\n",
    "        each_traj = traj_data[i].replace('\"', '').split(',')\n",
    "        intersection_id = each_traj[0]\n",
    "        tollgate_id = each_traj[1]\n",
    "\n",
    "        route_id = intersection_id + '-' + tollgate_id\n",
    "        if route_id not in travel_times.keys():\n",
    "            travel_times[route_id] = {}\n",
    "\n",
    "        trace_start_time = each_traj[3]\n",
    "        trace_start_time = datetime.strptime(trace_start_time, \"%Y-%m-%d %H:%M:%S\")\n",
    "        time_window_minute = int(trace_start_time.minute / 20) * 20\n",
    "        start_time_window = datetime(trace_start_time.year, trace_start_time.month, trace_start_time.day,\n",
    "                                     trace_start_time.hour, time_window_minute, 0)\n",
    "        tt = float(each_traj[-1]) # travel time\n",
    "\n",
    "        if start_time_window not in travel_times[route_id].keys():\n",
    "            travel_times[route_id][start_time_window] = [tt]\n",
    "        else:\n",
    "            travel_times[route_id][start_time_window].append(tt)\n",
    "\n",
    "    # Step 3: Calculate average travel time for each route per time window\n",
    "    fw = open(out_file_name, 'w')\n",
    "    fw.writelines(','.join(['\"intersection_id\"', '\"tollgate_id\"', '\"time_window\"', '\"avg_travel_time\"']) + '\\n')\n",
    "    for route in travel_times.keys():\n",
    "        route_time_windows = list(travel_times[route].keys())\n",
    "        route_time_windows.sort()\n",
    "        for time_window_start in route_time_windows:\n",
    "            time_window_end = time_window_start + timedelta(minutes=20)\n",
    "            tt_set = travel_times[route][time_window_start]\n",
    "            avg_tt = round(sum(tt_set) / float(len(tt_set)), 2)\n",
    "            out_line = ','.join(['\"' + route.split('-')[0] + '\"', '\"' + route.split('-')[1] + '\"',\n",
    "                                 '\"[' + str(time_window_start) + ',' + str(time_window_end) + ')\"',\n",
    "                                 '\"' + str(avg_tt) + '\"']) + '\\n'\n",
    "            fw.writelines(out_line)\n",
    "    fw.close()\n",
    "\n",
    "def main():\n",
    "\n",
    "    in_file = 'trajectories(table 5)_training'\n",
    "    avgTravelTime(in_file)\n",
    "\n",
    "if __name__ == '__main__':\n",
    "    main()\n",
    "\n",
    "\n",
    "\n"
   ]
  },
  {
   "cell_type": "code",
   "execution_count": null,
   "metadata": {
    "collapsed": true
   },
   "outputs": [],
   "source": []
  },
  {
   "cell_type": "code",
   "execution_count": null,
   "metadata": {
    "collapsed": true
   },
   "outputs": [],
   "source": []
  },
  {
   "cell_type": "code",
   "execution_count": null,
   "metadata": {
    "collapsed": true
   },
   "outputs": [],
   "source": []
  },
  {
   "cell_type": "code",
   "execution_count": null,
   "metadata": {
    "collapsed": true
   },
   "outputs": [],
   "source": []
  },
  {
   "cell_type": "code",
   "execution_count": null,
   "metadata": {
    "collapsed": true
   },
   "outputs": [],
   "source": []
  },
  {
   "cell_type": "code",
   "execution_count": null,
   "metadata": {
    "collapsed": true
   },
   "outputs": [],
   "source": []
  },
  {
   "cell_type": "code",
   "execution_count": null,
   "metadata": {
    "collapsed": true
   },
   "outputs": [],
   "source": []
  }
 ],
 "metadata": {
  "kernelspec": {
   "display_name": "Python 2",
   "language": "python",
   "name": "python2"
  },
  "language_info": {
   "codemirror_mode": {
    "name": "ipython",
    "version": 2
   },
   "file_extension": ".py",
   "mimetype": "text/x-python",
   "name": "python",
   "nbconvert_exporter": "python",
   "pygments_lexer": "ipython2",
   "version": "2.7.12"
  }
 },
 "nbformat": 4,
 "nbformat_minor": 1
}
