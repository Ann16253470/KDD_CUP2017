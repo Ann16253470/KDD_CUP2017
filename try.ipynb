{
 "cells": [
  {
   "cell_type": "code",
   "execution_count": 2,
   "metadata": {
    "collapsed": true
   },
   "outputs": [],
   "source": [
    "from __future__ import division\n",
    "\n",
    "import pandas as pd\n",
    "import numpy as np\n",
    "import math\n",
    "from datetime import datetime,timedelta,time\n",
    "\n",
    "%matplotlib inline"
   ]
  },
  {
   "cell_type": "code",
   "execution_count": 3,
   "metadata": {
    "collapsed": true
   },
   "outputs": [],
   "source": [
    "training_path = 'dataSets/training/'\n",
    "test_path1 = 'dataSets/testing_phase1/'"
   ]
  },
  {
   "cell_type": "code",
   "execution_count": 4,
   "metadata": {
    "collapsed": false
   },
   "outputs": [],
   "source": [
    "training_traj = pd.read_csv(training_path+'trajectories(table 5)_training.csv')"
   ]
  },
  {
   "cell_type": "code",
   "execution_count": 5,
   "metadata": {
    "collapsed": false
   },
   "outputs": [],
   "source": [
    "test_traj1 = pd.read_csv(test_path1+'trajectories(table 5)_test1.csv')"
   ]
  },
  {
   "cell_type": "code",
   "execution_count": 6,
   "metadata": {
    "collapsed": true
   },
   "outputs": [],
   "source": [
    "def time_to_window(x):\n",
    "    dt = datetime.strptime(x, \"%Y-%m-%d %H:%M:%S\")\n",
    "    dtmin = int(dt.minute / 20) * 20\n",
    "    dtwindow = datetime(dt.year, dt.month, dt.day, dt.hour, dtmin, 0)\n",
    "    return dtwindow"
   ]
  },
  {
   "cell_type": "code",
   "execution_count": 7,
   "metadata": {
    "collapsed": true
   },
   "outputs": [],
   "source": [
    "def format_window(wd):\n",
    "    return '[{},{})'.format(str(wd), str(wd+timedelta(minutes=20)))"
   ]
  },
  {
   "cell_type": "code",
   "execution_count": 8,
   "metadata": {
    "collapsed": true
   },
   "outputs": [],
   "source": [
    "#training_traj['starting_datetime'] = pd.to_datetime(training_path['starting_time'])\n",
    "training_traj['window'] = training_traj['starting_time'].apply(time_to_window)\n",
    "\n",
    "training_traj_group_mean = \\\n",
    "training_traj.groupby(['intersection_id','tollgate_id','window']).mean()['travel_time']\n",
    "\n",
    "training_traj_group_count = \\\n",
    "training_traj.groupby(['intersection_id','tollgate_id','window']).count()['travel_time']"
   ]
  },
  {
   "cell_type": "code",
   "execution_count": null,
   "metadata": {
    "collapsed": true
   },
   "outputs": [],
   "source": []
  },
  {
   "cell_type": "code",
   "execution_count": 9,
   "metadata": {
    "collapsed": false
   },
   "outputs": [],
   "source": [
    "ss = pd.read_csv('submission/submission_sample_travelTime.csv')"
   ]
  },
  {
   "cell_type": "code",
   "execution_count": 10,
   "metadata": {
    "collapsed": false
   },
   "outputs": [
    {
     "name": "stdout",
     "output_type": "stream",
     "text": [
      "[2016-10-18 08:00:00,2016-10-18 08:20:00)\n",
      "[2016-07-19 00:00:00,2016-07-19 00:20:00)\n"
     ]
    }
   ],
   "source": [
    "print(ss['time_window'][0])\n",
    "print(format_window(training_traj['window'][0]))"
   ]
  },
  {
   "cell_type": "code",
   "execution_count": 11,
   "metadata": {
    "collapsed": true
   },
   "outputs": [],
   "source": [
    "from datetime import date, time"
   ]
  },
  {
   "cell_type": "code",
   "execution_count": 12,
   "metadata": {
    "collapsed": false
   },
   "outputs": [],
   "source": [
    "date_list = []\n",
    "\n",
    "d1 = date(2016, 7, 19)  # start date\n",
    "d2 = date(2016, 10, 17)  # end date\n",
    "\n",
    "delta = d2 - d1         # timedelta\n",
    "\n",
    "for i in range(delta.days + 1):\n",
    "    date_list.append(d1 + timedelta(days=i))\n",
    "\n",
    "give_time_list1 = [time(6,0), time(6,20), time(6,40), \n",
    "                   time(7,0), time(7,20), time(7,40)]\n",
    "pred_time_list1 = [time(8,0), time(8,20), time(8,40), \n",
    "                   time(9,0), time(9,20), time(9,40)]\n",
    "\n",
    "give_time_list2 = [time(15,0), time(15,20), time(15,40), \n",
    "                   time(16,0), time(16,20), time(16,40)]\n",
    "pred_time_list2 = [time(17,0), time(17,20), time(17,40), \n",
    "                   time(18,0), time(18,20), time(18,40)]\n"
   ]
  },
  {
   "cell_type": "code",
   "execution_count": 13,
   "metadata": {
    "collapsed": true
   },
   "outputs": [],
   "source": [
    "date_list2 = []\n",
    "\n",
    "d1 = date(2016, 10, 11)  # start date\n",
    "d2 = date(2016, 10, 17)  # end date\n",
    "\n",
    "delta = d2 - d1         # timedelta\n",
    "\n",
    "for i in range(delta.days + 1):\n",
    "    date_list2.append(d1 + timedelta(days=i))\n"
   ]
  },
  {
   "cell_type": "code",
   "execution_count": null,
   "metadata": {
    "collapsed": true
   },
   "outputs": [],
   "source": []
  },
  {
   "cell_type": "code",
   "execution_count": 14,
   "metadata": {
    "collapsed": false
   },
   "outputs": [],
   "source": [
    "# A2m.index[300].weekday()"
   ]
  },
  {
   "cell_type": "code",
   "execution_count": null,
   "metadata": {
    "collapsed": true
   },
   "outputs": [],
   "source": []
  },
  {
   "cell_type": "code",
   "execution_count": 15,
   "metadata": {
    "collapsed": true
   },
   "outputs": [],
   "source": [
    "def interpolate_missing_window(x):\n",
    "    ss = [(i-datetime(1970,1,1)).total_seconds() for i in x.index]\n",
    "    tt = x.values\n",
    "    ssall = np.linspace(ss[0], ss[-1], (ss[-1]-ss[0])/1200+1)\n",
    "    #print(len(ss), len(tt), len(ssall))\n",
    "    ttall = np.interp(ssall, ss, tt)\n",
    "    ssall = [int(i) for i in ssall]\n",
    "    ssall = [datetime(1970,1,1)+timedelta(seconds=i) for i in ssall]\n",
    "    return pd.Series(index=ssall, data=ttall)"
   ]
  },
  {
   "cell_type": "code",
   "execution_count": 16,
   "metadata": {
    "collapsed": false
   },
   "outputs": [],
   "source": [
    "# A2m = training_traj_group_mean.loc['A'].loc[2]\n",
    "\n",
    "# A2m = interpolate_missing_window(A2m)\n"
   ]
  },
  {
   "cell_type": "code",
   "execution_count": 17,
   "metadata": {
    "collapsed": false
   },
   "outputs": [
    {
     "data": {
      "text/plain": [
       "91"
      ]
     },
     "execution_count": 17,
     "metadata": {},
     "output_type": "execute_result"
    }
   ],
   "source": [
    "len(date_list)"
   ]
  },
  {
   "cell_type": "code",
   "execution_count": 18,
   "metadata": {
    "collapsed": false
   },
   "outputs": [],
   "source": [
    "first6 = np.array([])\n",
    "next6 = np.array([])\n",
    "for ii, ti in [('A',2),('A',3),('B',1),('B',3),('C',1),('C',3)]:\n",
    "    mtmp = training_traj_group_mean.loc[ii].loc[ti]\n",
    "    mtmp = interpolate_missing_window(mtmp)\n",
    "    test6 = []\n",
    "    for i in date_list:\n",
    "        tmp = []\n",
    "        for j in give_time_list1:\n",
    "            tmp.append(mtmp[datetime.combine(i, j)])\n",
    "        test6.append(tmp)\n",
    "    result6 = test6\n",
    "    first6 = np.append(first6, result6)\n",
    "    \n",
    "    test6 = []\n",
    "    for i in date_list:\n",
    "        tmp = []\n",
    "        for j in pred_time_list1:\n",
    "            tmp.append(mtmp[datetime.combine(i, j)])\n",
    "        test6.append(tmp)\n",
    "    result6 = test6\n",
    "    next6 = np.append(next6, result6)\n"
   ]
  },
  {
   "cell_type": "code",
   "execution_count": 19,
   "metadata": {
    "collapsed": false
   },
   "outputs": [],
   "source": [
    "dfmorning = \\\n",
    "pd.concat([pd.DataFrame(first6.reshape(-1,6)),\n",
    "           pd.DataFrame(next6.reshape(-1,6))], \n",
    "                        axis=1)"
   ]
  },
  {
   "cell_type": "code",
   "execution_count": 20,
   "metadata": {
    "collapsed": false
   },
   "outputs": [],
   "source": [
    "dfmorning.columns=['f0','f1','f2','f3','f4','f5',\n",
    "                   'n0','n1','n2','n3','n4','n5']"
   ]
  },
  {
   "cell_type": "code",
   "execution_count": 21,
   "metadata": {
    "collapsed": true
   },
   "outputs": [],
   "source": [
    "first6 = np.array([])\n",
    "next6 = np.array([])\n",
    "for ii, ti in [('A',2),('A',3),('B',1),('B',3),('C',1),('C',3)]:\n",
    "    mtmp = training_traj_group_mean.loc[ii].loc[ti]\n",
    "    mtmp = interpolate_missing_window(mtmp)\n",
    "    test6 = []\n",
    "    for i in date_list:\n",
    "        tmp = []\n",
    "        for j in give_time_list2:\n",
    "            tmp.append(mtmp[datetime.combine(i, j)])\n",
    "        test6.append(tmp)\n",
    "    result6 = test6\n",
    "    first6 = np.append(first6, result6)\n",
    "    \n",
    "    test6 = []\n",
    "    for i in date_list:\n",
    "        tmp = []\n",
    "        for j in pred_time_list2:\n",
    "            tmp.append(mtmp[datetime.combine(i, j)])\n",
    "        test6.append(tmp)\n",
    "    result6 = test6\n",
    "    next6 = np.append(next6, result6)"
   ]
  },
  {
   "cell_type": "code",
   "execution_count": 22,
   "metadata": {
    "collapsed": true
   },
   "outputs": [],
   "source": [
    "dfnight = \\\n",
    "pd.concat([pd.DataFrame(first6.reshape(-1,6)),\n",
    "           pd.DataFrame(next6.reshape(-1,6))], \n",
    "                        axis=1)"
   ]
  },
  {
   "cell_type": "code",
   "execution_count": 23,
   "metadata": {
    "collapsed": true
   },
   "outputs": [],
   "source": [
    "dfnight.columns=['f0','f1','f2','f3','f4','f5',\n",
    "                   'n0','n1','n2','n3','n4','n5']"
   ]
  },
  {
   "cell_type": "code",
   "execution_count": 48,
   "metadata": {
    "collapsed": false
   },
   "outputs": [
    {
     "data": {
      "text/plain": [
       "546"
      ]
     },
     "execution_count": 48,
     "metadata": {},
     "output_type": "execute_result"
    }
   ],
   "source": [
    "len(dfmorning)"
   ]
  },
  {
   "cell_type": "code",
   "execution_count": 26,
   "metadata": {
    "collapsed": false
   },
   "outputs": [
    {
     "data": {
      "text/plain": [
       "0.24960680174029845"
      ]
     },
     "execution_count": 26,
     "metadata": {},
     "output_type": "execute_result"
    }
   ],
   "source": [
    "pred_loss(dfnight['f5'], dfnight['n1'])\n"
   ]
  },
  {
   "cell_type": "code",
   "execution_count": 49,
   "metadata": {
    "collapsed": false
   },
   "outputs": [],
   "source": [
    "dfmorning['dn'] = 0\n",
    "dfmorning['it0'] = [1]*91+[0]*455\n",
    "dfmorning['it1'] = [0]*91+[1]*91+[0]*364\n",
    "dfmorning['it2'] = [0]*182+[1]*91+[0]*273\n",
    "dfmorning['it3'] = [0]*273+[1]*91+[0]*182\n",
    "dfmorning['it4'] = [0]*364+[1]*91+[0]*91\n",
    "dfnight['dn'] = 1\n",
    "dfnight['it0'] = [1]*91+[0]*455\n",
    "dfnight['it1'] = [0]*91+[1]*91+[0]*364\n",
    "dfnight['it2'] = [0]*182+[1]*91+[0]*273\n",
    "dfnight['it3'] = [0]*273+[1]*91+[0]*182\n",
    "dfnight['it4'] = [0]*364+[1]*91+[0]*91\n",
    "dfall = pd.concat([dfmorning, dfnight], axis=0)"
   ]
  },
  {
   "cell_type": "code",
   "execution_count": 50,
   "metadata": {
    "collapsed": false,
    "scrolled": true
   },
   "outputs": [
    {
     "data": {
      "text/html": [
       "<div>\n",
       "<table border=\"1\" class=\"dataframe\">\n",
       "  <thead>\n",
       "    <tr style=\"text-align: right;\">\n",
       "      <th></th>\n",
       "      <th>f0</th>\n",
       "      <th>f1</th>\n",
       "      <th>f2</th>\n",
       "      <th>f3</th>\n",
       "      <th>f4</th>\n",
       "      <th>f5</th>\n",
       "      <th>n0</th>\n",
       "      <th>n1</th>\n",
       "      <th>n2</th>\n",
       "      <th>n3</th>\n",
       "      <th>n4</th>\n",
       "      <th>n5</th>\n",
       "      <th>dn</th>\n",
       "      <th>it0</th>\n",
       "      <th>it1</th>\n",
       "      <th>it2</th>\n",
       "      <th>it3</th>\n",
       "      <th>it4</th>\n",
       "    </tr>\n",
       "  </thead>\n",
       "  <tbody>\n",
       "    <tr>\n",
       "      <th>0</th>\n",
       "      <td>46.356000</td>\n",
       "      <td>48.588000</td>\n",
       "      <td>66.642500</td>\n",
       "      <td>64.681000</td>\n",
       "      <td>85.676000</td>\n",
       "      <td>58.968889</td>\n",
       "      <td>81.602857</td>\n",
       "      <td>80.207857</td>\n",
       "      <td>63.448462</td>\n",
       "      <td>78.051176</td>\n",
       "      <td>69.038333</td>\n",
       "      <td>69.657143</td>\n",
       "      <td>0</td>\n",
       "      <td>1</td>\n",
       "      <td>0</td>\n",
       "      <td>0</td>\n",
       "      <td>0</td>\n",
       "      <td>0</td>\n",
       "    </tr>\n",
       "    <tr>\n",
       "      <th>1</th>\n",
       "      <td>44.095000</td>\n",
       "      <td>59.874444</td>\n",
       "      <td>88.815000</td>\n",
       "      <td>77.847778</td>\n",
       "      <td>94.919167</td>\n",
       "      <td>73.677273</td>\n",
       "      <td>61.007000</td>\n",
       "      <td>332.162000</td>\n",
       "      <td>50.995000</td>\n",
       "      <td>44.935000</td>\n",
       "      <td>34.115000</td>\n",
       "      <td>23.295000</td>\n",
       "      <td>0</td>\n",
       "      <td>1</td>\n",
       "      <td>0</td>\n",
       "      <td>0</td>\n",
       "      <td>0</td>\n",
       "      <td>0</td>\n",
       "    </tr>\n",
       "    <tr>\n",
       "      <th>2</th>\n",
       "      <td>63.176667</td>\n",
       "      <td>87.030000</td>\n",
       "      <td>65.336667</td>\n",
       "      <td>78.012000</td>\n",
       "      <td>109.729333</td>\n",
       "      <td>114.720000</td>\n",
       "      <td>116.073636</td>\n",
       "      <td>125.105000</td>\n",
       "      <td>88.416842</td>\n",
       "      <td>71.472222</td>\n",
       "      <td>116.583333</td>\n",
       "      <td>88.655714</td>\n",
       "      <td>0</td>\n",
       "      <td>1</td>\n",
       "      <td>0</td>\n",
       "      <td>0</td>\n",
       "      <td>0</td>\n",
       "      <td>0</td>\n",
       "    </tr>\n",
       "    <tr>\n",
       "      <th>3</th>\n",
       "      <td>65.363333</td>\n",
       "      <td>57.038750</td>\n",
       "      <td>63.971429</td>\n",
       "      <td>132.218889</td>\n",
       "      <td>100.391765</td>\n",
       "      <td>65.348889</td>\n",
       "      <td>75.532500</td>\n",
       "      <td>77.430000</td>\n",
       "      <td>70.937500</td>\n",
       "      <td>69.421111</td>\n",
       "      <td>78.808889</td>\n",
       "      <td>61.732667</td>\n",
       "      <td>0</td>\n",
       "      <td>1</td>\n",
       "      <td>0</td>\n",
       "      <td>0</td>\n",
       "      <td>0</td>\n",
       "      <td>0</td>\n",
       "    </tr>\n",
       "    <tr>\n",
       "      <th>4</th>\n",
       "      <td>329.725833</td>\n",
       "      <td>80.130000</td>\n",
       "      <td>82.557333</td>\n",
       "      <td>87.626667</td>\n",
       "      <td>86.326667</td>\n",
       "      <td>96.311818</td>\n",
       "      <td>60.648750</td>\n",
       "      <td>89.380833</td>\n",
       "      <td>115.883636</td>\n",
       "      <td>109.430000</td>\n",
       "      <td>187.890556</td>\n",
       "      <td>151.746538</td>\n",
       "      <td>0</td>\n",
       "      <td>1</td>\n",
       "      <td>0</td>\n",
       "      <td>0</td>\n",
       "      <td>0</td>\n",
       "      <td>0</td>\n",
       "    </tr>\n",
       "    <tr>\n",
       "      <th>5</th>\n",
       "      <td>36.170000</td>\n",
       "      <td>63.176667</td>\n",
       "      <td>60.760000</td>\n",
       "      <td>106.390000</td>\n",
       "      <td>70.000000</td>\n",
       "      <td>63.798750</td>\n",
       "      <td>63.518571</td>\n",
       "      <td>62.114286</td>\n",
       "      <td>71.676000</td>\n",
       "      <td>60.730000</td>\n",
       "      <td>66.595000</td>\n",
       "      <td>83.738571</td>\n",
       "      <td>0</td>\n",
       "      <td>1</td>\n",
       "      <td>0</td>\n",
       "      <td>0</td>\n",
       "      <td>0</td>\n",
       "      <td>0</td>\n",
       "    </tr>\n",
       "    <tr>\n",
       "      <th>6</th>\n",
       "      <td>50.701250</td>\n",
       "      <td>40.385000</td>\n",
       "      <td>63.420000</td>\n",
       "      <td>85.789333</td>\n",
       "      <td>74.478462</td>\n",
       "      <td>141.304000</td>\n",
       "      <td>197.963125</td>\n",
       "      <td>199.165000</td>\n",
       "      <td>122.648824</td>\n",
       "      <td>81.544444</td>\n",
       "      <td>70.120000</td>\n",
       "      <td>72.356000</td>\n",
       "      <td>0</td>\n",
       "      <td>1</td>\n",
       "      <td>0</td>\n",
       "      <td>0</td>\n",
       "      <td>0</td>\n",
       "      <td>0</td>\n",
       "    </tr>\n",
       "    <tr>\n",
       "      <th>7</th>\n",
       "      <td>29.636667</td>\n",
       "      <td>83.015714</td>\n",
       "      <td>55.275556</td>\n",
       "      <td>64.600000</td>\n",
       "      <td>97.300000</td>\n",
       "      <td>98.635000</td>\n",
       "      <td>91.955333</td>\n",
       "      <td>79.574500</td>\n",
       "      <td>94.512941</td>\n",
       "      <td>120.258667</td>\n",
       "      <td>54.530909</td>\n",
       "      <td>76.308889</td>\n",
       "      <td>0</td>\n",
       "      <td>1</td>\n",
       "      <td>0</td>\n",
       "      <td>0</td>\n",
       "      <td>0</td>\n",
       "      <td>0</td>\n",
       "    </tr>\n",
       "    <tr>\n",
       "      <th>8</th>\n",
       "      <td>23.060000</td>\n",
       "      <td>77.396000</td>\n",
       "      <td>74.658000</td>\n",
       "      <td>91.734000</td>\n",
       "      <td>79.574167</td>\n",
       "      <td>93.998462</td>\n",
       "      <td>82.918333</td>\n",
       "      <td>123.381333</td>\n",
       "      <td>215.358824</td>\n",
       "      <td>86.847222</td>\n",
       "      <td>65.975333</td>\n",
       "      <td>52.546250</td>\n",
       "      <td>0</td>\n",
       "      <td>1</td>\n",
       "      <td>0</td>\n",
       "      <td>0</td>\n",
       "      <td>0</td>\n",
       "      <td>0</td>\n",
       "    </tr>\n",
       "    <tr>\n",
       "      <th>9</th>\n",
       "      <td>44.257500</td>\n",
       "      <td>55.885000</td>\n",
       "      <td>64.150000</td>\n",
       "      <td>56.910000</td>\n",
       "      <td>84.172222</td>\n",
       "      <td>88.321250</td>\n",
       "      <td>82.511765</td>\n",
       "      <td>78.567368</td>\n",
       "      <td>92.614000</td>\n",
       "      <td>78.451111</td>\n",
       "      <td>95.042646</td>\n",
       "      <td>111.634180</td>\n",
       "      <td>0</td>\n",
       "      <td>1</td>\n",
       "      <td>0</td>\n",
       "      <td>0</td>\n",
       "      <td>0</td>\n",
       "      <td>0</td>\n",
       "    </tr>\n",
       "    <tr>\n",
       "      <th>10</th>\n",
       "      <td>41.710000</td>\n",
       "      <td>59.757143</td>\n",
       "      <td>60.583636</td>\n",
       "      <td>68.888000</td>\n",
       "      <td>49.595000</td>\n",
       "      <td>84.084545</td>\n",
       "      <td>72.504167</td>\n",
       "      <td>160.988125</td>\n",
       "      <td>90.347778</td>\n",
       "      <td>69.616923</td>\n",
       "      <td>94.340952</td>\n",
       "      <td>64.214545</td>\n",
       "      <td>0</td>\n",
       "      <td>1</td>\n",
       "      <td>0</td>\n",
       "      <td>0</td>\n",
       "      <td>0</td>\n",
       "      <td>0</td>\n",
       "    </tr>\n",
       "    <tr>\n",
       "      <th>11</th>\n",
       "      <td>50.598000</td>\n",
       "      <td>44.538333</td>\n",
       "      <td>54.223333</td>\n",
       "      <td>80.872500</td>\n",
       "      <td>55.073636</td>\n",
       "      <td>63.881429</td>\n",
       "      <td>125.359444</td>\n",
       "      <td>71.307059</td>\n",
       "      <td>85.161818</td>\n",
       "      <td>85.027778</td>\n",
       "      <td>107.496800</td>\n",
       "      <td>142.503333</td>\n",
       "      <td>0</td>\n",
       "      <td>1</td>\n",
       "      <td>0</td>\n",
       "      <td>0</td>\n",
       "      <td>0</td>\n",
       "      <td>0</td>\n",
       "    </tr>\n",
       "    <tr>\n",
       "      <th>12</th>\n",
       "      <td>35.760000</td>\n",
       "      <td>52.227500</td>\n",
       "      <td>51.536667</td>\n",
       "      <td>34.900000</td>\n",
       "      <td>71.221111</td>\n",
       "      <td>68.737500</td>\n",
       "      <td>65.371333</td>\n",
       "      <td>70.680588</td>\n",
       "      <td>68.475000</td>\n",
       "      <td>61.400000</td>\n",
       "      <td>75.391053</td>\n",
       "      <td>61.356923</td>\n",
       "      <td>0</td>\n",
       "      <td>1</td>\n",
       "      <td>0</td>\n",
       "      <td>0</td>\n",
       "      <td>0</td>\n",
       "      <td>0</td>\n",
       "    </tr>\n",
       "    <tr>\n",
       "      <th>13</th>\n",
       "      <td>44.385000</td>\n",
       "      <td>58.197500</td>\n",
       "      <td>49.157143</td>\n",
       "      <td>77.313846</td>\n",
       "      <td>107.510714</td>\n",
       "      <td>112.465000</td>\n",
       "      <td>74.748462</td>\n",
       "      <td>149.228000</td>\n",
       "      <td>101.704545</td>\n",
       "      <td>57.661818</td>\n",
       "      <td>55.759091</td>\n",
       "      <td>89.582500</td>\n",
       "      <td>0</td>\n",
       "      <td>1</td>\n",
       "      <td>0</td>\n",
       "      <td>0</td>\n",
       "      <td>0</td>\n",
       "      <td>0</td>\n",
       "    </tr>\n",
       "    <tr>\n",
       "      <th>14</th>\n",
       "      <td>49.415000</td>\n",
       "      <td>48.300000</td>\n",
       "      <td>45.853333</td>\n",
       "      <td>82.616923</td>\n",
       "      <td>64.378889</td>\n",
       "      <td>156.360833</td>\n",
       "      <td>93.358571</td>\n",
       "      <td>85.717000</td>\n",
       "      <td>77.496429</td>\n",
       "      <td>85.537391</td>\n",
       "      <td>150.152941</td>\n",
       "      <td>91.740000</td>\n",
       "      <td>0</td>\n",
       "      <td>1</td>\n",
       "      <td>0</td>\n",
       "      <td>0</td>\n",
       "      <td>0</td>\n",
       "      <td>0</td>\n",
       "    </tr>\n",
       "    <tr>\n",
       "      <th>15</th>\n",
       "      <td>52.531429</td>\n",
       "      <td>72.270000</td>\n",
       "      <td>70.323333</td>\n",
       "      <td>64.972000</td>\n",
       "      <td>61.728000</td>\n",
       "      <td>82.310769</td>\n",
       "      <td>194.434167</td>\n",
       "      <td>130.389231</td>\n",
       "      <td>75.218750</td>\n",
       "      <td>72.891765</td>\n",
       "      <td>104.425000</td>\n",
       "      <td>84.783158</td>\n",
       "      <td>0</td>\n",
       "      <td>1</td>\n",
       "      <td>0</td>\n",
       "      <td>0</td>\n",
       "      <td>0</td>\n",
       "      <td>0</td>\n",
       "    </tr>\n",
       "    <tr>\n",
       "      <th>16</th>\n",
       "      <td>39.928333</td>\n",
       "      <td>92.952000</td>\n",
       "      <td>50.940000</td>\n",
       "      <td>57.358333</td>\n",
       "      <td>64.434286</td>\n",
       "      <td>100.177333</td>\n",
       "      <td>100.320714</td>\n",
       "      <td>92.034000</td>\n",
       "      <td>61.151000</td>\n",
       "      <td>147.285882</td>\n",
       "      <td>105.158125</td>\n",
       "      <td>72.730000</td>\n",
       "      <td>0</td>\n",
       "      <td>1</td>\n",
       "      <td>0</td>\n",
       "      <td>0</td>\n",
       "      <td>0</td>\n",
       "      <td>0</td>\n",
       "    </tr>\n",
       "    <tr>\n",
       "      <th>17</th>\n",
       "      <td>67.393333</td>\n",
       "      <td>52.771667</td>\n",
       "      <td>48.520000</td>\n",
       "      <td>51.916000</td>\n",
       "      <td>55.415556</td>\n",
       "      <td>65.104286</td>\n",
       "      <td>98.709000</td>\n",
       "      <td>77.320769</td>\n",
       "      <td>79.571538</td>\n",
       "      <td>83.754444</td>\n",
       "      <td>101.410588</td>\n",
       "      <td>53.305455</td>\n",
       "      <td>0</td>\n",
       "      <td>1</td>\n",
       "      <td>0</td>\n",
       "      <td>0</td>\n",
       "      <td>0</td>\n",
       "      <td>0</td>\n",
       "    </tr>\n",
       "    <tr>\n",
       "      <th>18</th>\n",
       "      <td>62.931667</td>\n",
       "      <td>44.457500</td>\n",
       "      <td>84.707692</td>\n",
       "      <td>69.298750</td>\n",
       "      <td>66.265833</td>\n",
       "      <td>75.334286</td>\n",
       "      <td>56.505385</td>\n",
       "      <td>75.578235</td>\n",
       "      <td>80.077917</td>\n",
       "      <td>139.137000</td>\n",
       "      <td>73.750000</td>\n",
       "      <td>58.750000</td>\n",
       "      <td>0</td>\n",
       "      <td>1</td>\n",
       "      <td>0</td>\n",
       "      <td>0</td>\n",
       "      <td>0</td>\n",
       "      <td>0</td>\n",
       "    </tr>\n",
       "    <tr>\n",
       "      <th>19</th>\n",
       "      <td>57.843333</td>\n",
       "      <td>51.535556</td>\n",
       "      <td>43.465000</td>\n",
       "      <td>49.385000</td>\n",
       "      <td>54.837500</td>\n",
       "      <td>46.930000</td>\n",
       "      <td>57.575000</td>\n",
       "      <td>60.672000</td>\n",
       "      <td>60.128182</td>\n",
       "      <td>101.412778</td>\n",
       "      <td>66.778571</td>\n",
       "      <td>76.766667</td>\n",
       "      <td>0</td>\n",
       "      <td>1</td>\n",
       "      <td>0</td>\n",
       "      <td>0</td>\n",
       "      <td>0</td>\n",
       "      <td>0</td>\n",
       "    </tr>\n",
       "    <tr>\n",
       "      <th>20</th>\n",
       "      <td>42.137500</td>\n",
       "      <td>53.025000</td>\n",
       "      <td>58.708889</td>\n",
       "      <td>57.872000</td>\n",
       "      <td>58.735556</td>\n",
       "      <td>75.648333</td>\n",
       "      <td>159.069091</td>\n",
       "      <td>121.200625</td>\n",
       "      <td>62.884000</td>\n",
       "      <td>70.192857</td>\n",
       "      <td>92.737857</td>\n",
       "      <td>86.560000</td>\n",
       "      <td>0</td>\n",
       "      <td>1</td>\n",
       "      <td>0</td>\n",
       "      <td>0</td>\n",
       "      <td>0</td>\n",
       "      <td>0</td>\n",
       "    </tr>\n",
       "    <tr>\n",
       "      <th>21</th>\n",
       "      <td>74.511111</td>\n",
       "      <td>52.184286</td>\n",
       "      <td>80.318333</td>\n",
       "      <td>63.166000</td>\n",
       "      <td>65.435556</td>\n",
       "      <td>53.708889</td>\n",
       "      <td>128.412500</td>\n",
       "      <td>71.418750</td>\n",
       "      <td>77.603125</td>\n",
       "      <td>83.787500</td>\n",
       "      <td>67.323529</td>\n",
       "      <td>65.405000</td>\n",
       "      <td>0</td>\n",
       "      <td>1</td>\n",
       "      <td>0</td>\n",
       "      <td>0</td>\n",
       "      <td>0</td>\n",
       "      <td>0</td>\n",
       "    </tr>\n",
       "    <tr>\n",
       "      <th>22</th>\n",
       "      <td>49.536000</td>\n",
       "      <td>69.682500</td>\n",
       "      <td>100.773333</td>\n",
       "      <td>72.745714</td>\n",
       "      <td>70.264000</td>\n",
       "      <td>71.946667</td>\n",
       "      <td>98.343333</td>\n",
       "      <td>124.740000</td>\n",
       "      <td>81.955714</td>\n",
       "      <td>80.570000</td>\n",
       "      <td>75.378000</td>\n",
       "      <td>69.020000</td>\n",
       "      <td>0</td>\n",
       "      <td>1</td>\n",
       "      <td>0</td>\n",
       "      <td>0</td>\n",
       "      <td>0</td>\n",
       "      <td>0</td>\n",
       "    </tr>\n",
       "    <tr>\n",
       "      <th>23</th>\n",
       "      <td>42.926667</td>\n",
       "      <td>71.680000</td>\n",
       "      <td>49.717143</td>\n",
       "      <td>62.080909</td>\n",
       "      <td>49.610000</td>\n",
       "      <td>82.072222</td>\n",
       "      <td>59.863333</td>\n",
       "      <td>51.260000</td>\n",
       "      <td>85.506667</td>\n",
       "      <td>88.019091</td>\n",
       "      <td>87.388421</td>\n",
       "      <td>79.934444</td>\n",
       "      <td>0</td>\n",
       "      <td>1</td>\n",
       "      <td>0</td>\n",
       "      <td>0</td>\n",
       "      <td>0</td>\n",
       "      <td>0</td>\n",
       "    </tr>\n",
       "    <tr>\n",
       "      <th>24</th>\n",
       "      <td>40.713333</td>\n",
       "      <td>57.448571</td>\n",
       "      <td>47.153333</td>\n",
       "      <td>56.730000</td>\n",
       "      <td>49.980000</td>\n",
       "      <td>68.612000</td>\n",
       "      <td>71.265000</td>\n",
       "      <td>76.426000</td>\n",
       "      <td>73.238125</td>\n",
       "      <td>64.510000</td>\n",
       "      <td>59.511176</td>\n",
       "      <td>51.068462</td>\n",
       "      <td>0</td>\n",
       "      <td>1</td>\n",
       "      <td>0</td>\n",
       "      <td>0</td>\n",
       "      <td>0</td>\n",
       "      <td>0</td>\n",
       "    </tr>\n",
       "    <tr>\n",
       "      <th>25</th>\n",
       "      <td>56.080000</td>\n",
       "      <td>33.660000</td>\n",
       "      <td>57.818889</td>\n",
       "      <td>64.157778</td>\n",
       "      <td>67.371667</td>\n",
       "      <td>84.124444</td>\n",
       "      <td>71.189412</td>\n",
       "      <td>124.478571</td>\n",
       "      <td>120.445385</td>\n",
       "      <td>101.361000</td>\n",
       "      <td>53.308000</td>\n",
       "      <td>18.970000</td>\n",
       "      <td>0</td>\n",
       "      <td>1</td>\n",
       "      <td>0</td>\n",
       "      <td>0</td>\n",
       "      <td>0</td>\n",
       "      <td>0</td>\n",
       "    </tr>\n",
       "    <tr>\n",
       "      <th>26</th>\n",
       "      <td>38.305000</td>\n",
       "      <td>63.555000</td>\n",
       "      <td>45.902000</td>\n",
       "      <td>62.692500</td>\n",
       "      <td>40.308750</td>\n",
       "      <td>46.180000</td>\n",
       "      <td>85.973333</td>\n",
       "      <td>73.934286</td>\n",
       "      <td>89.452500</td>\n",
       "      <td>65.474545</td>\n",
       "      <td>91.291429</td>\n",
       "      <td>93.434286</td>\n",
       "      <td>0</td>\n",
       "      <td>1</td>\n",
       "      <td>0</td>\n",
       "      <td>0</td>\n",
       "      <td>0</td>\n",
       "      <td>0</td>\n",
       "    </tr>\n",
       "    <tr>\n",
       "      <th>27</th>\n",
       "      <td>57.825000</td>\n",
       "      <td>111.765000</td>\n",
       "      <td>48.235714</td>\n",
       "      <td>39.225000</td>\n",
       "      <td>72.960000</td>\n",
       "      <td>69.629000</td>\n",
       "      <td>104.144375</td>\n",
       "      <td>99.860000</td>\n",
       "      <td>69.562667</td>\n",
       "      <td>98.708125</td>\n",
       "      <td>88.138125</td>\n",
       "      <td>67.316923</td>\n",
       "      <td>0</td>\n",
       "      <td>1</td>\n",
       "      <td>0</td>\n",
       "      <td>0</td>\n",
       "      <td>0</td>\n",
       "      <td>0</td>\n",
       "    </tr>\n",
       "    <tr>\n",
       "      <th>28</th>\n",
       "      <td>72.514000</td>\n",
       "      <td>59.680000</td>\n",
       "      <td>46.507500</td>\n",
       "      <td>66.388889</td>\n",
       "      <td>54.905556</td>\n",
       "      <td>42.355000</td>\n",
       "      <td>61.134000</td>\n",
       "      <td>75.160000</td>\n",
       "      <td>58.996667</td>\n",
       "      <td>110.402500</td>\n",
       "      <td>97.977778</td>\n",
       "      <td>76.252500</td>\n",
       "      <td>0</td>\n",
       "      <td>1</td>\n",
       "      <td>0</td>\n",
       "      <td>0</td>\n",
       "      <td>0</td>\n",
       "      <td>0</td>\n",
       "    </tr>\n",
       "    <tr>\n",
       "      <th>29</th>\n",
       "      <td>41.347500</td>\n",
       "      <td>34.400000</td>\n",
       "      <td>44.493333</td>\n",
       "      <td>75.182222</td>\n",
       "      <td>64.237727</td>\n",
       "      <td>67.770000</td>\n",
       "      <td>95.466000</td>\n",
       "      <td>77.382857</td>\n",
       "      <td>97.893333</td>\n",
       "      <td>61.624000</td>\n",
       "      <td>74.545333</td>\n",
       "      <td>60.116667</td>\n",
       "      <td>0</td>\n",
       "      <td>1</td>\n",
       "      <td>0</td>\n",
       "      <td>0</td>\n",
       "      <td>0</td>\n",
       "      <td>0</td>\n",
       "    </tr>\n",
       "    <tr>\n",
       "      <th>...</th>\n",
       "      <td>...</td>\n",
       "      <td>...</td>\n",
       "      <td>...</td>\n",
       "      <td>...</td>\n",
       "      <td>...</td>\n",
       "      <td>...</td>\n",
       "      <td>...</td>\n",
       "      <td>...</td>\n",
       "      <td>...</td>\n",
       "      <td>...</td>\n",
       "      <td>...</td>\n",
       "      <td>...</td>\n",
       "      <td>...</td>\n",
       "      <td>...</td>\n",
       "      <td>...</td>\n",
       "      <td>...</td>\n",
       "      <td>...</td>\n",
       "      <td>...</td>\n",
       "    </tr>\n",
       "    <tr>\n",
       "      <th>516</th>\n",
       "      <td>138.740000</td>\n",
       "      <td>142.775000</td>\n",
       "      <td>130.380000</td>\n",
       "      <td>145.466000</td>\n",
       "      <td>177.483333</td>\n",
       "      <td>149.406667</td>\n",
       "      <td>121.330000</td>\n",
       "      <td>133.190000</td>\n",
       "      <td>156.264167</td>\n",
       "      <td>179.338333</td>\n",
       "      <td>198.189167</td>\n",
       "      <td>217.040000</td>\n",
       "      <td>1</td>\n",
       "      <td>0</td>\n",
       "      <td>0</td>\n",
       "      <td>0</td>\n",
       "      <td>0</td>\n",
       "      <td>0</td>\n",
       "    </tr>\n",
       "    <tr>\n",
       "      <th>517</th>\n",
       "      <td>163.086667</td>\n",
       "      <td>185.190000</td>\n",
       "      <td>167.510000</td>\n",
       "      <td>149.830000</td>\n",
       "      <td>145.610000</td>\n",
       "      <td>154.100000</td>\n",
       "      <td>215.290000</td>\n",
       "      <td>194.933333</td>\n",
       "      <td>174.576667</td>\n",
       "      <td>154.220000</td>\n",
       "      <td>190.440000</td>\n",
       "      <td>186.325000</td>\n",
       "      <td>1</td>\n",
       "      <td>0</td>\n",
       "      <td>0</td>\n",
       "      <td>0</td>\n",
       "      <td>0</td>\n",
       "      <td>0</td>\n",
       "    </tr>\n",
       "    <tr>\n",
       "      <th>518</th>\n",
       "      <td>114.645000</td>\n",
       "      <td>159.060000</td>\n",
       "      <td>131.040000</td>\n",
       "      <td>153.670000</td>\n",
       "      <td>164.537500</td>\n",
       "      <td>175.405000</td>\n",
       "      <td>196.545000</td>\n",
       "      <td>189.046111</td>\n",
       "      <td>181.547222</td>\n",
       "      <td>174.048333</td>\n",
       "      <td>161.010556</td>\n",
       "      <td>147.972778</td>\n",
       "      <td>1</td>\n",
       "      <td>0</td>\n",
       "      <td>0</td>\n",
       "      <td>0</td>\n",
       "      <td>0</td>\n",
       "      <td>0</td>\n",
       "    </tr>\n",
       "    <tr>\n",
       "      <th>519</th>\n",
       "      <td>219.100000</td>\n",
       "      <td>294.555000</td>\n",
       "      <td>127.070000</td>\n",
       "      <td>169.380000</td>\n",
       "      <td>166.836667</td>\n",
       "      <td>239.330000</td>\n",
       "      <td>241.300000</td>\n",
       "      <td>133.250000</td>\n",
       "      <td>173.890000</td>\n",
       "      <td>164.540000</td>\n",
       "      <td>131.760000</td>\n",
       "      <td>188.630000</td>\n",
       "      <td>1</td>\n",
       "      <td>0</td>\n",
       "      <td>0</td>\n",
       "      <td>0</td>\n",
       "      <td>0</td>\n",
       "      <td>0</td>\n",
       "    </tr>\n",
       "    <tr>\n",
       "      <th>520</th>\n",
       "      <td>181.150000</td>\n",
       "      <td>209.255000</td>\n",
       "      <td>169.887500</td>\n",
       "      <td>203.820000</td>\n",
       "      <td>165.294000</td>\n",
       "      <td>194.590000</td>\n",
       "      <td>122.260000</td>\n",
       "      <td>219.420000</td>\n",
       "      <td>177.797500</td>\n",
       "      <td>136.175000</td>\n",
       "      <td>283.730000</td>\n",
       "      <td>125.445000</td>\n",
       "      <td>1</td>\n",
       "      <td>0</td>\n",
       "      <td>0</td>\n",
       "      <td>0</td>\n",
       "      <td>0</td>\n",
       "      <td>0</td>\n",
       "    </tr>\n",
       "    <tr>\n",
       "      <th>521</th>\n",
       "      <td>156.296667</td>\n",
       "      <td>120.060000</td>\n",
       "      <td>220.950000</td>\n",
       "      <td>221.572500</td>\n",
       "      <td>137.875000</td>\n",
       "      <td>146.610000</td>\n",
       "      <td>155.345000</td>\n",
       "      <td>164.080000</td>\n",
       "      <td>170.530000</td>\n",
       "      <td>176.980000</td>\n",
       "      <td>183.430000</td>\n",
       "      <td>218.166667</td>\n",
       "      <td>1</td>\n",
       "      <td>0</td>\n",
       "      <td>0</td>\n",
       "      <td>0</td>\n",
       "      <td>0</td>\n",
       "      <td>0</td>\n",
       "    </tr>\n",
       "    <tr>\n",
       "      <th>522</th>\n",
       "      <td>214.410000</td>\n",
       "      <td>228.480000</td>\n",
       "      <td>214.987500</td>\n",
       "      <td>201.495000</td>\n",
       "      <td>184.620000</td>\n",
       "      <td>185.087500</td>\n",
       "      <td>187.825714</td>\n",
       "      <td>160.634000</td>\n",
       "      <td>191.928000</td>\n",
       "      <td>223.222000</td>\n",
       "      <td>155.500000</td>\n",
       "      <td>174.380000</td>\n",
       "      <td>1</td>\n",
       "      <td>0</td>\n",
       "      <td>0</td>\n",
       "      <td>0</td>\n",
       "      <td>0</td>\n",
       "      <td>0</td>\n",
       "    </tr>\n",
       "    <tr>\n",
       "      <th>523</th>\n",
       "      <td>221.336000</td>\n",
       "      <td>219.855000</td>\n",
       "      <td>206.343750</td>\n",
       "      <td>181.838333</td>\n",
       "      <td>212.181667</td>\n",
       "      <td>166.582500</td>\n",
       "      <td>171.907500</td>\n",
       "      <td>197.167500</td>\n",
       "      <td>221.266667</td>\n",
       "      <td>254.580833</td>\n",
       "      <td>287.895000</td>\n",
       "      <td>283.615000</td>\n",
       "      <td>1</td>\n",
       "      <td>0</td>\n",
       "      <td>0</td>\n",
       "      <td>0</td>\n",
       "      <td>0</td>\n",
       "      <td>0</td>\n",
       "    </tr>\n",
       "    <tr>\n",
       "      <th>524</th>\n",
       "      <td>170.337500</td>\n",
       "      <td>191.495000</td>\n",
       "      <td>163.890000</td>\n",
       "      <td>184.250000</td>\n",
       "      <td>113.995000</td>\n",
       "      <td>154.257500</td>\n",
       "      <td>194.520000</td>\n",
       "      <td>143.876667</td>\n",
       "      <td>293.155000</td>\n",
       "      <td>209.850000</td>\n",
       "      <td>163.000000</td>\n",
       "      <td>175.990000</td>\n",
       "      <td>1</td>\n",
       "      <td>0</td>\n",
       "      <td>0</td>\n",
       "      <td>0</td>\n",
       "      <td>0</td>\n",
       "      <td>0</td>\n",
       "    </tr>\n",
       "    <tr>\n",
       "      <th>525</th>\n",
       "      <td>144.140000</td>\n",
       "      <td>170.156667</td>\n",
       "      <td>195.673333</td>\n",
       "      <td>283.177500</td>\n",
       "      <td>372.560000</td>\n",
       "      <td>208.220000</td>\n",
       "      <td>208.420000</td>\n",
       "      <td>152.170000</td>\n",
       "      <td>168.590000</td>\n",
       "      <td>168.230000</td>\n",
       "      <td>167.870000</td>\n",
       "      <td>176.820000</td>\n",
       "      <td>1</td>\n",
       "      <td>0</td>\n",
       "      <td>0</td>\n",
       "      <td>0</td>\n",
       "      <td>0</td>\n",
       "      <td>0</td>\n",
       "    </tr>\n",
       "    <tr>\n",
       "      <th>526</th>\n",
       "      <td>159.960000</td>\n",
       "      <td>142.260000</td>\n",
       "      <td>137.870000</td>\n",
       "      <td>173.073333</td>\n",
       "      <td>167.470000</td>\n",
       "      <td>180.613333</td>\n",
       "      <td>142.232500</td>\n",
       "      <td>223.200000</td>\n",
       "      <td>183.270000</td>\n",
       "      <td>366.935000</td>\n",
       "      <td>248.930000</td>\n",
       "      <td>208.710000</td>\n",
       "      <td>1</td>\n",
       "      <td>0</td>\n",
       "      <td>0</td>\n",
       "      <td>0</td>\n",
       "      <td>0</td>\n",
       "      <td>0</td>\n",
       "    </tr>\n",
       "    <tr>\n",
       "      <th>527</th>\n",
       "      <td>173.480000</td>\n",
       "      <td>182.255000</td>\n",
       "      <td>200.946667</td>\n",
       "      <td>209.933333</td>\n",
       "      <td>152.605000</td>\n",
       "      <td>164.582500</td>\n",
       "      <td>176.560000</td>\n",
       "      <td>184.950000</td>\n",
       "      <td>185.975000</td>\n",
       "      <td>187.000000</td>\n",
       "      <td>188.025000</td>\n",
       "      <td>189.050000</td>\n",
       "      <td>1</td>\n",
       "      <td>0</td>\n",
       "      <td>0</td>\n",
       "      <td>0</td>\n",
       "      <td>0</td>\n",
       "      <td>0</td>\n",
       "    </tr>\n",
       "    <tr>\n",
       "      <th>528</th>\n",
       "      <td>168.956667</td>\n",
       "      <td>226.985000</td>\n",
       "      <td>265.186667</td>\n",
       "      <td>204.622500</td>\n",
       "      <td>160.110000</td>\n",
       "      <td>325.465000</td>\n",
       "      <td>206.884000</td>\n",
       "      <td>212.483333</td>\n",
       "      <td>149.625000</td>\n",
       "      <td>199.573333</td>\n",
       "      <td>298.060000</td>\n",
       "      <td>244.390000</td>\n",
       "      <td>1</td>\n",
       "      <td>0</td>\n",
       "      <td>0</td>\n",
       "      <td>0</td>\n",
       "      <td>0</td>\n",
       "      <td>0</td>\n",
       "    </tr>\n",
       "    <tr>\n",
       "      <th>529</th>\n",
       "      <td>144.828667</td>\n",
       "      <td>135.204000</td>\n",
       "      <td>190.016667</td>\n",
       "      <td>151.556000</td>\n",
       "      <td>199.533333</td>\n",
       "      <td>187.900556</td>\n",
       "      <td>176.267778</td>\n",
       "      <td>164.635000</td>\n",
       "      <td>147.287500</td>\n",
       "      <td>129.940000</td>\n",
       "      <td>138.450000</td>\n",
       "      <td>146.960000</td>\n",
       "      <td>1</td>\n",
       "      <td>0</td>\n",
       "      <td>0</td>\n",
       "      <td>0</td>\n",
       "      <td>0</td>\n",
       "      <td>0</td>\n",
       "    </tr>\n",
       "    <tr>\n",
       "      <th>530</th>\n",
       "      <td>216.243333</td>\n",
       "      <td>178.970000</td>\n",
       "      <td>192.200000</td>\n",
       "      <td>171.210000</td>\n",
       "      <td>208.880000</td>\n",
       "      <td>148.302000</td>\n",
       "      <td>215.748333</td>\n",
       "      <td>163.440000</td>\n",
       "      <td>226.430000</td>\n",
       "      <td>232.670000</td>\n",
       "      <td>196.331667</td>\n",
       "      <td>159.993333</td>\n",
       "      <td>1</td>\n",
       "      <td>0</td>\n",
       "      <td>0</td>\n",
       "      <td>0</td>\n",
       "      <td>0</td>\n",
       "      <td>0</td>\n",
       "    </tr>\n",
       "    <tr>\n",
       "      <th>531</th>\n",
       "      <td>154.070000</td>\n",
       "      <td>171.150000</td>\n",
       "      <td>178.345000</td>\n",
       "      <td>187.296667</td>\n",
       "      <td>240.526667</td>\n",
       "      <td>171.170000</td>\n",
       "      <td>180.941667</td>\n",
       "      <td>171.863333</td>\n",
       "      <td>177.633333</td>\n",
       "      <td>183.403333</td>\n",
       "      <td>178.273333</td>\n",
       "      <td>164.150000</td>\n",
       "      <td>1</td>\n",
       "      <td>0</td>\n",
       "      <td>0</td>\n",
       "      <td>0</td>\n",
       "      <td>0</td>\n",
       "      <td>0</td>\n",
       "    </tr>\n",
       "    <tr>\n",
       "      <th>532</th>\n",
       "      <td>164.550000</td>\n",
       "      <td>129.020000</td>\n",
       "      <td>168.167500</td>\n",
       "      <td>184.830000</td>\n",
       "      <td>181.536000</td>\n",
       "      <td>211.288333</td>\n",
       "      <td>208.336667</td>\n",
       "      <td>158.200000</td>\n",
       "      <td>211.366000</td>\n",
       "      <td>160.270000</td>\n",
       "      <td>143.095000</td>\n",
       "      <td>206.526667</td>\n",
       "      <td>1</td>\n",
       "      <td>0</td>\n",
       "      <td>0</td>\n",
       "      <td>0</td>\n",
       "      <td>0</td>\n",
       "      <td>0</td>\n",
       "    </tr>\n",
       "    <tr>\n",
       "      <th>533</th>\n",
       "      <td>195.650909</td>\n",
       "      <td>172.720000</td>\n",
       "      <td>158.060833</td>\n",
       "      <td>163.960000</td>\n",
       "      <td>156.274000</td>\n",
       "      <td>230.602000</td>\n",
       "      <td>221.980000</td>\n",
       "      <td>188.420000</td>\n",
       "      <td>193.638000</td>\n",
       "      <td>218.756667</td>\n",
       "      <td>175.240000</td>\n",
       "      <td>168.340000</td>\n",
       "      <td>1</td>\n",
       "      <td>0</td>\n",
       "      <td>0</td>\n",
       "      <td>0</td>\n",
       "      <td>0</td>\n",
       "      <td>0</td>\n",
       "    </tr>\n",
       "    <tr>\n",
       "      <th>534</th>\n",
       "      <td>173.970000</td>\n",
       "      <td>167.390000</td>\n",
       "      <td>177.250000</td>\n",
       "      <td>169.355000</td>\n",
       "      <td>138.515000</td>\n",
       "      <td>153.122500</td>\n",
       "      <td>167.730000</td>\n",
       "      <td>179.285000</td>\n",
       "      <td>190.840000</td>\n",
       "      <td>121.790000</td>\n",
       "      <td>193.760000</td>\n",
       "      <td>187.821111</td>\n",
       "      <td>1</td>\n",
       "      <td>0</td>\n",
       "      <td>0</td>\n",
       "      <td>0</td>\n",
       "      <td>0</td>\n",
       "      <td>0</td>\n",
       "    </tr>\n",
       "    <tr>\n",
       "      <th>535</th>\n",
       "      <td>325.950000</td>\n",
       "      <td>257.817500</td>\n",
       "      <td>189.685000</td>\n",
       "      <td>204.550000</td>\n",
       "      <td>160.590000</td>\n",
       "      <td>291.970000</td>\n",
       "      <td>204.260000</td>\n",
       "      <td>219.950000</td>\n",
       "      <td>315.260000</td>\n",
       "      <td>274.316667</td>\n",
       "      <td>233.373333</td>\n",
       "      <td>272.450000</td>\n",
       "      <td>1</td>\n",
       "      <td>0</td>\n",
       "      <td>0</td>\n",
       "      <td>0</td>\n",
       "      <td>0</td>\n",
       "      <td>0</td>\n",
       "    </tr>\n",
       "    <tr>\n",
       "      <th>536</th>\n",
       "      <td>141.193000</td>\n",
       "      <td>135.080000</td>\n",
       "      <td>138.950000</td>\n",
       "      <td>142.820000</td>\n",
       "      <td>134.616667</td>\n",
       "      <td>150.330000</td>\n",
       "      <td>186.053333</td>\n",
       "      <td>221.776667</td>\n",
       "      <td>97.060000</td>\n",
       "      <td>122.670000</td>\n",
       "      <td>187.340000</td>\n",
       "      <td>182.262857</td>\n",
       "      <td>1</td>\n",
       "      <td>0</td>\n",
       "      <td>0</td>\n",
       "      <td>0</td>\n",
       "      <td>0</td>\n",
       "      <td>0</td>\n",
       "    </tr>\n",
       "    <tr>\n",
       "      <th>537</th>\n",
       "      <td>133.565000</td>\n",
       "      <td>158.980000</td>\n",
       "      <td>175.057500</td>\n",
       "      <td>190.470000</td>\n",
       "      <td>157.371667</td>\n",
       "      <td>124.273333</td>\n",
       "      <td>143.082222</td>\n",
       "      <td>161.891111</td>\n",
       "      <td>180.700000</td>\n",
       "      <td>153.620000</td>\n",
       "      <td>182.425000</td>\n",
       "      <td>211.230000</td>\n",
       "      <td>1</td>\n",
       "      <td>0</td>\n",
       "      <td>0</td>\n",
       "      <td>0</td>\n",
       "      <td>0</td>\n",
       "      <td>0</td>\n",
       "    </tr>\n",
       "    <tr>\n",
       "      <th>538</th>\n",
       "      <td>94.120000</td>\n",
       "      <td>180.450000</td>\n",
       "      <td>128.090000</td>\n",
       "      <td>149.313333</td>\n",
       "      <td>170.536667</td>\n",
       "      <td>180.111667</td>\n",
       "      <td>189.826667</td>\n",
       "      <td>163.674000</td>\n",
       "      <td>173.340000</td>\n",
       "      <td>167.360000</td>\n",
       "      <td>161.380000</td>\n",
       "      <td>155.400000</td>\n",
       "      <td>1</td>\n",
       "      <td>0</td>\n",
       "      <td>0</td>\n",
       "      <td>0</td>\n",
       "      <td>0</td>\n",
       "      <td>0</td>\n",
       "    </tr>\n",
       "    <tr>\n",
       "      <th>539</th>\n",
       "      <td>158.230000</td>\n",
       "      <td>154.832500</td>\n",
       "      <td>151.435000</td>\n",
       "      <td>143.583333</td>\n",
       "      <td>179.793333</td>\n",
       "      <td>210.463333</td>\n",
       "      <td>196.846667</td>\n",
       "      <td>183.230000</td>\n",
       "      <td>218.230000</td>\n",
       "      <td>223.920000</td>\n",
       "      <td>229.610000</td>\n",
       "      <td>229.990000</td>\n",
       "      <td>1</td>\n",
       "      <td>0</td>\n",
       "      <td>0</td>\n",
       "      <td>0</td>\n",
       "      <td>0</td>\n",
       "      <td>0</td>\n",
       "    </tr>\n",
       "    <tr>\n",
       "      <th>540</th>\n",
       "      <td>140.385000</td>\n",
       "      <td>218.830000</td>\n",
       "      <td>141.395000</td>\n",
       "      <td>170.920000</td>\n",
       "      <td>164.540000</td>\n",
       "      <td>214.780000</td>\n",
       "      <td>181.680000</td>\n",
       "      <td>148.580000</td>\n",
       "      <td>196.050000</td>\n",
       "      <td>146.060000</td>\n",
       "      <td>181.390000</td>\n",
       "      <td>216.720000</td>\n",
       "      <td>1</td>\n",
       "      <td>0</td>\n",
       "      <td>0</td>\n",
       "      <td>0</td>\n",
       "      <td>0</td>\n",
       "      <td>0</td>\n",
       "    </tr>\n",
       "    <tr>\n",
       "      <th>541</th>\n",
       "      <td>139.355000</td>\n",
       "      <td>127.710000</td>\n",
       "      <td>189.905000</td>\n",
       "      <td>152.163333</td>\n",
       "      <td>196.401429</td>\n",
       "      <td>215.695714</td>\n",
       "      <td>234.990000</td>\n",
       "      <td>156.196000</td>\n",
       "      <td>161.812000</td>\n",
       "      <td>167.428000</td>\n",
       "      <td>173.044000</td>\n",
       "      <td>178.660000</td>\n",
       "      <td>1</td>\n",
       "      <td>0</td>\n",
       "      <td>0</td>\n",
       "      <td>0</td>\n",
       "      <td>0</td>\n",
       "      <td>0</td>\n",
       "    </tr>\n",
       "    <tr>\n",
       "      <th>542</th>\n",
       "      <td>126.678000</td>\n",
       "      <td>122.789000</td>\n",
       "      <td>118.900000</td>\n",
       "      <td>141.130000</td>\n",
       "      <td>170.056000</td>\n",
       "      <td>191.275000</td>\n",
       "      <td>163.773333</td>\n",
       "      <td>137.733333</td>\n",
       "      <td>378.526667</td>\n",
       "      <td>192.380000</td>\n",
       "      <td>138.110000</td>\n",
       "      <td>128.240000</td>\n",
       "      <td>1</td>\n",
       "      <td>0</td>\n",
       "      <td>0</td>\n",
       "      <td>0</td>\n",
       "      <td>0</td>\n",
       "      <td>0</td>\n",
       "    </tr>\n",
       "    <tr>\n",
       "      <th>543</th>\n",
       "      <td>176.235000</td>\n",
       "      <td>200.010000</td>\n",
       "      <td>195.490000</td>\n",
       "      <td>173.840000</td>\n",
       "      <td>220.372500</td>\n",
       "      <td>194.595000</td>\n",
       "      <td>82.420000</td>\n",
       "      <td>201.305000</td>\n",
       "      <td>176.670000</td>\n",
       "      <td>209.620000</td>\n",
       "      <td>242.570000</td>\n",
       "      <td>258.620000</td>\n",
       "      <td>1</td>\n",
       "      <td>0</td>\n",
       "      <td>0</td>\n",
       "      <td>0</td>\n",
       "      <td>0</td>\n",
       "      <td>0</td>\n",
       "    </tr>\n",
       "    <tr>\n",
       "      <th>544</th>\n",
       "      <td>193.837500</td>\n",
       "      <td>209.328571</td>\n",
       "      <td>286.613333</td>\n",
       "      <td>235.160000</td>\n",
       "      <td>196.463333</td>\n",
       "      <td>130.097500</td>\n",
       "      <td>194.761111</td>\n",
       "      <td>215.280000</td>\n",
       "      <td>224.670000</td>\n",
       "      <td>141.090000</td>\n",
       "      <td>142.805000</td>\n",
       "      <td>144.407500</td>\n",
       "      <td>1</td>\n",
       "      <td>0</td>\n",
       "      <td>0</td>\n",
       "      <td>0</td>\n",
       "      <td>0</td>\n",
       "      <td>0</td>\n",
       "    </tr>\n",
       "    <tr>\n",
       "      <th>545</th>\n",
       "      <td>126.445000</td>\n",
       "      <td>141.302222</td>\n",
       "      <td>156.159444</td>\n",
       "      <td>171.016667</td>\n",
       "      <td>311.180000</td>\n",
       "      <td>198.460000</td>\n",
       "      <td>160.238333</td>\n",
       "      <td>122.016667</td>\n",
       "      <td>147.878333</td>\n",
       "      <td>173.740000</td>\n",
       "      <td>350.113333</td>\n",
       "      <td>526.486667</td>\n",
       "      <td>1</td>\n",
       "      <td>0</td>\n",
       "      <td>0</td>\n",
       "      <td>0</td>\n",
       "      <td>0</td>\n",
       "      <td>0</td>\n",
       "    </tr>\n",
       "  </tbody>\n",
       "</table>\n",
       "<p>1092 rows × 18 columns</p>\n",
       "</div>"
      ],
      "text/plain": [
       "             f0          f1          f2          f3          f4          f5  \\\n",
       "0     46.356000   48.588000   66.642500   64.681000   85.676000   58.968889   \n",
       "1     44.095000   59.874444   88.815000   77.847778   94.919167   73.677273   \n",
       "2     63.176667   87.030000   65.336667   78.012000  109.729333  114.720000   \n",
       "3     65.363333   57.038750   63.971429  132.218889  100.391765   65.348889   \n",
       "4    329.725833   80.130000   82.557333   87.626667   86.326667   96.311818   \n",
       "5     36.170000   63.176667   60.760000  106.390000   70.000000   63.798750   \n",
       "6     50.701250   40.385000   63.420000   85.789333   74.478462  141.304000   \n",
       "7     29.636667   83.015714   55.275556   64.600000   97.300000   98.635000   \n",
       "8     23.060000   77.396000   74.658000   91.734000   79.574167   93.998462   \n",
       "9     44.257500   55.885000   64.150000   56.910000   84.172222   88.321250   \n",
       "10    41.710000   59.757143   60.583636   68.888000   49.595000   84.084545   \n",
       "11    50.598000   44.538333   54.223333   80.872500   55.073636   63.881429   \n",
       "12    35.760000   52.227500   51.536667   34.900000   71.221111   68.737500   \n",
       "13    44.385000   58.197500   49.157143   77.313846  107.510714  112.465000   \n",
       "14    49.415000   48.300000   45.853333   82.616923   64.378889  156.360833   \n",
       "15    52.531429   72.270000   70.323333   64.972000   61.728000   82.310769   \n",
       "16    39.928333   92.952000   50.940000   57.358333   64.434286  100.177333   \n",
       "17    67.393333   52.771667   48.520000   51.916000   55.415556   65.104286   \n",
       "18    62.931667   44.457500   84.707692   69.298750   66.265833   75.334286   \n",
       "19    57.843333   51.535556   43.465000   49.385000   54.837500   46.930000   \n",
       "20    42.137500   53.025000   58.708889   57.872000   58.735556   75.648333   \n",
       "21    74.511111   52.184286   80.318333   63.166000   65.435556   53.708889   \n",
       "22    49.536000   69.682500  100.773333   72.745714   70.264000   71.946667   \n",
       "23    42.926667   71.680000   49.717143   62.080909   49.610000   82.072222   \n",
       "24    40.713333   57.448571   47.153333   56.730000   49.980000   68.612000   \n",
       "25    56.080000   33.660000   57.818889   64.157778   67.371667   84.124444   \n",
       "26    38.305000   63.555000   45.902000   62.692500   40.308750   46.180000   \n",
       "27    57.825000  111.765000   48.235714   39.225000   72.960000   69.629000   \n",
       "28    72.514000   59.680000   46.507500   66.388889   54.905556   42.355000   \n",
       "29    41.347500   34.400000   44.493333   75.182222   64.237727   67.770000   \n",
       "..          ...         ...         ...         ...         ...         ...   \n",
       "516  138.740000  142.775000  130.380000  145.466000  177.483333  149.406667   \n",
       "517  163.086667  185.190000  167.510000  149.830000  145.610000  154.100000   \n",
       "518  114.645000  159.060000  131.040000  153.670000  164.537500  175.405000   \n",
       "519  219.100000  294.555000  127.070000  169.380000  166.836667  239.330000   \n",
       "520  181.150000  209.255000  169.887500  203.820000  165.294000  194.590000   \n",
       "521  156.296667  120.060000  220.950000  221.572500  137.875000  146.610000   \n",
       "522  214.410000  228.480000  214.987500  201.495000  184.620000  185.087500   \n",
       "523  221.336000  219.855000  206.343750  181.838333  212.181667  166.582500   \n",
       "524  170.337500  191.495000  163.890000  184.250000  113.995000  154.257500   \n",
       "525  144.140000  170.156667  195.673333  283.177500  372.560000  208.220000   \n",
       "526  159.960000  142.260000  137.870000  173.073333  167.470000  180.613333   \n",
       "527  173.480000  182.255000  200.946667  209.933333  152.605000  164.582500   \n",
       "528  168.956667  226.985000  265.186667  204.622500  160.110000  325.465000   \n",
       "529  144.828667  135.204000  190.016667  151.556000  199.533333  187.900556   \n",
       "530  216.243333  178.970000  192.200000  171.210000  208.880000  148.302000   \n",
       "531  154.070000  171.150000  178.345000  187.296667  240.526667  171.170000   \n",
       "532  164.550000  129.020000  168.167500  184.830000  181.536000  211.288333   \n",
       "533  195.650909  172.720000  158.060833  163.960000  156.274000  230.602000   \n",
       "534  173.970000  167.390000  177.250000  169.355000  138.515000  153.122500   \n",
       "535  325.950000  257.817500  189.685000  204.550000  160.590000  291.970000   \n",
       "536  141.193000  135.080000  138.950000  142.820000  134.616667  150.330000   \n",
       "537  133.565000  158.980000  175.057500  190.470000  157.371667  124.273333   \n",
       "538   94.120000  180.450000  128.090000  149.313333  170.536667  180.111667   \n",
       "539  158.230000  154.832500  151.435000  143.583333  179.793333  210.463333   \n",
       "540  140.385000  218.830000  141.395000  170.920000  164.540000  214.780000   \n",
       "541  139.355000  127.710000  189.905000  152.163333  196.401429  215.695714   \n",
       "542  126.678000  122.789000  118.900000  141.130000  170.056000  191.275000   \n",
       "543  176.235000  200.010000  195.490000  173.840000  220.372500  194.595000   \n",
       "544  193.837500  209.328571  286.613333  235.160000  196.463333  130.097500   \n",
       "545  126.445000  141.302222  156.159444  171.016667  311.180000  198.460000   \n",
       "\n",
       "             n0          n1          n2          n3          n4          n5  \\\n",
       "0     81.602857   80.207857   63.448462   78.051176   69.038333   69.657143   \n",
       "1     61.007000  332.162000   50.995000   44.935000   34.115000   23.295000   \n",
       "2    116.073636  125.105000   88.416842   71.472222  116.583333   88.655714   \n",
       "3     75.532500   77.430000   70.937500   69.421111   78.808889   61.732667   \n",
       "4     60.648750   89.380833  115.883636  109.430000  187.890556  151.746538   \n",
       "5     63.518571   62.114286   71.676000   60.730000   66.595000   83.738571   \n",
       "6    197.963125  199.165000  122.648824   81.544444   70.120000   72.356000   \n",
       "7     91.955333   79.574500   94.512941  120.258667   54.530909   76.308889   \n",
       "8     82.918333  123.381333  215.358824   86.847222   65.975333   52.546250   \n",
       "9     82.511765   78.567368   92.614000   78.451111   95.042646  111.634180   \n",
       "10    72.504167  160.988125   90.347778   69.616923   94.340952   64.214545   \n",
       "11   125.359444   71.307059   85.161818   85.027778  107.496800  142.503333   \n",
       "12    65.371333   70.680588   68.475000   61.400000   75.391053   61.356923   \n",
       "13    74.748462  149.228000  101.704545   57.661818   55.759091   89.582500   \n",
       "14    93.358571   85.717000   77.496429   85.537391  150.152941   91.740000   \n",
       "15   194.434167  130.389231   75.218750   72.891765  104.425000   84.783158   \n",
       "16   100.320714   92.034000   61.151000  147.285882  105.158125   72.730000   \n",
       "17    98.709000   77.320769   79.571538   83.754444  101.410588   53.305455   \n",
       "18    56.505385   75.578235   80.077917  139.137000   73.750000   58.750000   \n",
       "19    57.575000   60.672000   60.128182  101.412778   66.778571   76.766667   \n",
       "20   159.069091  121.200625   62.884000   70.192857   92.737857   86.560000   \n",
       "21   128.412500   71.418750   77.603125   83.787500   67.323529   65.405000   \n",
       "22    98.343333  124.740000   81.955714   80.570000   75.378000   69.020000   \n",
       "23    59.863333   51.260000   85.506667   88.019091   87.388421   79.934444   \n",
       "24    71.265000   76.426000   73.238125   64.510000   59.511176   51.068462   \n",
       "25    71.189412  124.478571  120.445385  101.361000   53.308000   18.970000   \n",
       "26    85.973333   73.934286   89.452500   65.474545   91.291429   93.434286   \n",
       "27   104.144375   99.860000   69.562667   98.708125   88.138125   67.316923   \n",
       "28    61.134000   75.160000   58.996667  110.402500   97.977778   76.252500   \n",
       "29    95.466000   77.382857   97.893333   61.624000   74.545333   60.116667   \n",
       "..          ...         ...         ...         ...         ...         ...   \n",
       "516  121.330000  133.190000  156.264167  179.338333  198.189167  217.040000   \n",
       "517  215.290000  194.933333  174.576667  154.220000  190.440000  186.325000   \n",
       "518  196.545000  189.046111  181.547222  174.048333  161.010556  147.972778   \n",
       "519  241.300000  133.250000  173.890000  164.540000  131.760000  188.630000   \n",
       "520  122.260000  219.420000  177.797500  136.175000  283.730000  125.445000   \n",
       "521  155.345000  164.080000  170.530000  176.980000  183.430000  218.166667   \n",
       "522  187.825714  160.634000  191.928000  223.222000  155.500000  174.380000   \n",
       "523  171.907500  197.167500  221.266667  254.580833  287.895000  283.615000   \n",
       "524  194.520000  143.876667  293.155000  209.850000  163.000000  175.990000   \n",
       "525  208.420000  152.170000  168.590000  168.230000  167.870000  176.820000   \n",
       "526  142.232500  223.200000  183.270000  366.935000  248.930000  208.710000   \n",
       "527  176.560000  184.950000  185.975000  187.000000  188.025000  189.050000   \n",
       "528  206.884000  212.483333  149.625000  199.573333  298.060000  244.390000   \n",
       "529  176.267778  164.635000  147.287500  129.940000  138.450000  146.960000   \n",
       "530  215.748333  163.440000  226.430000  232.670000  196.331667  159.993333   \n",
       "531  180.941667  171.863333  177.633333  183.403333  178.273333  164.150000   \n",
       "532  208.336667  158.200000  211.366000  160.270000  143.095000  206.526667   \n",
       "533  221.980000  188.420000  193.638000  218.756667  175.240000  168.340000   \n",
       "534  167.730000  179.285000  190.840000  121.790000  193.760000  187.821111   \n",
       "535  204.260000  219.950000  315.260000  274.316667  233.373333  272.450000   \n",
       "536  186.053333  221.776667   97.060000  122.670000  187.340000  182.262857   \n",
       "537  143.082222  161.891111  180.700000  153.620000  182.425000  211.230000   \n",
       "538  189.826667  163.674000  173.340000  167.360000  161.380000  155.400000   \n",
       "539  196.846667  183.230000  218.230000  223.920000  229.610000  229.990000   \n",
       "540  181.680000  148.580000  196.050000  146.060000  181.390000  216.720000   \n",
       "541  234.990000  156.196000  161.812000  167.428000  173.044000  178.660000   \n",
       "542  163.773333  137.733333  378.526667  192.380000  138.110000  128.240000   \n",
       "543   82.420000  201.305000  176.670000  209.620000  242.570000  258.620000   \n",
       "544  194.761111  215.280000  224.670000  141.090000  142.805000  144.407500   \n",
       "545  160.238333  122.016667  147.878333  173.740000  350.113333  526.486667   \n",
       "\n",
       "     dn  it0  it1  it2  it3  it4  \n",
       "0     0    1    0    0    0    0  \n",
       "1     0    1    0    0    0    0  \n",
       "2     0    1    0    0    0    0  \n",
       "3     0    1    0    0    0    0  \n",
       "4     0    1    0    0    0    0  \n",
       "5     0    1    0    0    0    0  \n",
       "6     0    1    0    0    0    0  \n",
       "7     0    1    0    0    0    0  \n",
       "8     0    1    0    0    0    0  \n",
       "9     0    1    0    0    0    0  \n",
       "10    0    1    0    0    0    0  \n",
       "11    0    1    0    0    0    0  \n",
       "12    0    1    0    0    0    0  \n",
       "13    0    1    0    0    0    0  \n",
       "14    0    1    0    0    0    0  \n",
       "15    0    1    0    0    0    0  \n",
       "16    0    1    0    0    0    0  \n",
       "17    0    1    0    0    0    0  \n",
       "18    0    1    0    0    0    0  \n",
       "19    0    1    0    0    0    0  \n",
       "20    0    1    0    0    0    0  \n",
       "21    0    1    0    0    0    0  \n",
       "22    0    1    0    0    0    0  \n",
       "23    0    1    0    0    0    0  \n",
       "24    0    1    0    0    0    0  \n",
       "25    0    1    0    0    0    0  \n",
       "26    0    1    0    0    0    0  \n",
       "27    0    1    0    0    0    0  \n",
       "28    0    1    0    0    0    0  \n",
       "29    0    1    0    0    0    0  \n",
       "..   ..  ...  ...  ...  ...  ...  \n",
       "516   1    0    0    0    0    0  \n",
       "517   1    0    0    0    0    0  \n",
       "518   1    0    0    0    0    0  \n",
       "519   1    0    0    0    0    0  \n",
       "520   1    0    0    0    0    0  \n",
       "521   1    0    0    0    0    0  \n",
       "522   1    0    0    0    0    0  \n",
       "523   1    0    0    0    0    0  \n",
       "524   1    0    0    0    0    0  \n",
       "525   1    0    0    0    0    0  \n",
       "526   1    0    0    0    0    0  \n",
       "527   1    0    0    0    0    0  \n",
       "528   1    0    0    0    0    0  \n",
       "529   1    0    0    0    0    0  \n",
       "530   1    0    0    0    0    0  \n",
       "531   1    0    0    0    0    0  \n",
       "532   1    0    0    0    0    0  \n",
       "533   1    0    0    0    0    0  \n",
       "534   1    0    0    0    0    0  \n",
       "535   1    0    0    0    0    0  \n",
       "536   1    0    0    0    0    0  \n",
       "537   1    0    0    0    0    0  \n",
       "538   1    0    0    0    0    0  \n",
       "539   1    0    0    0    0    0  \n",
       "540   1    0    0    0    0    0  \n",
       "541   1    0    0    0    0    0  \n",
       "542   1    0    0    0    0    0  \n",
       "543   1    0    0    0    0    0  \n",
       "544   1    0    0    0    0    0  \n",
       "545   1    0    0    0    0    0  \n",
       "\n",
       "[1092 rows x 18 columns]"
      ]
     },
     "execution_count": 50,
     "metadata": {},
     "output_type": "execute_result"
    }
   ],
   "source": [
    "dfall"
   ]
  },
  {
   "cell_type": "code",
   "execution_count": null,
   "metadata": {
    "collapsed": true
   },
   "outputs": [],
   "source": []
  },
  {
   "cell_type": "code",
   "execution_count": 51,
   "metadata": {
    "collapsed": true
   },
   "outputs": [],
   "source": [
    "dfalltrain = dfall.iloc[:-84]\n",
    "dfalltest = dfall.iloc[-84:]"
   ]
  },
  {
   "cell_type": "code",
   "execution_count": null,
   "metadata": {
    "collapsed": true
   },
   "outputs": [],
   "source": []
  },
  {
   "cell_type": "code",
   "execution_count": 52,
   "metadata": {
    "collapsed": true
   },
   "outputs": [],
   "source": [
    "from sklearn.linear_model import LinearRegression\n",
    "from sklearn.ensemble import RandomForestRegressor\n",
    "import xgboost"
   ]
  },
  {
   "cell_type": "code",
   "execution_count": 53,
   "metadata": {
    "collapsed": true
   },
   "outputs": [],
   "source": [
    "def set_pred_window(i):\n",
    "    Y = dfalltrain.iloc[:,6+i]\n",
    "    Yt = dfalltest.iloc[:,6+i]\n",
    "    return Y, Yt"
   ]
  },
  {
   "cell_type": "code",
   "execution_count": 55,
   "metadata": {
    "collapsed": false
   },
   "outputs": [],
   "source": [
    "X = dfalltrain.iloc[:,[0,1,2,3,4,5,12,13,14,15,16,17]]\n",
    "Xt = dfalltest.iloc[:,[0,1,2,3,4,5,12,13,14,15,16,17]]"
   ]
  },
  {
   "cell_type": "code",
   "execution_count": null,
   "metadata": {
    "collapsed": true
   },
   "outputs": [],
   "source": []
  },
  {
   "cell_type": "code",
   "execution_count": 81,
   "metadata": {
    "collapsed": false
   },
   "outputs": [],
   "source": [
    "Y, Yt = set_pred_window(1)"
   ]
  },
  {
   "cell_type": "code",
   "execution_count": 98,
   "metadata": {
    "collapsed": false
   },
   "outputs": [
    {
     "name": "stdout",
     "output_type": "stream",
     "text": [
      "0.251266122344\n",
      "0.206930632392\n"
     ]
    }
   ],
   "source": [
    "lm = LinearRegression(fit_intercept=False)\n",
    "lm.fit(X, Y)\n",
    "print pred_loss(lm.predict(X), Y)\n",
    "print pred_loss(lm.predict(Xt), Yt)"
   ]
  },
  {
   "cell_type": "code",
   "execution_count": 113,
   "metadata": {
    "collapsed": false
   },
   "outputs": [
    {
     "name": "stdout",
     "output_type": "stream",
     "text": [
      "0.190825250479\n",
      "0.19121687925\n"
     ]
    }
   ],
   "source": [
    "lm = RandomForestRegressor(max_depth=7)\n",
    "lm.fit(X, Y)\n",
    "print pred_loss(lm.predict(X), Y)\n",
    "print pred_loss(lm.predict(Xt), Yt)"
   ]
  },
  {
   "cell_type": "code",
   "execution_count": 115,
   "metadata": {
    "collapsed": false
   },
   "outputs": [
    {
     "name": "stdout",
     "output_type": "stream",
     "text": [
      "0.240201287085\n",
      "0.331965929312\n"
     ]
    }
   ],
   "source": [
    "lm = xgboost.XGBClassifier(max_depth=7)\n",
    "lm.fit(X, Y)\n",
    "print pred_loss(lm.predict(X), Y)\n",
    "print pred_loss(lm.predict(Xt), Yt)"
   ]
  },
  {
   "cell_type": "code",
   "execution_count": null,
   "metadata": {
    "collapsed": true
   },
   "outputs": [],
   "source": []
  },
  {
   "cell_type": "code",
   "execution_count": null,
   "metadata": {
    "collapsed": true
   },
   "outputs": [],
   "source": []
  },
  {
   "cell_type": "code",
   "execution_count": 79,
   "metadata": {
    "collapsed": false
   },
   "outputs": [
    {
     "data": {
      "text/plain": [
       "0.16370041917290754"
      ]
     },
     "execution_count": 79,
     "metadata": {},
     "output_type": "execute_result"
    }
   ],
   "source": [
    "meandf = (dfalltest['f0']+dfalltest['f1']+dfalltest['f2']+\n",
    "          dfalltest['f3']+dfalltest['f4']+dfalltest['f5'])/6\n",
    "\n",
    "np.mean([pred_loss(meandf, dfalltest[idd]) \n",
    "         for idd in ['n1']])"
   ]
  },
  {
   "cell_type": "code",
   "execution_count": 107,
   "metadata": {
    "collapsed": false
   },
   "outputs": [
    {
     "name": "stdout",
     "output_type": "stream",
     "text": [
      "0.200233859041\n",
      "0.150174223161\n",
      "0.165474496801\n",
      "0.185951746868\n",
      "0.20708412761\n",
      "0.196259154016\n"
     ]
    }
   ],
   "source": [
    "lm_list = []\n",
    "for i in range(6):\n",
    "    Y, Yt = set_pred_window(i)\n",
    "    lm = RandomForestRegressor(max_depth=7)\n",
    "    lm.fit(X, Y)\n",
    "    #print pred_loss(lm.predict(X), Y)\n",
    "    print pred_loss(lm.predict(Xt), Yt)\n",
    "    lm_list.append(lm)"
   ]
  },
  {
   "cell_type": "code",
   "execution_count": null,
   "metadata": {
    "collapsed": true
   },
   "outputs": [],
   "source": []
  },
  {
   "cell_type": "code",
   "execution_count": 525,
   "metadata": {
    "collapsed": false
   },
   "outputs": [
    {
     "name": "stdout",
     "output_type": "stream",
     "text": [
      "0.165805915328\n",
      "0.262077128056\n"
     ]
    }
   ],
   "source": [
    "# lm = xgboost.XGBClassifier()\n",
    "# lm.fit(X, Y)\n",
    "# print pred_loss(lm.predict(X), Y)\n",
    "# print pred_loss(lm.predict(Xt), Yt)"
   ]
  },
  {
   "cell_type": "code",
   "execution_count": null,
   "metadata": {
    "collapsed": true
   },
   "outputs": [],
   "source": []
  },
  {
   "cell_type": "code",
   "execution_count": 46,
   "metadata": {
    "collapsed": false
   },
   "outputs": [
    {
     "name": "stdout",
     "output_type": "stream",
     "text": [
      "[  5.04271725e-02   1.05088511e-04   8.62233252e-02   2.15531389e-01\n",
      "   1.64171633e-01   2.89879520e-01  -6.00652007e+00]\n",
      "[  0.08108744   0.03720535   0.05288547   0.10771723   0.18995688\n",
      "   0.36242103 -10.13934917]\n",
      "[  0.05288135   0.07684767   0.08300509   0.11372058   0.27232298\n",
      "   0.17135667 -11.12290912]\n",
      "[  1.19580810e-01   1.40978012e-02   9.96017860e-02   1.64229800e-01\n",
      "   1.39465120e-01   2.43042507e-01  -1.45973813e+01]\n",
      "[ 0.09874127  0.02823051  0.09975046  0.14426138  0.19544655  0.2089417\n",
      " -7.70160652]\n",
      "[ 0.1547377  -0.02433399  0.11892897  0.19551693  0.16989831  0.10429231\n",
      " -1.2926539 ]\n"
     ]
    }
   ],
   "source": [
    "for i in lm_list:\n",
    "    print i.coef_"
   ]
  },
  {
   "cell_type": "code",
   "execution_count": null,
   "metadata": {
    "collapsed": true
   },
   "outputs": [],
   "source": []
  },
  {
   "cell_type": "code",
   "execution_count": 509,
   "metadata": {
    "collapsed": false
   },
   "outputs": [
    {
     "data": {
      "text/plain": [
       "0.23057448974935238"
      ]
     },
     "execution_count": 509,
     "metadata": {},
     "output_type": "execute_result"
    }
   ],
   "source": [
    "meandf = (dfall['f0']+dfall['f1']+dfall['f2']+\n",
    "          dfall['f3']+dfall['f4']+dfall['f5'])/6\n",
    "\n",
    "np.mean([pred_loss(meandf, dfall[idd]) \n",
    "         for idd in ['n0','n1','n2','n3','n4','n5']])"
   ]
  },
  {
   "cell_type": "code",
   "execution_count": 510,
   "metadata": {
    "collapsed": false
   },
   "outputs": [
    {
     "data": {
      "text/plain": [
       "0.1855935405015712"
      ]
     },
     "execution_count": 510,
     "metadata": {},
     "output_type": "execute_result"
    }
   ],
   "source": [
    "meandf = (dfalltest['f0']+dfalltest['f1']+dfalltest['f2']+\n",
    "          dfalltest['f3']+dfalltest['f4']+dfalltest['f5'])/6\n",
    "\n",
    "np.mean([pred_loss(meandf, dfalltest[idd]) \n",
    "         for idd in ['n0','n1','n2','n3','n4','n5']])"
   ]
  },
  {
   "cell_type": "code",
   "execution_count": null,
   "metadata": {
    "collapsed": true
   },
   "outputs": [],
   "source": []
  },
  {
   "cell_type": "code",
   "execution_count": 467,
   "metadata": {
    "collapsed": false
   },
   "outputs": [
    {
     "data": {
      "text/plain": [
       "0.24447079035997757"
      ]
     },
     "execution_count": 467,
     "metadata": {},
     "output_type": "execute_result"
    }
   ],
   "source": [
    "meandf = (dfmorning['f0']+dfmorning['f1']+dfmorning['f2']+dfmorning['f3']+dfmorning['f4']+dfmorning['f5'])/6\n",
    "\n",
    "np.mean([pred_loss(meandf, dfmorning[idd]) for idd in ['n0','n1','n2','n3','n4','n5']])"
   ]
  },
  {
   "cell_type": "code",
   "execution_count": null,
   "metadata": {
    "collapsed": true
   },
   "outputs": [],
   "source": []
  },
  {
   "cell_type": "code",
   "execution_count": 23,
   "metadata": {
    "collapsed": false
   },
   "outputs": [
    {
     "data": {
      "text/plain": [
       "'bac'"
      ]
     },
     "execution_count": 23,
     "metadata": {},
     "output_type": "execute_result"
    }
   ],
   "source": [
    "'a'.join(['b','c'])"
   ]
  },
  {
   "cell_type": "code",
   "execution_count": null,
   "metadata": {
    "collapsed": true
   },
   "outputs": [],
   "source": []
  },
  {
   "cell_type": "code",
   "execution_count": 56,
   "metadata": {
    "collapsed": true
   },
   "outputs": [],
   "source": [
    "from scipy.stats import gmean"
   ]
  },
  {
   "cell_type": "code",
   "execution_count": 470,
   "metadata": {
    "collapsed": true
   },
   "outputs": [],
   "source": [
    "def sub1(x):\n",
    "    return np.repeat([np.mean(i) for i in x], 6)"
   ]
  },
  {
   "cell_type": "code",
   "execution_count": 471,
   "metadata": {
    "collapsed": true
   },
   "outputs": [],
   "source": [
    "def sub2(x):\n",
    "    return np.repeat([gmean(i) for i in x], 6)"
   ]
  },
  {
   "cell_type": "code",
   "execution_count": null,
   "metadata": {
    "collapsed": true
   },
   "outputs": [],
   "source": []
  },
  {
   "cell_type": "code",
   "execution_count": null,
   "metadata": {
    "collapsed": true
   },
   "outputs": [],
   "source": []
  },
  {
   "cell_type": "code",
   "execution_count": 24,
   "metadata": {
    "collapsed": true
   },
   "outputs": [],
   "source": [
    "def sos(x):\n",
    "    return sum(i**2 for i in x)"
   ]
  },
  {
   "cell_type": "code",
   "execution_count": 25,
   "metadata": {
    "collapsed": true
   },
   "outputs": [],
   "source": [
    "def sl(x):\n",
    "    return [i**2 for i in range(x)]"
   ]
  },
  {
   "cell_type": "code",
   "execution_count": 29,
   "metadata": {
    "collapsed": false
   },
   "outputs": [
    {
     "data": {
      "text/plain": [
       "98"
      ]
     },
     "execution_count": 29,
     "metadata": {},
     "output_type": "execute_result"
    }
   ],
   "source": [
    "sos(sl(4))"
   ]
  },
  {
   "cell_type": "code",
   "execution_count": null,
   "metadata": {
    "collapsed": true
   },
   "outputs": [],
   "source": []
  },
  {
   "cell_type": "code",
   "execution_count": 25,
   "metadata": {
    "collapsed": true
   },
   "outputs": [],
   "source": [
    "def pred_loss(x_pred, x_true):\n",
    "    x_pred = np.array(x_pred)\n",
    "    x_true = np.array(x_true)\n",
    "    return (abs(x_pred-x_true)/x_true).mean()"
   ]
  },
  {
   "cell_type": "code",
   "execution_count": 483,
   "metadata": {
    "collapsed": true
   },
   "outputs": [],
   "source": [
    "def true_value(date_list):\n",
    "    morning_true = np.array([])\n",
    "    for ii, ti in [('A',2),('A',3),('B',1),('B',3),('C',1),('C',3)]:\n",
    "        mtmp = training_traj_group_mean.loc[ii].loc[ti]\n",
    "        mtmp = interpolate_missing_window(mtmp)\n",
    "        test6 = []\n",
    "        for i in date_list:\n",
    "            tmp = []\n",
    "            for j in pred_time_list1:\n",
    "                tmp.append(mtmp[datetime.combine(i, j)])\n",
    "            test6.append(tmp)\n",
    "        result6 = test6\n",
    "        morning_true = np.append(morning_true, result6)\n",
    "    return morning_true"
   ]
  },
  {
   "cell_type": "code",
   "execution_count": 484,
   "metadata": {
    "collapsed": true
   },
   "outputs": [],
   "source": [
    "def prediction(date_list, func):\n",
    "    morning_pred = np.array([])\n",
    "    for ii, ti in [('A',2),('A',3),('B',1),('B',3),('C',1),('C',3)]:\n",
    "        mtmp = training_traj_group_mean.loc[ii].loc[ti]\n",
    "        mtmp = interpolate_missing_window(mtmp)    \n",
    "        test6 = []\n",
    "        for i in date_list:\n",
    "            tmp = []\n",
    "            for j in give_time_list1:\n",
    "                tmp.append(mtmp[datetime.combine(i, j)])\n",
    "            test6.append(tmp)\n",
    "        result6 = func(test6)\n",
    "        morning_pred = np.append(morning_pred, result6) \n",
    "    return morning_pred"
   ]
  },
  {
   "cell_type": "code",
   "execution_count": 485,
   "metadata": {
    "collapsed": true
   },
   "outputs": [],
   "source": [
    "def sub3(x):\n",
    "    return np.array([ma(i) for i in x]).flatten()"
   ]
  },
  {
   "cell_type": "code",
   "execution_count": 486,
   "metadata": {
    "collapsed": true
   },
   "outputs": [],
   "source": [
    "def ma(x):\n",
    "    for i in range(6):\n",
    "        x.append(np.mean(x[i:i+6]))\n",
    "    return x[6:]"
   ]
  },
  {
   "cell_type": "code",
   "execution_count": 487,
   "metadata": {
    "collapsed": false
   },
   "outputs": [
    {
     "data": {
      "text/plain": [
       "array([ 3.5       ,  3.91666667,  4.23611111,  4.44212963,  4.5158179 ,\n",
       "        4.43512088,  4.5       ,  4.91666667,  5.23611111,  5.44212963,\n",
       "        5.5158179 ,  5.43512088])"
      ]
     },
     "execution_count": 487,
     "metadata": {},
     "output_type": "execute_result"
    }
   ],
   "source": [
    "sub3([[1,2,3,4,5,6],[2,3,4,5,6,7]])"
   ]
  },
  {
   "cell_type": "code",
   "execution_count": null,
   "metadata": {
    "collapsed": true
   },
   "outputs": [],
   "source": []
  },
  {
   "cell_type": "code",
   "execution_count": 488,
   "metadata": {
    "collapsed": false
   },
   "outputs": [],
   "source": [
    "morning_true = true_value(date_list)\n",
    "morning_pred = prediction(date_list, sub1)\n"
   ]
  },
  {
   "cell_type": "code",
   "execution_count": 489,
   "metadata": {
    "collapsed": false
   },
   "outputs": [
    {
     "data": {
      "text/plain": [
       "0.24447079035997757"
      ]
     },
     "execution_count": 489,
     "metadata": {},
     "output_type": "execute_result"
    }
   ],
   "source": [
    "pred_loss(morning_pred, morning_true)"
   ]
  },
  {
   "cell_type": "code",
   "execution_count": null,
   "metadata": {
    "collapsed": true
   },
   "outputs": [],
   "source": []
  },
  {
   "cell_type": "code",
   "execution_count": null,
   "metadata": {
    "collapsed": true
   },
   "outputs": [],
   "source": []
  },
  {
   "cell_type": "code",
   "execution_count": 31,
   "metadata": {
    "collapsed": false
   },
   "outputs": [],
   "source": [
    "morning_train66 = []\n",
    "for i in date_list:\n",
    "    tmp = []\n",
    "    for j in give_time_list1:\n",
    "        tmp.append(A2m[datetime.combine(i, j)])\n",
    "    for j in pred_time_list1:\n",
    "        tmp.append(A2m[datetime.combine(i, j)]) \n",
    "    morning_train66.append(tmp)\n",
    "    "
   ]
  },
  {
   "cell_type": "code",
   "execution_count": 49,
   "metadata": {
    "collapsed": true
   },
   "outputs": [],
   "source": [
    "night_train66 = []\n",
    "for i in date_list:\n",
    "    tmp = []\n",
    "    for j in give_time_list2:\n",
    "        tmp.append(A2m[datetime.combine(i, j)])\n",
    "    for j in pred_time_list2:\n",
    "        tmp.append(A2m[datetime.combine(i, j)]) \n",
    "    night_train66.append(tmp)\n",
    "    "
   ]
  },
  {
   "cell_type": "code",
   "execution_count": 33,
   "metadata": {
    "collapsed": true
   },
   "outputs": [],
   "source": []
  },
  {
   "cell_type": "code",
   "execution_count": 34,
   "metadata": {
    "collapsed": false
   },
   "outputs": [],
   "source": [
    "def naive_pred_loss(x):\n",
    "    first6 = x[:6]\n",
    "    pred = [np.mean(first6)]*6\n",
    "    return pred_loss(pred, x[6:])"
   ]
  },
  {
   "cell_type": "code",
   "execution_count": 35,
   "metadata": {
    "collapsed": false
   },
   "outputs": [],
   "source": [
    "naive_loss_list = [naive_pred_loss(i) for i in morning_train66]\n"
   ]
  },
  {
   "cell_type": "code",
   "execution_count": 50,
   "metadata": {
    "collapsed": true
   },
   "outputs": [],
   "source": [
    "naive_loss_list = [naive_pred_loss(i) for i in night_train66]"
   ]
  },
  {
   "cell_type": "code",
   "execution_count": 52,
   "metadata": {
    "collapsed": false
   },
   "outputs": [
    {
     "data": {
      "text/plain": [
       "0.22280558325098837"
      ]
     },
     "execution_count": 52,
     "metadata": {},
     "output_type": "execute_result"
    }
   ],
   "source": [
    "np.mean(naive_loss_list)\n"
   ]
  },
  {
   "cell_type": "code",
   "execution_count": null,
   "metadata": {
    "collapsed": true
   },
   "outputs": [],
   "source": []
  },
  {
   "cell_type": "markdown",
   "metadata": {
    "collapsed": true
   },
   "source": [
    "# Make first submission "
   ]
  },
  {
   "cell_type": "markdown",
   "metadata": {},
   "source": [
    "Most naive approach, use average of the former 2 hours for prediction."
   ]
  },
  {
   "cell_type": "markdown",
   "metadata": {},
   "source": [
    "Change algebraic average to geometric average for second submission."
   ]
  },
  {
   "cell_type": "code",
   "execution_count": 680,
   "metadata": {
    "collapsed": true
   },
   "outputs": [],
   "source": [
    "#training_traj['starting_datetime'] = pd.to_datetime(training_path['starting_time'])\n",
    "training_traj['window'] = training_traj['starting_time'].apply(time_to_window)\n",
    "\n",
    "training_traj_group_mean = \\\n",
    "training_traj.groupby(['intersection_id','tollgate_id','window']).mean()['travel_time']\n",
    "\n",
    "training_traj_group_count = \\\n",
    "training_traj.groupby(['intersection_id','tollgate_id','window']).count()['travel_time']"
   ]
  },
  {
   "cell_type": "code",
   "execution_count": 681,
   "metadata": {
    "collapsed": true
   },
   "outputs": [],
   "source": [
    "test_traj1['window'] = test_traj1['starting_time'].apply(time_to_window)\n",
    "test_traj1_group_mean = \\\n",
    "test_traj1.groupby(['intersection_id','tollgate_id','window']).mean()['travel_time']\n",
    "\n"
   ]
  },
  {
   "cell_type": "code",
   "execution_count": 682,
   "metadata": {
    "collapsed": false
   },
   "outputs": [],
   "source": [
    "date_list = []\n",
    "\n",
    "d1 = date(2016, 10, 18)  # start date\n",
    "d2 = date(2016, 10, 24)  # end date\n",
    "\n",
    "delta = d2 - d1         # timedelta\n",
    "\n",
    "for i in range(delta.days + 1):\n",
    "    date_list.append(d1 + timedelta(days=i))\n",
    "\n",
    "give_time_list1 = [time(6,0), time(6,20), time(6,40), \n",
    "                   time(7,0), time(7,20), time(7,40)]\n",
    "# pred_time_list1 = [time(8,0), time(8,20), time(8,40), \n",
    "#                    time(9,0), time(9,20), time(9,40)]\n",
    "give_time_list2 = [time(15,0), time(15,20), time(15,40), \n",
    "                   time(16,0), time(16,20), time(16,40)]"
   ]
  },
  {
   "cell_type": "code",
   "execution_count": null,
   "metadata": {
    "collapsed": true
   },
   "outputs": [],
   "source": []
  },
  {
   "cell_type": "code",
   "execution_count": 683,
   "metadata": {
    "collapsed": false
   },
   "outputs": [],
   "source": [
    "A2mt = test_traj1_group_mean.loc['A'].loc[2]\n",
    "A2mt = interpolate_missing_window(A2mt)"
   ]
  },
  {
   "cell_type": "code",
   "execution_count": 684,
   "metadata": {
    "collapsed": false
   },
   "outputs": [],
   "source": [
    "morning_test6 = []\n",
    "for i in date_list:\n",
    "    tmp = []\n",
    "    for j in give_time_list1:\n",
    "        tmp.append(A2mt[datetime.combine(i, j)])\n",
    "    morning_test6.append(tmp)"
   ]
  },
  {
   "cell_type": "code",
   "execution_count": 685,
   "metadata": {
    "collapsed": false
   },
   "outputs": [
    {
     "data": {
      "text/plain": [
       "[41.18833333333334,\n",
       " 50.115714285714283,\n",
       " 37.168000000000006,\n",
       " 75.683750000000003,\n",
       " 54.032857142857146,\n",
       " 78.277999999999992]"
      ]
     },
     "execution_count": 685,
     "metadata": {},
     "output_type": "execute_result"
    }
   ],
   "source": [
    "tmp"
   ]
  },
  {
   "cell_type": "code",
   "execution_count": null,
   "metadata": {
    "collapsed": true
   },
   "outputs": [],
   "source": []
  },
  {
   "cell_type": "code",
   "execution_count": 694,
   "metadata": {
    "collapsed": false,
    "scrolled": true
   },
   "outputs": [
    {
     "data": {
      "text/plain": [
       "window\n",
       "2016-10-18 06:00:00    41.097143\n",
       "2016-10-18 06:20:00    43.681667\n",
       "2016-10-18 06:40:00    68.024286\n",
       "2016-10-18 07:00:00    52.608333\n",
       "2016-10-18 07:20:00    56.165556\n",
       "2016-10-18 07:40:00    63.598571\n",
       "Name: travel_time, dtype: float64"
      ]
     },
     "execution_count": 694,
     "metadata": {},
     "output_type": "execute_result"
    }
   ],
   "source": [
    "test_traj1_group_mean.loc['A'].loc[2].iloc[:6]"
   ]
  },
  {
   "cell_type": "code",
   "execution_count": 691,
   "metadata": {
    "collapsed": false
   },
   "outputs": [
    {
     "data": {
      "text/plain": [
       "array([  5.04271725e-02,   1.05088511e-04,   8.62233252e-02,\n",
       "         2.15531389e-01,   1.64171633e-01,   2.89879520e-01,\n",
       "        -6.00652007e+00])"
      ]
     },
     "execution_count": 691,
     "metadata": {},
     "output_type": "execute_result"
    }
   ],
   "source": [
    "lm_list[0].coef_"
   ]
  },
  {
   "cell_type": "code",
   "execution_count": 692,
   "metadata": {
    "collapsed": false
   },
   "outputs": [
    {
     "data": {
      "text/plain": [
       "30.893025008264075"
      ]
     },
     "execution_count": 692,
     "metadata": {},
     "output_type": "execute_result"
    }
   ],
   "source": [
    "lm_list[0].intercept_"
   ]
  },
  {
   "cell_type": "code",
   "execution_count": null,
   "metadata": {
    "collapsed": true
   },
   "outputs": [],
   "source": []
  },
  {
   "cell_type": "code",
   "execution_count": 686,
   "metadata": {
    "collapsed": true
   },
   "outputs": [],
   "source": [
    "def predict_from_lm(t6, dn):\n",
    "    return [lm_list[i].predict(np.array(t6+[dn]).reshape(1,-1))[0] \\\n",
    "            for i in range(6)]"
   ]
  },
  {
   "cell_type": "code",
   "execution_count": 687,
   "metadata": {
    "collapsed": false
   },
   "outputs": [],
   "source": [
    "morning = np.array([])\n",
    "for ii, ti in [('A',2),('A',3),('B',1),('B',3),('C',1),('C',3)]:\n",
    "    mtmp = test_traj1_group_mean.loc[ii].loc[ti]\n",
    "    mtmp = interpolate_missing_window(mtmp)\n",
    "    test6 = []\n",
    "    for i in date_list:\n",
    "        tmp = []\n",
    "        for j in give_time_list1:\n",
    "            tmp.append(mtmp[datetime.combine(i, j)])\n",
    "        test6.append(tmp)\n",
    "    result6 = [predict_from_lm(i, 0) for i in test6]\n",
    "    result6 = [item for sublist in result6 for item in sublist]\n",
    "    #result6 = np.repeat([gmean(i) for i in test6], 6)\n",
    "    morning = np.append(morning, result6)\n",
    "    "
   ]
  },
  {
   "cell_type": "code",
   "execution_count": 688,
   "metadata": {
    "collapsed": false
   },
   "outputs": [],
   "source": [
    "night = np.array([])\n",
    "for ii, ti in [('A',2),('A',3),('B',1),('B',3),('C',1),('C',3)]:\n",
    "    mtmp = test_traj1_group_mean.loc[ii].loc[ti]\n",
    "    mtmp = interpolate_missing_window(mtmp)\n",
    "    test6 = []\n",
    "    for i in date_list:\n",
    "        tmp = []\n",
    "        for j in give_time_list2:\n",
    "            tmp.append(mtmp[datetime.combine(i, j)])\n",
    "        test6.append(tmp)\n",
    "    result6 = [predict_from_lm(i, 1) for i in test6]\n",
    "    result6 = [item for sublist in result6 for item in sublist]\n",
    "    #result6 = np.repeat([gmean(i) for i in test6], 6)\n",
    "    night = np.append(night, result6)"
   ]
  },
  {
   "cell_type": "code",
   "execution_count": 689,
   "metadata": {
    "collapsed": false
   },
   "outputs": [],
   "source": [
    "ss['avg_travel_time'] = np.append(morning, night)"
   ]
  },
  {
   "cell_type": "code",
   "execution_count": 690,
   "metadata": {
    "collapsed": false
   },
   "outputs": [
    {
     "data": {
      "text/html": [
       "<div>\n",
       "<table border=\"1\" class=\"dataframe\">\n",
       "  <thead>\n",
       "    <tr style=\"text-align: right;\">\n",
       "      <th></th>\n",
       "      <th>intersection_id</th>\n",
       "      <th>tollgate_id</th>\n",
       "      <th>time_window</th>\n",
       "      <th>avg_travel_time</th>\n",
       "    </tr>\n",
       "  </thead>\n",
       "  <tbody>\n",
       "    <tr>\n",
       "      <th>0</th>\n",
       "      <td>A</td>\n",
       "      <td>2</td>\n",
       "      <td>[2016-10-18 08:00:00,2016-10-18 08:20:00)</td>\n",
       "      <td>77.830770</td>\n",
       "    </tr>\n",
       "    <tr>\n",
       "      <th>1</th>\n",
       "      <td>A</td>\n",
       "      <td>2</td>\n",
       "      <td>[2016-10-18 08:20:00,2016-10-18 08:40:00)</td>\n",
       "      <td>80.071507</td>\n",
       "    </tr>\n",
       "    <tr>\n",
       "      <th>2</th>\n",
       "      <td>A</td>\n",
       "      <td>2</td>\n",
       "      <td>[2016-10-18 08:40:00,2016-10-18 09:00:00)</td>\n",
       "      <td>86.402262</td>\n",
       "    </tr>\n",
       "    <tr>\n",
       "      <th>3</th>\n",
       "      <td>A</td>\n",
       "      <td>2</td>\n",
       "      <td>[2016-10-18 09:00:00,2016-10-18 09:20:00)</td>\n",
       "      <td>89.841479</td>\n",
       "    </tr>\n",
       "    <tr>\n",
       "      <th>4</th>\n",
       "      <td>A</td>\n",
       "      <td>2</td>\n",
       "      <td>[2016-10-18 09:20:00,2016-10-18 09:40:00)</td>\n",
       "      <td>88.785946</td>\n",
       "    </tr>\n",
       "    <tr>\n",
       "      <th>5</th>\n",
       "      <td>A</td>\n",
       "      <td>2</td>\n",
       "      <td>[2016-10-18 09:40:00,2016-10-18 10:00:00)</td>\n",
       "      <td>86.286607</td>\n",
       "    </tr>\n",
       "    <tr>\n",
       "      <th>6</th>\n",
       "      <td>A</td>\n",
       "      <td>2</td>\n",
       "      <td>[2016-10-19 08:00:00,2016-10-19 08:20:00)</td>\n",
       "      <td>84.473507</td>\n",
       "    </tr>\n",
       "    <tr>\n",
       "      <th>7</th>\n",
       "      <td>A</td>\n",
       "      <td>2</td>\n",
       "      <td>[2016-10-19 08:20:00,2016-10-19 08:40:00)</td>\n",
       "      <td>87.113912</td>\n",
       "    </tr>\n",
       "    <tr>\n",
       "      <th>8</th>\n",
       "      <td>A</td>\n",
       "      <td>2</td>\n",
       "      <td>[2016-10-19 08:40:00,2016-10-19 09:00:00)</td>\n",
       "      <td>97.817200</td>\n",
       "    </tr>\n",
       "    <tr>\n",
       "      <th>9</th>\n",
       "      <td>A</td>\n",
       "      <td>2</td>\n",
       "      <td>[2016-10-19 09:00:00,2016-10-19 09:20:00)</td>\n",
       "      <td>94.477799</td>\n",
       "    </tr>\n",
       "    <tr>\n",
       "      <th>10</th>\n",
       "      <td>A</td>\n",
       "      <td>2</td>\n",
       "      <td>[2016-10-19 09:20:00,2016-10-19 09:40:00)</td>\n",
       "      <td>95.930969</td>\n",
       "    </tr>\n",
       "    <tr>\n",
       "      <th>11</th>\n",
       "      <td>A</td>\n",
       "      <td>2</td>\n",
       "      <td>[2016-10-19 09:40:00,2016-10-19 10:00:00)</td>\n",
       "      <td>92.385809</td>\n",
       "    </tr>\n",
       "    <tr>\n",
       "      <th>12</th>\n",
       "      <td>A</td>\n",
       "      <td>2</td>\n",
       "      <td>[2016-10-20 08:00:00,2016-10-20 08:20:00)</td>\n",
       "      <td>87.631485</td>\n",
       "    </tr>\n",
       "    <tr>\n",
       "      <th>13</th>\n",
       "      <td>A</td>\n",
       "      <td>2</td>\n",
       "      <td>[2016-10-20 08:20:00,2016-10-20 08:40:00)</td>\n",
       "      <td>89.772729</td>\n",
       "    </tr>\n",
       "    <tr>\n",
       "      <th>14</th>\n",
       "      <td>A</td>\n",
       "      <td>2</td>\n",
       "      <td>[2016-10-20 08:40:00,2016-10-20 09:00:00)</td>\n",
       "      <td>93.857285</td>\n",
       "    </tr>\n",
       "    <tr>\n",
       "      <th>15</th>\n",
       "      <td>A</td>\n",
       "      <td>2</td>\n",
       "      <td>[2016-10-20 09:00:00,2016-10-20 09:20:00)</td>\n",
       "      <td>99.346288</td>\n",
       "    </tr>\n",
       "    <tr>\n",
       "      <th>16</th>\n",
       "      <td>A</td>\n",
       "      <td>2</td>\n",
       "      <td>[2016-10-20 09:20:00,2016-10-20 09:40:00)</td>\n",
       "      <td>97.444924</td>\n",
       "    </tr>\n",
       "    <tr>\n",
       "      <th>17</th>\n",
       "      <td>A</td>\n",
       "      <td>2</td>\n",
       "      <td>[2016-10-20 09:40:00,2016-10-20 10:00:00)</td>\n",
       "      <td>95.396298</td>\n",
       "    </tr>\n",
       "    <tr>\n",
       "      <th>18</th>\n",
       "      <td>A</td>\n",
       "      <td>2</td>\n",
       "      <td>[2016-10-21 08:00:00,2016-10-21 08:20:00)</td>\n",
       "      <td>79.890185</td>\n",
       "    </tr>\n",
       "    <tr>\n",
       "      <th>19</th>\n",
       "      <td>A</td>\n",
       "      <td>2</td>\n",
       "      <td>[2016-10-21 08:20:00,2016-10-21 08:40:00)</td>\n",
       "      <td>84.389264</td>\n",
       "    </tr>\n",
       "  </tbody>\n",
       "</table>\n",
       "</div>"
      ],
      "text/plain": [
       "   intersection_id  tollgate_id                                time_window  \\\n",
       "0                A            2  [2016-10-18 08:00:00,2016-10-18 08:20:00)   \n",
       "1                A            2  [2016-10-18 08:20:00,2016-10-18 08:40:00)   \n",
       "2                A            2  [2016-10-18 08:40:00,2016-10-18 09:00:00)   \n",
       "3                A            2  [2016-10-18 09:00:00,2016-10-18 09:20:00)   \n",
       "4                A            2  [2016-10-18 09:20:00,2016-10-18 09:40:00)   \n",
       "5                A            2  [2016-10-18 09:40:00,2016-10-18 10:00:00)   \n",
       "6                A            2  [2016-10-19 08:00:00,2016-10-19 08:20:00)   \n",
       "7                A            2  [2016-10-19 08:20:00,2016-10-19 08:40:00)   \n",
       "8                A            2  [2016-10-19 08:40:00,2016-10-19 09:00:00)   \n",
       "9                A            2  [2016-10-19 09:00:00,2016-10-19 09:20:00)   \n",
       "10               A            2  [2016-10-19 09:20:00,2016-10-19 09:40:00)   \n",
       "11               A            2  [2016-10-19 09:40:00,2016-10-19 10:00:00)   \n",
       "12               A            2  [2016-10-20 08:00:00,2016-10-20 08:20:00)   \n",
       "13               A            2  [2016-10-20 08:20:00,2016-10-20 08:40:00)   \n",
       "14               A            2  [2016-10-20 08:40:00,2016-10-20 09:00:00)   \n",
       "15               A            2  [2016-10-20 09:00:00,2016-10-20 09:20:00)   \n",
       "16               A            2  [2016-10-20 09:20:00,2016-10-20 09:40:00)   \n",
       "17               A            2  [2016-10-20 09:40:00,2016-10-20 10:00:00)   \n",
       "18               A            2  [2016-10-21 08:00:00,2016-10-21 08:20:00)   \n",
       "19               A            2  [2016-10-21 08:20:00,2016-10-21 08:40:00)   \n",
       "\n",
       "    avg_travel_time  \n",
       "0         77.830770  \n",
       "1         80.071507  \n",
       "2         86.402262  \n",
       "3         89.841479  \n",
       "4         88.785946  \n",
       "5         86.286607  \n",
       "6         84.473507  \n",
       "7         87.113912  \n",
       "8         97.817200  \n",
       "9         94.477799  \n",
       "10        95.930969  \n",
       "11        92.385809  \n",
       "12        87.631485  \n",
       "13        89.772729  \n",
       "14        93.857285  \n",
       "15        99.346288  \n",
       "16        97.444924  \n",
       "17        95.396298  \n",
       "18        79.890185  \n",
       "19        84.389264  "
      ]
     },
     "execution_count": 690,
     "metadata": {},
     "output_type": "execute_result"
    }
   ],
   "source": [
    "ss.head(20)"
   ]
  },
  {
   "cell_type": "code",
   "execution_count": null,
   "metadata": {
    "collapsed": true
   },
   "outputs": [],
   "source": []
  },
  {
   "cell_type": "code",
   "execution_count": 696,
   "metadata": {
    "collapsed": false
   },
   "outputs": [],
   "source": [
    "ss.to_csv('submission/submission_0403.csv', index=False)"
   ]
  },
  {
   "cell_type": "code",
   "execution_count": null,
   "metadata": {
    "collapsed": true
   },
   "outputs": [],
   "source": []
  },
  {
   "cell_type": "markdown",
   "metadata": {
    "collapsed": true
   },
   "source": [
    "# Following is the script given"
   ]
  },
  {
   "cell_type": "code",
   "execution_count": 18,
   "metadata": {
    "collapsed": false
   },
   "outputs": [
    {
     "name": "stdout",
     "output_type": "stream",
     "text": [
      "\"B\",\"3\",\"1065642\",\"2016-07-19 00:14:24\",\"105#2016-07-19 00:14:24#9.56;100#2016-07-19 00:14:34#6.75;111#2016-07-19 00:14:41#13.00;103#2016-07-19 00:14:54#7.47;122#2016-07-19 00:15:02#32.85\",\"70.85\"\n",
      "\n"
     ]
    }
   ],
   "source": [
    "# -*- coding: utf-8 -*-\n",
    "#!/usr/bin/env python\n",
    "\n",
    "\"\"\"\n",
    "Objective:\n",
    "Calculate the average travel time for each 20-minute time window.\n",
    "\n",
    "\"\"\"\n",
    "\n",
    "# import necessary modules\n",
    "import math\n",
    "from datetime import datetime,timedelta\n",
    "\n",
    "file_suffix = '.csv'\n",
    "path = 'dataSets/training/'  # set the data directory\n",
    "\n",
    "def avgTravelTime(in_file):\n",
    "\n",
    "    out_suffix = '_20min_avg_travel_time'\n",
    "    in_file_name = in_file + file_suffix\n",
    "    out_file_name = in_file.split('_')[1] + out_suffix + file_suffix\n",
    "\n",
    "    # Step 1: Load trajectories\n",
    "    fr = open(path + in_file_name, 'r')\n",
    "    fr.readline()  # skip the header\n",
    "    traj_data = fr.readlines()\n",
    "    fr.close()\n",
    "    print(traj_data[0])\n",
    "\n",
    "    # Step 2: Create a dictionary to store travel time for each route per time window\n",
    "    travel_times = {}  # key: route_id. Value is also a dictionary of which key is the start time for the time window and value is a list of travel times\n",
    "    for i in range(len(traj_data)):\n",
    "        each_traj = traj_data[i].replace('\"', '').split(',')\n",
    "        intersection_id = each_traj[0]\n",
    "        tollgate_id = each_traj[1]\n",
    "\n",
    "        route_id = intersection_id + '-' + tollgate_id\n",
    "        if route_id not in travel_times.keys():\n",
    "            travel_times[route_id] = {}\n",
    "\n",
    "        trace_start_time = each_traj[3]\n",
    "        trace_start_time = datetime.strptime(trace_start_time, \"%Y-%m-%d %H:%M:%S\")\n",
    "        time_window_minute = int(trace_start_time.minute / 20) * 20\n",
    "        start_time_window = datetime(trace_start_time.year, trace_start_time.month, trace_start_time.day,\n",
    "                                     trace_start_time.hour, time_window_minute, 0)\n",
    "        tt = float(each_traj[-1]) # travel time\n",
    "\n",
    "        if start_time_window not in travel_times[route_id].keys():\n",
    "            travel_times[route_id][start_time_window] = [tt]\n",
    "        else:\n",
    "            travel_times[route_id][start_time_window].append(tt)\n",
    "\n",
    "    # Step 3: Calculate average travel time for each route per time window\n",
    "    fw = open(out_file_name, 'w')\n",
    "    fw.writelines(','.join(['\"intersection_id\"', '\"tollgate_id\"', '\"time_window\"', '\"avg_travel_time\"']) + '\\n')\n",
    "    for route in travel_times.keys():\n",
    "        route_time_windows = list(travel_times[route].keys())\n",
    "        route_time_windows.sort()\n",
    "        for time_window_start in route_time_windows:\n",
    "            time_window_end = time_window_start + timedelta(minutes=20)\n",
    "            tt_set = travel_times[route][time_window_start]\n",
    "            avg_tt = round(sum(tt_set) / float(len(tt_set)), 2)\n",
    "            out_line = ','.join(['\"' + route.split('-')[0] + '\"', '\"' + route.split('-')[1] + '\"',\n",
    "                                 '\"[' + str(time_window_start) + ',' + str(time_window_end) + ')\"',\n",
    "                                 '\"' + str(avg_tt) + '\"']) + '\\n'\n",
    "            fw.writelines(out_line)\n",
    "    fw.close()\n",
    "\n",
    "def main():\n",
    "\n",
    "    in_file = 'trajectories(table 5)_training'\n",
    "    avgTravelTime(in_file)\n",
    "\n",
    "if __name__ == '__main__':\n",
    "    main()\n",
    "\n",
    "\n",
    "\n"
   ]
  },
  {
   "cell_type": "code",
   "execution_count": null,
   "metadata": {
    "collapsed": true
   },
   "outputs": [],
   "source": []
  },
  {
   "cell_type": "code",
   "execution_count": null,
   "metadata": {
    "collapsed": true
   },
   "outputs": [],
   "source": []
  },
  {
   "cell_type": "code",
   "execution_count": null,
   "metadata": {
    "collapsed": true
   },
   "outputs": [],
   "source": []
  },
  {
   "cell_type": "code",
   "execution_count": null,
   "metadata": {
    "collapsed": true
   },
   "outputs": [],
   "source": []
  },
  {
   "cell_type": "code",
   "execution_count": null,
   "metadata": {
    "collapsed": true
   },
   "outputs": [],
   "source": []
  },
  {
   "cell_type": "code",
   "execution_count": null,
   "metadata": {
    "collapsed": true
   },
   "outputs": [],
   "source": []
  },
  {
   "cell_type": "code",
   "execution_count": null,
   "metadata": {
    "collapsed": true
   },
   "outputs": [],
   "source": []
  }
 ],
 "metadata": {
  "kernelspec": {
   "display_name": "Python 2",
   "language": "python",
   "name": "python2"
  },
  "language_info": {
   "codemirror_mode": {
    "name": "ipython",
    "version": 2
   },
   "file_extension": ".py",
   "mimetype": "text/x-python",
   "name": "python",
   "nbconvert_exporter": "python",
   "pygments_lexer": "ipython2",
   "version": "2.7.12"
  }
 },
 "nbformat": 4,
 "nbformat_minor": 1
}
