{
 "cells": [
  {
   "cell_type": "code",
   "execution_count": 1,
   "metadata": {
    "collapsed": true
   },
   "outputs": [],
   "source": [
    "from __future__ import division\n",
    "\n",
    "import scipy.integrate as integrate\n",
    "import numpy as np\n",
    "import math\n",
    "\n",
    "from scipy.stats import norm"
   ]
  },
  {
   "cell_type": "code",
   "execution_count": null,
   "metadata": {
    "collapsed": true
   },
   "outputs": [],
   "source": []
  },
  {
   "cell_type": "code",
   "execution_count": 2,
   "metadata": {
    "collapsed": false
   },
   "outputs": [
    {
     "data": {
      "text/plain": [
       "(1.0, 1.1102230246251565e-14)"
      ]
     },
     "execution_count": 2,
     "metadata": {},
     "output_type": "execute_result"
    }
   ],
   "source": [
    "integrate.quad(lambda x: 1/(x**2), 1, np.inf)"
   ]
  },
  {
   "cell_type": "code",
   "execution_count": 3,
   "metadata": {
    "collapsed": false
   },
   "outputs": [
    {
     "data": {
      "text/plain": [
       "(1.0000000000000007, 2.82704230849015e-09)"
      ]
     },
     "execution_count": 3,
     "metadata": {},
     "output_type": "execute_result"
    }
   ],
   "source": [
    "integrate.quad(lambda x: norm.pdf(x,loc=3,scale=2), -np.inf, np.inf)"
   ]
  },
  {
   "cell_type": "code",
   "execution_count": 4,
   "metadata": {
    "collapsed": false
   },
   "outputs": [
    {
     "name": "stderr",
     "output_type": "stream",
     "text": [
      "/Users/yutao/anaconda/lib/python2.7/site-packages/scipy/integrate/quadpack.py:352: IntegrationWarning: The maximum number of subdivisions (50) has been achieved.\n",
      "  If increasing the limit yields no improvement it is advised to analyze \n",
      "  the integrand in order to determine the difficulties.  If the position of a \n",
      "  local difficulty can be determined (singularity, discontinuity) one will \n",
      "  probably gain from splitting up the interval and calling the integrator \n",
      "  on the subranges.  Perhaps a special-purpose integrator should be used.\n",
      "  warnings.warn(msg, IntegrationWarning)\n"
     ]
    },
    {
     "data": {
      "text/plain": [
       "(0.13933966421479385, 8.474144230774527e-08)"
      ]
     },
     "execution_count": 4,
     "metadata": {},
     "output_type": "execute_result"
    }
   ],
   "source": [
    "integrate.quad(lambda x: np.abs((58-x)/x)*norm.pdf(x,loc=60,scale=10), -np.inf, np.inf)"
   ]
  },
  {
   "cell_type": "code",
   "execution_count": 5,
   "metadata": {
    "collapsed": true
   },
   "outputs": [],
   "source": [
    "from scipy.optimize import minimize"
   ]
  },
  {
   "cell_type": "code",
   "execution_count": 6,
   "metadata": {
    "collapsed": true
   },
   "outputs": [],
   "source": [
    "def func(x_esti, loc, scale):\n",
    "    return integrate.quad(lambda x: np.abs((x_esti-x)/x)*norm.pdf(x,loc=loc,scale=scale), -np.inf, np.inf)[0]"
   ]
  },
  {
   "cell_type": "code",
   "execution_count": 25,
   "metadata": {
    "collapsed": false
   },
   "outputs": [],
   "source": [
    "def minimize_convex(loc, scale):\n",
    "    b, a = loc, 0\n",
    "    while b-a > 1e-2:\n",
    "        x = a + (b-a)/3\n",
    "        y = a + 2*(b-a)/3\n",
    "        #print x, y\n",
    "        if func(x, loc, scale)>func(y, loc, scale):\n",
    "            a = x\n",
    "        else:\n",
    "            b = y\n",
    "    return a"
   ]
  },
  {
   "cell_type": "code",
   "execution_count": 26,
   "metadata": {
    "collapsed": false
   },
   "outputs": [
    {
     "data": {
      "text/plain": [
       "95.95045536437036"
      ]
     },
     "execution_count": 26,
     "metadata": {},
     "output_type": "execute_result"
    }
   ],
   "source": [
    "minimize_convex(100, 19.53)"
   ]
  },
  {
   "cell_type": "code",
   "execution_count": 27,
   "metadata": {
    "collapsed": false
   },
   "outputs": [
    {
     "data": {
      "text/plain": [
       "47.73294956619003"
      ]
     },
     "execution_count": 27,
     "metadata": {},
     "output_type": "execute_result"
    }
   ],
   "source": [
    "minimize_convex(50, 9.765)"
   ]
  },
  {
   "cell_type": "code",
   "execution_count": 11,
   "metadata": {
    "collapsed": false
   },
   "outputs": [
    {
     "data": {
      "text/plain": [
       "array([  20.,   25.,   30.,   35.,   40.,   45.,   50.,   55.,   60.,\n",
       "         65.,   70.,   75.,   80.,   85.,   90.,   95.,  100.,  105.,\n",
       "        110.,  115.,  120.,  125.,  130.,  135.,  140.,  145.,  150.,\n",
       "        155.,  160.,  165.,  170.,  175.,  180.,  185.,  190.,  195.,  200.])"
      ]
     },
     "execution_count": 11,
     "metadata": {},
     "output_type": "execute_result"
    }
   ],
   "source": [
    "np.linspace(20,200,37)"
   ]
  },
  {
   "cell_type": "code",
   "execution_count": 33,
   "metadata": {
    "collapsed": false
   },
   "outputs": [
    {
     "name": "stdout",
     "output_type": "stream",
     "text": [
      "0\n",
      "0.457043687457\n",
      "0.591165292414\n",
      "14.4703875789\n",
      "12.02960354\n",
      "28.6398508383\n",
      "37.1843813048\n",
      "40.953997016\n",
      "48.4041262961\n",
      "57.331844881\n",
      "64.2979827606\n",
      "70.1712228622\n",
      "76.0361185725\n",
      "78.064143681\n",
      "82.8619517457\n",
      "88.6367017054\n",
      "94.4902914384\n",
      "100.022772925\n",
      "104.323178091\n",
      "109.883755241\n",
      "114.716632583\n",
      "119.700327725\n",
      "124.712062269\n",
      "129.820240741\n",
      "134.755459652\n",
      "140.010038322\n",
      "144.887233922\n",
      "149.862793036\n",
      "154.966634619\n",
      "159.898277166\n",
      "164.954790656\n",
      "169.931291319\n",
      "174.940081113\n",
      "179.95589203\n",
      "184.983391423\n",
      "189.980873506\n",
      "194.991730981\n"
     ]
    }
   ],
   "source": [
    "ss = []\n",
    "for i in np.linspace(20, 200, 37):\n",
    "    opt = minimize_convex(i, np.sqrt(i*4.8))\n",
    "    print opt\n",
    "    ss.append((i, opt))"
   ]
  },
  {
   "cell_type": "code",
   "execution_count": 34,
   "metadata": {
    "collapsed": false,
    "scrolled": true
   },
   "outputs": [
    {
     "data": {
      "text/plain": [
       "[(20.0, 0),\n",
       " (25.0, 0.45704368745683188),\n",
       " (30.0, 0.59116529241350124),\n",
       " (35.0, 14.470387578938427),\n",
       " (40.0, 12.029603539956108),\n",
       " (45.0, 28.639850838313993),\n",
       " (50.0, 37.184381304809108),\n",
       " (55.0, 40.953997015971197),\n",
       " (60.0, 48.404126296116623),\n",
       " (65.0, 57.331844881012664),\n",
       " (70.0, 64.29798276063687),\n",
       " (75.0, 70.171222862196117),\n",
       " (80.0, 76.036118572480419),\n",
       " (85.0, 78.064143680978702),\n",
       " (90.0, 82.861951745703408),\n",
       " (95.0, 88.636701705379508),\n",
       " (100.0, 94.490291438393228),\n",
       " (105.0, 100.02277292525822),\n",
       " (110.0, 104.32317809087274),\n",
       " (115.0, 109.88375524088568),\n",
       " (120.0, 114.7166325832908),\n",
       " (125.0, 119.70032772545838),\n",
       " (130.0, 124.71206226923623),\n",
       " (135.0, 129.8202407405841),\n",
       " (140.0, 134.75545965207624),\n",
       " (145.0, 140.01003832177162),\n",
       " (150.0, 144.88723392180637),\n",
       " (155.0, 149.86279303560869),\n",
       " (160.0, 154.96663461891271),\n",
       " (165.0, 159.89827716565),\n",
       " (170.0, 164.95479065579534),\n",
       " (175.0, 169.93129131946753),\n",
       " (180.0, 174.94008111288272),\n",
       " (185.0, 179.95589202955344),\n",
       " (190.0, 184.98339142343212),\n",
       " (195.0, 189.98087350585809),\n",
       " (200.0, 194.99173098102946)]"
      ]
     },
     "execution_count": 34,
     "metadata": {},
     "output_type": "execute_result"
    }
   ],
   "source": [
    "ss"
   ]
  },
  {
   "cell_type": "code",
   "execution_count": 23,
   "metadata": {
    "collapsed": false
   },
   "outputs": [],
   "source": [
    "import matplotlib.pyplot as plt\n",
    "%matplotlib inline"
   ]
  },
  {
   "cell_type": "code",
   "execution_count": 35,
   "metadata": {
    "collapsed": false
   },
   "outputs": [
    {
     "data": {
      "text/plain": [
       "[<matplotlib.lines.Line2D at 0x107bd3910>]"
      ]
     },
     "execution_count": 35,
     "metadata": {},
     "output_type": "execute_result"
    },
    {
     "data": {
      "image/png": "[encoded data removed]",
      "text/plain": [
       "<matplotlib.figure.Figure at 0x107b2a4d0>"
      ]
     },
     "metadata": {},
     "output_type": "display_data"
    }
   ],
   "source": [
    "plt.plot([i[0] for i in ss], [i[0]-i[1] for i in ss])\n"
   ]
  },
  {
   "cell_type": "code",
   "execution_count": null,
   "metadata": {
    "collapsed": true
   },
   "outputs": [],
   "source": []
  },
  {
   "cell_type": "code",
   "execution_count": null,
   "metadata": {
    "collapsed": true
   },
   "outputs": [],
   "source": []
  },
  {
   "cell_type": "code",
   "execution_count": 120,
   "metadata": {
    "collapsed": false
   },
   "outputs": [
    {
     "data": {
      "text/plain": [
       "   status: 2\n",
       "  success: False\n",
       "     njev: 33\n",
       "     nfev: 110\n",
       " hess_inv: array([[1]])\n",
       "      fun: 1.147828929531372\n",
       "        x: array([ 60.])\n",
       "  message: 'Desired error not necessarily achieved due to precision loss.'\n",
       "      jac: array([ 0.01908605])\n",
       "      nit: 0"
      ]
     },
     "execution_count": 120,
     "metadata": {},
     "output_type": "execute_result"
    }
   ],
   "source": [
    "minimize(lambda x: func(x, 60, 20), 60, tol=1e-3)"
   ]
  },
  {
   "cell_type": "code",
   "execution_count": 86,
   "metadata": {
    "collapsed": true
   },
   "outputs": [],
   "source": [
    "?minimize"
   ]
  },
  {
   "cell_type": "code",
   "execution_count": 91,
   "metadata": {
    "collapsed": false
   },
   "outputs": [
    {
     "data": {
      "text/plain": [
       "252"
      ]
     },
     "execution_count": 91,
     "metadata": {},
     "output_type": "execute_result"
    }
   ],
   "source": [
    "12*3*7"
   ]
  },
  {
   "cell_type": "code",
   "execution_count": null,
   "metadata": {
    "collapsed": true
   },
   "outputs": [],
   "source": []
  },
  {
   "cell_type": "code",
   "execution_count": null,
   "metadata": {
    "collapsed": true
   },
   "outputs": [],
   "source": [
    "class Solution(object):\n",
    "    def twoSum(self, nums, target):\n",
    "        \"\"\"\n",
    "        :type nums: List[int]\n",
    "        :type target: int\n",
    "        :rtype: List[int]\n",
    "        \"\"\"\n",
    "        for i in range(len(nums)):\n",
    "            for j in range(len(nums)):\n",
    "                if i + j == target:\n",
    "                    return [i, j]\n",
    "        "
   ]
  },
  {
   "cell_type": "code",
   "execution_count": 37,
   "metadata": {
    "collapsed": false
   },
   "outputs": [],
   "source": [
    "nums = [2, 7, 11, 15]\n",
    "target = 9"
   ]
  },
  {
   "cell_type": "code",
   "execution_count": null,
   "metadata": {
    "collapsed": true
   },
   "outputs": [],
   "source": [
    "for i in range(len(nums)):\n",
    "    for j in range(len(nums)):\n",
    "        if i + j == target:\n",
    "            return [i, j]"
   ]
  }
 ],
 "metadata": {
  "kernelspec": {
   "display_name": "Python 2",
   "language": "python",
   "name": "python2"
  },
  "language_info": {
   "codemirror_mode": {
    "name": "ipython",
    "version": 2
   },
   "file_extension": ".py",
   "mimetype": "text/x-python",
   "name": "python",
   "nbconvert_exporter": "python",
   "pygments_lexer": "ipython2",
   "version": "2.7.12"
  }
 },
 "nbformat": 4,
 "nbformat_minor": 1
}
