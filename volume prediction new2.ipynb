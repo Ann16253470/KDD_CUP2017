{
 "cells": [
  {
   "cell_type": "markdown",
   "metadata": {},
   "source": [
    "With Updated Data:\n",
    "Morning: \n",
    "window: 10min\n",
    "*35, -1.5\n",
    "neighbors = 9\n",
    "pred_loss = 0.10849615522538006\n",
    "\n",
    "Night:\n",
    "window: 20min\n",
    "*35, -5\n",
    "neighbors = 12\n",
    "pred_loss = 0.151006\n",
    "\n",
    "To do:\n",
    "1. tollgate(20) abnormal data in test set\n",
    "2. try wavelet denoise (yby)\n",
    "3. try other metrics for distance\n",
    "4. other information e.g. road network and weather\n",
    "5. "
   ]
  },
  {
   "cell_type": "code",
   "execution_count": 1,
   "metadata": {
    "collapsed": true
   },
   "outputs": [],
   "source": [
    "from __future__ import division\n",
    "\n",
    "import pandas as pd\n",
    "import numpy as np\n",
    "import math\n",
    "import copy\n",
    "from datetime import datetime, timedelta, date, time\n",
    "\n",
    "import matplotlib.pyplot as plt\n",
    "import seaborn as sns; sns.set()\n",
    "\n",
    "%matplotlib inline"
   ]
  },
  {
   "cell_type": "code",
   "execution_count": 2,
   "metadata": {
    "collapsed": false
   },
   "outputs": [],
   "source": [
    "training_traj = pd.read_csv('dataSet_phase2/trajectories(table_5)_training2.csv')\n",
    "test_traj2 = pd.read_csv('dataSet_phase2/trajectories(table 5)_test2.csv')"
   ]
  },
  {
   "cell_type": "code",
   "execution_count": 3,
   "metadata": {
    "collapsed": true
   },
   "outputs": [],
   "source": [
    "training_path = 'dataSets/training/'\n",
    "test_path1 = 'dataSets/testing_phase1/'"
   ]
  },
  {
   "cell_type": "code",
   "execution_count": 4,
   "metadata": {
    "collapsed": true
   },
   "outputs": [],
   "source": [
    "training_vol_old = pd.read_csv(training_path+'volume(table 6)_training.csv')\n",
    "test_vol1 = pd.read_csv(test_path1+'volume(table 6)_test1.csv')"
   ]
  },
  {
   "cell_type": "code",
   "execution_count": 5,
   "metadata": {
    "collapsed": true
   },
   "outputs": [],
   "source": [
    "training_vol = pd.read_csv('dataSet_phase2/volume(table 6)_training2.csv')\n",
    "test_vol2 = pd.read_csv('dataSet_phase2/volume(table 6)_test2.csv')"
   ]
  },
  {
   "cell_type": "code",
   "execution_count": 6,
   "metadata": {
    "collapsed": false
   },
   "outputs": [],
   "source": [
    "training_vol_old.columns = training_vol.columns"
   ]
  },
  {
   "cell_type": "code",
   "execution_count": 7,
   "metadata": {
    "collapsed": false
   },
   "outputs": [],
   "source": [
    "training_vol = pd.concat([training_vol_old, training_vol])"
   ]
  },
  {
   "cell_type": "code",
   "execution_count": null,
   "metadata": {
    "collapsed": true
   },
   "outputs": [],
   "source": []
  },
  {
   "cell_type": "code",
   "execution_count": 8,
   "metadata": {
    "collapsed": false
   },
   "outputs": [
    {
     "data": {
      "text/html": [
       "<div>\n",
       "<table border=\"1\" class=\"dataframe\">\n",
       "  <thead>\n",
       "    <tr style=\"text-align: right;\">\n",
       "      <th></th>\n",
       "      <th>date_time</th>\n",
       "      <th>tollgate</th>\n",
       "      <th>direction</th>\n",
       "      <th>model</th>\n",
       "      <th>is_etc</th>\n",
       "      <th>veh_type</th>\n",
       "    </tr>\n",
       "  </thead>\n",
       "  <tbody>\n",
       "    <tr>\n",
       "      <th>0</th>\n",
       "      <td>2016-09-19 23:09:25</td>\n",
       "      <td>2</td>\n",
       "      <td>0</td>\n",
       "      <td>1</td>\n",
       "      <td>0</td>\n",
       "      <td>NaN</td>\n",
       "    </tr>\n",
       "    <tr>\n",
       "      <th>1</th>\n",
       "      <td>2016-09-19 23:11:53</td>\n",
       "      <td>2</td>\n",
       "      <td>0</td>\n",
       "      <td>1</td>\n",
       "      <td>0</td>\n",
       "      <td>NaN</td>\n",
       "    </tr>\n",
       "    <tr>\n",
       "      <th>2</th>\n",
       "      <td>2016-09-19 23:13:54</td>\n",
       "      <td>2</td>\n",
       "      <td>0</td>\n",
       "      <td>1</td>\n",
       "      <td>0</td>\n",
       "      <td>NaN</td>\n",
       "    </tr>\n",
       "    <tr>\n",
       "      <th>3</th>\n",
       "      <td>2016-09-19 23:17:48</td>\n",
       "      <td>1</td>\n",
       "      <td>0</td>\n",
       "      <td>1</td>\n",
       "      <td>1</td>\n",
       "      <td>NaN</td>\n",
       "    </tr>\n",
       "    <tr>\n",
       "      <th>4</th>\n",
       "      <td>2016-09-19 23:16:07</td>\n",
       "      <td>2</td>\n",
       "      <td>0</td>\n",
       "      <td>1</td>\n",
       "      <td>0</td>\n",
       "      <td>NaN</td>\n",
       "    </tr>\n",
       "  </tbody>\n",
       "</table>\n",
       "</div>"
      ],
      "text/plain": [
       "             date_time  tollgate  direction  model  is_etc  veh_type\n",
       "0  2016-09-19 23:09:25         2          0      1       0       NaN\n",
       "1  2016-09-19 23:11:53         2          0      1       0       NaN\n",
       "2  2016-09-19 23:13:54         2          0      1       0       NaN\n",
       "3  2016-09-19 23:17:48         1          0      1       1       NaN\n",
       "4  2016-09-19 23:16:07         2          0      1       0       NaN"
      ]
     },
     "execution_count": 8,
     "metadata": {},
     "output_type": "execute_result"
    }
   ],
   "source": [
    "training_vol.head()"
   ]
  },
  {
   "cell_type": "code",
   "execution_count": 9,
   "metadata": {
    "collapsed": true
   },
   "outputs": [],
   "source": [
    "def time_to_window(x):\n",
    "    dt = datetime.strptime(x, \"%Y-%m-%d %H:%M:%S\")\n",
    "    dtmin = int(dt.minute / 10) * 10\n",
    "    dtwindow = datetime(dt.year, dt.month, dt.day, dt.hour, dtmin, 0)\n",
    "    return dtwindow\n"
   ]
  },
  {
   "cell_type": "code",
   "execution_count": 10,
   "metadata": {
    "collapsed": true
   },
   "outputs": [],
   "source": [
    "def format_window(wd):\n",
    "    return '[{},{})'.format(str(wd), str(wd+timedelta(minutes=10)))"
   ]
  },
  {
   "cell_type": "code",
   "execution_count": 11,
   "metadata": {
    "collapsed": true
   },
   "outputs": [],
   "source": [
    "#training_traj['starting_datetime'] = pd.to_datetime(training_path['starting_time'])\n",
    "training_traj['window'] = training_traj['starting_time'].apply(time_to_window)\n",
    "\n",
    "training_traj_group_mean = \\\n",
    "training_traj.groupby(['intersection_id','tollgate_id','window']).mean()['travel_time']\n",
    "\n",
    "training_traj_group_count = \\\n",
    "training_traj.groupby(['intersection_id','tollgate_id','window']).count()['travel_time']"
   ]
  },
  {
   "cell_type": "code",
   "execution_count": 12,
   "metadata": {
    "collapsed": false
   },
   "outputs": [],
   "source": [
    "training_vol['window'] = training_vol['date_time'].apply(time_to_window)\n",
    "\n",
    "training_vol_group_count = \\\n",
    "training_vol.groupby(['tollgate','direction','window']).count()['date_time']\n"
   ]
  },
  {
   "cell_type": "code",
   "execution_count": 13,
   "metadata": {
    "collapsed": false
   },
   "outputs": [],
   "source": [
    "test_vol2['window'] = test_vol2['date_time'].apply(time_to_window)\n",
    "\n",
    "test_vol_group_count = \\\n",
    "test_vol2.groupby(['tollgate','direction','window']).count()['date_time']"
   ]
  },
  {
   "cell_type": "code",
   "execution_count": 14,
   "metadata": {
    "collapsed": false
   },
   "outputs": [],
   "source": [
    "sample = pd.read_csv('submission/submission_sample_volume.csv')"
   ]
  },
  {
   "cell_type": "code",
   "execution_count": null,
   "metadata": {
    "collapsed": true
   },
   "outputs": [],
   "source": []
  },
  {
   "cell_type": "code",
   "execution_count": 16,
   "metadata": {
    "collapsed": true
   },
   "outputs": [],
   "source": [
    "date_list2 = []\n",
    "\n",
    "d1 = date(2016, 10, 25)  # start date\n",
    "d2 = date(2016, 10, 31)  # end date\n",
    "\n",
    "delta = d2 - d1         # timedelta\n",
    "\n",
    "for i in range(delta.days + 1):\n",
    "    date_list2.append(d1 + timedelta(days=i))"
   ]
  },
  {
   "cell_type": "code",
   "execution_count": 17,
   "metadata": {
    "collapsed": false
   },
   "outputs": [],
   "source": [
    "tiid2 = ['10']*7 + ['11']*7 + ['20']*7 + ['30']*7 + ['31']*7\n",
    "dlid2 = date_list2*5"
   ]
  },
  {
   "cell_type": "code",
   "execution_count": 18,
   "metadata": {
    "collapsed": false
   },
   "outputs": [],
   "source": [
    "df_morning_test = pd.DataFrame((test_vol_group_count.values).reshape(-1,12)[::2])\n",
    "df_night_test = pd.DataFrame((test_vol_group_count.values).reshape(-1,12)[1::2])\n",
    "df_morning_test['ti'] = tiid2\n",
    "df_morning_test['dl'] = dlid2\n",
    "df_night_test['ti'] = tiid2\n",
    "df_night_test['dl'] = dlid2\n",
    "df_morning_test['wkwn'] = [1,1,1,1,0,0,1]*5\n",
    "df_morning_test['wkwn'] *= 35\n",
    "\n",
    "df_night_test['wkwn'] = [1,1,1,1,0,0,1]*5\n",
    "df_night_test['wkwn'] *= 35"
   ]
  },
  {
   "cell_type": "code",
   "execution_count": 19,
   "metadata": {
    "collapsed": false
   },
   "outputs": [
    {
     "data": {
      "text/html": [
       "<div>\n",
       "<table border=\"1\" class=\"dataframe\">\n",
       "  <thead>\n",
       "    <tr style=\"text-align: right;\">\n",
       "      <th></th>\n",
       "      <th>0</th>\n",
       "      <th>1</th>\n",
       "      <th>2</th>\n",
       "      <th>3</th>\n",
       "      <th>4</th>\n",
       "      <th>5</th>\n",
       "      <th>6</th>\n",
       "      <th>7</th>\n",
       "      <th>8</th>\n",
       "      <th>9</th>\n",
       "      <th>10</th>\n",
       "      <th>11</th>\n",
       "      <th>ti</th>\n",
       "      <th>dl</th>\n",
       "      <th>wkwn</th>\n",
       "    </tr>\n",
       "  </thead>\n",
       "  <tbody>\n",
       "    <tr>\n",
       "      <th>0</th>\n",
       "      <td>8</td>\n",
       "      <td>2</td>\n",
       "      <td>5</td>\n",
       "      <td>12</td>\n",
       "      <td>17</td>\n",
       "      <td>13</td>\n",
       "      <td>10</td>\n",
       "      <td>15</td>\n",
       "      <td>14</td>\n",
       "      <td>24</td>\n",
       "      <td>22</td>\n",
       "      <td>22</td>\n",
       "      <td>10</td>\n",
       "      <td>2016-10-25</td>\n",
       "      <td>35</td>\n",
       "    </tr>\n",
       "    <tr>\n",
       "      <th>1</th>\n",
       "      <td>4</td>\n",
       "      <td>8</td>\n",
       "      <td>3</td>\n",
       "      <td>6</td>\n",
       "      <td>8</td>\n",
       "      <td>17</td>\n",
       "      <td>15</td>\n",
       "      <td>16</td>\n",
       "      <td>14</td>\n",
       "      <td>18</td>\n",
       "      <td>25</td>\n",
       "      <td>20</td>\n",
       "      <td>10</td>\n",
       "      <td>2016-10-26</td>\n",
       "      <td>35</td>\n",
       "    </tr>\n",
       "    <tr>\n",
       "      <th>2</th>\n",
       "      <td>9</td>\n",
       "      <td>5</td>\n",
       "      <td>7</td>\n",
       "      <td>7</td>\n",
       "      <td>8</td>\n",
       "      <td>15</td>\n",
       "      <td>13</td>\n",
       "      <td>7</td>\n",
       "      <td>19</td>\n",
       "      <td>17</td>\n",
       "      <td>24</td>\n",
       "      <td>18</td>\n",
       "      <td>10</td>\n",
       "      <td>2016-10-27</td>\n",
       "      <td>35</td>\n",
       "    </tr>\n",
       "    <tr>\n",
       "      <th>3</th>\n",
       "      <td>3</td>\n",
       "      <td>5</td>\n",
       "      <td>8</td>\n",
       "      <td>13</td>\n",
       "      <td>9</td>\n",
       "      <td>5</td>\n",
       "      <td>9</td>\n",
       "      <td>19</td>\n",
       "      <td>12</td>\n",
       "      <td>25</td>\n",
       "      <td>23</td>\n",
       "      <td>23</td>\n",
       "      <td>10</td>\n",
       "      <td>2016-10-28</td>\n",
       "      <td>35</td>\n",
       "    </tr>\n",
       "    <tr>\n",
       "      <th>4</th>\n",
       "      <td>2</td>\n",
       "      <td>9</td>\n",
       "      <td>8</td>\n",
       "      <td>9</td>\n",
       "      <td>6</td>\n",
       "      <td>13</td>\n",
       "      <td>11</td>\n",
       "      <td>16</td>\n",
       "      <td>21</td>\n",
       "      <td>16</td>\n",
       "      <td>14</td>\n",
       "      <td>10</td>\n",
       "      <td>10</td>\n",
       "      <td>2016-10-29</td>\n",
       "      <td>0</td>\n",
       "    </tr>\n",
       "    <tr>\n",
       "      <th>5</th>\n",
       "      <td>8</td>\n",
       "      <td>10</td>\n",
       "      <td>13</td>\n",
       "      <td>12</td>\n",
       "      <td>16</td>\n",
       "      <td>14</td>\n",
       "      <td>21</td>\n",
       "      <td>28</td>\n",
       "      <td>16</td>\n",
       "      <td>24</td>\n",
       "      <td>31</td>\n",
       "      <td>43</td>\n",
       "      <td>10</td>\n",
       "      <td>2016-10-30</td>\n",
       "      <td>0</td>\n",
       "    </tr>\n",
       "    <tr>\n",
       "      <th>6</th>\n",
       "      <td>12</td>\n",
       "      <td>15</td>\n",
       "      <td>26</td>\n",
       "      <td>28</td>\n",
       "      <td>24</td>\n",
       "      <td>36</td>\n",
       "      <td>41</td>\n",
       "      <td>54</td>\n",
       "      <td>38</td>\n",
       "      <td>60</td>\n",
       "      <td>50</td>\n",
       "      <td>56</td>\n",
       "      <td>10</td>\n",
       "      <td>2016-10-31</td>\n",
       "      <td>35</td>\n",
       "    </tr>\n",
       "    <tr>\n",
       "      <th>7</th>\n",
       "      <td>20</td>\n",
       "      <td>17</td>\n",
       "      <td>19</td>\n",
       "      <td>35</td>\n",
       "      <td>36</td>\n",
       "      <td>27</td>\n",
       "      <td>33</td>\n",
       "      <td>34</td>\n",
       "      <td>50</td>\n",
       "      <td>49</td>\n",
       "      <td>67</td>\n",
       "      <td>66</td>\n",
       "      <td>11</td>\n",
       "      <td>2016-10-25</td>\n",
       "      <td>35</td>\n",
       "    </tr>\n",
       "    <tr>\n",
       "      <th>8</th>\n",
       "      <td>17</td>\n",
       "      <td>20</td>\n",
       "      <td>20</td>\n",
       "      <td>31</td>\n",
       "      <td>34</td>\n",
       "      <td>23</td>\n",
       "      <td>32</td>\n",
       "      <td>37</td>\n",
       "      <td>47</td>\n",
       "      <td>49</td>\n",
       "      <td>45</td>\n",
       "      <td>65</td>\n",
       "      <td>11</td>\n",
       "      <td>2016-10-26</td>\n",
       "      <td>35</td>\n",
       "    </tr>\n",
       "    <tr>\n",
       "      <th>9</th>\n",
       "      <td>22</td>\n",
       "      <td>15</td>\n",
       "      <td>21</td>\n",
       "      <td>25</td>\n",
       "      <td>25</td>\n",
       "      <td>26</td>\n",
       "      <td>31</td>\n",
       "      <td>31</td>\n",
       "      <td>38</td>\n",
       "      <td>56</td>\n",
       "      <td>46</td>\n",
       "      <td>58</td>\n",
       "      <td>11</td>\n",
       "      <td>2016-10-27</td>\n",
       "      <td>35</td>\n",
       "    </tr>\n",
       "    <tr>\n",
       "      <th>10</th>\n",
       "      <td>18</td>\n",
       "      <td>17</td>\n",
       "      <td>26</td>\n",
       "      <td>31</td>\n",
       "      <td>34</td>\n",
       "      <td>31</td>\n",
       "      <td>39</td>\n",
       "      <td>47</td>\n",
       "      <td>49</td>\n",
       "      <td>51</td>\n",
       "      <td>50</td>\n",
       "      <td>63</td>\n",
       "      <td>11</td>\n",
       "      <td>2016-10-28</td>\n",
       "      <td>35</td>\n",
       "    </tr>\n",
       "    <tr>\n",
       "      <th>11</th>\n",
       "      <td>16</td>\n",
       "      <td>16</td>\n",
       "      <td>19</td>\n",
       "      <td>20</td>\n",
       "      <td>34</td>\n",
       "      <td>24</td>\n",
       "      <td>26</td>\n",
       "      <td>31</td>\n",
       "      <td>36</td>\n",
       "      <td>42</td>\n",
       "      <td>45</td>\n",
       "      <td>44</td>\n",
       "      <td>11</td>\n",
       "      <td>2016-10-29</td>\n",
       "      <td>0</td>\n",
       "    </tr>\n",
       "    <tr>\n",
       "      <th>12</th>\n",
       "      <td>23</td>\n",
       "      <td>19</td>\n",
       "      <td>17</td>\n",
       "      <td>25</td>\n",
       "      <td>26</td>\n",
       "      <td>30</td>\n",
       "      <td>30</td>\n",
       "      <td>34</td>\n",
       "      <td>34</td>\n",
       "      <td>36</td>\n",
       "      <td>34</td>\n",
       "      <td>31</td>\n",
       "      <td>11</td>\n",
       "      <td>2016-10-30</td>\n",
       "      <td>0</td>\n",
       "    </tr>\n",
       "    <tr>\n",
       "      <th>13</th>\n",
       "      <td>14</td>\n",
       "      <td>22</td>\n",
       "      <td>17</td>\n",
       "      <td>28</td>\n",
       "      <td>31</td>\n",
       "      <td>42</td>\n",
       "      <td>47</td>\n",
       "      <td>41</td>\n",
       "      <td>43</td>\n",
       "      <td>56</td>\n",
       "      <td>53</td>\n",
       "      <td>62</td>\n",
       "      <td>11</td>\n",
       "      <td>2016-10-31</td>\n",
       "      <td>35</td>\n",
       "    </tr>\n",
       "    <tr>\n",
       "      <th>14</th>\n",
       "      <td>11</td>\n",
       "      <td>18</td>\n",
       "      <td>14</td>\n",
       "      <td>13</td>\n",
       "      <td>20</td>\n",
       "      <td>20</td>\n",
       "      <td>42</td>\n",
       "      <td>41</td>\n",
       "      <td>36</td>\n",
       "      <td>62</td>\n",
       "      <td>42</td>\n",
       "      <td>51</td>\n",
       "      <td>20</td>\n",
       "      <td>2016-10-25</td>\n",
       "      <td>35</td>\n",
       "    </tr>\n",
       "    <tr>\n",
       "      <th>15</th>\n",
       "      <td>12</td>\n",
       "      <td>20</td>\n",
       "      <td>13</td>\n",
       "      <td>14</td>\n",
       "      <td>16</td>\n",
       "      <td>23</td>\n",
       "      <td>25</td>\n",
       "      <td>49</td>\n",
       "      <td>47</td>\n",
       "      <td>41</td>\n",
       "      <td>54</td>\n",
       "      <td>45</td>\n",
       "      <td>20</td>\n",
       "      <td>2016-10-26</td>\n",
       "      <td>35</td>\n",
       "    </tr>\n",
       "    <tr>\n",
       "      <th>16</th>\n",
       "      <td>10</td>\n",
       "      <td>10</td>\n",
       "      <td>12</td>\n",
       "      <td>24</td>\n",
       "      <td>21</td>\n",
       "      <td>29</td>\n",
       "      <td>33</td>\n",
       "      <td>37</td>\n",
       "      <td>39</td>\n",
       "      <td>42</td>\n",
       "      <td>49</td>\n",
       "      <td>65</td>\n",
       "      <td>20</td>\n",
       "      <td>2016-10-27</td>\n",
       "      <td>35</td>\n",
       "    </tr>\n",
       "    <tr>\n",
       "      <th>17</th>\n",
       "      <td>4</td>\n",
       "      <td>15</td>\n",
       "      <td>11</td>\n",
       "      <td>12</td>\n",
       "      <td>21</td>\n",
       "      <td>32</td>\n",
       "      <td>28</td>\n",
       "      <td>38</td>\n",
       "      <td>45</td>\n",
       "      <td>54</td>\n",
       "      <td>49</td>\n",
       "      <td>48</td>\n",
       "      <td>20</td>\n",
       "      <td>2016-10-28</td>\n",
       "      <td>35</td>\n",
       "    </tr>\n",
       "    <tr>\n",
       "      <th>18</th>\n",
       "      <td>15</td>\n",
       "      <td>8</td>\n",
       "      <td>21</td>\n",
       "      <td>21</td>\n",
       "      <td>17</td>\n",
       "      <td>23</td>\n",
       "      <td>16</td>\n",
       "      <td>18</td>\n",
       "      <td>24</td>\n",
       "      <td>29</td>\n",
       "      <td>27</td>\n",
       "      <td>34</td>\n",
       "      <td>20</td>\n",
       "      <td>2016-10-29</td>\n",
       "      <td>0</td>\n",
       "    </tr>\n",
       "    <tr>\n",
       "      <th>19</th>\n",
       "      <td>2</td>\n",
       "      <td>3</td>\n",
       "      <td>1</td>\n",
       "      <td>2</td>\n",
       "      <td>4</td>\n",
       "      <td>2</td>\n",
       "      <td>2</td>\n",
       "      <td>4</td>\n",
       "      <td>9</td>\n",
       "      <td>2</td>\n",
       "      <td>8</td>\n",
       "      <td>8</td>\n",
       "      <td>20</td>\n",
       "      <td>2016-10-30</td>\n",
       "      <td>0</td>\n",
       "    </tr>\n",
       "    <tr>\n",
       "      <th>20</th>\n",
       "      <td>1</td>\n",
       "      <td>9</td>\n",
       "      <td>6</td>\n",
       "      <td>4</td>\n",
       "      <td>7</td>\n",
       "      <td>7</td>\n",
       "      <td>16</td>\n",
       "      <td>21</td>\n",
       "      <td>19</td>\n",
       "      <td>23</td>\n",
       "      <td>36</td>\n",
       "      <td>22</td>\n",
       "      <td>20</td>\n",
       "      <td>2016-10-31</td>\n",
       "      <td>35</td>\n",
       "    </tr>\n",
       "    <tr>\n",
       "      <th>21</th>\n",
       "      <td>14</td>\n",
       "      <td>14</td>\n",
       "      <td>18</td>\n",
       "      <td>30</td>\n",
       "      <td>44</td>\n",
       "      <td>48</td>\n",
       "      <td>67</td>\n",
       "      <td>62</td>\n",
       "      <td>52</td>\n",
       "      <td>79</td>\n",
       "      <td>66</td>\n",
       "      <td>73</td>\n",
       "      <td>30</td>\n",
       "      <td>2016-10-25</td>\n",
       "      <td>35</td>\n",
       "    </tr>\n",
       "    <tr>\n",
       "      <th>22</th>\n",
       "      <td>13</td>\n",
       "      <td>11</td>\n",
       "      <td>31</td>\n",
       "      <td>19</td>\n",
       "      <td>36</td>\n",
       "      <td>38</td>\n",
       "      <td>69</td>\n",
       "      <td>60</td>\n",
       "      <td>65</td>\n",
       "      <td>56</td>\n",
       "      <td>61</td>\n",
       "      <td>83</td>\n",
       "      <td>30</td>\n",
       "      <td>2016-10-26</td>\n",
       "      <td>35</td>\n",
       "    </tr>\n",
       "    <tr>\n",
       "      <th>23</th>\n",
       "      <td>15</td>\n",
       "      <td>9</td>\n",
       "      <td>15</td>\n",
       "      <td>25</td>\n",
       "      <td>35</td>\n",
       "      <td>28</td>\n",
       "      <td>62</td>\n",
       "      <td>58</td>\n",
       "      <td>55</td>\n",
       "      <td>57</td>\n",
       "      <td>69</td>\n",
       "      <td>65</td>\n",
       "      <td>30</td>\n",
       "      <td>2016-10-27</td>\n",
       "      <td>35</td>\n",
       "    </tr>\n",
       "    <tr>\n",
       "      <th>24</th>\n",
       "      <td>10</td>\n",
       "      <td>15</td>\n",
       "      <td>19</td>\n",
       "      <td>33</td>\n",
       "      <td>33</td>\n",
       "      <td>37</td>\n",
       "      <td>45</td>\n",
       "      <td>75</td>\n",
       "      <td>56</td>\n",
       "      <td>48</td>\n",
       "      <td>70</td>\n",
       "      <td>81</td>\n",
       "      <td>30</td>\n",
       "      <td>2016-10-28</td>\n",
       "      <td>35</td>\n",
       "    </tr>\n",
       "    <tr>\n",
       "      <th>25</th>\n",
       "      <td>13</td>\n",
       "      <td>14</td>\n",
       "      <td>13</td>\n",
       "      <td>25</td>\n",
       "      <td>25</td>\n",
       "      <td>34</td>\n",
       "      <td>33</td>\n",
       "      <td>32</td>\n",
       "      <td>39</td>\n",
       "      <td>39</td>\n",
       "      <td>47</td>\n",
       "      <td>45</td>\n",
       "      <td>30</td>\n",
       "      <td>2016-10-29</td>\n",
       "      <td>0</td>\n",
       "    </tr>\n",
       "    <tr>\n",
       "      <th>26</th>\n",
       "      <td>5</td>\n",
       "      <td>10</td>\n",
       "      <td>19</td>\n",
       "      <td>18</td>\n",
       "      <td>26</td>\n",
       "      <td>30</td>\n",
       "      <td>35</td>\n",
       "      <td>35</td>\n",
       "      <td>41</td>\n",
       "      <td>37</td>\n",
       "      <td>36</td>\n",
       "      <td>50</td>\n",
       "      <td>30</td>\n",
       "      <td>2016-10-30</td>\n",
       "      <td>0</td>\n",
       "    </tr>\n",
       "    <tr>\n",
       "      <th>27</th>\n",
       "      <td>14</td>\n",
       "      <td>12</td>\n",
       "      <td>26</td>\n",
       "      <td>27</td>\n",
       "      <td>37</td>\n",
       "      <td>44</td>\n",
       "      <td>74</td>\n",
       "      <td>74</td>\n",
       "      <td>83</td>\n",
       "      <td>83</td>\n",
       "      <td>71</td>\n",
       "      <td>91</td>\n",
       "      <td>30</td>\n",
       "      <td>2016-10-31</td>\n",
       "      <td>35</td>\n",
       "    </tr>\n",
       "    <tr>\n",
       "      <th>28</th>\n",
       "      <td>14</td>\n",
       "      <td>16</td>\n",
       "      <td>13</td>\n",
       "      <td>18</td>\n",
       "      <td>17</td>\n",
       "      <td>25</td>\n",
       "      <td>22</td>\n",
       "      <td>40</td>\n",
       "      <td>39</td>\n",
       "      <td>50</td>\n",
       "      <td>32</td>\n",
       "      <td>52</td>\n",
       "      <td>31</td>\n",
       "      <td>2016-10-25</td>\n",
       "      <td>35</td>\n",
       "    </tr>\n",
       "    <tr>\n",
       "      <th>29</th>\n",
       "      <td>6</td>\n",
       "      <td>15</td>\n",
       "      <td>13</td>\n",
       "      <td>23</td>\n",
       "      <td>22</td>\n",
       "      <td>19</td>\n",
       "      <td>20</td>\n",
       "      <td>30</td>\n",
       "      <td>36</td>\n",
       "      <td>46</td>\n",
       "      <td>35</td>\n",
       "      <td>51</td>\n",
       "      <td>31</td>\n",
       "      <td>2016-10-26</td>\n",
       "      <td>35</td>\n",
       "    </tr>\n",
       "    <tr>\n",
       "      <th>30</th>\n",
       "      <td>8</td>\n",
       "      <td>16</td>\n",
       "      <td>10</td>\n",
       "      <td>15</td>\n",
       "      <td>14</td>\n",
       "      <td>35</td>\n",
       "      <td>25</td>\n",
       "      <td>27</td>\n",
       "      <td>43</td>\n",
       "      <td>47</td>\n",
       "      <td>32</td>\n",
       "      <td>54</td>\n",
       "      <td>31</td>\n",
       "      <td>2016-10-27</td>\n",
       "      <td>35</td>\n",
       "    </tr>\n",
       "    <tr>\n",
       "      <th>31</th>\n",
       "      <td>7</td>\n",
       "      <td>12</td>\n",
       "      <td>6</td>\n",
       "      <td>13</td>\n",
       "      <td>23</td>\n",
       "      <td>28</td>\n",
       "      <td>14</td>\n",
       "      <td>38</td>\n",
       "      <td>22</td>\n",
       "      <td>35</td>\n",
       "      <td>37</td>\n",
       "      <td>40</td>\n",
       "      <td>31</td>\n",
       "      <td>2016-10-28</td>\n",
       "      <td>35</td>\n",
       "    </tr>\n",
       "    <tr>\n",
       "      <th>32</th>\n",
       "      <td>5</td>\n",
       "      <td>8</td>\n",
       "      <td>13</td>\n",
       "      <td>15</td>\n",
       "      <td>11</td>\n",
       "      <td>21</td>\n",
       "      <td>25</td>\n",
       "      <td>29</td>\n",
       "      <td>28</td>\n",
       "      <td>36</td>\n",
       "      <td>33</td>\n",
       "      <td>32</td>\n",
       "      <td>31</td>\n",
       "      <td>2016-10-29</td>\n",
       "      <td>0</td>\n",
       "    </tr>\n",
       "    <tr>\n",
       "      <th>33</th>\n",
       "      <td>3</td>\n",
       "      <td>18</td>\n",
       "      <td>18</td>\n",
       "      <td>16</td>\n",
       "      <td>10</td>\n",
       "      <td>15</td>\n",
       "      <td>29</td>\n",
       "      <td>31</td>\n",
       "      <td>27</td>\n",
       "      <td>32</td>\n",
       "      <td>33</td>\n",
       "      <td>27</td>\n",
       "      <td>31</td>\n",
       "      <td>2016-10-30</td>\n",
       "      <td>0</td>\n",
       "    </tr>\n",
       "    <tr>\n",
       "      <th>34</th>\n",
       "      <td>13</td>\n",
       "      <td>9</td>\n",
       "      <td>9</td>\n",
       "      <td>20</td>\n",
       "      <td>18</td>\n",
       "      <td>30</td>\n",
       "      <td>38</td>\n",
       "      <td>30</td>\n",
       "      <td>41</td>\n",
       "      <td>47</td>\n",
       "      <td>56</td>\n",
       "      <td>53</td>\n",
       "      <td>31</td>\n",
       "      <td>2016-10-31</td>\n",
       "      <td>35</td>\n",
       "    </tr>\n",
       "  </tbody>\n",
       "</table>\n",
       "</div>"
      ],
      "text/plain": [
       "     0   1   2   3   4   5   6   7   8   9  10  11  ti          dl  wkwn\n",
       "0    8   2   5  12  17  13  10  15  14  24  22  22  10  2016-10-25    35\n",
       "1    4   8   3   6   8  17  15  16  14  18  25  20  10  2016-10-26    35\n",
       "2    9   5   7   7   8  15  13   7  19  17  24  18  10  2016-10-27    35\n",
       "3    3   5   8  13   9   5   9  19  12  25  23  23  10  2016-10-28    35\n",
       "4    2   9   8   9   6  13  11  16  21  16  14  10  10  2016-10-29     0\n",
       "5    8  10  13  12  16  14  21  28  16  24  31  43  10  2016-10-30     0\n",
       "6   12  15  26  28  24  36  41  54  38  60  50  56  10  2016-10-31    35\n",
       "7   20  17  19  35  36  27  33  34  50  49  67  66  11  2016-10-25    35\n",
       "8   17  20  20  31  34  23  32  37  47  49  45  65  11  2016-10-26    35\n",
       "9   22  15  21  25  25  26  31  31  38  56  46  58  11  2016-10-27    35\n",
       "10  18  17  26  31  34  31  39  47  49  51  50  63  11  2016-10-28    35\n",
       "11  16  16  19  20  34  24  26  31  36  42  45  44  11  2016-10-29     0\n",
       "12  23  19  17  25  26  30  30  34  34  36  34  31  11  2016-10-30     0\n",
       "13  14  22  17  28  31  42  47  41  43  56  53  62  11  2016-10-31    35\n",
       "14  11  18  14  13  20  20  42  41  36  62  42  51  20  2016-10-25    35\n",
       "15  12  20  13  14  16  23  25  49  47  41  54  45  20  2016-10-26    35\n",
       "16  10  10  12  24  21  29  33  37  39  42  49  65  20  2016-10-27    35\n",
       "17   4  15  11  12  21  32  28  38  45  54  49  48  20  2016-10-28    35\n",
       "18  15   8  21  21  17  23  16  18  24  29  27  34  20  2016-10-29     0\n",
       "19   2   3   1   2   4   2   2   4   9   2   8   8  20  2016-10-30     0\n",
       "20   1   9   6   4   7   7  16  21  19  23  36  22  20  2016-10-31    35\n",
       "21  14  14  18  30  44  48  67  62  52  79  66  73  30  2016-10-25    35\n",
       "22  13  11  31  19  36  38  69  60  65  56  61  83  30  2016-10-26    35\n",
       "23  15   9  15  25  35  28  62  58  55  57  69  65  30  2016-10-27    35\n",
       "24  10  15  19  33  33  37  45  75  56  48  70  81  30  2016-10-28    35\n",
       "25  13  14  13  25  25  34  33  32  39  39  47  45  30  2016-10-29     0\n",
       "26   5  10  19  18  26  30  35  35  41  37  36  50  30  2016-10-30     0\n",
       "27  14  12  26  27  37  44  74  74  83  83  71  91  30  2016-10-31    35\n",
       "28  14  16  13  18  17  25  22  40  39  50  32  52  31  2016-10-25    35\n",
       "29   6  15  13  23  22  19  20  30  36  46  35  51  31  2016-10-26    35\n",
       "30   8  16  10  15  14  35  25  27  43  47  32  54  31  2016-10-27    35\n",
       "31   7  12   6  13  23  28  14  38  22  35  37  40  31  2016-10-28    35\n",
       "32   5   8  13  15  11  21  25  29  28  36  33  32  31  2016-10-29     0\n",
       "33   3  18  18  16  10  15  29  31  27  32  33  27  31  2016-10-30     0\n",
       "34  13   9   9  20  18  30  38  30  41  47  56  53  31  2016-10-31    35"
      ]
     },
     "execution_count": 19,
     "metadata": {},
     "output_type": "execute_result"
    }
   ],
   "source": [
    "df_morning_test"
   ]
  },
  {
   "cell_type": "code",
   "execution_count": null,
   "metadata": {
    "collapsed": true
   },
   "outputs": [],
   "source": []
  },
  {
   "cell_type": "code",
   "execution_count": null,
   "metadata": {
    "collapsed": true
   },
   "outputs": [],
   "source": []
  },
  {
   "cell_type": "code",
   "execution_count": 20,
   "metadata": {
    "collapsed": true
   },
   "outputs": [],
   "source": [
    "date_list = []\n",
    "\n",
    "d1 = date(2016, 9, 19)  # start date\n",
    "d2 = date(2016, 10, 24)  # end date\n",
    "\n",
    "delta = d2 - d1         # timedelta\n",
    "\n",
    "for i in range(delta.days + 1):\n",
    "    date_list.append(d1 + timedelta(days=i))\n",
    "\n",
    "give_time_list1 = [time(6,0), time(6,10), time(6,20),\n",
    "                   time(6,30), time(6,40), time(6,50),\n",
    "                   time(7,0), time(7,10), time(7,20),\n",
    "                   time(7,30), time(7,40), time(7,50)]\n",
    "pred_time_list1 = [time(8,0), time(8,10), time(8,20),\n",
    "                   time(8,30), time(8,40), time(8,50),\n",
    "                   time(9,0), time(9,10), time(9,20),\n",
    "                   time(9,30), time(9,40), time(9,50)]\n",
    "\n",
    "give_time_list2 = [time(15,0), time(15,10), time(15,20),\n",
    "                   time(15,30), time(15,40), time(15,50),\n",
    "                   time(16,0), time(16,10), time(16,20),\n",
    "                   time(16,30), time(16,40), time(16,50)]\n",
    "pred_time_list2 = [time(17,0), time(17,10), time(17,20),\n",
    "                   time(17,30), time(17,40), time(17,50),\n",
    "                   time(18,0), time(18,10), time(18,20),\n",
    "                   time(18,30), time(18,40), time(18,50)]"
   ]
  },
  {
   "cell_type": "code",
   "execution_count": null,
   "metadata": {
    "collapsed": true
   },
   "outputs": [],
   "source": []
  },
  {
   "cell_type": "code",
   "execution_count": 21,
   "metadata": {
    "collapsed": true
   },
   "outputs": [],
   "source": [
    "def interpolate_missing_window(x):\n",
    "    ss = [(i-datetime(1970,1,1)).total_seconds() for i in x.index]\n",
    "    tt = x.values\n",
    "    ssall = np.linspace(ss[0], ss[-1], (ss[-1]-ss[0])/1200+1)\n",
    "    #print(len(ss), len(tt), len(ssall))\n",
    "    ttall = np.interp(ssall, ss, tt)\n",
    "    ssall = [int(i) for i in ssall]\n",
    "    ssall = [datetime(1970,1,1)+timedelta(seconds=i) for i in ssall]\n",
    "    return pd.Series(index=ssall, data=ttall)"
   ]
  },
  {
   "cell_type": "code",
   "execution_count": 22,
   "metadata": {
    "collapsed": true
   },
   "outputs": [],
   "source": [
    "first6 = np.array([])\n",
    "next6 = np.array([])\n",
    "for ti, d in [(1,0), (1,1), (2,0), (3,0), (3,1)]:\n",
    "    mtmp = training_vol_group_count.loc[ti, d]\n",
    "    #mtmp = interpolate_missing_window(mtmp)\n",
    "    test6 = []\n",
    "    for i in date_list:\n",
    "        tmp = []\n",
    "        for j in give_time_list1:\n",
    "            try:\n",
    "                tmp.append(mtmp[datetime.combine(i, j)])\n",
    "            except:\n",
    "                tmp.append(0)\n",
    "        test6.append(tmp)\n",
    "    result6 = test6\n",
    "    first6 = np.append(first6, result6)\n",
    "    \n",
    "    test6 = []\n",
    "    for i in date_list:\n",
    "        tmp = []\n",
    "        for j in pred_time_list1:\n",
    "            try:\n",
    "                tmp.append(mtmp[datetime.combine(i, j)])\n",
    "            except:\n",
    "                tmp.append(0)\n",
    "        test6.append(tmp)\n",
    "    result6 = test6\n",
    "    next6 = np.append(next6, result6)\n",
    "\n",
    "morning_volume66 = np.append(first6.reshape(-1,12), next6.reshape(-1,12), axis=1)"
   ]
  },
  {
   "cell_type": "code",
   "execution_count": null,
   "metadata": {
    "collapsed": true
   },
   "outputs": [],
   "source": []
  },
  {
   "cell_type": "code",
   "execution_count": null,
   "metadata": {
    "collapsed": true
   },
   "outputs": [],
   "source": []
  },
  {
   "cell_type": "code",
   "execution_count": 23,
   "metadata": {
    "collapsed": true
   },
   "outputs": [],
   "source": [
    "tiid = ['10']*36 + ['11']*36 + ['20']*36 + ['30']*36 + ['31']*36\n",
    "dlid = date_list*5"
   ]
  },
  {
   "cell_type": "code",
   "execution_count": 24,
   "metadata": {
    "collapsed": true
   },
   "outputs": [],
   "source": [
    "first6 = np.array([])\n",
    "next6 = np.array([])\n",
    "for ti, d in [(1,0), (1,1), (2,0), (3,0), (3,1)]:\n",
    "    mtmp = training_vol_group_count.loc[ti, d]\n",
    "    #mtmp = interpolate_missing_window(mtmp)\n",
    "    test6 = []\n",
    "    for i in date_list:\n",
    "        tmp = []\n",
    "        for j in give_time_list2:\n",
    "            try:\n",
    "                tmp.append(mtmp[datetime.combine(i, j)])\n",
    "            except:\n",
    "                tmp.append(0)\n",
    "        test6.append(tmp)\n",
    "    result6 = test6\n",
    "    first6 = np.append(first6, result6)\n",
    "    \n",
    "    test6 = []\n",
    "    for i in date_list:\n",
    "        tmp = []\n",
    "        for j in pred_time_list2:\n",
    "            try:\n",
    "                tmp.append(mtmp[datetime.combine(i, j)])\n",
    "            except:\n",
    "                tmp.append(0)\n",
    "        test6.append(tmp)\n",
    "    result6 = test6\n",
    "    next6 = np.append(next6, result6)\n",
    "\n",
    "night_volume66 = np.append(first6.reshape(-1,12), next6.reshape(-1,12), axis=1)"
   ]
  },
  {
   "cell_type": "code",
   "execution_count": 25,
   "metadata": {
    "collapsed": false
   },
   "outputs": [
    {
     "data": {
      "text/plain": [
       "<matplotlib.legend.Legend at 0x10a2b5d50>"
      ]
     },
     "execution_count": 25,
     "metadata": {},
     "output_type": "execute_result"
    },
    {
     "data": {
      "image/png": "[encoded data removed]",
      "text/plain": [
       "<matplotlib.figure.Figure at 0x10ee06ed0>"
      ]
     },
     "metadata": {},
     "output_type": "display_data"
    }
   ],
   "source": [
    "ttt10 = training_vol_group_count.loc[1, 0]\n",
    "ttt11 = training_vol_group_count.loc[1, 1]\n",
    "ttt20 = training_vol_group_count.loc[2, 0]\n",
    "ttt30 = training_vol_group_count.loc[3, 0]\n",
    "ttt31 = training_vol_group_count.loc[3, 1]\n",
    "\n",
    "plt.figure(figsize=(20,5))\n",
    "plt.plot(ttt10.index, ttt10)\n",
    "plt.plot(ttt11.index, ttt11)\n",
    "plt.plot(ttt20.index, ttt20)\n",
    "plt.plot(ttt30.index, ttt30)\n",
    "plt.plot(ttt31.index, ttt31)\n",
    "\n",
    "plt.legend([10,11,20,30,31])"
   ]
  },
  {
   "cell_type": "code",
   "execution_count": null,
   "metadata": {
    "collapsed": true
   },
   "outputs": [],
   "source": []
  },
  {
   "cell_type": "code",
   "execution_count": 26,
   "metadata": {
    "collapsed": true
   },
   "outputs": [],
   "source": [
    "df_morning = pd.DataFrame(morning_volume66)\n",
    "\n",
    "df_night = pd.DataFrame(night_volume66)"
   ]
  },
  {
   "cell_type": "code",
   "execution_count": 27,
   "metadata": {
    "collapsed": false
   },
   "outputs": [
    {
     "data": {
      "text/plain": [
       "180"
      ]
     },
     "execution_count": 27,
     "metadata": {},
     "output_type": "execute_result"
    }
   ],
   "source": [
    "len(df_night)"
   ]
  },
  {
   "cell_type": "code",
   "execution_count": 28,
   "metadata": {
    "collapsed": false
   },
   "outputs": [],
   "source": [
    "df_morning['ti'] = tiid\n",
    "df_morning['dl'] = dlid\n",
    "df_night['ti'] = tiid\n",
    "df_night['dl'] = dlid"
   ]
  },
  {
   "cell_type": "code",
   "execution_count": 29,
   "metadata": {
    "collapsed": false,
    "scrolled": true
   },
   "outputs": [
    {
     "data": {
      "text/html": [
       "<div>\n",
       "<table border=\"1\" class=\"dataframe\">\n",
       "  <thead>\n",
       "    <tr style=\"text-align: right;\">\n",
       "      <th></th>\n",
       "      <th>0</th>\n",
       "      <th>1</th>\n",
       "      <th>2</th>\n",
       "      <th>3</th>\n",
       "      <th>4</th>\n",
       "      <th>5</th>\n",
       "      <th>6</th>\n",
       "      <th>7</th>\n",
       "      <th>8</th>\n",
       "      <th>9</th>\n",
       "      <th>...</th>\n",
       "      <th>16</th>\n",
       "      <th>17</th>\n",
       "      <th>18</th>\n",
       "      <th>19</th>\n",
       "      <th>20</th>\n",
       "      <th>21</th>\n",
       "      <th>22</th>\n",
       "      <th>23</th>\n",
       "      <th>ti</th>\n",
       "      <th>dl</th>\n",
       "    </tr>\n",
       "  </thead>\n",
       "  <tbody>\n",
       "    <tr>\n",
       "      <th>0</th>\n",
       "      <td>4.0</td>\n",
       "      <td>4.0</td>\n",
       "      <td>6.0</td>\n",
       "      <td>7.0</td>\n",
       "      <td>19.0</td>\n",
       "      <td>13.0</td>\n",
       "      <td>19.0</td>\n",
       "      <td>20.0</td>\n",
       "      <td>15.0</td>\n",
       "      <td>16.0</td>\n",
       "      <td>...</td>\n",
       "      <td>17.0</td>\n",
       "      <td>24.0</td>\n",
       "      <td>28.0</td>\n",
       "      <td>22.0</td>\n",
       "      <td>21.0</td>\n",
       "      <td>28.0</td>\n",
       "      <td>23.0</td>\n",
       "      <td>21.0</td>\n",
       "      <td>10</td>\n",
       "      <td>2016-09-19</td>\n",
       "    </tr>\n",
       "    <tr>\n",
       "      <th>1</th>\n",
       "      <td>6.0</td>\n",
       "      <td>7.0</td>\n",
       "      <td>10.0</td>\n",
       "      <td>10.0</td>\n",
       "      <td>8.0</td>\n",
       "      <td>21.0</td>\n",
       "      <td>15.0</td>\n",
       "      <td>23.0</td>\n",
       "      <td>12.0</td>\n",
       "      <td>18.0</td>\n",
       "      <td>...</td>\n",
       "      <td>21.0</td>\n",
       "      <td>24.0</td>\n",
       "      <td>32.0</td>\n",
       "      <td>19.0</td>\n",
       "      <td>36.0</td>\n",
       "      <td>32.0</td>\n",
       "      <td>36.0</td>\n",
       "      <td>23.0</td>\n",
       "      <td>10</td>\n",
       "      <td>2016-09-20</td>\n",
       "    </tr>\n",
       "    <tr>\n",
       "      <th>2</th>\n",
       "      <td>19.0</td>\n",
       "      <td>17.0</td>\n",
       "      <td>20.0</td>\n",
       "      <td>21.0</td>\n",
       "      <td>39.0</td>\n",
       "      <td>36.0</td>\n",
       "      <td>25.0</td>\n",
       "      <td>53.0</td>\n",
       "      <td>38.0</td>\n",
       "      <td>46.0</td>\n",
       "      <td>...</td>\n",
       "      <td>49.0</td>\n",
       "      <td>28.0</td>\n",
       "      <td>28.0</td>\n",
       "      <td>21.0</td>\n",
       "      <td>31.0</td>\n",
       "      <td>24.0</td>\n",
       "      <td>34.0</td>\n",
       "      <td>19.0</td>\n",
       "      <td>10</td>\n",
       "      <td>2016-09-21</td>\n",
       "    </tr>\n",
       "    <tr>\n",
       "      <th>3</th>\n",
       "      <td>1.0</td>\n",
       "      <td>5.0</td>\n",
       "      <td>3.0</td>\n",
       "      <td>7.0</td>\n",
       "      <td>19.0</td>\n",
       "      <td>17.0</td>\n",
       "      <td>14.0</td>\n",
       "      <td>14.0</td>\n",
       "      <td>18.0</td>\n",
       "      <td>22.0</td>\n",
       "      <td>...</td>\n",
       "      <td>26.0</td>\n",
       "      <td>25.0</td>\n",
       "      <td>18.0</td>\n",
       "      <td>25.0</td>\n",
       "      <td>24.0</td>\n",
       "      <td>28.0</td>\n",
       "      <td>21.0</td>\n",
       "      <td>38.0</td>\n",
       "      <td>10</td>\n",
       "      <td>2016-09-22</td>\n",
       "    </tr>\n",
       "    <tr>\n",
       "      <th>4</th>\n",
       "      <td>2.0</td>\n",
       "      <td>10.0</td>\n",
       "      <td>7.0</td>\n",
       "      <td>10.0</td>\n",
       "      <td>15.0</td>\n",
       "      <td>17.0</td>\n",
       "      <td>15.0</td>\n",
       "      <td>13.0</td>\n",
       "      <td>21.0</td>\n",
       "      <td>20.0</td>\n",
       "      <td>...</td>\n",
       "      <td>28.0</td>\n",
       "      <td>22.0</td>\n",
       "      <td>24.0</td>\n",
       "      <td>17.0</td>\n",
       "      <td>31.0</td>\n",
       "      <td>21.0</td>\n",
       "      <td>20.0</td>\n",
       "      <td>24.0</td>\n",
       "      <td>10</td>\n",
       "      <td>2016-09-23</td>\n",
       "    </tr>\n",
       "  </tbody>\n",
       "</table>\n",
       "<p>5 rows × 26 columns</p>\n",
       "</div>"
      ],
      "text/plain": [
       "      0     1     2     3     4     5     6     7     8     9     ...      \\\n",
       "0   4.0   4.0   6.0   7.0  19.0  13.0  19.0  20.0  15.0  16.0     ...       \n",
       "1   6.0   7.0  10.0  10.0   8.0  21.0  15.0  23.0  12.0  18.0     ...       \n",
       "2  19.0  17.0  20.0  21.0  39.0  36.0  25.0  53.0  38.0  46.0     ...       \n",
       "3   1.0   5.0   3.0   7.0  19.0  17.0  14.0  14.0  18.0  22.0     ...       \n",
       "4   2.0  10.0   7.0  10.0  15.0  17.0  15.0  13.0  21.0  20.0     ...       \n",
       "\n",
       "     16    17    18    19    20    21    22    23  ti          dl  \n",
       "0  17.0  24.0  28.0  22.0  21.0  28.0  23.0  21.0  10  2016-09-19  \n",
       "1  21.0  24.0  32.0  19.0  36.0  32.0  36.0  23.0  10  2016-09-20  \n",
       "2  49.0  28.0  28.0  21.0  31.0  24.0  34.0  19.0  10  2016-09-21  \n",
       "3  26.0  25.0  18.0  25.0  24.0  28.0  21.0  38.0  10  2016-09-22  \n",
       "4  28.0  22.0  24.0  17.0  31.0  21.0  20.0  24.0  10  2016-09-23  \n",
       "\n",
       "[5 rows x 26 columns]"
      ]
     },
     "execution_count": 29,
     "metadata": {},
     "output_type": "execute_result"
    }
   ],
   "source": [
    "df_morning.head()"
   ]
  },
  {
   "cell_type": "code",
   "execution_count": null,
   "metadata": {
    "collapsed": true
   },
   "outputs": [],
   "source": []
  },
  {
   "cell_type": "code",
   "execution_count": 30,
   "metadata": {
    "collapsed": true
   },
   "outputs": [],
   "source": [
    "holiday_list = []\n",
    "\n",
    "d1 = date(2016, 10, 1)  # start date\n",
    "d2 = date(2016, 10, 7)  # end date\n",
    "\n",
    "delta = d2 - d1         # timedelta\n",
    "\n",
    "for i in range(delta.days + 1):\n",
    "    holiday_list.append(d1 + timedelta(days=i))"
   ]
  },
  {
   "cell_type": "code",
   "execution_count": 31,
   "metadata": {
    "collapsed": true
   },
   "outputs": [],
   "source": [
    "df_morning2 = df_morning[~df_morning['dl'].isin(holiday_list)]\n",
    "df_night2 = df_night[~df_night['dl'].isin(holiday_list)]"
   ]
  },
  {
   "cell_type": "code",
   "execution_count": 32,
   "metadata": {
    "collapsed": false
   },
   "outputs": [
    {
     "data": {
      "text/html": [
       "<div>\n",
       "<table border=\"1\" class=\"dataframe\">\n",
       "  <thead>\n",
       "    <tr style=\"text-align: right;\">\n",
       "      <th></th>\n",
       "      <th>0</th>\n",
       "      <th>1</th>\n",
       "      <th>2</th>\n",
       "      <th>3</th>\n",
       "      <th>4</th>\n",
       "      <th>5</th>\n",
       "      <th>6</th>\n",
       "      <th>7</th>\n",
       "      <th>8</th>\n",
       "      <th>9</th>\n",
       "      <th>...</th>\n",
       "      <th>16</th>\n",
       "      <th>17</th>\n",
       "      <th>18</th>\n",
       "      <th>19</th>\n",
       "      <th>20</th>\n",
       "      <th>21</th>\n",
       "      <th>22</th>\n",
       "      <th>23</th>\n",
       "      <th>ti</th>\n",
       "      <th>dl</th>\n",
       "    </tr>\n",
       "  </thead>\n",
       "  <tbody>\n",
       "    <tr>\n",
       "      <th>0</th>\n",
       "      <td>4.0</td>\n",
       "      <td>4.0</td>\n",
       "      <td>6.0</td>\n",
       "      <td>7.0</td>\n",
       "      <td>19.0</td>\n",
       "      <td>13.0</td>\n",
       "      <td>19.0</td>\n",
       "      <td>20.0</td>\n",
       "      <td>15.0</td>\n",
       "      <td>16.0</td>\n",
       "      <td>...</td>\n",
       "      <td>17.0</td>\n",
       "      <td>24.0</td>\n",
       "      <td>28.0</td>\n",
       "      <td>22.0</td>\n",
       "      <td>21.0</td>\n",
       "      <td>28.0</td>\n",
       "      <td>23.0</td>\n",
       "      <td>21.0</td>\n",
       "      <td>10</td>\n",
       "      <td>2016-09-19</td>\n",
       "    </tr>\n",
       "    <tr>\n",
       "      <th>1</th>\n",
       "      <td>6.0</td>\n",
       "      <td>7.0</td>\n",
       "      <td>10.0</td>\n",
       "      <td>10.0</td>\n",
       "      <td>8.0</td>\n",
       "      <td>21.0</td>\n",
       "      <td>15.0</td>\n",
       "      <td>23.0</td>\n",
       "      <td>12.0</td>\n",
       "      <td>18.0</td>\n",
       "      <td>...</td>\n",
       "      <td>21.0</td>\n",
       "      <td>24.0</td>\n",
       "      <td>32.0</td>\n",
       "      <td>19.0</td>\n",
       "      <td>36.0</td>\n",
       "      <td>32.0</td>\n",
       "      <td>36.0</td>\n",
       "      <td>23.0</td>\n",
       "      <td>10</td>\n",
       "      <td>2016-09-20</td>\n",
       "    </tr>\n",
       "    <tr>\n",
       "      <th>2</th>\n",
       "      <td>19.0</td>\n",
       "      <td>17.0</td>\n",
       "      <td>20.0</td>\n",
       "      <td>21.0</td>\n",
       "      <td>39.0</td>\n",
       "      <td>36.0</td>\n",
       "      <td>25.0</td>\n",
       "      <td>53.0</td>\n",
       "      <td>38.0</td>\n",
       "      <td>46.0</td>\n",
       "      <td>...</td>\n",
       "      <td>49.0</td>\n",
       "      <td>28.0</td>\n",
       "      <td>28.0</td>\n",
       "      <td>21.0</td>\n",
       "      <td>31.0</td>\n",
       "      <td>24.0</td>\n",
       "      <td>34.0</td>\n",
       "      <td>19.0</td>\n",
       "      <td>10</td>\n",
       "      <td>2016-09-21</td>\n",
       "    </tr>\n",
       "    <tr>\n",
       "      <th>3</th>\n",
       "      <td>1.0</td>\n",
       "      <td>5.0</td>\n",
       "      <td>3.0</td>\n",
       "      <td>7.0</td>\n",
       "      <td>19.0</td>\n",
       "      <td>17.0</td>\n",
       "      <td>14.0</td>\n",
       "      <td>14.0</td>\n",
       "      <td>18.0</td>\n",
       "      <td>22.0</td>\n",
       "      <td>...</td>\n",
       "      <td>26.0</td>\n",
       "      <td>25.0</td>\n",
       "      <td>18.0</td>\n",
       "      <td>25.0</td>\n",
       "      <td>24.0</td>\n",
       "      <td>28.0</td>\n",
       "      <td>21.0</td>\n",
       "      <td>38.0</td>\n",
       "      <td>10</td>\n",
       "      <td>2016-09-22</td>\n",
       "    </tr>\n",
       "    <tr>\n",
       "      <th>4</th>\n",
       "      <td>2.0</td>\n",
       "      <td>10.0</td>\n",
       "      <td>7.0</td>\n",
       "      <td>10.0</td>\n",
       "      <td>15.0</td>\n",
       "      <td>17.0</td>\n",
       "      <td>15.0</td>\n",
       "      <td>13.0</td>\n",
       "      <td>21.0</td>\n",
       "      <td>20.0</td>\n",
       "      <td>...</td>\n",
       "      <td>28.0</td>\n",
       "      <td>22.0</td>\n",
       "      <td>24.0</td>\n",
       "      <td>17.0</td>\n",
       "      <td>31.0</td>\n",
       "      <td>21.0</td>\n",
       "      <td>20.0</td>\n",
       "      <td>24.0</td>\n",
       "      <td>10</td>\n",
       "      <td>2016-09-23</td>\n",
       "    </tr>\n",
       "  </tbody>\n",
       "</table>\n",
       "<p>5 rows × 26 columns</p>\n",
       "</div>"
      ],
      "text/plain": [
       "      0     1     2     3     4     5     6     7     8     9     ...      \\\n",
       "0   4.0   4.0   6.0   7.0  19.0  13.0  19.0  20.0  15.0  16.0     ...       \n",
       "1   6.0   7.0  10.0  10.0   8.0  21.0  15.0  23.0  12.0  18.0     ...       \n",
       "2  19.0  17.0  20.0  21.0  39.0  36.0  25.0  53.0  38.0  46.0     ...       \n",
       "3   1.0   5.0   3.0   7.0  19.0  17.0  14.0  14.0  18.0  22.0     ...       \n",
       "4   2.0  10.0   7.0  10.0  15.0  17.0  15.0  13.0  21.0  20.0     ...       \n",
       "\n",
       "     16    17    18    19    20    21    22    23  ti          dl  \n",
       "0  17.0  24.0  28.0  22.0  21.0  28.0  23.0  21.0  10  2016-09-19  \n",
       "1  21.0  24.0  32.0  19.0  36.0  32.0  36.0  23.0  10  2016-09-20  \n",
       "2  49.0  28.0  28.0  21.0  31.0  24.0  34.0  19.0  10  2016-09-21  \n",
       "3  26.0  25.0  18.0  25.0  24.0  28.0  21.0  38.0  10  2016-09-22  \n",
       "4  28.0  22.0  24.0  17.0  31.0  21.0  20.0  24.0  10  2016-09-23  \n",
       "\n",
       "[5 rows x 26 columns]"
      ]
     },
     "execution_count": 32,
     "metadata": {},
     "output_type": "execute_result"
    }
   ],
   "source": [
    "df_morning2.head()"
   ]
  },
  {
   "cell_type": "code",
   "execution_count": null,
   "metadata": {
    "collapsed": true
   },
   "outputs": [],
   "source": []
  },
  {
   "cell_type": "code",
   "execution_count": null,
   "metadata": {
    "collapsed": true
   },
   "outputs": [],
   "source": []
  },
  {
   "cell_type": "code",
   "execution_count": 33,
   "metadata": {
    "collapsed": true
   },
   "outputs": [],
   "source": [
    "from sklearn.neighbors import KNeighborsRegressor"
   ]
  },
  {
   "cell_type": "code",
   "execution_count": 34,
   "metadata": {
    "collapsed": true
   },
   "outputs": [],
   "source": [
    "def pred_loss(x_pred, x_true):\n",
    "    x_pred = np.array(x_pred).reshape(-1,2).sum(axis=1)\n",
    "    x_true = np.array(x_true).reshape(-1,2).sum(axis=1)\n",
    "    #print(x_true)\n",
    "\n",
    "    return (abs(x_pred-x_true)/x_true).mean()"
   ]
  },
  {
   "cell_type": "code",
   "execution_count": 35,
   "metadata": {
    "collapsed": false
   },
   "outputs": [],
   "source": [
    "# atets = df_morning2.iloc[:,:6].values"
   ]
  },
  {
   "cell_type": "code",
   "execution_count": 36,
   "metadata": {
    "collapsed": false
   },
   "outputs": [],
   "source": [
    "# df_morning2.iloc[:,:6] = \\\n",
    "# np.array([np.convolve(i, [0.00,1,0.0], 'same') for i in atets])"
   ]
  },
  {
   "cell_type": "code",
   "execution_count": null,
   "metadata": {
    "collapsed": true
   },
   "outputs": [],
   "source": []
  },
  {
   "cell_type": "code",
   "execution_count": 37,
   "metadata": {
    "collapsed": false
   },
   "outputs": [
    {
     "name": "stderr",
     "output_type": "stream",
     "text": [
      "/Users/yutao/anaconda/lib/python2.7/site-packages/ipykernel/__main__.py:1: SettingWithCopyWarning: \n",
      "A value is trying to be set on a copy of a slice from a DataFrame.\n",
      "Try using .loc[row_indexer,col_indexer] = value instead\n",
      "\n",
      "See the caveats in the documentation: http://pandas.pydata.org/pandas-docs/stable/indexing.html#indexing-view-versus-copy\n",
      "  if __name__ == '__main__':\n",
      "/Users/yutao/anaconda/lib/python2.7/site-packages/ipykernel/__main__.py:2: SettingWithCopyWarning: \n",
      "A value is trying to be set on a copy of a slice from a DataFrame.\n",
      "Try using .loc[row_indexer,col_indexer] = value instead\n",
      "\n",
      "See the caveats in the documentation: http://pandas.pydata.org/pandas-docs/stable/indexing.html#indexing-view-versus-copy\n",
      "  from ipykernel import kernelapp as app\n"
     ]
    }
   ],
   "source": [
    "df_morning2['wkwn'] = ([1,1,1,1,1,0,0,1,1,1,1,1,1,1,1,1,1,1,1,0,0,1]+[1,1,1,1,0,0,1])*5\n",
    "df_morning2['wkwn'] *= 35"
   ]
  },
  {
   "cell_type": "code",
   "execution_count": 38,
   "metadata": {
    "collapsed": false
   },
   "outputs": [],
   "source": [
    "# df_morning2['ti'] = df_morning2['ti'].apply(str)"
   ]
  },
  {
   "cell_type": "code",
   "execution_count": 39,
   "metadata": {
    "collapsed": false
   },
   "outputs": [],
   "source": [
    "#df_morning2 = pd.get_dummies(df_morning2, columns=['ti'])"
   ]
  },
  {
   "cell_type": "code",
   "execution_count": 40,
   "metadata": {
    "collapsed": false
   },
   "outputs": [],
   "source": [
    "#df_morning2.iloc[:,-5:] = df_morning2.iloc[:,-5:] * 10"
   ]
  },
  {
   "cell_type": "code",
   "execution_count": 41,
   "metadata": {
    "collapsed": false
   },
   "outputs": [],
   "source": [
    "date_train = df_morning2['dl'].unique()[:-7]\n",
    "\n",
    "df_morning2_train = df_morning2[df_morning2['dl'].isin(date_train)]\n",
    "df_morning2_valid = df_morning2[~df_morning2['dl'].isin(date_train)]"
   ]
  },
  {
   "cell_type": "code",
   "execution_count": 42,
   "metadata": {
    "collapsed": false
   },
   "outputs": [],
   "source": [
    "#df_morning2_valid = df_morning2_valid[df_morning2_valid.index!=84]"
   ]
  },
  {
   "cell_type": "code",
   "execution_count": 43,
   "metadata": {
    "collapsed": false
   },
   "outputs": [],
   "source": [
    "# df_morning2_train"
   ]
  },
  {
   "cell_type": "code",
   "execution_count": 408,
   "metadata": {
    "collapsed": false
   },
   "outputs": [],
   "source": [
    "X = df_morning2_train.iloc[:,[0,1,2,3,4,5,6,7,8,9,10,11,-1]]#.values\n",
    "#y = df_morning2_train.iloc[:,6:12]#.values\n",
    "y = df_morning2_train.iloc[:,12:24]\n"
   ]
  },
  {
   "cell_type": "code",
   "execution_count": null,
   "metadata": {
    "collapsed": true
   },
   "outputs": [],
   "source": []
  },
  {
   "cell_type": "code",
   "execution_count": 390,
   "metadata": {
    "collapsed": false
   },
   "outputs": [],
   "source": [
    "data = X.iloc[0,:12]"
   ]
  },
  {
   "cell_type": "code",
   "execution_count": 391,
   "metadata": {
    "collapsed": true
   },
   "outputs": [],
   "source": [
    "def wt(index_list,data,wavefunc,lv,m,n):   \n",
    "    # 打包为函数，方便调节参数。  lv为分解层数；data为最后保存的dataframe便于作图；index_list为待处理序列；wavefunc为选取的小波函数；m,n则选择了进行阈值处理的小波系数层数\n",
    "    # 分解\n",
    "    coeff = pywt.wavedec(index_list,wavefunc,mode='sym',level=lv)   \n",
    "    # 按 level 层分解，使用pywt包进行计算， cAn是尺度系数 cDn为小波系数\n",
    "    sgn = lambda x: 1 if x > 0 else -1 if x < 0 else 0 # sgn函数\n",
    "    # 去噪过程\n",
    "    for i in range(m,n+1):   # 选取小波系数层数为 m~n层，尺度系数不需要处理\n",
    "        cD = coeff[i]\n",
    "        for j in range(len(cD)):\n",
    "            Tr = np.sqrt(2*np.log(len(cD)))  # 计算阈值\n",
    "            if cD[j] >= Tr:\n",
    "                coeff[i][j] = sgn(cD[j]) - Tr  # 向零收缩\n",
    "            else:\n",
    "                coeff[i][j] = 0   # 低于阈值置零\n",
    "\n",
    "    # 重构\n",
    "    denoised_index = pywt.waverec(coeff,wavefunc)\n",
    "    return denoised_index\n",
    "\n",
    "# 调用函数wt\n",
    "# denoised = wt(index_list,data,'db4',3,2,3)"
   ]
  },
  {
   "cell_type": "code",
   "execution_count": 393,
   "metadata": {
    "collapsed": true
   },
   "outputs": [],
   "source": [
    "import pywt"
   ]
  },
  {
   "cell_type": "code",
   "execution_count": 401,
   "metadata": {
    "collapsed": false
   },
   "outputs": [
    {
     "data": {
      "text/plain": [
       "[<matplotlib.lines.Line2D at 0x113c45890>]"
      ]
     },
     "execution_count": 401,
     "metadata": {},
     "output_type": "execute_result"
    },
    {
     "data": {
      "image/png": "[encoded data removed]",
      "text/plain": [
       "<matplotlib.figure.Figure at 0x113c2a490>"
      ]
     },
     "metadata": {},
     "output_type": "display_data"
    }
   ],
   "source": [
    "plt.plot(data)\n",
    "plt.plot(wt(data,data,'db2',2,2,2))"
   ]
  },
  {
   "cell_type": "code",
   "execution_count": 405,
   "metadata": {
    "collapsed": false
   },
   "outputs": [
    {
     "data": {
      "text/plain": [
       "array([  4.,   4.,   6.,   7.,  19.,  13.,  19.,  20.,  15.,  16.,  20.,\n",
       "        23.])"
      ]
     },
     "execution_count": 405,
     "metadata": {},
     "output_type": "execute_result"
    }
   ],
   "source": [
    "X.iloc[:,:12].values[0]"
   ]
  },
  {
   "cell_type": "code",
   "execution_count": 409,
   "metadata": {
    "collapsed": false
   },
   "outputs": [],
   "source": [
    "X.iloc[:,:12] = np.array([wt(i,_,'db2',2,2,2) for i in X.iloc[:,:12].values])"
   ]
  },
  {
   "cell_type": "code",
   "execution_count": 414,
   "metadata": {
    "collapsed": false
   },
   "outputs": [],
   "source": [
    "Xv = df_morning2_valid.iloc[:,[0,1,2,3,4,5,6,7,8,9,10,11,-1]]"
   ]
  },
  {
   "cell_type": "code",
   "execution_count": 415,
   "metadata": {
    "collapsed": true
   },
   "outputs": [],
   "source": [
    "Xv.iloc[:,:12] = np.array([wt(i,_,'db2',2,2,2) for i in Xv.iloc[:,:12].values])"
   ]
  },
  {
   "cell_type": "code",
   "execution_count": null,
   "metadata": {
    "collapsed": true
   },
   "outputs": [],
   "source": []
  },
  {
   "cell_type": "code",
   "execution_count": 411,
   "metadata": {
    "collapsed": false
   },
   "outputs": [
    {
     "data": {
      "text/plain": [
       "KNeighborsRegressor(algorithm='auto', leaf_size=30, metric='minkowski',\n",
       "          metric_params=None, n_jobs=1, n_neighbors=9, p=2,\n",
       "          weights='distance')"
      ]
     },
     "execution_count": 411,
     "metadata": {},
     "output_type": "execute_result"
    }
   ],
   "source": [
    "neigh = KNeighborsRegressor(n_neighbors=9, weights='distance')\n",
    "neigh.fit(X, y)\n",
    "# for _ in range(3):\n",
    "#     y = 0.1*y + 0.9*neigh.predict(X)\n",
    "#     neigh.fit(X, y)\n",
    "    "
   ]
  },
  {
   "cell_type": "code",
   "execution_count": 419,
   "metadata": {
    "collapsed": false
   },
   "outputs": [
    {
     "data": {
      "text/plain": [
       "0.1164372637452647"
      ]
     },
     "execution_count": 419,
     "metadata": {},
     "output_type": "execute_result"
    }
   ],
   "source": [
    "pred_loss(np.vectorize(round)(neigh.predict(Xv)-1), \n",
    "          df_morning2_valid.iloc[:,12:24])"
   ]
  },
  {
   "cell_type": "code",
   "execution_count": 306,
   "metadata": {
    "collapsed": false
   },
   "outputs": [
    {
     "data": {
      "text/plain": [
       "0.10849615522538006"
      ]
     },
     "execution_count": 306,
     "metadata": {},
     "output_type": "execute_result"
    }
   ],
   "source": [
    "pred_loss((neigh.predict(df_morning2_valid.iloc[:,[0,1,2,3,4,5,6,7,8,9,10,11,-1]])-1.5), \n",
    "          df_morning2_valid.iloc[:,12:24])"
   ]
  },
  {
   "cell_type": "code",
   "execution_count": 307,
   "metadata": {
    "collapsed": true
   },
   "outputs": [],
   "source": [
    "from scipy.spatial.distance import wminkowski, minkowski"
   ]
  },
  {
   "cell_type": "code",
   "execution_count": 351,
   "metadata": {
    "collapsed": true
   },
   "outputs": [],
   "source": [
    "def weight_func(x):\n",
    "    if np.partition(x[0], -8)[-8]<20:\n",
    "        return np.array([[1/i if i<=20 else 0 for i in x[0]]])\n",
    "    else:\n",
    "        return np.array([[1/i if i<=np.partition(x[0], -8)[-8] else 0 for i in x[0]]])"
   ]
  },
  {
   "cell_type": "code",
   "execution_count": 383,
   "metadata": {
    "collapsed": false
   },
   "outputs": [
    {
     "data": {
      "text/plain": [
       "KNeighborsRegressor(algorithm='brute', leaf_size=30,\n",
       "          metric=<function <lambda> at 0x10d399b18>, metric_params=None,\n",
       "          n_jobs=1, n_neighbors=9, p=2,\n",
       "          weights=<function weight_func at 0x10db1e1b8>)"
      ]
     },
     "execution_count": 383,
     "metadata": {},
     "output_type": "execute_result"
    }
   ],
   "source": [
    "k = -0.1\n",
    "\n",
    "wmink = np.append(np.logspace(k,0,12), np.logspace(k,0,12).mean())\n",
    "\n",
    "neigh = KNeighborsRegressor(n_neighbors=9, \n",
    "                            algorithm='brute',\n",
    "                            weights=weight_func,\n",
    "                            metric=lambda a,b: wminkowski(a,b,2,wmink))\n",
    "\n",
    "neigh.fit(X, y)"
   ]
  },
  {
   "cell_type": "code",
   "execution_count": 384,
   "metadata": {
    "collapsed": false
   },
   "outputs": [
    {
     "data": {
      "text/plain": [
       "0.10826635739487822"
      ]
     },
     "execution_count": 384,
     "metadata": {},
     "output_type": "execute_result"
    }
   ],
   "source": [
    "pred_loss((neigh.predict(df_morning2_valid.iloc[:,[0,1,2,3,4,5,6,7,8,9,10,11,-1]])-1.5), \n",
    "          df_morning2_valid.iloc[:,12:24])"
   ]
  },
  {
   "cell_type": "code",
   "execution_count": 327,
   "metadata": {
    "collapsed": false
   },
   "outputs": [],
   "source": [
    "weight_result = []\n",
    "for k in np.linspace(-0.6,0.2,41):\n",
    "\n",
    "    wmink = np.append(np.logspace(k,0,12), np.logspace(k,0,12).mean())\n",
    "\n",
    "    neigh = KNeighborsRegressor(n_neighbors=9, \n",
    "                                algorithm='brute',\n",
    "                                weights='distance',\n",
    "                                metric=lambda a,b: wminkowski(a,b,2,wmink))\n",
    "    neigh.fit(X, y)\n",
    "\n",
    "    loss = \\\n",
    "    pred_loss((neigh.predict(df_morning2_valid.iloc[:,[0,1,2,3,4,5,6,7,8,9,10,11,-1]]))-1.5, \n",
    "          df_morning2_valid.iloc[:,12:24])\n",
    "    weight_result.append(([k, loss]))\n",
    "    "
   ]
  },
  {
   "cell_type": "code",
   "execution_count": 328,
   "metadata": {
    "collapsed": false
   },
   "outputs": [
    {
     "data": {
      "text/plain": [
       "[<matplotlib.lines.Line2D at 0x10db08710>]"
      ]
     },
     "execution_count": 328,
     "metadata": {},
     "output_type": "execute_result"
    },
    {
     "data": {
      "image/png": "[encoded data removed]",
      "text/plain": [
       "<matplotlib.figure.Figure at 0x10be06f10>"
      ]
     },
     "metadata": {},
     "output_type": "display_data"
    }
   ],
   "source": [
    "plt.plot([i[0] for i in weight_result], [i[1] for i in weight_result])"
   ]
  },
  {
   "cell_type": "code",
   "execution_count": 112,
   "metadata": {
    "collapsed": true
   },
   "outputs": [],
   "source": [
    "neigh_morning = copy.deepcopy(neigh)\n"
   ]
  },
  {
   "cell_type": "code",
   "execution_count": null,
   "metadata": {
    "collapsed": true
   },
   "outputs": [],
   "source": []
  },
  {
   "cell_type": "code",
   "execution_count": 271,
   "metadata": {
    "collapsed": false
   },
   "outputs": [
    {
     "data": {
      "text/plain": [
       "KNeighborsRegressor(algorithm='brute', leaf_size=30,\n",
       "          metric=<function <lambda> at 0x10d1cc5f0>, metric_params=None,\n",
       "          n_jobs=1, n_neighbors=9, p=2, weights='distance')"
      ]
     },
     "execution_count": 271,
     "metadata": {},
     "output_type": "execute_result"
    }
   ],
   "source": [
    "X = df_morning2.iloc[:,[0,1,2,3,4,5,6,7,8,9,10,11,-1]]#.values\n",
    "y = df_morning2.iloc[:,12:24]\n",
    "X = X.drop([98,145])\n",
    "y = y.drop([98,145])\n",
    "\n",
    "k = -0.1\n",
    "\n",
    "wmink = np.append(np.logspace(k,0,12), np.logspace(k,0,12).mean())\n",
    "\n",
    "neigh = KNeighborsRegressor(n_neighbors=9, \n",
    "                            algorithm='brute',\n",
    "                            weights='distance',\n",
    "                            metric=lambda a,b: wminkowski(a,b,2,wmink))\n",
    "\n",
    "neigh.fit(X, y)"
   ]
  },
  {
   "cell_type": "code",
   "execution_count": 272,
   "metadata": {
    "collapsed": false
   },
   "outputs": [
    {
     "data": {
      "text/plain": [
       "0.036685494697065335"
      ]
     },
     "execution_count": 272,
     "metadata": {},
     "output_type": "execute_result"
    }
   ],
   "source": [
    "pred_loss((neigh.predict(df_morning2_valid.iloc[:,[0,1,2,3,4,5,6,7,8,9,10,11,-1]])-1.5), \n",
    "          df_morning2_valid.iloc[:,12:24])"
   ]
  },
  {
   "cell_type": "code",
   "execution_count": 273,
   "metadata": {
    "collapsed": true
   },
   "outputs": [],
   "source": [
    "neigh_morning_all = copy.deepcopy(neigh)"
   ]
  },
  {
   "cell_type": "code",
   "execution_count": 274,
   "metadata": {
    "collapsed": false
   },
   "outputs": [
    {
     "name": "stderr",
     "output_type": "stream",
     "text": [
      "/Users/yutao/anaconda/lib/python2.7/site-packages/sklearn/utils/validation.py:386: DeprecationWarning: Passing 1d arrays as data is deprecated in 0.17 and willraise ValueError in 0.19. Reshape your data either using X.reshape(-1, 1) if your data has a single feature or X.reshape(1, -1) if it contains a single sample.\n",
      "  DeprecationWarning)\n"
     ]
    },
    {
     "data": {
      "text/plain": [
       "array([[ 29.56452444,  30.77229729,  33.82878291,  32.83611513,\n",
       "         35.03425183,  38.33526968,  36.48833349,  37.01304935,\n",
       "         35.96666296,  39.99792797,  36.42325368,  37.5591328 ]])"
      ]
     },
     "execution_count": 274,
     "metadata": {},
     "output_type": "execute_result"
    }
   ],
   "source": [
    "neigh_morning_all.predict(df_morning2.loc[98][[0,1,2,3,4,5,6,7,8,9,10,11,-1]])"
   ]
  },
  {
   "cell_type": "code",
   "execution_count": null,
   "metadata": {
    "collapsed": true
   },
   "outputs": [],
   "source": []
  },
  {
   "cell_type": "code",
   "execution_count": 56,
   "metadata": {
    "collapsed": true
   },
   "outputs": [],
   "source": [
    "# neigh = KNeighborsRegressor(n_neighbors=12, \n",
    "#                             algorithm='brute',\n",
    "#                             weights='distance',\n",
    "#                             #metric=lambda a,b: wminkowski(a,b,2,wmink),\n",
    "#                             #metric=lambda a, b: minkowski(a,b,2),\n",
    "#                             metric= adjusted_minkowski\n",
    "#                            )\n",
    "# neigh.fit(X, y)\n",
    "# for _ in range(0):\n",
    "#     y = 0.1*y + 0.9*neigh.predict(X)\n",
    "#     neigh.fit(X, y)\n",
    "    "
   ]
  },
  {
   "cell_type": "code",
   "execution_count": null,
   "metadata": {
    "collapsed": true
   },
   "outputs": [],
   "source": []
  },
  {
   "cell_type": "code",
   "execution_count": 57,
   "metadata": {
    "collapsed": true
   },
   "outputs": [],
   "source": [
    "# X = df_morning2_train.iloc[:,[0,1,2,3,4,5,-6]]#.values\n",
    "# y = df_morning2_train.iloc[:,6]#.values"
   ]
  },
  {
   "cell_type": "code",
   "execution_count": 58,
   "metadata": {
    "collapsed": true
   },
   "outputs": [],
   "source": [
    "# neigh = KNeighborsRegressor(n_neighbors=5)\n",
    "# neigh.fit(X, y)\n",
    "# for _ in range(3):\n",
    "#     y = 0.1*y + 0.9*neigh.predict(X)\n",
    "#     neigh.fit(X, y)"
   ]
  },
  {
   "cell_type": "code",
   "execution_count": 59,
   "metadata": {
    "collapsed": false
   },
   "outputs": [],
   "source": [
    "# pred_loss(np.vectorize(round)(neigh.predict(df_morning2_valid.iloc[:,[0,1,2,3,4,5,-6]])-4), \n",
    "#           df_morning2_valid.iloc[:,6])"
   ]
  },
  {
   "cell_type": "markdown",
   "metadata": {},
   "source": [
    "# Outlier in test data, use some outliers in national days as proxy training data"
   ]
  },
  {
   "cell_type": "code",
   "execution_count": null,
   "metadata": {
    "collapsed": true
   },
   "outputs": [],
   "source": []
  },
  {
   "cell_type": "code",
   "execution_count": null,
   "metadata": {
    "collapsed": true
   },
   "outputs": [],
   "source": []
  },
  {
   "cell_type": "markdown",
   "metadata": {},
   "source": [
    "# Remove outliers"
   ]
  },
  {
   "cell_type": "code",
   "execution_count": 60,
   "metadata": {
    "collapsed": false
   },
   "outputs": [
    {
     "data": {
      "text/plain": [
       "<matplotlib.collections.PathCollection at 0x10bfd33d0>"
      ]
     },
     "execution_count": 60,
     "metadata": {},
     "output_type": "execute_result"
    },
    {
     "name": "stderr",
     "output_type": "stream",
     "text": [
      "/Users/yutao/anaconda/lib/python2.7/site-packages/matplotlib/collections.py:590: FutureWarning: elementwise comparison failed; returning scalar instead, but in the future will perform elementwise comparison\n",
      "  if self._edgecolors == str('face'):\n"
     ]
    },
    {
     "data": {
      "image/png": "[encoded data removed]",
      "text/plain": [
       "<matplotlib.figure.Figure at 0x10b72bed0>"
      ]
     },
     "metadata": {},
     "output_type": "display_data"
    }
   ],
   "source": [
    "plt.scatter(df_morning2.iloc[:,:12].sum(axis=1), df_morning2.iloc[:,12:24].sum(axis=1))"
   ]
  },
  {
   "cell_type": "code",
   "execution_count": 61,
   "metadata": {
    "collapsed": false
   },
   "outputs": [
    {
     "data": {
      "text/html": [
       "<div>\n",
       "<table border=\"1\" class=\"dataframe\">\n",
       "  <thead>\n",
       "    <tr style=\"text-align: right;\">\n",
       "      <th></th>\n",
       "      <th>0</th>\n",
       "      <th>1</th>\n",
       "      <th>2</th>\n",
       "      <th>3</th>\n",
       "      <th>4</th>\n",
       "      <th>5</th>\n",
       "      <th>6</th>\n",
       "      <th>7</th>\n",
       "      <th>8</th>\n",
       "      <th>9</th>\n",
       "      <th>...</th>\n",
       "      <th>17</th>\n",
       "      <th>18</th>\n",
       "      <th>19</th>\n",
       "      <th>20</th>\n",
       "      <th>21</th>\n",
       "      <th>22</th>\n",
       "      <th>23</th>\n",
       "      <th>ti</th>\n",
       "      <th>dl</th>\n",
       "      <th>wkwn</th>\n",
       "    </tr>\n",
       "  </thead>\n",
       "  <tbody>\n",
       "    <tr>\n",
       "      <th>98</th>\n",
       "      <td>13.0</td>\n",
       "      <td>8.0</td>\n",
       "      <td>13.0</td>\n",
       "      <td>0.0</td>\n",
       "      <td>0.0</td>\n",
       "      <td>0.0</td>\n",
       "      <td>0.0</td>\n",
       "      <td>0.0</td>\n",
       "      <td>10.0</td>\n",
       "      <td>40.0</td>\n",
       "      <td>...</td>\n",
       "      <td>50.0</td>\n",
       "      <td>55.0</td>\n",
       "      <td>53.0</td>\n",
       "      <td>59.0</td>\n",
       "      <td>65.0</td>\n",
       "      <td>58.0</td>\n",
       "      <td>37.0</td>\n",
       "      <td>20</td>\n",
       "      <td>2016-10-15</td>\n",
       "      <td>0</td>\n",
       "    </tr>\n",
       "  </tbody>\n",
       "</table>\n",
       "<p>1 rows × 27 columns</p>\n",
       "</div>"
      ],
      "text/plain": [
       "       0    1     2    3    4    5    6    7     8     9  ...     17    18  \\\n",
       "98  13.0  8.0  13.0  0.0  0.0  0.0  0.0  0.0  10.0  40.0  ...   50.0  55.0   \n",
       "\n",
       "      19    20    21    22    23  ti          dl  wkwn  \n",
       "98  53.0  59.0  65.0  58.0  37.0  20  2016-10-15     0  \n",
       "\n",
       "[1 rows x 27 columns]"
      ]
     },
     "execution_count": 61,
     "metadata": {},
     "output_type": "execute_result"
    }
   ],
   "source": [
    "df_morning2[(df_morning2.iloc[:,:12].sum(axis=1)<200)&(df_morning2.iloc[:,12:24].sum(axis=1)>600)]"
   ]
  },
  {
   "cell_type": "code",
   "execution_count": 146,
   "metadata": {
    "collapsed": false
   },
   "outputs": [
    {
     "data": {
      "text/html": [
       "<div>\n",
       "<table border=\"1\" class=\"dataframe\">\n",
       "  <thead>\n",
       "    <tr style=\"text-align: right;\">\n",
       "      <th></th>\n",
       "      <th>0</th>\n",
       "      <th>1</th>\n",
       "      <th>2</th>\n",
       "      <th>3</th>\n",
       "      <th>4</th>\n",
       "      <th>5</th>\n",
       "      <th>6</th>\n",
       "      <th>7</th>\n",
       "      <th>8</th>\n",
       "      <th>9</th>\n",
       "      <th>...</th>\n",
       "      <th>17</th>\n",
       "      <th>18</th>\n",
       "      <th>19</th>\n",
       "      <th>20</th>\n",
       "      <th>21</th>\n",
       "      <th>22</th>\n",
       "      <th>23</th>\n",
       "      <th>ti</th>\n",
       "      <th>dl</th>\n",
       "      <th>wkwn</th>\n",
       "    </tr>\n",
       "  </thead>\n",
       "  <tbody>\n",
       "    <tr>\n",
       "      <th>145</th>\n",
       "      <td>11.0</td>\n",
       "      <td>13.0</td>\n",
       "      <td>22.0</td>\n",
       "      <td>21.0</td>\n",
       "      <td>35.0</td>\n",
       "      <td>31.0</td>\n",
       "      <td>20.0</td>\n",
       "      <td>63.0</td>\n",
       "      <td>46.0</td>\n",
       "      <td>51.0</td>\n",
       "      <td>...</td>\n",
       "      <td>102.0</td>\n",
       "      <td>93.0</td>\n",
       "      <td>98.0</td>\n",
       "      <td>114.0</td>\n",
       "      <td>108.0</td>\n",
       "      <td>85.0</td>\n",
       "      <td>89.0</td>\n",
       "      <td>31</td>\n",
       "      <td>2016-09-20</td>\n",
       "      <td>35</td>\n",
       "    </tr>\n",
       "  </tbody>\n",
       "</table>\n",
       "<p>1 rows × 27 columns</p>\n",
       "</div>"
      ],
      "text/plain": [
       "        0     1     2     3     4     5     6     7     8     9  ...      17  \\\n",
       "145  11.0  13.0  22.0  21.0  35.0  31.0  20.0  63.0  46.0  51.0  ...   102.0   \n",
       "\n",
       "       18    19     20     21    22    23  ti          dl  wkwn  \n",
       "145  93.0  98.0  114.0  108.0  85.0  89.0  31  2016-09-20    35  \n",
       "\n",
       "[1 rows x 27 columns]"
      ]
     },
     "execution_count": 146,
     "metadata": {},
     "output_type": "execute_result"
    }
   ],
   "source": [
    "df_morning2[(df_morning2.iloc[:,:12].sum(axis=1)<500)&(df_morning2.iloc[:,12:24].sum(axis=1)>1000)]"
   ]
  },
  {
   "cell_type": "code",
   "execution_count": null,
   "metadata": {
    "collapsed": true
   },
   "outputs": [],
   "source": []
  },
  {
   "cell_type": "code",
   "execution_count": null,
   "metadata": {
    "collapsed": true
   },
   "outputs": [],
   "source": []
  },
  {
   "cell_type": "markdown",
   "metadata": {},
   "source": [
    "# Submission (morning)"
   ]
  },
  {
   "cell_type": "code",
   "execution_count": 293,
   "metadata": {
    "collapsed": false
   },
   "outputs": [
    {
     "data": {
      "text/plain": [
       "KNeighborsRegressor(algorithm='brute', leaf_size=30,\n",
       "          metric=<function <lambda> at 0x10d1cc938>, metric_params=None,\n",
       "          n_jobs=1, n_neighbors=9, p=2, weights='distance')"
      ]
     },
     "execution_count": 293,
     "metadata": {},
     "output_type": "execute_result"
    }
   ],
   "source": [
    "X = df_morning2.iloc[:,[0,1,2,3,4,5,6,7,8,9,10,11,-1]]#.values\n",
    "y = df_morning2.iloc[:,12:24]\n",
    "X = X.drop([98,145])\n",
    "y = y.drop([98,145])\n",
    "\n",
    "k = -0.1\n",
    "\n",
    "wmink = np.append(np.logspace(k,0,12), np.logspace(k,0,12).mean())\n",
    "\n",
    "neigh_morning_all = KNeighborsRegressor(n_neighbors=9, \n",
    "                            algorithm='brute',\n",
    "                            weights='distance',\n",
    "                            metric=lambda a,b: wminkowski(a,b,2,wmink))\n",
    "\n",
    "neigh_morning_all.fit(X, y)"
   ]
  },
  {
   "cell_type": "code",
   "execution_count": 294,
   "metadata": {
    "collapsed": true
   },
   "outputs": [],
   "source": [
    "morn_pred = neigh_morning_all.predict(df_morning_test.iloc[:,[0,1,2,3,4,5,6,7,8,9,10,11,-1]])-1.5\n"
   ]
  },
  {
   "cell_type": "code",
   "execution_count": 295,
   "metadata": {
    "collapsed": false
   },
   "outputs": [
    {
     "data": {
      "text/plain": [
       "20486.456794542668"
      ]
     },
     "execution_count": 295,
     "metadata": {},
     "output_type": "execute_result"
    }
   ],
   "source": [
    "morn_pred.sum()"
   ]
  },
  {
   "cell_type": "code",
   "execution_count": 296,
   "metadata": {
    "collapsed": false
   },
   "outputs": [],
   "source": [
    "daily_mean = df_morning2.mean()[:24]\n",
    "\n",
    "adjusted19 = np.array(df_morning_test.iloc[19,:12].sum() / daily_mean[:12].sum() * daily_mean[12:24])"
   ]
  },
  {
   "cell_type": "code",
   "execution_count": null,
   "metadata": {
    "collapsed": true
   },
   "outputs": [],
   "source": []
  },
  {
   "cell_type": "code",
   "execution_count": 297,
   "metadata": {
    "collapsed": false
   },
   "outputs": [],
   "source": [
    "morn_pred[19] = adjusted19 - 1.5"
   ]
  },
  {
   "cell_type": "code",
   "execution_count": 298,
   "metadata": {
    "collapsed": false,
    "scrolled": true
   },
   "outputs": [],
   "source": [
    "morn_pred = \\\n",
    "np.transpose((morn_pred[:,::2]+morn_pred[:,1::2]).reshape(5,7,6), \n",
    "             axes=(0,2,1)).reshape(1,-1)[0]"
   ]
  },
  {
   "cell_type": "code",
   "execution_count": 299,
   "metadata": {
    "collapsed": false
   },
   "outputs": [
    {
     "data": {
      "text/plain": [
       "array([ 6.79531385,  6.99880495,  7.15257425,  7.14152496,  7.28608651,\n",
       "        7.1829598 ,  7.16270277,  7.04392289,  6.69126636,  6.7934723 ,\n",
       "        6.23456234,  6.09184233])"
      ]
     },
     "execution_count": 299,
     "metadata": {},
     "output_type": "execute_result"
    }
   ],
   "source": [
    "adjusted19"
   ]
  },
  {
   "cell_type": "code",
   "execution_count": null,
   "metadata": {
    "collapsed": true
   },
   "outputs": [],
   "source": []
  },
  {
   "cell_type": "code",
   "execution_count": 300,
   "metadata": {
    "collapsed": false,
    "scrolled": true
   },
   "outputs": [],
   "source": [
    "import pickle"
   ]
  },
  {
   "cell_type": "code",
   "execution_count": 301,
   "metadata": {
    "collapsed": true
   },
   "outputs": [],
   "source": [
    "pickle.dump(morn_pred, open('morn_pred1.p', 'wb'))"
   ]
  },
  {
   "cell_type": "code",
   "execution_count": null,
   "metadata": {
    "collapsed": true
   },
   "outputs": [],
   "source": []
  },
  {
   "cell_type": "code",
   "execution_count": 220,
   "metadata": {
    "collapsed": false
   },
   "outputs": [
    {
     "data": {
      "text/plain": [
       "34    102.0\n",
       "33    112.0\n",
       "10    116.0\n",
       "20    118.0\n",
       "6     123.0\n",
       "dtype: float64"
      ]
     },
     "execution_count": 220,
     "metadata": {},
     "output_type": "execute_result"
    }
   ],
   "source": [
    "df_morning2.iloc[:,:12].sum(axis=1).sort_values().iloc[:5]"
   ]
  },
  {
   "cell_type": "code",
   "execution_count": 221,
   "metadata": {
    "collapsed": false
   },
   "outputs": [
    {
     "data": {
      "text/plain": [
       "19     47\n",
       "4     135\n",
       "2     149\n",
       "1     154\n",
       "3     154\n",
       "dtype: int64"
      ]
     },
     "execution_count": 221,
     "metadata": {},
     "output_type": "execute_result"
    }
   ],
   "source": [
    "df_morning_test.iloc[:,:12].sum(axis=1).sort_values().iloc[:5]"
   ]
  },
  {
   "cell_type": "code",
   "execution_count": 77,
   "metadata": {
    "collapsed": false
   },
   "outputs": [
    {
     "data": {
      "text/plain": [
       "0                1\n",
       "1                9\n",
       "2                6\n",
       "3                4\n",
       "4                7\n",
       "5                7\n",
       "6               16\n",
       "7               21\n",
       "8               19\n",
       "9               23\n",
       "10              36\n",
       "11              22\n",
       "ti              20\n",
       "dl      2016-10-31\n",
       "wkwn            35\n",
       "Name: 20, dtype: object"
      ]
     },
     "execution_count": 77,
     "metadata": {},
     "output_type": "execute_result"
    }
   ],
   "source": [
    "df_morning_test.loc[20]"
   ]
  },
  {
   "cell_type": "code",
   "execution_count": 80,
   "metadata": {
    "collapsed": false
   },
   "outputs": [
    {
     "data": {
      "text/plain": [
       "0                0\n",
       "1                6\n",
       "2                5\n",
       "3                4\n",
       "4                4\n",
       "5               10\n",
       "6               14\n",
       "7               28\n",
       "8               14\n",
       "9               23\n",
       "10              26\n",
       "11              18\n",
       "12              20\n",
       "13              17\n",
       "14              14\n",
       "15              16\n",
       "16              12\n",
       "17              54\n",
       "18              48\n",
       "19              56\n",
       "20              55\n",
       "21              45\n",
       "22              40\n",
       "23              40\n",
       "ti              20\n",
       "dl      2016-09-21\n",
       "wkwn            35\n",
       "Name: 74, dtype: object"
      ]
     },
     "execution_count": 80,
     "metadata": {},
     "output_type": "execute_result"
    }
   ],
   "source": [
    "df_morning2.iloc[60]"
   ]
  },
  {
   "cell_type": "code",
   "execution_count": 76,
   "metadata": {
    "collapsed": false
   },
   "outputs": [
    {
     "name": "stderr",
     "output_type": "stream",
     "text": [
      "/Users/yutao/anaconda/lib/python2.7/site-packages/sklearn/utils/validation.py:386: DeprecationWarning: Passing 1d arrays as data is deprecated in 0.17 and willraise ValueError in 0.19. Reshape your data either using X.reshape(-1, 1) if your data has a single feature or X.reshape(1, -1) if it contains a single sample.\n",
      "  DeprecationWarning)\n"
     ]
    },
    {
     "data": {
      "text/plain": [
       "(array([[ 16.96821207,  22.06153124,  22.28010959,  24.59949376,\n",
       "          24.69284053,  24.90583467,  24.91771152,  25.24975704,\n",
       "          26.44147888]]), array([[60, 21, 28, 14, 25, 22,  4, 67, 16]]))"
      ]
     },
     "execution_count": 76,
     "metadata": {},
     "output_type": "execute_result"
    }
   ],
   "source": [
    "neigh_morning_all.kneighbors(df_morning_test.loc[20,[0,1,2,3,4,5,6,7,8,9,10,11,'wkwn']])"
   ]
  },
  {
   "cell_type": "code",
   "execution_count": null,
   "metadata": {
    "collapsed": true
   },
   "outputs": [],
   "source": []
  },
  {
   "cell_type": "code",
   "execution_count": null,
   "metadata": {
    "collapsed": true
   },
   "outputs": [],
   "source": []
  },
  {
   "cell_type": "code",
   "execution_count": null,
   "metadata": {
    "collapsed": true
   },
   "outputs": [],
   "source": []
  },
  {
   "cell_type": "code",
   "execution_count": null,
   "metadata": {
    "collapsed": true
   },
   "outputs": [],
   "source": []
  },
  {
   "cell_type": "code",
   "execution_count": 51,
   "metadata": {
    "collapsed": true
   },
   "outputs": [],
   "source": [
    "X = df_morning2_train.iloc[:,[0,1,2,3,4,5,-1]]#.values\n",
    "y = df_morning2_train.iloc[:,6]#.values"
   ]
  },
  {
   "cell_type": "code",
   "execution_count": 52,
   "metadata": {
    "collapsed": false
   },
   "outputs": [
    {
     "data": {
      "text/plain": [
       "SVR(C=0.1, cache_size=200, coef0=0.0, degree=3, epsilon=0.1, gamma='auto',\n",
       "  kernel='rbf', max_iter=-1, shrinking=True, tol=0.001, verbose=False)"
      ]
     },
     "execution_count": 52,
     "metadata": {},
     "output_type": "execute_result"
    }
   ],
   "source": [
    "from sklearn import svm\n",
    "\n",
    "clf = svm.SVR(C=0.1, epsilon=0.1)\n",
    "clf.fit(X, y) \n"
   ]
  },
  {
   "cell_type": "code",
   "execution_count": 53,
   "metadata": {
    "collapsed": false
   },
   "outputs": [
    {
     "ename": "ValueError",
     "evalue": "total size of new array must be unchanged",
     "output_type": "error",
     "traceback": [
      "\u001b[0;31m---------------------------------------------------------------------------\u001b[0m",
      "\u001b[0;31mValueError\u001b[0m                                Traceback (most recent call last)",
      "\u001b[0;32m<ipython-input-53-30956594d09b>\u001b[0m in \u001b[0;36m<module>\u001b[0;34m()\u001b[0m\n\u001b[1;32m      1\u001b[0m pred_loss(np.vectorize(round)(clf.predict(df_morning2_valid.iloc[:,[0,1,2,3,4,5,-6]])-4), \n\u001b[0;32m----> 2\u001b[0;31m           df_morning2_valid.iloc[:,6])\n\u001b[0m",
      "\u001b[0;32m<ipython-input-31-ec058d85556b>\u001b[0m in \u001b[0;36mpred_loss\u001b[0;34m(x_pred, x_true)\u001b[0m\n\u001b[1;32m      1\u001b[0m \u001b[0;32mdef\u001b[0m \u001b[0mpred_loss\u001b[0m\u001b[0;34m(\u001b[0m\u001b[0mx_pred\u001b[0m\u001b[0;34m,\u001b[0m \u001b[0mx_true\u001b[0m\u001b[0;34m)\u001b[0m\u001b[0;34m:\u001b[0m\u001b[0;34m\u001b[0m\u001b[0m\n\u001b[0;32m----> 2\u001b[0;31m     \u001b[0mx_pred\u001b[0m \u001b[0;34m=\u001b[0m \u001b[0mnp\u001b[0m\u001b[0;34m.\u001b[0m\u001b[0marray\u001b[0m\u001b[0;34m(\u001b[0m\u001b[0mx_pred\u001b[0m\u001b[0;34m)\u001b[0m\u001b[0;34m.\u001b[0m\u001b[0mreshape\u001b[0m\u001b[0;34m(\u001b[0m\u001b[0;34m-\u001b[0m\u001b[0;36m1\u001b[0m\u001b[0;34m,\u001b[0m\u001b[0;36m2\u001b[0m\u001b[0;34m)\u001b[0m\u001b[0;34m.\u001b[0m\u001b[0msum\u001b[0m\u001b[0;34m(\u001b[0m\u001b[0maxis\u001b[0m\u001b[0;34m=\u001b[0m\u001b[0;36m1\u001b[0m\u001b[0;34m)\u001b[0m\u001b[0;34m\u001b[0m\u001b[0m\n\u001b[0m\u001b[1;32m      3\u001b[0m     \u001b[0mx_true\u001b[0m \u001b[0;34m=\u001b[0m \u001b[0mnp\u001b[0m\u001b[0;34m.\u001b[0m\u001b[0marray\u001b[0m\u001b[0;34m(\u001b[0m\u001b[0mx_true\u001b[0m\u001b[0;34m)\u001b[0m\u001b[0;34m.\u001b[0m\u001b[0mreshape\u001b[0m\u001b[0;34m(\u001b[0m\u001b[0;34m-\u001b[0m\u001b[0;36m1\u001b[0m\u001b[0;34m,\u001b[0m\u001b[0;36m2\u001b[0m\u001b[0;34m)\u001b[0m\u001b[0;34m.\u001b[0m\u001b[0msum\u001b[0m\u001b[0;34m(\u001b[0m\u001b[0maxis\u001b[0m\u001b[0;34m=\u001b[0m\u001b[0;36m1\u001b[0m\u001b[0;34m)\u001b[0m\u001b[0;34m\u001b[0m\u001b[0m\n\u001b[1;32m      4\u001b[0m     \u001b[0;31m#print(x_true)\u001b[0m\u001b[0;34m\u001b[0m\u001b[0;34m\u001b[0m\u001b[0m\n\u001b[1;32m      5\u001b[0m \u001b[0;34m\u001b[0m\u001b[0m\n",
      "\u001b[0;31mValueError\u001b[0m: total size of new array must be unchanged"
     ]
    }
   ],
   "source": [
    "pred_loss(np.vectorize(round)(clf.predict(df_morning2_valid.iloc[:,[0,1,2,3,4,5,-6]])-4), \n",
    "          df_morning2_valid.iloc[:,6])"
   ]
  },
  {
   "cell_type": "code",
   "execution_count": null,
   "metadata": {
    "collapsed": false
   },
   "outputs": [],
   "source": [
    "clf.predict(df_morning2_valid.iloc[:,[0,1,2,3,4,5,-6]])"
   ]
  },
  {
   "cell_type": "code",
   "execution_count": null,
   "metadata": {
    "collapsed": true
   },
   "outputs": [],
   "source": []
  },
  {
   "cell_type": "code",
   "execution_count": null,
   "metadata": {
    "collapsed": true
   },
   "outputs": [],
   "source": []
  },
  {
   "cell_type": "code",
   "execution_count": null,
   "metadata": {
    "collapsed": true
   },
   "outputs": [],
   "source": [
    "npredm = neigh.predict(df_morning2_valid.iloc[:,[0,1,2,3,4,5,-1]])"
   ]
  },
  {
   "cell_type": "code",
   "execution_count": null,
   "metadata": {
    "collapsed": false
   },
   "outputs": [],
   "source": [
    "ratio = (df_morning2_train.mean()[6:12])/sum(df_morning2_train.mean()[6:12])"
   ]
  },
  {
   "cell_type": "code",
   "execution_count": null,
   "metadata": {
    "collapsed": false
   },
   "outputs": [],
   "source": [
    "ratio = np.array(ratio)"
   ]
  },
  {
   "cell_type": "code",
   "execution_count": null,
   "metadata": {
    "collapsed": false,
    "scrolled": true
   },
   "outputs": [],
   "source": [
    "npredm2 = np.array([i.sum()*ratio for i in npredm])"
   ]
  },
  {
   "cell_type": "code",
   "execution_count": null,
   "metadata": {
    "collapsed": false
   },
   "outputs": [],
   "source": [
    "pred_loss(npredm2, \n",
    "          df_morning2_valid.iloc[:,6:12])"
   ]
  },
  {
   "cell_type": "code",
   "execution_count": null,
   "metadata": {
    "collapsed": true
   },
   "outputs": [],
   "source": []
  },
  {
   "cell_type": "code",
   "execution_count": null,
   "metadata": {
    "collapsed": true
   },
   "outputs": [],
   "source": [
    "from scipy.spatial.distance import wminkowski, minkowski"
   ]
  },
  {
   "cell_type": "code",
   "execution_count": null,
   "metadata": {
    "collapsed": false
   },
   "outputs": [],
   "source": [
    "wminkowski([1,2], [3,4], 2, [1,2])"
   ]
  },
  {
   "cell_type": "code",
   "execution_count": null,
   "metadata": {
    "collapsed": true
   },
   "outputs": [],
   "source": [
    "?KNeighborsRegressor"
   ]
  },
  {
   "cell_type": "code",
   "execution_count": null,
   "metadata": {
    "collapsed": true
   },
   "outputs": [],
   "source": [
    "def adjusted_minkowski(a, b):\n",
    "    dist = minkowski(a, b, 2)\n",
    "    if dist > 1e-2:\n",
    "        return dist\n",
    "    return 1000"
   ]
  },
  {
   "cell_type": "code",
   "execution_count": null,
   "metadata": {
    "collapsed": false
   },
   "outputs": [],
   "source": [
    "X = df_morning2_train.iloc[:,[0,1,2,3,4,5,-1]].values\n",
    "y = df_morning2_train.iloc[:,6:12].values\n",
    "\n",
    "#wmink = np.append(np.logspace(0,0,6), 1)\n",
    "\n",
    "neigh = KNeighborsRegressor(n_neighbors=12, \n",
    "                            algorithm='brute',\n",
    "                            weights='distance',\n",
    "                            #metric=lambda a,b: wminkowski(a,b,2,wmink),\n",
    "                            #metric=lambda a, b: minkowski(a,b,2),\n",
    "                            metric= adjusted_minkowski\n",
    "                           )\n",
    "neigh.fit(X, y)\n"
   ]
  },
  {
   "cell_type": "code",
   "execution_count": 54,
   "metadata": {
    "collapsed": false
   },
   "outputs": [
    {
     "ename": "ValueError",
     "evalue": "query data dimension must match training data dimension",
     "output_type": "error",
     "traceback": [
      "\u001b[0;31m---------------------------------------------------------------------------\u001b[0m",
      "\u001b[0;31mValueError\u001b[0m                                Traceback (most recent call last)",
      "\u001b[0;32m<ipython-input-54-168c23f9b75e>\u001b[0m in \u001b[0;36m<module>\u001b[0;34m()\u001b[0m\n\u001b[0;32m----> 1\u001b[0;31m pred_loss(np.vectorize(round)(neigh.predict(df_morning2_valid.iloc[:,[0,1,2,3,4,5,-1]])-4), \n\u001b[0m\u001b[1;32m      2\u001b[0m           df_morning2_valid.iloc[:,6:12])\n",
      "\u001b[0;32m/Users/yutao/anaconda/lib/python2.7/site-packages/sklearn/neighbors/regression.pyc\u001b[0m in \u001b[0;36mpredict\u001b[0;34m(self, X)\u001b[0m\n\u001b[1;32m    142\u001b[0m         \u001b[0mX\u001b[0m \u001b[0;34m=\u001b[0m \u001b[0mcheck_array\u001b[0m\u001b[0;34m(\u001b[0m\u001b[0mX\u001b[0m\u001b[0;34m,\u001b[0m \u001b[0maccept_sparse\u001b[0m\u001b[0;34m=\u001b[0m\u001b[0;34m'csr'\u001b[0m\u001b[0;34m)\u001b[0m\u001b[0;34m\u001b[0m\u001b[0m\n\u001b[1;32m    143\u001b[0m \u001b[0;34m\u001b[0m\u001b[0m\n\u001b[0;32m--> 144\u001b[0;31m         \u001b[0mneigh_dist\u001b[0m\u001b[0;34m,\u001b[0m \u001b[0mneigh_ind\u001b[0m \u001b[0;34m=\u001b[0m \u001b[0mself\u001b[0m\u001b[0;34m.\u001b[0m\u001b[0mkneighbors\u001b[0m\u001b[0;34m(\u001b[0m\u001b[0mX\u001b[0m\u001b[0;34m)\u001b[0m\u001b[0;34m\u001b[0m\u001b[0m\n\u001b[0m\u001b[1;32m    145\u001b[0m \u001b[0;34m\u001b[0m\u001b[0m\n\u001b[1;32m    146\u001b[0m         \u001b[0mweights\u001b[0m \u001b[0;34m=\u001b[0m \u001b[0m_get_weights\u001b[0m\u001b[0;34m(\u001b[0m\u001b[0mneigh_dist\u001b[0m\u001b[0;34m,\u001b[0m \u001b[0mself\u001b[0m\u001b[0;34m.\u001b[0m\u001b[0mweights\u001b[0m\u001b[0;34m)\u001b[0m\u001b[0;34m\u001b[0m\u001b[0m\n",
      "\u001b[0;32m/Users/yutao/anaconda/lib/python2.7/site-packages/sklearn/neighbors/base.pyc\u001b[0m in \u001b[0;36mkneighbors\u001b[0;34m(self, X, n_neighbors, return_distance)\u001b[0m\n\u001b[1;32m    397\u001b[0m                 delayed(self._tree.query, check_pickle=False)(\n\u001b[1;32m    398\u001b[0m                     X[s], n_neighbors, return_distance)\n\u001b[0;32m--> 399\u001b[0;31m                 \u001b[0;32mfor\u001b[0m \u001b[0ms\u001b[0m \u001b[0;32min\u001b[0m \u001b[0mgen_even_slices\u001b[0m\u001b[0;34m(\u001b[0m\u001b[0mX\u001b[0m\u001b[0;34m.\u001b[0m\u001b[0mshape\u001b[0m\u001b[0;34m[\u001b[0m\u001b[0;36m0\u001b[0m\u001b[0;34m]\u001b[0m\u001b[0;34m,\u001b[0m \u001b[0mn_jobs\u001b[0m\u001b[0;34m)\u001b[0m\u001b[0;34m\u001b[0m\u001b[0m\n\u001b[0m\u001b[1;32m    400\u001b[0m             )\n\u001b[1;32m    401\u001b[0m             \u001b[0;32mif\u001b[0m \u001b[0mreturn_distance\u001b[0m\u001b[0;34m:\u001b[0m\u001b[0;34m\u001b[0m\u001b[0m\n",
      "\u001b[0;32m/Users/yutao/anaconda/lib/python2.7/site-packages/sklearn/externals/joblib/parallel.pyc\u001b[0m in \u001b[0;36m__call__\u001b[0;34m(self, iterable)\u001b[0m\n\u001b[1;32m    798\u001b[0m             \u001b[0;31m# was dispatched. In particular this covers the edge\u001b[0m\u001b[0;34m\u001b[0m\u001b[0;34m\u001b[0m\u001b[0m\n\u001b[1;32m    799\u001b[0m             \u001b[0;31m# case of Parallel used with an exhausted iterator.\u001b[0m\u001b[0;34m\u001b[0m\u001b[0;34m\u001b[0m\u001b[0m\n\u001b[0;32m--> 800\u001b[0;31m             \u001b[0;32mwhile\u001b[0m \u001b[0mself\u001b[0m\u001b[0;34m.\u001b[0m\u001b[0mdispatch_one_batch\u001b[0m\u001b[0;34m(\u001b[0m\u001b[0miterator\u001b[0m\u001b[0;34m)\u001b[0m\u001b[0;34m:\u001b[0m\u001b[0;34m\u001b[0m\u001b[0m\n\u001b[0m\u001b[1;32m    801\u001b[0m                 \u001b[0mself\u001b[0m\u001b[0;34m.\u001b[0m\u001b[0m_iterating\u001b[0m \u001b[0;34m=\u001b[0m \u001b[0mTrue\u001b[0m\u001b[0;34m\u001b[0m\u001b[0m\n\u001b[1;32m    802\u001b[0m             \u001b[0;32melse\u001b[0m\u001b[0;34m:\u001b[0m\u001b[0;34m\u001b[0m\u001b[0m\n",
      "\u001b[0;32m/Users/yutao/anaconda/lib/python2.7/site-packages/sklearn/externals/joblib/parallel.pyc\u001b[0m in \u001b[0;36mdispatch_one_batch\u001b[0;34m(self, iterator)\u001b[0m\n\u001b[1;32m    656\u001b[0m                 \u001b[0;32mreturn\u001b[0m \u001b[0mFalse\u001b[0m\u001b[0;34m\u001b[0m\u001b[0m\n\u001b[1;32m    657\u001b[0m             \u001b[0;32melse\u001b[0m\u001b[0;34m:\u001b[0m\u001b[0;34m\u001b[0m\u001b[0m\n\u001b[0;32m--> 658\u001b[0;31m                 \u001b[0mself\u001b[0m\u001b[0;34m.\u001b[0m\u001b[0m_dispatch\u001b[0m\u001b[0;34m(\u001b[0m\u001b[0mtasks\u001b[0m\u001b[0;34m)\u001b[0m\u001b[0;34m\u001b[0m\u001b[0m\n\u001b[0m\u001b[1;32m    659\u001b[0m                 \u001b[0;32mreturn\u001b[0m \u001b[0mTrue\u001b[0m\u001b[0;34m\u001b[0m\u001b[0m\n\u001b[1;32m    660\u001b[0m \u001b[0;34m\u001b[0m\u001b[0m\n",
      "\u001b[0;32m/Users/yutao/anaconda/lib/python2.7/site-packages/sklearn/externals/joblib/parallel.pyc\u001b[0m in \u001b[0;36m_dispatch\u001b[0;34m(self, batch)\u001b[0m\n\u001b[1;32m    564\u001b[0m \u001b[0;34m\u001b[0m\u001b[0m\n\u001b[1;32m    565\u001b[0m         \u001b[0;32mif\u001b[0m \u001b[0mself\u001b[0m\u001b[0;34m.\u001b[0m\u001b[0m_pool\u001b[0m \u001b[0;32mis\u001b[0m \u001b[0mNone\u001b[0m\u001b[0;34m:\u001b[0m\u001b[0;34m\u001b[0m\u001b[0m\n\u001b[0;32m--> 566\u001b[0;31m             \u001b[0mjob\u001b[0m \u001b[0;34m=\u001b[0m \u001b[0mImmediateComputeBatch\u001b[0m\u001b[0;34m(\u001b[0m\u001b[0mbatch\u001b[0m\u001b[0;34m)\u001b[0m\u001b[0;34m\u001b[0m\u001b[0m\n\u001b[0m\u001b[1;32m    567\u001b[0m             \u001b[0mself\u001b[0m\u001b[0;34m.\u001b[0m\u001b[0m_jobs\u001b[0m\u001b[0;34m.\u001b[0m\u001b[0mappend\u001b[0m\u001b[0;34m(\u001b[0m\u001b[0mjob\u001b[0m\u001b[0;34m)\u001b[0m\u001b[0;34m\u001b[0m\u001b[0m\n\u001b[1;32m    568\u001b[0m             \u001b[0mself\u001b[0m\u001b[0;34m.\u001b[0m\u001b[0mn_dispatched_batches\u001b[0m \u001b[0;34m+=\u001b[0m \u001b[0;36m1\u001b[0m\u001b[0;34m\u001b[0m\u001b[0m\n",
      "\u001b[0;32m/Users/yutao/anaconda/lib/python2.7/site-packages/sklearn/externals/joblib/parallel.pyc\u001b[0m in \u001b[0;36m__init__\u001b[0;34m(self, batch)\u001b[0m\n\u001b[1;32m    178\u001b[0m         \u001b[0;31m# Don't delay the application, to avoid keeping the input\u001b[0m\u001b[0;34m\u001b[0m\u001b[0;34m\u001b[0m\u001b[0m\n\u001b[1;32m    179\u001b[0m         \u001b[0;31m# arguments in memory\u001b[0m\u001b[0;34m\u001b[0m\u001b[0;34m\u001b[0m\u001b[0m\n\u001b[0;32m--> 180\u001b[0;31m         \u001b[0mself\u001b[0m\u001b[0;34m.\u001b[0m\u001b[0mresults\u001b[0m \u001b[0;34m=\u001b[0m \u001b[0mbatch\u001b[0m\u001b[0;34m(\u001b[0m\u001b[0;34m)\u001b[0m\u001b[0;34m\u001b[0m\u001b[0m\n\u001b[0m\u001b[1;32m    181\u001b[0m \u001b[0;34m\u001b[0m\u001b[0m\n\u001b[1;32m    182\u001b[0m     \u001b[0;32mdef\u001b[0m \u001b[0mget\u001b[0m\u001b[0;34m(\u001b[0m\u001b[0mself\u001b[0m\u001b[0;34m)\u001b[0m\u001b[0;34m:\u001b[0m\u001b[0;34m\u001b[0m\u001b[0m\n",
      "\u001b[0;32m/Users/yutao/anaconda/lib/python2.7/site-packages/sklearn/externals/joblib/parallel.pyc\u001b[0m in \u001b[0;36m__call__\u001b[0;34m(self)\u001b[0m\n\u001b[1;32m     70\u001b[0m \u001b[0;34m\u001b[0m\u001b[0m\n\u001b[1;32m     71\u001b[0m     \u001b[0;32mdef\u001b[0m \u001b[0m__call__\u001b[0m\u001b[0;34m(\u001b[0m\u001b[0mself\u001b[0m\u001b[0;34m)\u001b[0m\u001b[0;34m:\u001b[0m\u001b[0;34m\u001b[0m\u001b[0m\n\u001b[0;32m---> 72\u001b[0;31m         \u001b[0;32mreturn\u001b[0m \u001b[0;34m[\u001b[0m\u001b[0mfunc\u001b[0m\u001b[0;34m(\u001b[0m\u001b[0;34m*\u001b[0m\u001b[0margs\u001b[0m\u001b[0;34m,\u001b[0m \u001b[0;34m**\u001b[0m\u001b[0mkwargs\u001b[0m\u001b[0;34m)\u001b[0m \u001b[0;32mfor\u001b[0m \u001b[0mfunc\u001b[0m\u001b[0;34m,\u001b[0m \u001b[0margs\u001b[0m\u001b[0;34m,\u001b[0m \u001b[0mkwargs\u001b[0m \u001b[0;32min\u001b[0m \u001b[0mself\u001b[0m\u001b[0;34m.\u001b[0m\u001b[0mitems\u001b[0m\u001b[0;34m]\u001b[0m\u001b[0;34m\u001b[0m\u001b[0m\n\u001b[0m\u001b[1;32m     73\u001b[0m \u001b[0;34m\u001b[0m\u001b[0m\n\u001b[1;32m     74\u001b[0m     \u001b[0;32mdef\u001b[0m \u001b[0m__len__\u001b[0m\u001b[0;34m(\u001b[0m\u001b[0mself\u001b[0m\u001b[0;34m)\u001b[0m\u001b[0;34m:\u001b[0m\u001b[0;34m\u001b[0m\u001b[0m\n",
      "\u001b[0;32msklearn/neighbors/binary_tree.pxi\u001b[0m in \u001b[0;36msklearn.neighbors.kd_tree.BinaryTree.query (sklearn/neighbors/kd_tree.c:10451)\u001b[0;34m()\u001b[0m\n",
      "\u001b[0;31mValueError\u001b[0m: query data dimension must match training data dimension"
     ]
    }
   ],
   "source": [
    "pred_loss(np.vectorize(round)(neigh.predict(df_morning2_valid.iloc[:,[0,1,2,3,4,5,-1]])-4), \n",
    "          df_morning2_valid.iloc[:,6:12])"
   ]
  },
  {
   "cell_type": "code",
   "execution_count": null,
   "metadata": {
    "collapsed": true
   },
   "outputs": [],
   "source": []
  },
  {
   "cell_type": "code",
   "execution_count": 55,
   "metadata": {
    "collapsed": false
   },
   "outputs": [
    {
     "ename": "ValueError",
     "evalue": "query data dimension must match training data dimension",
     "output_type": "error",
     "traceback": [
      "\u001b[0;31m---------------------------------------------------------------------------\u001b[0m",
      "\u001b[0;31mValueError\u001b[0m                                Traceback (most recent call last)",
      "\u001b[0;32m<ipython-input-55-8584f31c49b9>\u001b[0m in \u001b[0;36m<module>\u001b[0;34m()\u001b[0m\n\u001b[0;32m----> 1\u001b[0;31m \u001b[0mnpred\u001b[0m \u001b[0;34m=\u001b[0m \u001b[0mneigh_morning\u001b[0m\u001b[0;34m.\u001b[0m\u001b[0mpredict\u001b[0m\u001b[0;34m(\u001b[0m\u001b[0mdf_morning2_valid\u001b[0m\u001b[0;34m.\u001b[0m\u001b[0miloc\u001b[0m\u001b[0;34m[\u001b[0m\u001b[0;34m:\u001b[0m\u001b[0;34m,\u001b[0m\u001b[0;34m[\u001b[0m\u001b[0;36m0\u001b[0m\u001b[0;34m,\u001b[0m\u001b[0;36m1\u001b[0m\u001b[0;34m,\u001b[0m\u001b[0;36m2\u001b[0m\u001b[0;34m,\u001b[0m\u001b[0;36m3\u001b[0m\u001b[0;34m,\u001b[0m\u001b[0;36m4\u001b[0m\u001b[0;34m,\u001b[0m\u001b[0;36m5\u001b[0m\u001b[0;34m,\u001b[0m\u001b[0;34m-\u001b[0m\u001b[0;36m1\u001b[0m\u001b[0;34m]\u001b[0m\u001b[0;34m]\u001b[0m\u001b[0;34m)\u001b[0m\u001b[0;34m\u001b[0m\u001b[0m\n\u001b[0m\u001b[1;32m      2\u001b[0m \u001b[0mntrue\u001b[0m \u001b[0;34m=\u001b[0m \u001b[0mdf_morning2_valid\u001b[0m\u001b[0;34m.\u001b[0m\u001b[0miloc\u001b[0m\u001b[0;34m[\u001b[0m\u001b[0;34m:\u001b[0m\u001b[0;34m,\u001b[0m\u001b[0;36m6\u001b[0m\u001b[0;34m:\u001b[0m\u001b[0;36m12\u001b[0m\u001b[0;34m]\u001b[0m\u001b[0;34m.\u001b[0m\u001b[0mvalues\u001b[0m\u001b[0;34m\u001b[0m\u001b[0m\n",
      "\u001b[0;32m/Users/yutao/anaconda/lib/python2.7/site-packages/sklearn/neighbors/regression.pyc\u001b[0m in \u001b[0;36mpredict\u001b[0;34m(self, X)\u001b[0m\n\u001b[1;32m    142\u001b[0m         \u001b[0mX\u001b[0m \u001b[0;34m=\u001b[0m \u001b[0mcheck_array\u001b[0m\u001b[0;34m(\u001b[0m\u001b[0mX\u001b[0m\u001b[0;34m,\u001b[0m \u001b[0maccept_sparse\u001b[0m\u001b[0;34m=\u001b[0m\u001b[0;34m'csr'\u001b[0m\u001b[0;34m)\u001b[0m\u001b[0;34m\u001b[0m\u001b[0m\n\u001b[1;32m    143\u001b[0m \u001b[0;34m\u001b[0m\u001b[0m\n\u001b[0;32m--> 144\u001b[0;31m         \u001b[0mneigh_dist\u001b[0m\u001b[0;34m,\u001b[0m \u001b[0mneigh_ind\u001b[0m \u001b[0;34m=\u001b[0m \u001b[0mself\u001b[0m\u001b[0;34m.\u001b[0m\u001b[0mkneighbors\u001b[0m\u001b[0;34m(\u001b[0m\u001b[0mX\u001b[0m\u001b[0;34m)\u001b[0m\u001b[0;34m\u001b[0m\u001b[0m\n\u001b[0m\u001b[1;32m    145\u001b[0m \u001b[0;34m\u001b[0m\u001b[0m\n\u001b[1;32m    146\u001b[0m         \u001b[0mweights\u001b[0m \u001b[0;34m=\u001b[0m \u001b[0m_get_weights\u001b[0m\u001b[0;34m(\u001b[0m\u001b[0mneigh_dist\u001b[0m\u001b[0;34m,\u001b[0m \u001b[0mself\u001b[0m\u001b[0;34m.\u001b[0m\u001b[0mweights\u001b[0m\u001b[0;34m)\u001b[0m\u001b[0;34m\u001b[0m\u001b[0m\n",
      "\u001b[0;32m/Users/yutao/anaconda/lib/python2.7/site-packages/sklearn/neighbors/base.pyc\u001b[0m in \u001b[0;36mkneighbors\u001b[0;34m(self, X, n_neighbors, return_distance)\u001b[0m\n\u001b[1;32m    397\u001b[0m                 delayed(self._tree.query, check_pickle=False)(\n\u001b[1;32m    398\u001b[0m                     X[s], n_neighbors, return_distance)\n\u001b[0;32m--> 399\u001b[0;31m                 \u001b[0;32mfor\u001b[0m \u001b[0ms\u001b[0m \u001b[0;32min\u001b[0m \u001b[0mgen_even_slices\u001b[0m\u001b[0;34m(\u001b[0m\u001b[0mX\u001b[0m\u001b[0;34m.\u001b[0m\u001b[0mshape\u001b[0m\u001b[0;34m[\u001b[0m\u001b[0;36m0\u001b[0m\u001b[0;34m]\u001b[0m\u001b[0;34m,\u001b[0m \u001b[0mn_jobs\u001b[0m\u001b[0;34m)\u001b[0m\u001b[0;34m\u001b[0m\u001b[0m\n\u001b[0m\u001b[1;32m    400\u001b[0m             )\n\u001b[1;32m    401\u001b[0m             \u001b[0;32mif\u001b[0m \u001b[0mreturn_distance\u001b[0m\u001b[0;34m:\u001b[0m\u001b[0;34m\u001b[0m\u001b[0m\n",
      "\u001b[0;32m/Users/yutao/anaconda/lib/python2.7/site-packages/sklearn/externals/joblib/parallel.pyc\u001b[0m in \u001b[0;36m__call__\u001b[0;34m(self, iterable)\u001b[0m\n\u001b[1;32m    798\u001b[0m             \u001b[0;31m# was dispatched. In particular this covers the edge\u001b[0m\u001b[0;34m\u001b[0m\u001b[0;34m\u001b[0m\u001b[0m\n\u001b[1;32m    799\u001b[0m             \u001b[0;31m# case of Parallel used with an exhausted iterator.\u001b[0m\u001b[0;34m\u001b[0m\u001b[0;34m\u001b[0m\u001b[0m\n\u001b[0;32m--> 800\u001b[0;31m             \u001b[0;32mwhile\u001b[0m \u001b[0mself\u001b[0m\u001b[0;34m.\u001b[0m\u001b[0mdispatch_one_batch\u001b[0m\u001b[0;34m(\u001b[0m\u001b[0miterator\u001b[0m\u001b[0;34m)\u001b[0m\u001b[0;34m:\u001b[0m\u001b[0;34m\u001b[0m\u001b[0m\n\u001b[0m\u001b[1;32m    801\u001b[0m                 \u001b[0mself\u001b[0m\u001b[0;34m.\u001b[0m\u001b[0m_iterating\u001b[0m \u001b[0;34m=\u001b[0m \u001b[0mTrue\u001b[0m\u001b[0;34m\u001b[0m\u001b[0m\n\u001b[1;32m    802\u001b[0m             \u001b[0;32melse\u001b[0m\u001b[0;34m:\u001b[0m\u001b[0;34m\u001b[0m\u001b[0m\n",
      "\u001b[0;32m/Users/yutao/anaconda/lib/python2.7/site-packages/sklearn/externals/joblib/parallel.pyc\u001b[0m in \u001b[0;36mdispatch_one_batch\u001b[0;34m(self, iterator)\u001b[0m\n\u001b[1;32m    656\u001b[0m                 \u001b[0;32mreturn\u001b[0m \u001b[0mFalse\u001b[0m\u001b[0;34m\u001b[0m\u001b[0m\n\u001b[1;32m    657\u001b[0m             \u001b[0;32melse\u001b[0m\u001b[0;34m:\u001b[0m\u001b[0;34m\u001b[0m\u001b[0m\n\u001b[0;32m--> 658\u001b[0;31m                 \u001b[0mself\u001b[0m\u001b[0;34m.\u001b[0m\u001b[0m_dispatch\u001b[0m\u001b[0;34m(\u001b[0m\u001b[0mtasks\u001b[0m\u001b[0;34m)\u001b[0m\u001b[0;34m\u001b[0m\u001b[0m\n\u001b[0m\u001b[1;32m    659\u001b[0m                 \u001b[0;32mreturn\u001b[0m \u001b[0mTrue\u001b[0m\u001b[0;34m\u001b[0m\u001b[0m\n\u001b[1;32m    660\u001b[0m \u001b[0;34m\u001b[0m\u001b[0m\n",
      "\u001b[0;32m/Users/yutao/anaconda/lib/python2.7/site-packages/sklearn/externals/joblib/parallel.pyc\u001b[0m in \u001b[0;36m_dispatch\u001b[0;34m(self, batch)\u001b[0m\n\u001b[1;32m    564\u001b[0m \u001b[0;34m\u001b[0m\u001b[0m\n\u001b[1;32m    565\u001b[0m         \u001b[0;32mif\u001b[0m \u001b[0mself\u001b[0m\u001b[0;34m.\u001b[0m\u001b[0m_pool\u001b[0m \u001b[0;32mis\u001b[0m \u001b[0mNone\u001b[0m\u001b[0;34m:\u001b[0m\u001b[0;34m\u001b[0m\u001b[0m\n\u001b[0;32m--> 566\u001b[0;31m             \u001b[0mjob\u001b[0m \u001b[0;34m=\u001b[0m \u001b[0mImmediateComputeBatch\u001b[0m\u001b[0;34m(\u001b[0m\u001b[0mbatch\u001b[0m\u001b[0;34m)\u001b[0m\u001b[0;34m\u001b[0m\u001b[0m\n\u001b[0m\u001b[1;32m    567\u001b[0m             \u001b[0mself\u001b[0m\u001b[0;34m.\u001b[0m\u001b[0m_jobs\u001b[0m\u001b[0;34m.\u001b[0m\u001b[0mappend\u001b[0m\u001b[0;34m(\u001b[0m\u001b[0mjob\u001b[0m\u001b[0;34m)\u001b[0m\u001b[0;34m\u001b[0m\u001b[0m\n\u001b[1;32m    568\u001b[0m             \u001b[0mself\u001b[0m\u001b[0;34m.\u001b[0m\u001b[0mn_dispatched_batches\u001b[0m \u001b[0;34m+=\u001b[0m \u001b[0;36m1\u001b[0m\u001b[0;34m\u001b[0m\u001b[0m\n",
      "\u001b[0;32m/Users/yutao/anaconda/lib/python2.7/site-packages/sklearn/externals/joblib/parallel.pyc\u001b[0m in \u001b[0;36m__init__\u001b[0;34m(self, batch)\u001b[0m\n\u001b[1;32m    178\u001b[0m         \u001b[0;31m# Don't delay the application, to avoid keeping the input\u001b[0m\u001b[0;34m\u001b[0m\u001b[0;34m\u001b[0m\u001b[0m\n\u001b[1;32m    179\u001b[0m         \u001b[0;31m# arguments in memory\u001b[0m\u001b[0;34m\u001b[0m\u001b[0;34m\u001b[0m\u001b[0m\n\u001b[0;32m--> 180\u001b[0;31m         \u001b[0mself\u001b[0m\u001b[0;34m.\u001b[0m\u001b[0mresults\u001b[0m \u001b[0;34m=\u001b[0m \u001b[0mbatch\u001b[0m\u001b[0;34m(\u001b[0m\u001b[0;34m)\u001b[0m\u001b[0;34m\u001b[0m\u001b[0m\n\u001b[0m\u001b[1;32m    181\u001b[0m \u001b[0;34m\u001b[0m\u001b[0m\n\u001b[1;32m    182\u001b[0m     \u001b[0;32mdef\u001b[0m \u001b[0mget\u001b[0m\u001b[0;34m(\u001b[0m\u001b[0mself\u001b[0m\u001b[0;34m)\u001b[0m\u001b[0;34m:\u001b[0m\u001b[0;34m\u001b[0m\u001b[0m\n",
      "\u001b[0;32m/Users/yutao/anaconda/lib/python2.7/site-packages/sklearn/externals/joblib/parallel.pyc\u001b[0m in \u001b[0;36m__call__\u001b[0;34m(self)\u001b[0m\n\u001b[1;32m     70\u001b[0m \u001b[0;34m\u001b[0m\u001b[0m\n\u001b[1;32m     71\u001b[0m     \u001b[0;32mdef\u001b[0m \u001b[0m__call__\u001b[0m\u001b[0;34m(\u001b[0m\u001b[0mself\u001b[0m\u001b[0;34m)\u001b[0m\u001b[0;34m:\u001b[0m\u001b[0;34m\u001b[0m\u001b[0m\n\u001b[0;32m---> 72\u001b[0;31m         \u001b[0;32mreturn\u001b[0m \u001b[0;34m[\u001b[0m\u001b[0mfunc\u001b[0m\u001b[0;34m(\u001b[0m\u001b[0;34m*\u001b[0m\u001b[0margs\u001b[0m\u001b[0;34m,\u001b[0m \u001b[0;34m**\u001b[0m\u001b[0mkwargs\u001b[0m\u001b[0;34m)\u001b[0m \u001b[0;32mfor\u001b[0m \u001b[0mfunc\u001b[0m\u001b[0;34m,\u001b[0m \u001b[0margs\u001b[0m\u001b[0;34m,\u001b[0m \u001b[0mkwargs\u001b[0m \u001b[0;32min\u001b[0m \u001b[0mself\u001b[0m\u001b[0;34m.\u001b[0m\u001b[0mitems\u001b[0m\u001b[0;34m]\u001b[0m\u001b[0;34m\u001b[0m\u001b[0m\n\u001b[0m\u001b[1;32m     73\u001b[0m \u001b[0;34m\u001b[0m\u001b[0m\n\u001b[1;32m     74\u001b[0m     \u001b[0;32mdef\u001b[0m \u001b[0m__len__\u001b[0m\u001b[0;34m(\u001b[0m\u001b[0mself\u001b[0m\u001b[0;34m)\u001b[0m\u001b[0;34m:\u001b[0m\u001b[0;34m\u001b[0m\u001b[0m\n",
      "\u001b[0;32msklearn/neighbors/binary_tree.pxi\u001b[0m in \u001b[0;36msklearn.neighbors.kd_tree.BinaryTree.query (sklearn/neighbors/kd_tree.c:10451)\u001b[0;34m()\u001b[0m\n",
      "\u001b[0;31mValueError\u001b[0m: query data dimension must match training data dimension"
     ]
    }
   ],
   "source": [
    "npred = neigh_morning.predict(df_morning2_valid.iloc[:,[0,1,2,3,4,5,-1]])\n",
    "ntrue = df_morning2_valid.iloc[:,6:12].values\n"
   ]
  },
  {
   "cell_type": "code",
   "execution_count": 56,
   "metadata": {
    "collapsed": false
   },
   "outputs": [
    {
     "ename": "NameError",
     "evalue": "name 'ntrue' is not defined",
     "output_type": "error",
     "traceback": [
      "\u001b[0;31m---------------------------------------------------------------------------\u001b[0m",
      "\u001b[0;31mNameError\u001b[0m                                 Traceback (most recent call last)",
      "\u001b[0;32m<ipython-input-56-281ffef79c77>\u001b[0m in \u001b[0;36m<module>\u001b[0;34m()\u001b[0m\n\u001b[0;32m----> 1\u001b[0;31m \u001b[0mntruef\u001b[0m \u001b[0;34m=\u001b[0m \u001b[0mntrue\u001b[0m\u001b[0;34m.\u001b[0m\u001b[0mflatten\u001b[0m\u001b[0;34m(\u001b[0m\u001b[0;34m)\u001b[0m\u001b[0;34m\u001b[0m\u001b[0m\n\u001b[0m\u001b[1;32m      2\u001b[0m \u001b[0mnpredf\u001b[0m \u001b[0;34m=\u001b[0m \u001b[0mnpred\u001b[0m\u001b[0;34m.\u001b[0m\u001b[0mflatten\u001b[0m\u001b[0;34m(\u001b[0m\u001b[0;34m)\u001b[0m\u001b[0;34m\u001b[0m\u001b[0m\n",
      "\u001b[0;31mNameError\u001b[0m: name 'ntrue' is not defined"
     ]
    }
   ],
   "source": [
    "ntruef = ntrue.flatten()\n",
    "npredf = npred.flatten()"
   ]
  },
  {
   "cell_type": "code",
   "execution_count": 57,
   "metadata": {
    "collapsed": false
   },
   "outputs": [
    {
     "ename": "NameError",
     "evalue": "name 'ntruef' is not defined",
     "output_type": "error",
     "traceback": [
      "\u001b[0;31m---------------------------------------------------------------------------\u001b[0m",
      "\u001b[0;31mNameError\u001b[0m                                 Traceback (most recent call last)",
      "\u001b[0;32m<ipython-input-57-5ce3322068ce>\u001b[0m in \u001b[0;36m<module>\u001b[0;34m()\u001b[0m\n\u001b[0;32m----> 1\u001b[0;31m \u001b[0;34m(\u001b[0m\u001b[0;34m(\u001b[0m\u001b[0mntruef\u001b[0m\u001b[0;34m-\u001b[0m\u001b[0mnpredf\u001b[0m\u001b[0;34m)\u001b[0m\u001b[0;34m**\u001b[0m\u001b[0;36m2\u001b[0m\u001b[0;34m/\u001b[0m\u001b[0mnpredf\u001b[0m\u001b[0;34m*\u001b[0m\u001b[0;36m2\u001b[0m\u001b[0;34m/\u001b[0m\u001b[0mlen\u001b[0m\u001b[0;34m(\u001b[0m\u001b[0mntruef\u001b[0m\u001b[0;34m)\u001b[0m\u001b[0;34m)\u001b[0m\u001b[0;34m.\u001b[0m\u001b[0msum\u001b[0m\u001b[0;34m(\u001b[0m\u001b[0;34m)\u001b[0m\u001b[0;34m\u001b[0m\u001b[0m\n\u001b[0m",
      "\u001b[0;31mNameError\u001b[0m: name 'ntruef' is not defined"
     ]
    }
   ],
   "source": [
    "((ntruef-npredf)**2/npredf*2/len(ntruef)).sum()"
   ]
  },
  {
   "cell_type": "code",
   "execution_count": null,
   "metadata": {
    "collapsed": true
   },
   "outputs": [],
   "source": []
  },
  {
   "cell_type": "code",
   "execution_count": 58,
   "metadata": {
    "collapsed": true
   },
   "outputs": [],
   "source": [
    "# npred = neigh.predict(df_morning2_train.iloc[:,[0,1,2,3,4,5,-1]])\n",
    "# ntrue = df_morning2_train.iloc[:,6:12].values"
   ]
  },
  {
   "cell_type": "code",
   "execution_count": 59,
   "metadata": {
    "collapsed": false
   },
   "outputs": [
    {
     "ename": "NameError",
     "evalue": "name 'ntrue' is not defined",
     "output_type": "error",
     "traceback": [
      "\u001b[0;31m---------------------------------------------------------------------------\u001b[0m",
      "\u001b[0;31mNameError\u001b[0m                                 Traceback (most recent call last)",
      "\u001b[0;32m<ipython-input-59-91b3a015239c>\u001b[0m in \u001b[0;36m<module>\u001b[0;34m()\u001b[0m\n\u001b[0;32m----> 1\u001b[0;31m \u001b[0mloss_ratio\u001b[0m \u001b[0;34m=\u001b[0m \u001b[0;34m(\u001b[0m\u001b[0;34m(\u001b[0m\u001b[0mntrue\u001b[0m\u001b[0;34m-\u001b[0m\u001b[0mnpred\u001b[0m\u001b[0;34m)\u001b[0m\u001b[0;34m/\u001b[0m\u001b[0mnpred\u001b[0m\u001b[0;34m)\u001b[0m\u001b[0;34m.\u001b[0m\u001b[0mflatten\u001b[0m\u001b[0;34m(\u001b[0m\u001b[0;34m)\u001b[0m\u001b[0;34m\u001b[0m\u001b[0m\n\u001b[0m\u001b[1;32m      2\u001b[0m \u001b[0mplt\u001b[0m\u001b[0;34m.\u001b[0m\u001b[0mhist\u001b[0m\u001b[0;34m(\u001b[0m\u001b[0mloss_ratio\u001b[0m\u001b[0;34m,\u001b[0m \u001b[0mbins\u001b[0m\u001b[0;34m=\u001b[0m\u001b[0;36m18\u001b[0m\u001b[0;34m)\u001b[0m\u001b[0;34m\u001b[0m\u001b[0m\n",
      "\u001b[0;31mNameError\u001b[0m: name 'ntrue' is not defined"
     ]
    }
   ],
   "source": [
    "loss_ratio = ((ntrue-npred)/npred).flatten()\n",
    "plt.hist(loss_ratio, bins=18)"
   ]
  },
  {
   "cell_type": "code",
   "execution_count": 60,
   "metadata": {
    "collapsed": false
   },
   "outputs": [
    {
     "ename": "NameError",
     "evalue": "name 'loss_ratio' is not defined",
     "output_type": "error",
     "traceback": [
      "\u001b[0;31m---------------------------------------------------------------------------\u001b[0m",
      "\u001b[0;31mNameError\u001b[0m                                 Traceback (most recent call last)",
      "\u001b[0;32m<ipython-input-60-46902c32c6f0>\u001b[0m in \u001b[0;36m<module>\u001b[0;34m()\u001b[0m\n\u001b[0;32m----> 1\u001b[0;31m \u001b[0;34m(\u001b[0m\u001b[0mloss_ratio\u001b[0m\u001b[0;34m>\u001b[0m\u001b[0;36m0.4\u001b[0m\u001b[0;34m)\u001b[0m\u001b[0;34m.\u001b[0m\u001b[0mreshape\u001b[0m\u001b[0;34m(\u001b[0m\u001b[0;34m-\u001b[0m\u001b[0;36m1\u001b[0m\u001b[0;34m,\u001b[0m\u001b[0;36m6\u001b[0m\u001b[0;34m)\u001b[0m\u001b[0;34m.\u001b[0m\u001b[0msum\u001b[0m\u001b[0;34m(\u001b[0m\u001b[0maxis\u001b[0m\u001b[0;34m=\u001b[0m\u001b[0;36m1\u001b[0m\u001b[0;34m)\u001b[0m\u001b[0;34m\u001b[0m\u001b[0m\n\u001b[0m",
      "\u001b[0;31mNameError\u001b[0m: name 'loss_ratio' is not defined"
     ]
    }
   ],
   "source": [
    "(loss_ratio>0.4).reshape(-1,6).sum(axis=1)"
   ]
  },
  {
   "cell_type": "code",
   "execution_count": 116,
   "metadata": {
    "collapsed": false
   },
   "outputs": [
    {
     "data": {
      "text/html": [
       "<div>\n",
       "<table border=\"1\" class=\"dataframe\">\n",
       "  <thead>\n",
       "    <tr style=\"text-align: right;\">\n",
       "      <th></th>\n",
       "      <th>0</th>\n",
       "      <th>1</th>\n",
       "      <th>2</th>\n",
       "      <th>3</th>\n",
       "      <th>4</th>\n",
       "      <th>5</th>\n",
       "      <th>6</th>\n",
       "      <th>7</th>\n",
       "      <th>8</th>\n",
       "      <th>9</th>\n",
       "      <th>10</th>\n",
       "      <th>11</th>\n",
       "      <th>ti</th>\n",
       "      <th>dl</th>\n",
       "      <th>wkwn</th>\n",
       "    </tr>\n",
       "  </thead>\n",
       "  <tbody>\n",
       "    <tr>\n",
       "      <th>179</th>\n",
       "      <td>23.0</td>\n",
       "      <td>41.0</td>\n",
       "      <td>60.0</td>\n",
       "      <td>75.0</td>\n",
       "      <td>101.0</td>\n",
       "      <td>99.0</td>\n",
       "      <td>174.0</td>\n",
       "      <td>122.0</td>\n",
       "      <td>164.0</td>\n",
       "      <td>152.0</td>\n",
       "      <td>113.0</td>\n",
       "      <td>109.0</td>\n",
       "      <td>31</td>\n",
       "      <td>2016-10-24</td>\n",
       "      <td>35</td>\n",
       "    </tr>\n",
       "  </tbody>\n",
       "</table>\n",
       "</div>"
      ],
      "text/plain": [
       "        0     1     2     3      4     5      6      7      8      9     10  \\\n",
       "179  23.0  41.0  60.0  75.0  101.0  99.0  174.0  122.0  164.0  152.0  113.0   \n",
       "\n",
       "        11  ti          dl  wkwn  \n",
       "179  109.0  31  2016-10-24    35  "
      ]
     },
     "execution_count": 116,
     "metadata": {},
     "output_type": "execute_result"
    }
   ],
   "source": [
    "df_morning2_valid[(loss_ratio>0.4).reshape(-1,6).sum(axis=1)>0]"
   ]
  },
  {
   "cell_type": "code",
   "execution_count": null,
   "metadata": {
    "collapsed": true
   },
   "outputs": [],
   "source": []
  },
  {
   "cell_type": "code",
   "execution_count": null,
   "metadata": {
    "collapsed": true
   },
   "outputs": [],
   "source": []
  },
  {
   "cell_type": "code",
   "execution_count": 117,
   "metadata": {
    "collapsed": true
   },
   "outputs": [],
   "source": [
    "from scipy.stats import norm"
   ]
  },
  {
   "cell_type": "code",
   "execution_count": 118,
   "metadata": {
    "collapsed": false
   },
   "outputs": [
    {
     "data": {
      "text/plain": [
       "(0, 0.14591701387145453)"
      ]
     },
     "execution_count": 118,
     "metadata": {},
     "output_type": "execute_result"
    }
   ],
   "source": [
    "norm.fit(loss_ratio, floc=0)"
   ]
  },
  {
   "cell_type": "code",
   "execution_count": null,
   "metadata": {
    "collapsed": true
   },
   "outputs": [],
   "source": []
  },
  {
   "cell_type": "code",
   "execution_count": 283,
   "metadata": {
    "collapsed": false
   },
   "outputs": [
    {
     "name": "stderr",
     "output_type": "stream",
     "text": [
      "/Users/MISSZHOU/anaconda/lib/python2.7/site-packages/ipykernel/__main__.py:1: SettingWithCopyWarning: \n",
      "A value is trying to be set on a copy of a slice from a DataFrame.\n",
      "Try using .loc[row_indexer,col_indexer] = value instead\n",
      "\n",
      "See the caveats in the documentation: http://pandas.pydata.org/pandas-docs/stable/indexing.html#indexing-view-versus-copy\n",
      "  if __name__ == '__main__':\n",
      "/Users/MISSZHOU/anaconda/lib/python2.7/site-packages/ipykernel/__main__.py:2: SettingWithCopyWarning: \n",
      "A value is trying to be set on a copy of a slice from a DataFrame.\n",
      "Try using .loc[row_indexer,col_indexer] = value instead\n",
      "\n",
      "See the caveats in the documentation: http://pandas.pydata.org/pandas-docs/stable/indexing.html#indexing-view-versus-copy\n",
      "  from ipykernel import kernelapp as app\n"
     ]
    }
   ],
   "source": [
    "df_night2['wkwn'] = ([1,1,1,1,1,0,0,1,1,1,1,1,1,1,1,1,1,1,1,0,0,1]+[1,1,1,1,0,0,1])*5\n",
    "df_night2['wkwn'] *= 34"
   ]
  },
  {
   "cell_type": "code",
   "execution_count": 284,
   "metadata": {
    "collapsed": true
   },
   "outputs": [],
   "source": [
    "date_train = df_night2['dl'].unique()[:-7]\n",
    "df_night2_train = df_night2[df_night2['dl'].isin(date_train)]\n",
    "df_night2_valid = df_night2[~df_night2['dl'].isin(date_train)]"
   ]
  },
  {
   "cell_type": "code",
   "execution_count": 297,
   "metadata": {
    "collapsed": false
   },
   "outputs": [
    {
     "data": {
      "text/plain": [
       "0.15161993438792401"
      ]
     },
     "execution_count": 297,
     "metadata": {},
     "output_type": "execute_result"
    }
   ],
   "source": [
    "X = df_night2_train.iloc[:,[0,1,2,3,4,5,6,7,8,9,10,11,-1]]#.values\n",
    "y = df_night2_train.iloc[:,12:24]#.values\n",
    "\n",
    "neigh = KNeighborsRegressor(n_neighbors=11, weights='distance')\n",
    "neigh.fit(X, y) \n",
    "pred_loss((neigh.predict(df_night2_valid.iloc[:,[0,1,2,3,4,5,6,7,8,9,10,11,-1]])-2.3), \n",
    "          df_night2_valid.iloc[:,12:24])"
   ]
  },
  {
   "cell_type": "code",
   "execution_count": null,
   "metadata": {
    "collapsed": true
   },
   "outputs": [],
   "source": []
  },
  {
   "cell_type": "code",
   "execution_count": 254,
   "metadata": {
    "collapsed": false
   },
   "outputs": [
    {
     "name": "stdout",
     "output_type": "stream",
     "text": [
      "[12, 13]\n",
      "0.117153691749\n",
      "[14, 15]\n",
      "0.142872125649\n",
      "[16, 17]\n",
      "0.159748957693\n",
      "[18, 19]\n",
      "0.137629939186\n",
      "[20, 21]\n",
      "0.156696298517\n",
      "[22, 23]\n",
      "0.214135857653\n"
     ]
    }
   ],
   "source": [
    "for i in [[i,i+1] for i in [12,14,16,18,20,22]]:\n",
    "    X = df_night2_train.iloc[:,[0,1,2,3,4,5,6,7,8,9,10,11,-1]]#.values\n",
    "    y = df_night2_train.iloc[:,i]#.values\n",
    "\n",
    "    neigh = KNeighborsRegressor(n_neighbors=10, weights='distance')\n",
    "    neigh.fit(X, y) \n",
    "    print i\n",
    "    print \\\n",
    "    pred_loss((neigh.predict(df_night2_valid.iloc[:,[0,1,2,3,4,5,6,7,8,9,10,11,-1]])-2.5), \n",
    "              df_night2_valid.iloc[:,i])"
   ]
  },
  {
   "cell_type": "code",
   "execution_count": null,
   "metadata": {
    "collapsed": true
   },
   "outputs": [],
   "source": []
  },
  {
   "cell_type": "code",
   "execution_count": 50,
   "metadata": {
    "collapsed": false
   },
   "outputs": [],
   "source": [
    "# X = df_night2_train.iloc[:,[0,1,2,3,4,5,-1]]#.values\n",
    "# y = df_night2_train.iloc[:,6]#.values\n",
    "\n",
    "# neigh = KNeighborsRegressor(n_neighbors=12, weights='distance')\n",
    "# neigh.fit(X, y) \n",
    "# pred_loss(np.vectorize(round)(neigh.predict(df_night2_valid.iloc[:,[0,1,2,3,4,5,-1]])*0.97), \n",
    "#           df_night2_valid.iloc[:,6])"
   ]
  },
  {
   "cell_type": "code",
   "execution_count": null,
   "metadata": {
    "collapsed": true
   },
   "outputs": [],
   "source": []
  },
  {
   "cell_type": "code",
   "execution_count": null,
   "metadata": {
    "collapsed": true
   },
   "outputs": [],
   "source": []
  },
  {
   "cell_type": "code",
   "execution_count": null,
   "metadata": {
    "collapsed": true
   },
   "outputs": [],
   "source": []
  },
  {
   "cell_type": "code",
   "execution_count": 65,
   "metadata": {
    "collapsed": false
   },
   "outputs": [
    {
     "data": {
      "text/plain": [
       "KNeighborsRegressor(algorithm='brute', leaf_size=30,\n",
       "          metric=<function <lambda> at 0x113403ed8>, metric_params=None,\n",
       "          n_jobs=1, n_neighbors=12, p=2,\n",
       "          weights=<function <lambda> at 0x113403a28>)"
      ]
     },
     "execution_count": 65,
     "metadata": {},
     "output_type": "execute_result"
    }
   ],
   "source": [
    "X = df_night2_train.iloc[:,[0,1,2,3,4,5,-1]]#.values\n",
    "y = df_night2_train.iloc[:,6:12]#.values\n",
    "\n",
    "wmink = np.append(np.logspace(0,0,6), 1)\n",
    "\n",
    "neigh = KNeighborsRegressor(n_neighbors=12, \n",
    "                            algorithm='brute',\n",
    "                            weights=lambda x: 1/x,\n",
    "                            metric=lambda a,b: wminkowski(a,b,2,wmink))\n",
    "neigh.fit(X, y)\n",
    "    "
   ]
  },
  {
   "cell_type": "code",
   "execution_count": 66,
   "metadata": {
    "collapsed": true
   },
   "outputs": [],
   "source": [
    "def night_adjust(x):\n",
    "    return round(x * (1 - 2/x))"
   ]
  },
  {
   "cell_type": "code",
   "execution_count": 76,
   "metadata": {
    "collapsed": false
   },
   "outputs": [
    {
     "name": "stdout",
     "output_type": "stream",
     "text": [
      "2\n",
      "0.163191423059\n",
      "3\n",
      "0.15858057775\n",
      "4\n",
      "0.155838181015\n",
      "5\n",
      "0.15450749045\n",
      "6\n",
      "0.154241763586\n",
      "7\n",
      "0.155280417312\n"
     ]
    }
   ],
   "source": [
    "for i in range(2,8):\n",
    "    print i\n",
    "    print \\\n",
    "pred_loss((neigh.predict(df_night2_valid.iloc[:,[0,1,2,3,4,5,-1]]))-i, \n",
    "          df_night2_valid.iloc[:,6:12])"
   ]
  },
  {
   "cell_type": "code",
   "execution_count": null,
   "metadata": {
    "collapsed": true
   },
   "outputs": [],
   "source": []
  },
  {
   "cell_type": "code",
   "execution_count": 79,
   "metadata": {
    "collapsed": false
   },
   "outputs": [
    {
     "name": "stdout",
     "output_type": "stream",
     "text": [
      "1\n",
      "0.133028723982\n",
      "2\n",
      "0.132618472208\n",
      "3\n",
      "0.133114863353\n",
      "4\n",
      "0.13408581566\n",
      "5\n",
      "0.135759917829\n",
      "6\n",
      "0.138190893417\n",
      "7\n",
      "0.14089308215\n"
     ]
    }
   ],
   "source": [
    "for i in range(1,8):\n",
    "    print i\n",
    "    print \\\n",
    "pred_loss((neigh_morning.predict(df_morning2_valid.iloc[:,[0,1,2,3,4,5,-1]]))-i, \n",
    "          df_morning2_valid.iloc[:,6:12])"
   ]
  },
  {
   "cell_type": "code",
   "execution_count": null,
   "metadata": {
    "collapsed": true
   },
   "outputs": [],
   "source": []
  },
  {
   "cell_type": "code",
   "execution_count": 132,
   "metadata": {
    "collapsed": true
   },
   "outputs": [],
   "source": [
    "neigh_night = copy.deepcopy(neigh)"
   ]
  },
  {
   "cell_type": "code",
   "execution_count": 133,
   "metadata": {
    "collapsed": true
   },
   "outputs": [],
   "source": [
    "npred = neigh.predict(df_night2_valid.iloc[:,[0,1,2,3,4,5,-1]])\n",
    "ntrue = df_night2_valid.iloc[:,6:12].values"
   ]
  },
  {
   "cell_type": "code",
   "execution_count": 134,
   "metadata": {
    "collapsed": true
   },
   "outputs": [],
   "source": [
    "npredf = npred.flatten()\n",
    "ntruef = ntrue.flatten()"
   ]
  },
  {
   "cell_type": "code",
   "execution_count": 135,
   "metadata": {
    "collapsed": false
   },
   "outputs": [
    {
     "data": {
      "text/plain": [
       "4.515412049371311"
      ]
     },
     "execution_count": 135,
     "metadata": {},
     "output_type": "execute_result"
    }
   ],
   "source": [
    "((ntruef-npredf)**2/npredf*2/len(ntruef)).sum()"
   ]
  },
  {
   "cell_type": "code",
   "execution_count": null,
   "metadata": {
    "collapsed": true
   },
   "outputs": [],
   "source": []
  },
  {
   "cell_type": "code",
   "execution_count": 136,
   "metadata": {
    "collapsed": false
   },
   "outputs": [
    {
     "data": {
      "text/plain": [
       "<matplotlib.collections.PathCollection at 0x10ffeca10>"
      ]
     },
     "execution_count": 136,
     "metadata": {},
     "output_type": "execute_result"
    },
    {
     "name": "stderr",
     "output_type": "stream",
     "text": [
      "/Users/yutao/anaconda/lib/python2.7/site-packages/matplotlib/collections.py:590: FutureWarning: elementwise comparison failed; returning scalar instead, but in the future will perform elementwise comparison\n",
      "  if self._edgecolors == str('face'):\n"
     ]
    },
    {
     "data": {
      "image/png": "[encoded data removed]",
      "text/plain": [
       "<matplotlib.figure.Figure at 0x109fd5390>"
      ]
     },
     "metadata": {},
     "output_type": "display_data"
    }
   ],
   "source": [
    "plt.scatter(npred.flatten(), np.abs(ntrue-npred).flatten())"
   ]
  },
  {
   "cell_type": "code",
   "execution_count": null,
   "metadata": {
    "collapsed": true
   },
   "outputs": [],
   "source": []
  },
  {
   "cell_type": "code",
   "execution_count": 137,
   "metadata": {
    "collapsed": false
   },
   "outputs": [
    {
     "data": {
      "text/plain": [
       "(array([  2.,   5.,  11.,  25.,  38.,  34.,  36.,  24.,  12.,   9.,   7.,\n",
       "          4.,   2.,   0.,   0.,   0.,   0.,   1.]),\n",
       " array([-0.50167326, -0.42120683, -0.34074039, -0.26027396, -0.17980752,\n",
       "        -0.09934109, -0.01887465,  0.06159178,  0.14205822,  0.22252465,\n",
       "         0.30299109,  0.38345752,  0.46392396,  0.54439039,  0.62485683,\n",
       "         0.70532326,  0.78578969,  0.86625613,  0.94672256]),\n",
       " <a list of 18 Patch objects>)"
      ]
     },
     "execution_count": 137,
     "metadata": {},
     "output_type": "execute_result"
    },
    {
     "data": {
      "image/png": "[encoded data removed]",
      "text/plain": [
       "<matplotlib.figure.Figure at 0x11007b750>"
      ]
     },
     "metadata": {},
     "output_type": "display_data"
    }
   ],
   "source": [
    "loss_ratio = ((ntrue-npred)/npred).flatten()\n",
    "plt.hist(loss_ratio, bins=18)"
   ]
  },
  {
   "cell_type": "code",
   "execution_count": 138,
   "metadata": {
    "collapsed": false
   },
   "outputs": [
    {
     "data": {
      "text/plain": [
       "(0, 0.20113119528615875)"
      ]
     },
     "execution_count": 138,
     "metadata": {},
     "output_type": "execute_result"
    }
   ],
   "source": [
    "norm.fit(loss_ratio, floc=0)"
   ]
  },
  {
   "cell_type": "code",
   "execution_count": null,
   "metadata": {
    "collapsed": true
   },
   "outputs": [],
   "source": []
  },
  {
   "cell_type": "code",
   "execution_count": 144,
   "metadata": {
    "collapsed": false
   },
   "outputs": [],
   "source": [
    "op = []\n",
    "k = 35\n",
    "\n",
    "for i, j in [(1,0), (1,1), (2,0), (3,0), (3,1)]:\n",
    "    tvm = test_vol_group_count.loc[i].loc[j].reshape(-1,6)[::2]\n",
    "    tvm = np.concatenate([tvm, [[k],[k],[k],[k],[0],[0],[k]]], axis=1)\n",
    "    op += list(0.97*neigh_morning.predict(tvm).T.reshape(1,-1)[0])\n",
    "\n",
    "for i, j in [(1,0), (1,1), (2,0), (3,0), (3,1)]:\n",
    "    tvm = test_vol_group_count.loc[i].loc[j].reshape(-1,6)[1::2]\n",
    "    tvm = np.concatenate([tvm, [[k],[k],[k],[k],[0],[0],[k]]], axis=1)\n",
    "    op += list(0.97*neigh_night.predict(tvm).T.reshape(1,-1)[0])"
   ]
  },
  {
   "cell_type": "code",
   "execution_count": 198,
   "metadata": {
    "collapsed": true
   },
   "outputs": [],
   "source": [
    "sample['volume'] = op\n",
    "\n",
    "sample.to_csv('submission/submission_0503v.csv', index=False)"
   ]
  },
  {
   "cell_type": "code",
   "execution_count": null,
   "metadata": {
    "collapsed": true
   },
   "outputs": [],
   "source": []
  },
  {
   "cell_type": "code",
   "execution_count": 966,
   "metadata": {
    "collapsed": true
   },
   "outputs": [],
   "source": [
    "op = []\n",
    "k = 35\n",
    "\n",
    "for i, j in [(1,0), (1,1), (2,0), (3,0), (3,1)]:\n",
    "    tvm = test_vol_group_count.loc[i].loc[j].reshape(-1,6)[::2]\n",
    "    tvm = np.concatenate([tvm, [[k],[k],[k],[k],[0],[0],[k]]], axis=1)\n",
    "    op += list((neigh_morning.predict(tvm)-3).T.reshape(1,-1)[0])\n",
    "\n",
    "for i, j in [(1,0), (1,1), (2,0), (3,0), (3,1)]:\n",
    "    tvm = test_vol_group_count.loc[i].loc[j].reshape(-1,6)[1::2]\n",
    "    tvm = np.concatenate([tvm, [[k],[k],[k],[k],[0],[0],[k]]], axis=1)\n",
    "    op += list((neigh_night.predict(tvm)-3).T.reshape(1,-1)[0])"
   ]
  },
  {
   "cell_type": "code",
   "execution_count": 963,
   "metadata": {
    "collapsed": false
   },
   "outputs": [],
   "source": [
    "sample['volume'] = op\n",
    "\n",
    "sample.to_csv('submission/submission_0504v.csv', index=False)"
   ]
  },
  {
   "cell_type": "code",
   "execution_count": null,
   "metadata": {
    "collapsed": true
   },
   "outputs": [],
   "source": []
  },
  {
   "cell_type": "code",
   "execution_count": null,
   "metadata": {
    "collapsed": true
   },
   "outputs": [],
   "source": [
    "op = []\n",
    "k = 35\n",
    "\n",
    "for i, j in [(1,0), (1,1), (2,0), (3,0), (3,1)]:\n",
    "    tvm = test_vol_group_count.loc[i].loc[j].reshape(-1,6)[::2]\n",
    "    tvm = np.concatenate([tvm, [[k],[k],[k],[k],[0],[0],[k]]], axis=1)\n",
    "    op += list((neigh_morning.predict(tvm)-5).T.reshape(1,-1)[0])\n",
    "\n",
    "for i, j in [(1,0), (1,1), (2,0), (3,0), (3,1)]:\n",
    "    tvm = test_vol_group_count.loc[i].loc[j].reshape(-1,6)[1::2]\n",
    "    tvm = np.concatenate([tvm, [[k],[k],[k],[k],[0],[0],[k]]], axis=1)\n",
    "    op += list((neigh_night.predict(tvm)-5).T.reshape(1,-1)[0])"
   ]
  },
  {
   "cell_type": "code",
   "execution_count": 998,
   "metadata": {
    "collapsed": true
   },
   "outputs": [],
   "source": [
    "sample['volume'] = op\n",
    "\n",
    "sample.to_csv('submission/submission_0506v.csv', index=False)"
   ]
  },
  {
   "cell_type": "code",
   "execution_count": null,
   "metadata": {
    "collapsed": true
   },
   "outputs": [],
   "source": []
  },
  {
   "cell_type": "code",
   "execution_count": null,
   "metadata": {
    "collapsed": true
   },
   "outputs": [],
   "source": []
  },
  {
   "cell_type": "code",
   "execution_count": 968,
   "metadata": {
    "collapsed": true
   },
   "outputs": [],
   "source": [
    "op = []\n",
    "k = 35\n",
    "\n",
    "for i, j in [(1,0), (1,1), (2,0), (3,0), (3,1)]:\n",
    "    tvm = test_vol_group_count.loc[i].loc[j].reshape(-1,6)[::2]\n",
    "    tvm = np.concatenate([tvm, [[k],[k],[k],[k],[0],[0],[k]]], axis=1)\n",
    "    op += list((neigh_morning.predict(tvm)-4).T.reshape(1,-1)[0])\n",
    "\n",
    "for i, j in [(1,0), (1,1), (2,0), (3,0), (3,1)]:\n",
    "    tvm = test_vol_group_count.loc[i].loc[j].reshape(-1,6)[1::2]\n",
    "    tvm = np.concatenate([tvm, [[k],[k],[k],[k],[0],[0],[k]]], axis=1)\n",
    "    op += list((neigh_night.predict(tvm)-4).T.reshape(1,-1)[0])"
   ]
  },
  {
   "cell_type": "code",
   "execution_count": 969,
   "metadata": {
    "collapsed": true
   },
   "outputs": [],
   "source": [
    "sample['volume'] = op\n",
    "\n",
    "sample.to_csv('submission/submission_0505v.csv', index=False)"
   ]
  },
  {
   "cell_type": "code",
   "execution_count": null,
   "metadata": {
    "collapsed": true
   },
   "outputs": [],
   "source": []
  },
  {
   "cell_type": "code",
   "execution_count": null,
   "metadata": {
    "collapsed": true
   },
   "outputs": [],
   "source": []
  },
  {
   "cell_type": "code",
   "execution_count": 1531,
   "metadata": {
    "collapsed": false,
    "scrolled": true
   },
   "outputs": [
    {
     "data": {
      "text/plain": [
       "<matplotlib.collections.PathCollection at 0x1186c7610>"
      ]
     },
     "execution_count": 1531,
     "metadata": {},
     "output_type": "execute_result"
    },
    {
     "data": {
      "image/png": "[encoded data removed]",
      "text/plain": [
       "<matplotlib.figure.Figure at 0x1184b3ad0>"
      ]
     },
     "metadata": {},
     "output_type": "display_data"
    }
   ],
   "source": [
    "plt.scatter(df_morning2.iloc[:,:6].sum(axis=1), df_morning2.iloc[:,6:12].sum(axis=1))"
   ]
  },
  {
   "cell_type": "code",
   "execution_count": null,
   "metadata": {
    "collapsed": true
   },
   "outputs": [],
   "source": []
  },
  {
   "cell_type": "code",
   "execution_count": 173,
   "metadata": {
    "collapsed": false
   },
   "outputs": [
    {
     "data": {
      "text/plain": [
       "0               11\n",
       "1               15\n",
       "2               10\n",
       "3               18\n",
       "4               29\n",
       "5               76\n",
       "6               56\n",
       "7               79\n",
       "8               69\n",
       "9               43\n",
       "10              54\n",
       "11              52\n",
       "ti              20\n",
       "dl      2016-09-28\n",
       "wkwn            35\n",
       "Name: 67, dtype: object"
      ]
     },
     "execution_count": 173,
     "metadata": {},
     "output_type": "execute_result"
    }
   ],
   "source": [
    "df_night2.loc[67]"
   ]
  },
  {
   "cell_type": "code",
   "execution_count": 163,
   "metadata": {
    "collapsed": false,
    "scrolled": true
   },
   "outputs": [
    {
     "data": {
      "text/plain": [
       "67      159.0\n",
       "20      252.0\n",
       "21      253.0\n",
       "19      255.0\n",
       "24      266.0\n",
       "23      267.0\n",
       "7       273.0\n",
       "22      278.0\n",
       "2       280.0\n",
       "28      289.0\n",
       "8       289.0\n",
       "0       291.0\n",
       "3       318.0\n",
       "10      328.0\n",
       "26      340.0\n",
       "1       361.0\n",
       "5       372.0\n",
       "6       384.0\n",
       "77      386.0\n",
       "4       397.0\n",
       "78      399.0\n",
       "27      404.0\n",
       "25      408.0\n",
       "59      422.0\n",
       "79      430.0\n",
       "65      431.0\n",
       "81      432.0\n",
       "66      444.0\n",
       "86      445.0\n",
       "61      446.0\n",
       "        ...  \n",
       "110     656.0\n",
       "108     657.0\n",
       "97      658.0\n",
       "11      658.0\n",
       "122     658.0\n",
       "33      660.0\n",
       "109     664.0\n",
       "89      667.0\n",
       "96      669.0\n",
       "140     670.0\n",
       "121     673.0\n",
       "120     683.0\n",
       "94      686.0\n",
       "56      687.0\n",
       "87      691.0\n",
       "95      691.0\n",
       "54      693.0\n",
       "107     696.0\n",
       "90      725.0\n",
       "111     729.0\n",
       "88      744.0\n",
       "114     760.0\n",
       "113     781.0\n",
       "143     784.0\n",
       "93      806.0\n",
       "69      826.0\n",
       "112     837.0\n",
       "92      847.0\n",
       "91      934.0\n",
       "98     1162.0\n",
       "dtype: float64"
      ]
     },
     "execution_count": 163,
     "metadata": {},
     "output_type": "execute_result"
    }
   ],
   "source": [
    "df_night2.iloc[:,:6].sum(axis=1).sort_values()"
   ]
  },
  {
   "cell_type": "code",
   "execution_count": 162,
   "metadata": {
    "collapsed": false
   },
   "outputs": [
    {
     "data": {
      "text/plain": [
       "120.8"
      ]
     },
     "execution_count": 162,
     "metadata": {},
     "output_type": "execute_result"
    }
   ],
   "source": [
    "(116+118+123+123+124)/5"
   ]
  },
  {
   "cell_type": "code",
   "execution_count": 171,
   "metadata": {
    "collapsed": false
   },
   "outputs": [
    {
     "data": {
      "text/plain": [
       "array([514, 532, 543, 583, 505, 633, 515])"
      ]
     },
     "execution_count": 171,
     "metadata": {},
     "output_type": "execute_result"
    }
   ],
   "source": [
    "test_vol_group_count.loc[3].loc[1].reshape(-1,6)[1::2].sum(axis=1)"
   ]
  },
  {
   "cell_type": "code",
   "execution_count": null,
   "metadata": {
    "collapsed": true
   },
   "outputs": [],
   "source": []
  },
  {
   "cell_type": "code",
   "execution_count": 1294,
   "metadata": {
    "collapsed": true
   },
   "outputs": [],
   "source": [
    "op = []\n",
    "k = 35\n",
    "\n",
    "for i, j in [(1,0), (1,1), (2,0), (3,0), (3,1)]:\n",
    "    tvm = test_vol_group_count.loc[i].loc[j].reshape(-1,6)[::2]\n",
    "    tvm = np.concatenate([tvm, [[k],[k],[k],[k],[0],[0],[k]]], axis=1)\n",
    "    if (i, j) != (1, 0):\n",
    "        op += list((neigh_morning.predict(tvm)-4).T.reshape(1,-1)[0])\n",
    "    else:\n",
    "        predtmp = neigh_morning.predict(tvm)\n",
    "        predtmp[4] = predtmp[4] * 112 / 125.6\n",
    "        predtmp[5] = predtmp[5] * 102 / 125.6\n",
    "        op += list((predtmp-4).T.reshape(1,-1)[0])\n",
    "\n",
    "for i, j in [(1,0), (1,1), (2,0), (3,0), (3,1)]:\n",
    "    tvm = test_vol_group_count.loc[i].loc[j].reshape(-1,6)[1::2]\n",
    "    tvm = np.concatenate([tvm, [[k],[k],[k],[k],[0],[0],[k]]], axis=1)\n",
    "    op += list((neigh_night.predict(tvm)-4).T.reshape(1,-1)[0])"
   ]
  },
  {
   "cell_type": "code",
   "execution_count": 1295,
   "metadata": {
    "collapsed": true
   },
   "outputs": [],
   "source": [
    "sample['volume'] = op\n",
    "\n",
    "sample.to_csv('submission/submission_0516v.csv', index=False)"
   ]
  },
  {
   "cell_type": "code",
   "execution_count": null,
   "metadata": {
    "collapsed": true
   },
   "outputs": [],
   "source": []
  },
  {
   "cell_type": "code",
   "execution_count": 262,
   "metadata": {
    "collapsed": true
   },
   "outputs": [],
   "source": [
    "op = []\n",
    "\n",
    "k = 35\n",
    "\n",
    "for i, j in [(1,0), (1,1), (2,0), (3,0), (3,1)]:\n",
    "    tvm = test_vol_group_count.loc[i].loc[j].reshape(-1,6)[::2]\n",
    "    tvm = np.concatenate([tvm, [[k],[k],[k],[k],[0],[0],[k]]], axis=1)\n",
    "    if (i, j) != (1, 0):\n",
    "        op += list((neigh_morning.predict(tvm)-4).T.reshape(1,-1)[0])\n",
    "    else:\n",
    "        predtmp = neigh_morning.predict(tvm)\n",
    "        predtmp[4] = predtmp[4] * 112 / 120.8\n",
    "        predtmp[5] = predtmp[5] * 102 / 120.8\n",
    "        op += list((predtmp-4).T.reshape(1,-1)[0])\n",
    "\n",
    "k = 55      \n",
    "        \n",
    "for i, j in [(1,0), (1,1), (2,0), (3,0), (3,1)]:\n",
    "    tvm = test_vol_group_count.loc[i].loc[j].reshape(-1,6)[1::2]\n",
    "    tvm = np.concatenate([tvm, [[k],[k],[k],[k],[0],[0],[k]]], axis=1)\n",
    "    op += list((neigh_night.predict(tvm)-4).T.reshape(1,-1)[0])"
   ]
  },
  {
   "cell_type": "code",
   "execution_count": 263,
   "metadata": {
    "collapsed": true
   },
   "outputs": [],
   "source": [
    "sample['volume'] = op\n",
    "\n",
    "sample.to_csv('submission/submission_0523v.csv', index=False)"
   ]
  },
  {
   "cell_type": "code",
   "execution_count": null,
   "metadata": {
    "collapsed": true
   },
   "outputs": [],
   "source": []
  },
  {
   "cell_type": "code",
   "execution_count": 665,
   "metadata": {
    "collapsed": false
   },
   "outputs": [
    {
     "data": {
      "text/html": [
       "<div>\n",
       "<table border=\"1\" class=\"dataframe\">\n",
       "  <thead>\n",
       "    <tr style=\"text-align: right;\">\n",
       "      <th></th>\n",
       "      <th>0</th>\n",
       "      <th>1</th>\n",
       "      <th>2</th>\n",
       "      <th>3</th>\n",
       "      <th>4</th>\n",
       "      <th>5</th>\n",
       "      <th>6</th>\n",
       "      <th>7</th>\n",
       "      <th>8</th>\n",
       "      <th>9</th>\n",
       "      <th>10</th>\n",
       "      <th>11</th>\n",
       "      <th>wkwn</th>\n",
       "    </tr>\n",
       "  </thead>\n",
       "  <tbody>\n",
       "    <tr>\n",
       "      <th>count</th>\n",
       "      <td>35.000000</td>\n",
       "      <td>35.000000</td>\n",
       "      <td>35.000000</td>\n",
       "      <td>35.000000</td>\n",
       "      <td>35.000000</td>\n",
       "      <td>35.000000</td>\n",
       "      <td>35.000000</td>\n",
       "      <td>35.000000</td>\n",
       "      <td>35.000000</td>\n",
       "      <td>35.000000</td>\n",
       "      <td>35.000000</td>\n",
       "      <td>35.000000</td>\n",
       "      <td>35.000000</td>\n",
       "    </tr>\n",
       "    <tr>\n",
       "      <th>mean</th>\n",
       "      <td>24.828571</td>\n",
       "      <td>36.657143</td>\n",
       "      <td>51.285714</td>\n",
       "      <td>67.800000</td>\n",
       "      <td>82.600000</td>\n",
       "      <td>92.542857</td>\n",
       "      <td>100.714286</td>\n",
       "      <td>106.628571</td>\n",
       "      <td>110.285714</td>\n",
       "      <td>107.485714</td>\n",
       "      <td>100.542857</td>\n",
       "      <td>93.142857</td>\n",
       "      <td>25.000000</td>\n",
       "    </tr>\n",
       "    <tr>\n",
       "      <th>std</th>\n",
       "      <td>10.664636</td>\n",
       "      <td>13.588366</td>\n",
       "      <td>23.447779</td>\n",
       "      <td>31.796966</td>\n",
       "      <td>33.962956</td>\n",
       "      <td>37.016962</td>\n",
       "      <td>39.767391</td>\n",
       "      <td>36.972236</td>\n",
       "      <td>39.023049</td>\n",
       "      <td>33.110662</td>\n",
       "      <td>28.289827</td>\n",
       "      <td>29.550697</td>\n",
       "      <td>16.042224</td>\n",
       "    </tr>\n",
       "    <tr>\n",
       "      <th>min</th>\n",
       "      <td>6.000000</td>\n",
       "      <td>7.000000</td>\n",
       "      <td>0.000000</td>\n",
       "      <td>0.000000</td>\n",
       "      <td>27.000000</td>\n",
       "      <td>30.000000</td>\n",
       "      <td>29.000000</td>\n",
       "      <td>44.000000</td>\n",
       "      <td>35.000000</td>\n",
       "      <td>43.000000</td>\n",
       "      <td>46.000000</td>\n",
       "      <td>34.000000</td>\n",
       "      <td>0.000000</td>\n",
       "    </tr>\n",
       "    <tr>\n",
       "      <th>25%</th>\n",
       "      <td>17.000000</td>\n",
       "      <td>29.000000</td>\n",
       "      <td>35.000000</td>\n",
       "      <td>40.000000</td>\n",
       "      <td>51.500000</td>\n",
       "      <td>61.500000</td>\n",
       "      <td>76.500000</td>\n",
       "      <td>80.000000</td>\n",
       "      <td>92.500000</td>\n",
       "      <td>97.500000</td>\n",
       "      <td>93.000000</td>\n",
       "      <td>74.500000</td>\n",
       "      <td>0.000000</td>\n",
       "    </tr>\n",
       "    <tr>\n",
       "      <th>50%</th>\n",
       "      <td>24.000000</td>\n",
       "      <td>39.000000</td>\n",
       "      <td>54.000000</td>\n",
       "      <td>72.000000</td>\n",
       "      <td>79.000000</td>\n",
       "      <td>92.000000</td>\n",
       "      <td>107.000000</td>\n",
       "      <td>111.000000</td>\n",
       "      <td>121.000000</td>\n",
       "      <td>112.000000</td>\n",
       "      <td>107.000000</td>\n",
       "      <td>98.000000</td>\n",
       "      <td>35.000000</td>\n",
       "    </tr>\n",
       "    <tr>\n",
       "      <th>75%</th>\n",
       "      <td>32.500000</td>\n",
       "      <td>45.000000</td>\n",
       "      <td>66.500000</td>\n",
       "      <td>91.000000</td>\n",
       "      <td>108.000000</td>\n",
       "      <td>119.000000</td>\n",
       "      <td>126.000000</td>\n",
       "      <td>132.500000</td>\n",
       "      <td>134.000000</td>\n",
       "      <td>127.000000</td>\n",
       "      <td>116.500000</td>\n",
       "      <td>115.500000</td>\n",
       "      <td>35.000000</td>\n",
       "    </tr>\n",
       "    <tr>\n",
       "      <th>max</th>\n",
       "      <td>45.000000</td>\n",
       "      <td>68.000000</td>\n",
       "      <td>95.000000</td>\n",
       "      <td>145.000000</td>\n",
       "      <td>162.000000</td>\n",
       "      <td>165.000000</td>\n",
       "      <td>175.000000</td>\n",
       "      <td>182.000000</td>\n",
       "      <td>180.000000</td>\n",
       "      <td>161.000000</td>\n",
       "      <td>150.000000</td>\n",
       "      <td>152.000000</td>\n",
       "      <td>35.000000</td>\n",
       "    </tr>\n",
       "  </tbody>\n",
       "</table>\n",
       "</div>"
      ],
      "text/plain": [
       "               0          1          2           3           4           5  \\\n",
       "count  35.000000  35.000000  35.000000   35.000000   35.000000   35.000000   \n",
       "mean   24.828571  36.657143  51.285714   67.800000   82.600000   92.542857   \n",
       "std    10.664636  13.588366  23.447779   31.796966   33.962956   37.016962   \n",
       "min     6.000000   7.000000   0.000000    0.000000   27.000000   30.000000   \n",
       "25%    17.000000  29.000000  35.000000   40.000000   51.500000   61.500000   \n",
       "50%    24.000000  39.000000  54.000000   72.000000   79.000000   92.000000   \n",
       "75%    32.500000  45.000000  66.500000   91.000000  108.000000  119.000000   \n",
       "max    45.000000  68.000000  95.000000  145.000000  162.000000  165.000000   \n",
       "\n",
       "                6           7           8           9          10          11  \\\n",
       "count   35.000000   35.000000   35.000000   35.000000   35.000000   35.000000   \n",
       "mean   100.714286  106.628571  110.285714  107.485714  100.542857   93.142857   \n",
       "std     39.767391   36.972236   39.023049   33.110662   28.289827   29.550697   \n",
       "min     29.000000   44.000000   35.000000   43.000000   46.000000   34.000000   \n",
       "25%     76.500000   80.000000   92.500000   97.500000   93.000000   74.500000   \n",
       "50%    107.000000  111.000000  121.000000  112.000000  107.000000   98.000000   \n",
       "75%    126.000000  132.500000  134.000000  127.000000  116.500000  115.500000   \n",
       "max    175.000000  182.000000  180.000000  161.000000  150.000000  152.000000   \n",
       "\n",
       "            wkwn  \n",
       "count  35.000000  \n",
       "mean   25.000000  \n",
       "std    16.042224  \n",
       "min     0.000000  \n",
       "25%     0.000000  \n",
       "50%    35.000000  \n",
       "75%    35.000000  \n",
       "max    35.000000  "
      ]
     },
     "execution_count": 665,
     "metadata": {},
     "output_type": "execute_result"
    }
   ],
   "source": [
    "df_morning2_valid.describe()"
   ]
  },
  {
   "cell_type": "code",
   "execution_count": 664,
   "metadata": {
    "collapsed": false
   },
   "outputs": [
    {
     "data": {
      "text/html": [
       "<div>\n",
       "<table border=\"1\" class=\"dataframe\">\n",
       "  <thead>\n",
       "    <tr style=\"text-align: right;\">\n",
       "      <th></th>\n",
       "      <th>0</th>\n",
       "      <th>1</th>\n",
       "      <th>2</th>\n",
       "      <th>3</th>\n",
       "      <th>4</th>\n",
       "      <th>5</th>\n",
       "      <th>6</th>\n",
       "      <th>7</th>\n",
       "      <th>8</th>\n",
       "      <th>9</th>\n",
       "      <th>10</th>\n",
       "      <th>11</th>\n",
       "      <th>wkwn</th>\n",
       "    </tr>\n",
       "  </thead>\n",
       "  <tbody>\n",
       "    <tr>\n",
       "      <th>count</th>\n",
       "      <td>35.000000</td>\n",
       "      <td>35.000000</td>\n",
       "      <td>35.000000</td>\n",
       "      <td>35.000000</td>\n",
       "      <td>35.000000</td>\n",
       "      <td>35.000000</td>\n",
       "      <td>35.000000</td>\n",
       "      <td>35.000000</td>\n",
       "      <td>35.000000</td>\n",
       "      <td>35.000000</td>\n",
       "      <td>35.000000</td>\n",
       "      <td>35.000000</td>\n",
       "      <td>35.000000</td>\n",
       "    </tr>\n",
       "    <tr>\n",
       "      <th>mean</th>\n",
       "      <td>89.771429</td>\n",
       "      <td>92.542857</td>\n",
       "      <td>88.971429</td>\n",
       "      <td>92.857143</td>\n",
       "      <td>93.628571</td>\n",
       "      <td>91.314286</td>\n",
       "      <td>90.628571</td>\n",
       "      <td>91.228571</td>\n",
       "      <td>86.371429</td>\n",
       "      <td>67.085714</td>\n",
       "      <td>66.085714</td>\n",
       "      <td>56.114286</td>\n",
       "      <td>25.000000</td>\n",
       "    </tr>\n",
       "    <tr>\n",
       "      <th>std</th>\n",
       "      <td>28.768943</td>\n",
       "      <td>27.110170</td>\n",
       "      <td>26.510249</td>\n",
       "      <td>28.370597</td>\n",
       "      <td>25.323885</td>\n",
       "      <td>27.138828</td>\n",
       "      <td>27.041456</td>\n",
       "      <td>32.079025</td>\n",
       "      <td>34.166621</td>\n",
       "      <td>25.509366</td>\n",
       "      <td>22.553689</td>\n",
       "      <td>20.619482</td>\n",
       "      <td>16.042224</td>\n",
       "    </tr>\n",
       "    <tr>\n",
       "      <th>min</th>\n",
       "      <td>37.000000</td>\n",
       "      <td>43.000000</td>\n",
       "      <td>33.000000</td>\n",
       "      <td>41.000000</td>\n",
       "      <td>42.000000</td>\n",
       "      <td>42.000000</td>\n",
       "      <td>39.000000</td>\n",
       "      <td>26.000000</td>\n",
       "      <td>24.000000</td>\n",
       "      <td>22.000000</td>\n",
       "      <td>24.000000</td>\n",
       "      <td>14.000000</td>\n",
       "      <td>0.000000</td>\n",
       "    </tr>\n",
       "    <tr>\n",
       "      <th>25%</th>\n",
       "      <td>74.000000</td>\n",
       "      <td>78.500000</td>\n",
       "      <td>74.000000</td>\n",
       "      <td>70.000000</td>\n",
       "      <td>79.000000</td>\n",
       "      <td>73.000000</td>\n",
       "      <td>76.000000</td>\n",
       "      <td>73.000000</td>\n",
       "      <td>66.000000</td>\n",
       "      <td>47.000000</td>\n",
       "      <td>53.500000</td>\n",
       "      <td>40.500000</td>\n",
       "      <td>0.000000</td>\n",
       "    </tr>\n",
       "    <tr>\n",
       "      <th>50%</th>\n",
       "      <td>93.000000</td>\n",
       "      <td>92.000000</td>\n",
       "      <td>89.000000</td>\n",
       "      <td>90.000000</td>\n",
       "      <td>94.000000</td>\n",
       "      <td>91.000000</td>\n",
       "      <td>89.000000</td>\n",
       "      <td>93.000000</td>\n",
       "      <td>90.000000</td>\n",
       "      <td>71.000000</td>\n",
       "      <td>70.000000</td>\n",
       "      <td>57.000000</td>\n",
       "      <td>35.000000</td>\n",
       "    </tr>\n",
       "    <tr>\n",
       "      <th>75%</th>\n",
       "      <td>108.500000</td>\n",
       "      <td>107.500000</td>\n",
       "      <td>107.000000</td>\n",
       "      <td>111.500000</td>\n",
       "      <td>114.000000</td>\n",
       "      <td>105.000000</td>\n",
       "      <td>111.500000</td>\n",
       "      <td>120.000000</td>\n",
       "      <td>112.500000</td>\n",
       "      <td>88.000000</td>\n",
       "      <td>83.500000</td>\n",
       "      <td>72.000000</td>\n",
       "      <td>35.000000</td>\n",
       "    </tr>\n",
       "    <tr>\n",
       "      <th>max</th>\n",
       "      <td>140.000000</td>\n",
       "      <td>159.000000</td>\n",
       "      <td>137.000000</td>\n",
       "      <td>144.000000</td>\n",
       "      <td>135.000000</td>\n",
       "      <td>149.000000</td>\n",
       "      <td>146.000000</td>\n",
       "      <td>139.000000</td>\n",
       "      <td>135.000000</td>\n",
       "      <td>125.000000</td>\n",
       "      <td>109.000000</td>\n",
       "      <td>99.000000</td>\n",
       "      <td>35.000000</td>\n",
       "    </tr>\n",
       "  </tbody>\n",
       "</table>\n",
       "</div>"
      ],
      "text/plain": [
       "                0           1           2           3           4           5  \\\n",
       "count   35.000000   35.000000   35.000000   35.000000   35.000000   35.000000   \n",
       "mean    89.771429   92.542857   88.971429   92.857143   93.628571   91.314286   \n",
       "std     28.768943   27.110170   26.510249   28.370597   25.323885   27.138828   \n",
       "min     37.000000   43.000000   33.000000   41.000000   42.000000   42.000000   \n",
       "25%     74.000000   78.500000   74.000000   70.000000   79.000000   73.000000   \n",
       "50%     93.000000   92.000000   89.000000   90.000000   94.000000   91.000000   \n",
       "75%    108.500000  107.500000  107.000000  111.500000  114.000000  105.000000   \n",
       "max    140.000000  159.000000  137.000000  144.000000  135.000000  149.000000   \n",
       "\n",
       "                6           7           8           9          10         11  \\\n",
       "count   35.000000   35.000000   35.000000   35.000000   35.000000  35.000000   \n",
       "mean    90.628571   91.228571   86.371429   67.085714   66.085714  56.114286   \n",
       "std     27.041456   32.079025   34.166621   25.509366   22.553689  20.619482   \n",
       "min     39.000000   26.000000   24.000000   22.000000   24.000000  14.000000   \n",
       "25%     76.000000   73.000000   66.000000   47.000000   53.500000  40.500000   \n",
       "50%     89.000000   93.000000   90.000000   71.000000   70.000000  57.000000   \n",
       "75%    111.500000  120.000000  112.500000   88.000000   83.500000  72.000000   \n",
       "max    146.000000  139.000000  135.000000  125.000000  109.000000  99.000000   \n",
       "\n",
       "            wkwn  \n",
       "count  35.000000  \n",
       "mean   25.000000  \n",
       "std    16.042224  \n",
       "min     0.000000  \n",
       "25%     0.000000  \n",
       "50%    35.000000  \n",
       "75%    35.000000  \n",
       "max    35.000000  "
      ]
     },
     "execution_count": 664,
     "metadata": {},
     "output_type": "execute_result"
    }
   ],
   "source": [
    "df_night2_valid.describe()"
   ]
  },
  {
   "cell_type": "code",
   "execution_count": null,
   "metadata": {
    "collapsed": true
   },
   "outputs": [],
   "source": []
  },
  {
   "cell_type": "code",
   "execution_count": 986,
   "metadata": {
    "collapsed": true
   },
   "outputs": [],
   "source": [
    "from sklearn.decomposition import PCA"
   ]
  },
  {
   "cell_type": "code",
   "execution_count": 991,
   "metadata": {
    "collapsed": false
   },
   "outputs": [
    {
     "data": {
      "text/plain": [
       "PCA(copy=True, n_components=None, whiten=False)"
      ]
     },
     "execution_count": 991,
     "metadata": {},
     "output_type": "execute_result"
    }
   ],
   "source": [
    "pca = PCA()\n",
    "pca.fit(df_night2.iloc[:,:6])"
   ]
  },
  {
   "cell_type": "code",
   "execution_count": 992,
   "metadata": {
    "collapsed": false
   },
   "outputs": [
    {
     "data": {
      "text/plain": [
       "array([[ 0.37872265,  0.3976921 ,  0.40932576,  0.43316427,  0.3947647 ,\n",
       "         0.43288812],\n",
       "       [ 0.5479476 ,  0.25093885,  0.05990307,  0.17947525, -0.2235362 ,\n",
       "        -0.74230381],\n",
       "       [-0.45182228, -0.38759207,  0.34969856,  0.56851206,  0.2467298 ,\n",
       "        -0.37317338],\n",
       "       [ 0.40910238, -0.53998244,  0.40779711, -0.49507521,  0.35249739,\n",
       "        -0.07349724],\n",
       "       [-0.17394916,  0.10099201,  0.71122249, -0.14620048, -0.64603849,\n",
       "         0.12232974],\n",
       "       [ 0.39313629, -0.57171903, -0.18557761,  0.43643709, -0.43783177,\n",
       "         0.31932453]])"
      ]
     },
     "execution_count": 992,
     "metadata": {},
     "output_type": "execute_result"
    }
   ],
   "source": [
    "pca.components_"
   ]
  },
  {
   "cell_type": "code",
   "execution_count": 996,
   "metadata": {
    "collapsed": false
   },
   "outputs": [],
   "source": [
    "dfnpca = pca.transform(df_night2.iloc[:,:6])"
   ]
  },
  {
   "cell_type": "code",
   "execution_count": null,
   "metadata": {
    "collapsed": true
   },
   "outputs": [],
   "source": []
  },
  {
   "cell_type": "code",
   "execution_count": null,
   "metadata": {
    "collapsed": true
   },
   "outputs": [],
   "source": []
  },
  {
   "cell_type": "code",
   "execution_count": null,
   "metadata": {
    "collapsed": true
   },
   "outputs": [],
   "source": []
  },
  {
   "cell_type": "code",
   "execution_count": 70,
   "metadata": {
    "collapsed": true
   },
   "outputs": [],
   "source": [
    "training_weather = pd.read_csv('weather (table 7)_training_update.csv')"
   ]
  },
  {
   "cell_type": "code",
   "execution_count": 80,
   "metadata": {
    "collapsed": false
   },
   "outputs": [],
   "source": [
    "training_weather['datetime'] = \\\n",
    "    [datetime(int(i[:4]), int(i[5:7]), int(i[8:10]), j) for i, j in \\\n",
    "         zip(training_weather['date'], training_weather['hour'])]"
   ]
  },
  {
   "cell_type": "code",
   "execution_count": null,
   "metadata": {
    "collapsed": true
   },
   "outputs": [],
   "source": []
  },
  {
   "cell_type": "code",
   "execution_count": 94,
   "metadata": {
    "collapsed": false
   },
   "outputs": [
    {
     "data": {
      "text/plain": [
       "[<matplotlib.lines.Line2D at 0x10fd47490>]"
      ]
     },
     "execution_count": 94,
     "metadata": {},
     "output_type": "execute_result"
    },
    {
     "data": {
      "image/png": "[encoded data removed]",
      "text/plain": [
       "<matplotlib.figure.Figure at 0x109b22ed0>"
      ]
     },
     "metadata": {},
     "output_type": "display_data"
    }
   ],
   "source": [
    "wt = training_weather.iloc[648:]\n",
    "\n",
    "plt.figure(figsize=(20,6))\n",
    "plt.plot(wt['datetime'], wt['precipitation'])"
   ]
  },
  {
   "cell_type": "code",
   "execution_count": null,
   "metadata": {
    "collapsed": true
   },
   "outputs": [],
   "source": []
  },
  {
   "cell_type": "code",
   "execution_count": 139,
   "metadata": {
    "collapsed": false
   },
   "outputs": [],
   "source": [
    "X1 = np.array([[1,2],[3,4],[5,3],[2,3]])"
   ]
  },
  {
   "cell_type": "code",
   "execution_count": 140,
   "metadata": {
    "collapsed": true
   },
   "outputs": [],
   "source": [
    "X2 = np.array([[1,7],[5,5],[4,3]])"
   ]
  },
  {
   "cell_type": "code",
   "execution_count": 141,
   "metadata": {
    "collapsed": true
   },
   "outputs": [],
   "source": [
    "m = np.array([1,2])\n",
    "n = np.array([2,7])"
   ]
  },
  {
   "cell_type": "code",
   "execution_count": 151,
   "metadata": {
    "collapsed": false
   },
   "outputs": [
    {
     "data": {
      "text/plain": [
       "26"
      ]
     },
     "execution_count": 151,
     "metadata": {},
     "output_type": "execute_result"
    }
   ],
   "source": [
    "((m-n)**2).sum()"
   ]
  },
  {
   "cell_type": "code",
   "execution_count": 145,
   "metadata": {
    "collapsed": true
   },
   "outputs": [],
   "source": [
    "fsf=None"
   ]
  },
  {
   "cell_type": "code",
   "execution_count": null,
   "metadata": {
    "collapsed": true
   },
   "outputs": [],
   "source": []
  },
  {
   "cell_type": "code",
   "execution_count": null,
   "metadata": {
    "collapsed": true
   },
   "outputs": [],
   "source": []
  },
  {
   "cell_type": "code",
   "execution_count": 272,
   "metadata": {
    "collapsed": false
   },
   "outputs": [
    {
     "ename": "SyntaxError",
     "evalue": "non-default argument follows default argument (<ipython-input-272-995ee8d9c80a>, line 1)",
     "output_type": "error",
     "traceback": [
      "\u001b[0;36m  File \u001b[0;32m\"<ipython-input-272-995ee8d9c80a>\"\u001b[0;36m, line \u001b[0;32m1\u001b[0m\n\u001b[0;31m    def f(y=5, x):\u001b[0m\n\u001b[0;31mSyntaxError\u001b[0m\u001b[0;31m:\u001b[0m non-default argument follows default argument\n"
     ]
    }
   ],
   "source": [
    "def f(y=5, x):\n",
    "    return x*y"
   ]
  },
  {
   "cell_type": "code",
   "execution_count": 271,
   "metadata": {
    "collapsed": false
   },
   "outputs": [
    {
     "ename": "NameError",
     "evalue": "global name 'x' is not defined",
     "output_type": "error",
     "traceback": [
      "\u001b[0;31m---------------------------------------------------------------------------\u001b[0m",
      "\u001b[0;31mNameError\u001b[0m                                 Traceback (most recent call last)",
      "\u001b[0;32m<ipython-input-271-8ffcfab90d28>\u001b[0m in \u001b[0;36m<module>\u001b[0;34m()\u001b[0m\n\u001b[0;32m----> 1\u001b[0;31m \u001b[0mf\u001b[0m\u001b[0;34m(\u001b[0m\u001b[0;36m2\u001b[0m\u001b[0;34m)\u001b[0m\u001b[0;34m\u001b[0m\u001b[0m\n\u001b[0m",
      "\u001b[0;32m<ipython-input-267-20b5183cb242>\u001b[0m in \u001b[0;36mf\u001b[0;34m(y)\u001b[0m\n\u001b[1;32m      1\u001b[0m \u001b[0;32mdef\u001b[0m \u001b[0mf\u001b[0m\u001b[0;34m(\u001b[0m\u001b[0my\u001b[0m\u001b[0;34m=\u001b[0m\u001b[0;36m5\u001b[0m\u001b[0;34m)\u001b[0m\u001b[0;34m:\u001b[0m\u001b[0;34m\u001b[0m\u001b[0m\n\u001b[0;32m----> 2\u001b[0;31m     \u001b[0;32mreturn\u001b[0m \u001b[0mx\u001b[0m\u001b[0;34m*\u001b[0m\u001b[0my\u001b[0m\u001b[0;34m\u001b[0m\u001b[0m\n\u001b[0m",
      "\u001b[0;31mNameError\u001b[0m: global name 'x' is not defined"
     ]
    }
   ],
   "source": [
    "f(2)"
   ]
  },
  {
   "cell_type": "code",
   "execution_count": null,
   "metadata": {
    "collapsed": true
   },
   "outputs": [],
   "source": []
  },
  {
   "cell_type": "code",
   "execution_count": null,
   "metadata": {
    "collapsed": true
   },
   "outputs": [],
   "source": []
  },
  {
   "cell_type": "markdown",
   "metadata": {},
   "source": [
    "# Self-written KNN"
   ]
  },
  {
   "cell_type": "code",
   "execution_count": 239,
   "metadata": {
    "collapsed": false
   },
   "outputs": [],
   "source": [
    "class KNeighborsRegressor_M():\n",
    "    def __init__(self, n_neighbors=5, weights='uniform', \n",
    "                 distance_weights=None):\n",
    "        self.n_neighbors = n_neighbors\n",
    "        self.weights = weights\n",
    "        self.distance_weights = distance_weights\n",
    "\n",
    "        \n",
    "    def fit(self, X, y):\n",
    "        self._fit_X = X\n",
    "        self._fit_y = y\n",
    "    \n",
    "    @staticmethod\n",
    "    def distance_metric(m, n, dw):\n",
    "        m = np.array(m)\n",
    "        n = np.array(n)\n",
    "        if dw != None:\n",
    "            try:\n",
    "                return np.sqrt(((m-n)**2*np.array(dw)).sum())\n",
    "            except:\n",
    "                raise ValueError('Check distance_weights')\n",
    "        return np.sqrt(((m-n)**2).sum())\n",
    "    \n",
    "    def distance_matrix(self, X1, X2):\n",
    "        dmatrix = \\\n",
    "            [[KNeighborsRegressor_M.distance_metric(\n",
    "                        i, j, self.distance_weights) \n",
    "              for i in X1] for j in X2]\n",
    "        dmatrix = np.array(dmatrix)\n",
    "        return dmatrix\n",
    "    \n",
    "    def predict(self, X):\n",
    "        _dmatrix = self.distance_matrix(self._fit_X, X)\n",
    "        nn = min(self.n_neighbors, self._fit_X.shape[0])\n",
    "        nn_dist_matrix = np.array([np.partition(i, 2)[:2] for i in _dmatrix])\n",
    "        nn_arg_matrix = np.array([np.argpartition(i, 2)[:2] for i in _dmatrix])\n",
    "        \n",
    "        \n",
    "        return None\n",
    "    \n",
    "    \n",
    "    "
   ]
  },
  {
   "cell_type": "code",
   "execution_count": 244,
   "metadata": {
    "collapsed": false
   },
   "outputs": [
    {
     "data": {
      "text/plain": [
       "array([[ 5.        ,  3.60555128,  5.65685425,  4.12310563],\n",
       "       [ 5.        ,  2.23606798,  2.        ,  3.60555128],\n",
       "       [ 3.16227766,  1.41421356,  1.        ,  2.        ]])"
      ]
     },
     "execution_count": 244,
     "metadata": {},
     "output_type": "execute_result"
    }
   ],
   "source": [
    "dm = KNeighborsRegressor_M(distance_weights=None).distance_matrix(X1, X2)\n",
    "dm"
   ]
  },
  {
   "cell_type": "code",
   "execution_count": 235,
   "metadata": {
    "collapsed": false
   },
   "outputs": [
    {
     "data": {
      "text/plain": [
       "array([[ 3.60555128,  4.12310563],\n",
       "       [ 2.        ,  2.23606798],\n",
       "       [ 1.        ,  1.41421356]])"
      ]
     },
     "execution_count": 235,
     "metadata": {},
     "output_type": "execute_result"
    }
   ],
   "source": [
    "np.array([np.partition(i, 2)[:2] for i in dm])"
   ]
  },
  {
   "cell_type": "code",
   "execution_count": 234,
   "metadata": {
    "collapsed": false
   },
   "outputs": [
    {
     "data": {
      "text/plain": [
       "[array([1, 3]), array([2, 1]), array([2, 1])]"
      ]
     },
     "execution_count": 234,
     "metadata": {},
     "output_type": "execute_result"
    }
   ],
   "source": [
    "[np.argpartition(i, 2)[:2] for i in dm]"
   ]
  },
  {
   "cell_type": "code",
   "execution_count": 229,
   "metadata": {
    "collapsed": false
   },
   "outputs": [
    {
     "data": {
      "text/plain": [
       "array([9, 1, 6, 2])"
      ]
     },
     "execution_count": 229,
     "metadata": {},
     "output_type": "execute_result"
    }
   ],
   "source": [
    "np.argpartition(test, 4)[:4]"
   ]
  },
  {
   "cell_type": "code",
   "execution_count": 230,
   "metadata": {
    "collapsed": false
   },
   "outputs": [
    {
     "data": {
      "text/plain": [
       "array([0, 1, 1, 3])"
      ]
     },
     "execution_count": 230,
     "metadata": {},
     "output_type": "execute_result"
    }
   ],
   "source": [
    "np.partition(test, 4)[:4]"
   ]
  },
  {
   "cell_type": "code",
   "execution_count": 231,
   "metadata": {
    "collapsed": true
   },
   "outputs": [],
   "source": [
    "?np.partition"
   ]
  },
  {
   "cell_type": "code",
   "execution_count": null,
   "metadata": {
    "collapsed": true
   },
   "outputs": [],
   "source": []
  }
 ],
 "metadata": {
  "kernelspec": {
   "display_name": "Python 2",
   "language": "python",
   "name": "python2"
  },
  "language_info": {
   "codemirror_mode": {
    "name": "ipython",
    "version": 2
   },
   "file_extension": ".py",
   "mimetype": "text/x-python",
   "name": "python",
   "nbconvert_exporter": "python",
   "pygments_lexer": "ipython2",
   "version": "2.7.12"
  }
 },
 "nbformat": 4,
 "nbformat_minor": 1
}
