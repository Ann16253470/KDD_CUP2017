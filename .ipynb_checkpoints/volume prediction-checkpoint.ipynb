{
 "cells": [
  {
   "cell_type": "code",
   "execution_count": 1,
   "metadata": {
    "collapsed": true
   },
   "outputs": [],
   "source": [
    "from __future__ import division\n",
    "\n",
    "import pandas as pd\n",
    "import numpy as np\n",
    "import math\n",
    "from datetime import datetime, timedelta, date, time\n",
    "\n",
    "import matplotlib.pyplot as plt\n",
    "import seaborn as sns; sns.set()\n",
    "\n",
    "%matplotlib inline"
   ]
  },
  {
   "cell_type": "code",
   "execution_count": 2,
   "metadata": {
    "collapsed": true
   },
   "outputs": [],
   "source": [
    "training_path = 'dataSets/training/'\n",
    "test_path1 = 'dataSets/testing_phase1/'"
   ]
  },
  {
   "cell_type": "code",
   "execution_count": 3,
   "metadata": {
    "collapsed": true
   },
   "outputs": [],
   "source": [
    "training_traj = pd.read_csv(training_path+'trajectories(table 5)_training.csv')\n",
    "test_traj1 = pd.read_csv(test_path1+'trajectories(table 5)_test1.csv')"
   ]
  },
  {
   "cell_type": "code",
   "execution_count": 4,
   "metadata": {
    "collapsed": true
   },
   "outputs": [],
   "source": [
    "training_vol = pd.read_csv(training_path+'volume(table 6)_training.csv')\n",
    "test_vol1 = pd.read_csv(test_path1+'volume(table 6)_test1.csv')"
   ]
  },
  {
   "cell_type": "code",
   "execution_count": 5,
   "metadata": {
    "collapsed": true
   },
   "outputs": [],
   "source": [
    "def time_to_window(x):\n",
    "    dt = datetime.strptime(x, \"%Y-%m-%d %H:%M:%S\")\n",
    "    dtmin = int(dt.minute / 20) * 20\n",
    "    dtwindow = datetime(dt.year, dt.month, dt.day, dt.hour, dtmin, 0)\n",
    "    return dtwindow\n"
   ]
  },
  {
   "cell_type": "code",
   "execution_count": 6,
   "metadata": {
    "collapsed": true
   },
   "outputs": [],
   "source": [
    "def format_window(wd):\n",
    "    return '[{},{})'.format(str(wd), str(wd+timedelta(minutes=20)))"
   ]
  },
  {
   "cell_type": "code",
   "execution_count": 7,
   "metadata": {
    "collapsed": true
   },
   "outputs": [],
   "source": [
    "#training_traj['starting_datetime'] = pd.to_datetime(training_path['starting_time'])\n",
    "training_traj['window'] = training_traj['starting_time'].apply(time_to_window)\n",
    "\n",
    "training_traj_group_mean = \\\n",
    "training_traj.groupby(['intersection_id','tollgate_id','window']).mean()['travel_time']\n",
    "\n",
    "training_traj_group_count = \\\n",
    "training_traj.groupby(['intersection_id','tollgate_id','window']).count()['travel_time']"
   ]
  },
  {
   "cell_type": "code",
   "execution_count": 8,
   "metadata": {
    "collapsed": true
   },
   "outputs": [],
   "source": [
    "training_vol['window'] = training_vol['time'].apply(time_to_window)\n",
    "\n",
    "training_vol_group_count = \\\n",
    "training_vol.groupby(['tollgate_id','direction','window']).count()['time']\n",
    "\n"
   ]
  },
  {
   "cell_type": "code",
   "execution_count": 9,
   "metadata": {
    "collapsed": true
   },
   "outputs": [],
   "source": [
    "test_vol1['window'] = test_vol1['time'].apply(time_to_window)\n",
    "\n",
    "test_vol_group_count = \\\n",
    "test_vol1.groupby(['tollgate_id','direction','window']).count()['time']"
   ]
  },
  {
   "cell_type": "code",
   "execution_count": 10,
   "metadata": {
    "collapsed": true
   },
   "outputs": [],
   "source": [
    "sample = pd.read_csv('/Users/yutao/Documents/Contest/tianchi/KDD_CUP2017/submission/submission_sample_volume.csv')"
   ]
  },
  {
   "cell_type": "code",
   "execution_count": 11,
   "metadata": {
    "collapsed": true
   },
   "outputs": [],
   "source": [
    "date_list = []\n",
    "\n",
    "d1 = date(2016, 9, 19)  # start date\n",
    "d2 = date(2016, 10, 17)  # end date\n",
    "\n",
    "delta = d2 - d1         # timedelta\n",
    "\n",
    "for i in range(delta.days + 1):\n",
    "    date_list.append(d1 + timedelta(days=i))\n",
    "\n",
    "give_time_list1 = [time(6,0), time(6,20), time(6,40), \n",
    "                   time(7,0), time(7,20), time(7,40)]\n",
    "pred_time_list1 = [time(8,0), time(8,20), time(8,40), \n",
    "                   time(9,0), time(9,20), time(9,40)]\n",
    "\n",
    "give_time_list2 = [time(15,0), time(15,20), time(15,40), \n",
    "                   time(16,0), time(16,20), time(16,40)]\n",
    "pred_time_list2 = [time(17,0), time(17,20), time(17,40), \n",
    "                   time(18,0), time(18,20), time(18,40)]"
   ]
  },
  {
   "cell_type": "code",
   "execution_count": 12,
   "metadata": {
    "collapsed": true
   },
   "outputs": [],
   "source": [
    "date_list2 = []\n",
    "\n",
    "d1 = date(2016, 10, 11)  # start date\n",
    "d2 = date(2016, 10, 17)  # end date\n",
    "\n",
    "delta = d2 - d1         # timedelta\n",
    "\n",
    "for i in range(delta.days + 1):\n",
    "    date_list2.append(d1 + timedelta(days=i))\n",
    "\n",
    "\n"
   ]
  },
  {
   "cell_type": "code",
   "execution_count": 13,
   "metadata": {
    "collapsed": true
   },
   "outputs": [],
   "source": [
    "def interpolate_missing_window(x):\n",
    "    ss = [(i-datetime(1970,1,1)).total_seconds() for i in x.index]\n",
    "    tt = x.values\n",
    "    ssall = np.linspace(ss[0], ss[-1], (ss[-1]-ss[0])/1200+1)\n",
    "    #print(len(ss), len(tt), len(ssall))\n",
    "    ttall = np.interp(ssall, ss, tt)\n",
    "    ssall = [int(i) for i in ssall]\n",
    "    ssall = [datetime(1970,1,1)+timedelta(seconds=i) for i in ssall]\n",
    "    return pd.Series(index=ssall, data=ttall)"
   ]
  },
  {
   "cell_type": "code",
   "execution_count": 14,
   "metadata": {
    "collapsed": true
   },
   "outputs": [],
   "source": [
    "first6 = np.array([])\n",
    "next6 = np.array([])\n",
    "for ti, d in [(1,0), (1,1), (2,0), (3,0), (3,1)]:\n",
    "    mtmp = training_vol_group_count.loc[ti, d]\n",
    "    #mtmp = interpolate_missing_window(mtmp)\n",
    "    test6 = []\n",
    "    for i in date_list:\n",
    "        tmp = []\n",
    "        for j in give_time_list1:\n",
    "            try:\n",
    "                tmp.append(mtmp[datetime.combine(i, j)])\n",
    "            except:\n",
    "                tmp.append(0)\n",
    "        test6.append(tmp)\n",
    "    result6 = test6\n",
    "    first6 = np.append(first6, result6)\n",
    "    \n",
    "    test6 = []\n",
    "    for i in date_list:\n",
    "        tmp = []\n",
    "        for j in pred_time_list1:\n",
    "            try:\n",
    "                tmp.append(mtmp[datetime.combine(i, j)])\n",
    "            except:\n",
    "                tmp.append(0)\n",
    "        test6.append(tmp)\n",
    "    result6 = test6\n",
    "    next6 = np.append(next6, result6)\n",
    "\n",
    "morning_volume66 = np.append(first6.reshape(-1,6), next6.reshape(-1,6), axis=1)"
   ]
  },
  {
   "cell_type": "code",
   "execution_count": 15,
   "metadata": {
    "collapsed": true
   },
   "outputs": [],
   "source": [
    "tiid = ['10']*29 + ['11']*29 + ['20']*29 + ['30']*29 + ['31']*29\n",
    "dlid = date_list*5"
   ]
  },
  {
   "cell_type": "code",
   "execution_count": 16,
   "metadata": {
    "collapsed": true
   },
   "outputs": [],
   "source": [
    "first6 = np.array([])\n",
    "next6 = np.array([])\n",
    "for ti, d in [(1,0), (1,1), (2,0), (3,0), (3,1)]:\n",
    "    mtmp = training_vol_group_count.loc[ti, d]\n",
    "    #mtmp = interpolate_missing_window(mtmp)\n",
    "    test6 = []\n",
    "    for i in date_list:\n",
    "        tmp = []\n",
    "        for j in give_time_list2:\n",
    "            try:\n",
    "                tmp.append(mtmp[datetime.combine(i, j)])\n",
    "            except:\n",
    "                tmp.append(0)\n",
    "        test6.append(tmp)\n",
    "    result6 = test6\n",
    "    first6 = np.append(first6, result6)\n",
    "    \n",
    "    test6 = []\n",
    "    for i in date_list:\n",
    "        tmp = []\n",
    "        for j in pred_time_list2:\n",
    "            try:\n",
    "                tmp.append(mtmp[datetime.combine(i, j)])\n",
    "            except:\n",
    "                tmp.append(0)\n",
    "        test6.append(tmp)\n",
    "    result6 = test6\n",
    "    next6 = np.append(next6, result6)\n",
    "\n",
    "night_volume66 = np.append(first6.reshape(-1,6), next6.reshape(-1,6), axis=1)"
   ]
  },
  {
   "cell_type": "code",
   "execution_count": 17,
   "metadata": {
    "collapsed": false
   },
   "outputs": [
    {
     "data": {
      "text/plain": [
       "<matplotlib.legend.Legend at 0x109caded0>"
      ]
     },
     "execution_count": 17,
     "metadata": {},
     "output_type": "execute_result"
    },
    {
     "data": {
      "image/png": "[encoded data removed]",
      "text/plain": [
       "<matplotlib.figure.Figure at 0x10cf4bc50>"
      ]
     },
     "metadata": {},
     "output_type": "display_data"
    }
   ],
   "source": [
    "ttt10 = training_vol_group_count.loc[1, 0]\n",
    "ttt11 = training_vol_group_count.loc[1, 1]\n",
    "ttt20 = training_vol_group_count.loc[2, 0]\n",
    "ttt30 = training_vol_group_count.loc[3, 0]\n",
    "ttt31 = training_vol_group_count.loc[3, 1]\n",
    "\n",
    "plt.figure(figsize=(20,5))\n",
    "plt.plot(ttt10.index, ttt10)\n",
    "plt.plot(ttt11.index, ttt11)\n",
    "plt.plot(ttt20.index, ttt20)\n",
    "plt.plot(ttt30.index, ttt30)\n",
    "plt.plot(ttt31.index, ttt31)\n",
    "\n",
    "plt.legend([10,11,20,30,31])"
   ]
  },
  {
   "cell_type": "code",
   "execution_count": null,
   "metadata": {
    "collapsed": true
   },
   "outputs": [],
   "source": []
  },
  {
   "cell_type": "code",
   "execution_count": 18,
   "metadata": {
    "collapsed": true
   },
   "outputs": [],
   "source": [
    "df_morning = pd.DataFrame(morning_volume66)\n",
    "\n",
    "df_night = pd.DataFrame(night_volume66)"
   ]
  },
  {
   "cell_type": "code",
   "execution_count": 19,
   "metadata": {
    "collapsed": true
   },
   "outputs": [],
   "source": [
    "df_morning['ti'] = tiid\n",
    "df_morning['dl'] = dlid\n",
    "df_night['ti'] = tiid\n",
    "df_night['dl'] = dlid"
   ]
  },
  {
   "cell_type": "code",
   "execution_count": 20,
   "metadata": {
    "collapsed": true
   },
   "outputs": [],
   "source": [
    "holiday_list = []\n",
    "\n",
    "d1 = date(2016, 10, 1)  # start date\n",
    "d2 = date(2016, 10, 7)  # end date\n",
    "\n",
    "delta = d2 - d1         # timedelta\n",
    "\n",
    "for i in range(delta.days + 1):\n",
    "    holiday_list.append(d1 + timedelta(days=i))"
   ]
  },
  {
   "cell_type": "code",
   "execution_count": 54,
   "metadata": {
    "collapsed": true
   },
   "outputs": [],
   "source": [
    "df_morning2 = df_morning[~df_morning['dl'].isin(holiday_list)]\n",
    "df_night2 = df_night[~df_night['dl'].isin(holiday_list)]"
   ]
  },
  {
   "cell_type": "code",
   "execution_count": null,
   "metadata": {
    "collapsed": true
   },
   "outputs": [],
   "source": []
  },
  {
   "cell_type": "code",
   "execution_count": 55,
   "metadata": {
    "collapsed": true
   },
   "outputs": [],
   "source": [
    "from sklearn.neighbors import KNeighborsRegressor"
   ]
  },
  {
   "cell_type": "code",
   "execution_count": 56,
   "metadata": {
    "collapsed": true
   },
   "outputs": [],
   "source": [
    "def pred_loss(x_pred, x_true):\n",
    "    x_pred = np.array(x_pred).reshape(1,-1)\n",
    "    x_true = np.array(x_true).reshape(1,-1)\n",
    "    #print(x_true)\n",
    "\n",
    "    return (abs(x_pred-x_true)/x_true).mean()"
   ]
  },
  {
   "cell_type": "code",
   "execution_count": 57,
   "metadata": {
    "collapsed": false
   },
   "outputs": [],
   "source": [
    "# atets = df_morning2.iloc[:,:6].values"
   ]
  },
  {
   "cell_type": "code",
   "execution_count": 58,
   "metadata": {
    "collapsed": false
   },
   "outputs": [],
   "source": [
    "# df_morning2.iloc[:,:6] = \\\n",
    "# np.array([np.convolve(i, [0.00,1,0.0], 'same') for i in atets])"
   ]
  },
  {
   "cell_type": "code",
   "execution_count": null,
   "metadata": {
    "collapsed": true
   },
   "outputs": [],
   "source": []
  },
  {
   "cell_type": "code",
   "execution_count": 214,
   "metadata": {
    "collapsed": false
   },
   "outputs": [
    {
     "name": "stderr",
     "output_type": "stream",
     "text": [
      "/Users/yutao/anaconda/lib/python2.7/site-packages/ipykernel/__main__.py:1: SettingWithCopyWarning: \n",
      "A value is trying to be set on a copy of a slice from a DataFrame.\n",
      "Try using .loc[row_indexer,col_indexer] = value instead\n",
      "\n",
      "See the caveats in the documentation: http://pandas.pydata.org/pandas-docs/stable/indexing.html#indexing-view-versus-copy\n",
      "  if __name__ == '__main__':\n",
      "/Users/yutao/anaconda/lib/python2.7/site-packages/ipykernel/__main__.py:2: SettingWithCopyWarning: \n",
      "A value is trying to be set on a copy of a slice from a DataFrame.\n",
      "Try using .loc[row_indexer,col_indexer] = value instead\n",
      "\n",
      "See the caveats in the documentation: http://pandas.pydata.org/pandas-docs/stable/indexing.html#indexing-view-versus-copy\n",
      "  from ipykernel import kernelapp as app\n"
     ]
    }
   ],
   "source": [
    "df_morning2['wkwn'] = ([1,1,1,1,1,0,0,1,1,1,1,1,1,1,1]+[1,1,1,1,0,0,1])*5\n",
    "df_morning2['wkwn'] *= 35"
   ]
  },
  {
   "cell_type": "code",
   "execution_count": 215,
   "metadata": {
    "collapsed": false
   },
   "outputs": [],
   "source": [
    "# df_morning2['ti'] = df_morning2['ti'].apply(str)"
   ]
  },
  {
   "cell_type": "code",
   "execution_count": 216,
   "metadata": {
    "collapsed": false
   },
   "outputs": [],
   "source": [
    "#df_morning2 = pd.get_dummies(df_morning2, columns=['ti'])"
   ]
  },
  {
   "cell_type": "code",
   "execution_count": 217,
   "metadata": {
    "collapsed": false
   },
   "outputs": [],
   "source": [
    "#df_morning2.iloc[:,-5:] = df_morning2.iloc[:,-5:] * 10"
   ]
  },
  {
   "cell_type": "code",
   "execution_count": 218,
   "metadata": {
    "collapsed": false
   },
   "outputs": [],
   "source": [
    "date_train = df_morning2['dl'].unique()[:-7]\n",
    "df_morning2_train = df_morning2[df_morning2['dl'].isin(date_train)]\n",
    "df_morning2_valid = df_morning2[~df_morning2['dl'].isin(date_train)]"
   ]
  },
  {
   "cell_type": "code",
   "execution_count": 219,
   "metadata": {
    "collapsed": false
   },
   "outputs": [],
   "source": [
    "df_morning2_valid = df_morning2_valid[df_morning2_valid.index!=84]"
   ]
  },
  {
   "cell_type": "code",
   "execution_count": 220,
   "metadata": {
    "collapsed": true
   },
   "outputs": [],
   "source": [
    "X = df_morning2_train.iloc[:,[0,1,2,3,4,5,-1]]#.values\n",
    "y = df_morning2_train.iloc[:,6:12]#.values"
   ]
  },
  {
   "cell_type": "code",
   "execution_count": 221,
   "metadata": {
    "collapsed": false
   },
   "outputs": [],
   "source": [
    "neigh = KNeighborsRegressor(n_neighbors=5)\n",
    "neigh.fit(X, y)\n",
    "for _ in range(3):\n",
    "    y = 0.1*y + 0.9*neigh.predict(X)\n",
    "    neigh.fit(X, y)\n",
    "    "
   ]
  },
  {
   "cell_type": "code",
   "execution_count": 222,
   "metadata": {
    "collapsed": false
   },
   "outputs": [
    {
     "data": {
      "text/plain": [
       "0.11696244011210208"
      ]
     },
     "execution_count": 222,
     "metadata": {},
     "output_type": "execute_result"
    }
   ],
   "source": [
    "pred_loss(np.vectorize(round)(neigh.predict(df_morning2_valid.iloc[:,[0,1,2,3,4,5,-1]])*0.97), \n",
    "          df_morning2_valid.iloc[:,6:12])"
   ]
  },
  {
   "cell_type": "code",
   "execution_count": 223,
   "metadata": {
    "collapsed": false
   },
   "outputs": [
    {
     "data": {
      "text/plain": [
       "0.11581497620309239"
      ]
     },
     "execution_count": 223,
     "metadata": {},
     "output_type": "execute_result"
    }
   ],
   "source": [
    "pred_loss(np.vectorize(round)(neigh.predict(df_morning2_valid.iloc[:,[0,1,2,3,4,5,-1]])-4), \n",
    "          df_morning2_valid.iloc[:,6:12])"
   ]
  },
  {
   "cell_type": "code",
   "execution_count": 102,
   "metadata": {
    "collapsed": true
   },
   "outputs": [],
   "source": [
    "# neigh = KNeighborsRegressor(n_neighbors=12, \n",
    "#                             algorithm='brute',\n",
    "#                             weights='distance',\n",
    "#                             #metric=lambda a,b: wminkowski(a,b,2,wmink),\n",
    "#                             #metric=lambda a, b: minkowski(a,b,2),\n",
    "#                             metric= adjusted_minkowski\n",
    "#                            )\n",
    "# neigh.fit(X, y)\n",
    "# for _ in range(0):\n",
    "#     y = 0.1*y + 0.9*neigh.predict(X)\n",
    "#     neigh.fit(X, y)\n",
    "    "
   ]
  },
  {
   "cell_type": "code",
   "execution_count": 110,
   "metadata": {
    "collapsed": true
   },
   "outputs": [],
   "source": [
    "import copy"
   ]
  },
  {
   "cell_type": "code",
   "execution_count": 111,
   "metadata": {
    "collapsed": false
   },
   "outputs": [],
   "source": [
    "neigh_morning = copy.deepcopy(neigh)"
   ]
  },
  {
   "cell_type": "code",
   "execution_count": null,
   "metadata": {
    "collapsed": true
   },
   "outputs": [],
   "source": []
  },
  {
   "cell_type": "code",
   "execution_count": 86,
   "metadata": {
    "collapsed": true
   },
   "outputs": [],
   "source": [
    "# X = df_morning2_train.iloc[:,[0,1,2,3,4,5,-6]]#.values\n",
    "# y = df_morning2_train.iloc[:,6]#.values"
   ]
  },
  {
   "cell_type": "code",
   "execution_count": 87,
   "metadata": {
    "collapsed": true
   },
   "outputs": [],
   "source": [
    "# neigh = KNeighborsRegressor(n_neighbors=5)\n",
    "# neigh.fit(X, y)\n",
    "# for _ in range(3):\n",
    "#     y = 0.1*y + 0.9*neigh.predict(X)\n",
    "#     neigh.fit(X, y)"
   ]
  },
  {
   "cell_type": "code",
   "execution_count": 112,
   "metadata": {
    "collapsed": false
   },
   "outputs": [],
   "source": [
    "# pred_loss(np.vectorize(round)(neigh.predict(df_morning2_valid.iloc[:,[0,1,2,3,4,5,-6]])-4), \n",
    "#           df_morning2_valid.iloc[:,6])"
   ]
  },
  {
   "cell_type": "code",
   "execution_count": null,
   "metadata": {
    "collapsed": true
   },
   "outputs": [],
   "source": []
  },
  {
   "cell_type": "code",
   "execution_count": 81,
   "metadata": {
    "collapsed": true
   },
   "outputs": [],
   "source": [
    "X = df_morning2_train.iloc[:,[0,1,2,3,4,5,-1]]#.values\n",
    "y = df_morning2_train.iloc[:,6]#.values"
   ]
  },
  {
   "cell_type": "code",
   "execution_count": 92,
   "metadata": {
    "collapsed": false
   },
   "outputs": [
    {
     "data": {
      "text/plain": [
       "SVR(C=0.1, cache_size=200, coef0=0.0, degree=3, epsilon=0.1, gamma='auto',\n",
       "  kernel='rbf', max_iter=-1, shrinking=True, tol=0.001, verbose=False)"
      ]
     },
     "execution_count": 92,
     "metadata": {},
     "output_type": "execute_result"
    }
   ],
   "source": [
    "from sklearn import svm\n",
    "\n",
    "clf = svm.SVR(C=0.1, epsilon=0.1)\n",
    "clf.fit(X, y) \n"
   ]
  },
  {
   "cell_type": "code",
   "execution_count": 93,
   "metadata": {
    "collapsed": false
   },
   "outputs": [
    {
     "data": {
      "text/plain": [
       "0.52048128207507671"
      ]
     },
     "execution_count": 93,
     "metadata": {},
     "output_type": "execute_result"
    }
   ],
   "source": [
    "pred_loss(np.vectorize(round)(clf.predict(df_morning2_valid.iloc[:,[0,1,2,3,4,5,-6]])-4), \n",
    "          df_morning2_valid.iloc[:,6])"
   ]
  },
  {
   "cell_type": "code",
   "execution_count": 94,
   "metadata": {
    "collapsed": false
   },
   "outputs": [
    {
     "data": {
      "text/plain": [
       "array([ 113.85000006,  113.85000006,  113.85000006,  113.85000006,\n",
       "        113.85000006,  113.85000006,  113.85000006,  113.85000006,\n",
       "        113.85000006,  113.85000006,  113.85000006,  113.85000006,\n",
       "        113.85000006,  113.85000006,  113.85000006,  113.85000006,\n",
       "        113.85000006,  113.85000006,  113.85000006,  113.85000006,\n",
       "        113.85000006,  113.85000006,  113.85000006,  113.85000006,\n",
       "        113.85000006,  113.85000006,  113.85000006,  113.85000006,\n",
       "        113.85000006,  113.85000006,  113.85000006,  113.85000006,\n",
       "        113.85000006,  113.85000006])"
      ]
     },
     "execution_count": 94,
     "metadata": {},
     "output_type": "execute_result"
    }
   ],
   "source": [
    "clf.predict(df_morning2_valid.iloc[:,[0,1,2,3,4,5,-6]])"
   ]
  },
  {
   "cell_type": "code",
   "execution_count": null,
   "metadata": {
    "collapsed": true
   },
   "outputs": [],
   "source": []
  },
  {
   "cell_type": "code",
   "execution_count": null,
   "metadata": {
    "collapsed": true
   },
   "outputs": [],
   "source": []
  },
  {
   "cell_type": "code",
   "execution_count": 113,
   "metadata": {
    "collapsed": true
   },
   "outputs": [],
   "source": [
    "npredm = neigh.predict(df_morning2_valid.iloc[:,[0,1,2,3,4,5,-1]])"
   ]
  },
  {
   "cell_type": "code",
   "execution_count": 114,
   "metadata": {
    "collapsed": false
   },
   "outputs": [],
   "source": [
    "ratio = (df_morning2_train.mean()[6:12])/sum(df_morning2_train.mean()[6:12])"
   ]
  },
  {
   "cell_type": "code",
   "execution_count": 115,
   "metadata": {
    "collapsed": false
   },
   "outputs": [],
   "source": [
    "ratio = np.array(ratio)"
   ]
  },
  {
   "cell_type": "code",
   "execution_count": 116,
   "metadata": {
    "collapsed": false,
    "scrolled": true
   },
   "outputs": [],
   "source": [
    "npredm2 = np.array([i.sum()*ratio for i in npredm])"
   ]
  },
  {
   "cell_type": "code",
   "execution_count": 117,
   "metadata": {
    "collapsed": false
   },
   "outputs": [
    {
     "data": {
      "text/plain": [
       "0.12424298766928875"
      ]
     },
     "execution_count": 117,
     "metadata": {},
     "output_type": "execute_result"
    }
   ],
   "source": [
    "pred_loss(npredm2, \n",
    "          df_morning2_valid.iloc[:,6:12])"
   ]
  },
  {
   "cell_type": "code",
   "execution_count": null,
   "metadata": {
    "collapsed": true
   },
   "outputs": [],
   "source": []
  },
  {
   "cell_type": "code",
   "execution_count": 133,
   "metadata": {
    "collapsed": true
   },
   "outputs": [],
   "source": [
    "from scipy.spatial.distance import wminkowski, minkowski"
   ]
  },
  {
   "cell_type": "code",
   "execution_count": 51,
   "metadata": {
    "collapsed": false
   },
   "outputs": [
    {
     "data": {
      "text/plain": [
       "4.4721359549995796"
      ]
     },
     "execution_count": 51,
     "metadata": {},
     "output_type": "execute_result"
    }
   ],
   "source": [
    "wminkowski([1,2], [3,4], 2, [1,2])"
   ]
  },
  {
   "cell_type": "code",
   "execution_count": 52,
   "metadata": {
    "collapsed": true
   },
   "outputs": [],
   "source": [
    "?KNeighborsRegressor"
   ]
  },
  {
   "cell_type": "code",
   "execution_count": 53,
   "metadata": {
    "collapsed": true
   },
   "outputs": [],
   "source": [
    "def adjusted_minkowski(a, b):\n",
    "    dist = minkowski(a, b, 2)\n",
    "    if dist > 1e-2:\n",
    "        return dist\n",
    "    return 1000"
   ]
  },
  {
   "cell_type": "code",
   "execution_count": 54,
   "metadata": {
    "collapsed": false
   },
   "outputs": [
    {
     "data": {
      "text/plain": [
       "KNeighborsRegressor(algorithm='brute', leaf_size=30,\n",
       "          metric=<function adjusted_minkowski at 0x10b2e8a28>,\n",
       "          metric_params=None, n_jobs=1, n_neighbors=12, p=2,\n",
       "          weights='distance')"
      ]
     },
     "execution_count": 54,
     "metadata": {},
     "output_type": "execute_result"
    }
   ],
   "source": [
    "X = df_morning2_train.iloc[:,[0,1,2,3,4,5,-1]].values\n",
    "y = df_morning2_train.iloc[:,6:12].values\n",
    "\n",
    "#wmink = np.append(np.logspace(0,0,6), 1)\n",
    "\n",
    "neigh = KNeighborsRegressor(n_neighbors=12, \n",
    "                            algorithm='brute',\n",
    "                            weights='distance',\n",
    "                            #metric=lambda a,b: wminkowski(a,b,2,wmink),\n",
    "                            #metric=lambda a, b: minkowski(a,b,2),\n",
    "                            metric= adjusted_minkowski\n",
    "                           )\n",
    "neigh.fit(X, y)\n"
   ]
  },
  {
   "cell_type": "code",
   "execution_count": 55,
   "metadata": {
    "collapsed": false
   },
   "outputs": [
    {
     "data": {
      "text/plain": [
       "0.12330258711347994"
      ]
     },
     "execution_count": 55,
     "metadata": {},
     "output_type": "execute_result"
    }
   ],
   "source": [
    "pred_loss(np.vectorize(round)(neigh.predict(df_morning2_valid.iloc[:,[0,1,2,3,4,5,-1]])*0.97), \n",
    "          df_morning2_valid.iloc[:,6:12])"
   ]
  },
  {
   "cell_type": "code",
   "execution_count": null,
   "metadata": {
    "collapsed": true
   },
   "outputs": [],
   "source": []
  },
  {
   "cell_type": "code",
   "execution_count": 146,
   "metadata": {
    "collapsed": true
   },
   "outputs": [],
   "source": [
    "npred = neigh_morning.predict(df_morning2_valid.iloc[:,[0,1,2,3,4,5,-1]])\n",
    "ntrue = df_morning2_valid.iloc[:,6:12].values\n"
   ]
  },
  {
   "cell_type": "code",
   "execution_count": 147,
   "metadata": {
    "collapsed": true
   },
   "outputs": [],
   "source": [
    "ntruef = ntrue.flatten()\n",
    "npredf = npred.flatten()"
   ]
  },
  {
   "cell_type": "code",
   "execution_count": 148,
   "metadata": {
    "collapsed": false
   },
   "outputs": [
    {
     "data": {
      "text/plain": [
       "4.3234988830147572"
      ]
     },
     "execution_count": 148,
     "metadata": {},
     "output_type": "execute_result"
    }
   ],
   "source": [
    "((ntruef-npredf)**2/npredf*2/len(ntruef)).sum()"
   ]
  },
  {
   "cell_type": "code",
   "execution_count": null,
   "metadata": {
    "collapsed": true
   },
   "outputs": [],
   "source": []
  },
  {
   "cell_type": "code",
   "execution_count": 119,
   "metadata": {
    "collapsed": true
   },
   "outputs": [],
   "source": [
    "# npred = neigh.predict(df_morning2_train.iloc[:,[0,1,2,3,4,5,-1]])\n",
    "# ntrue = df_morning2_train.iloc[:,6:12].values"
   ]
  },
  {
   "cell_type": "code",
   "execution_count": 120,
   "metadata": {
    "collapsed": false
   },
   "outputs": [
    {
     "data": {
      "text/plain": [
       "(array([  1.,   5.,   9.,  11.,  32.,  33.,  36.,  28.,  25.,  11.,   5.,\n",
       "          4.,   0.,   0.,   1.,   2.,   0.,   1.]),\n",
       " array([-0.40139533, -0.33943182, -0.27746832, -0.21550481, -0.15354131,\n",
       "        -0.0915778 , -0.0296143 ,  0.0323492 ,  0.09431271,  0.15627621,\n",
       "         0.21823972,  0.28020322,  0.34216673,  0.40413023,  0.46609374,\n",
       "         0.52805724,  0.59002075,  0.65198425,  0.71394776]),\n",
       " <a list of 18 Patch objects>)"
      ]
     },
     "execution_count": 120,
     "metadata": {},
     "output_type": "execute_result"
    },
    {
     "data": {
      "image/png": "[encoded data removed]",
      "text/plain": [
       "<matplotlib.figure.Figure at 0x10c804d50>"
      ]
     },
     "metadata": {},
     "output_type": "display_data"
    }
   ],
   "source": [
    "loss_ratio = ((ntrue-npred)/npred).flatten()\n",
    "plt.hist(loss_ratio, bins=18)"
   ]
  },
  {
   "cell_type": "code",
   "execution_count": 121,
   "metadata": {
    "collapsed": false
   },
   "outputs": [
    {
     "data": {
      "text/plain": [
       "array([0, 0, 0, 0, 0, 0, 0, 0, 0, 0, 1, 0, 3, 0, 0, 0, 0, 0, 0, 0, 0, 0, 0,\n",
       "       0, 0, 0, 0, 0, 0, 0, 0, 0, 0, 0])"
      ]
     },
     "execution_count": 121,
     "metadata": {},
     "output_type": "execute_result"
    }
   ],
   "source": [
    "(loss_ratio>0.4).reshape(-1,6).sum(axis=1)"
   ]
  },
  {
   "cell_type": "code",
   "execution_count": 122,
   "metadata": {
    "collapsed": false
   },
   "outputs": [
    {
     "data": {
      "text/html": [
       "<div>\n",
       "<table border=\"1\" class=\"dataframe\">\n",
       "  <thead>\n",
       "    <tr style=\"text-align: right;\">\n",
       "      <th></th>\n",
       "      <th>0</th>\n",
       "      <th>1</th>\n",
       "      <th>2</th>\n",
       "      <th>3</th>\n",
       "      <th>4</th>\n",
       "      <th>5</th>\n",
       "      <th>6</th>\n",
       "      <th>7</th>\n",
       "      <th>8</th>\n",
       "      <th>9</th>\n",
       "      <th>10</th>\n",
       "      <th>11</th>\n",
       "      <th>ti</th>\n",
       "      <th>dl</th>\n",
       "      <th>wkwn</th>\n",
       "    </tr>\n",
       "  </thead>\n",
       "  <tbody>\n",
       "    <tr>\n",
       "      <th>54</th>\n",
       "      <td>34.0</td>\n",
       "      <td>48.0</td>\n",
       "      <td>57.0</td>\n",
       "      <td>72.0</td>\n",
       "      <td>78.0</td>\n",
       "      <td>120.0</td>\n",
       "      <td>108.0</td>\n",
       "      <td>107.0</td>\n",
       "      <td>108.0</td>\n",
       "      <td>126.0</td>\n",
       "      <td>111.0</td>\n",
       "      <td>152.0</td>\n",
       "      <td>11</td>\n",
       "      <td>2016-10-14</td>\n",
       "      <td>30</td>\n",
       "    </tr>\n",
       "    <tr>\n",
       "      <th>56</th>\n",
       "      <td>37.0</td>\n",
       "      <td>32.0</td>\n",
       "      <td>58.0</td>\n",
       "      <td>36.0</td>\n",
       "      <td>50.0</td>\n",
       "      <td>39.0</td>\n",
       "      <td>47.0</td>\n",
       "      <td>72.0</td>\n",
       "      <td>67.0</td>\n",
       "      <td>100.0</td>\n",
       "      <td>108.0</td>\n",
       "      <td>108.0</td>\n",
       "      <td>11</td>\n",
       "      <td>2016-10-16</td>\n",
       "      <td>0</td>\n",
       "    </tr>\n",
       "  </tbody>\n",
       "</table>\n",
       "</div>"
      ],
      "text/plain": [
       "       0     1     2     3     4      5      6      7      8      9     10  \\\n",
       "54  34.0  48.0  57.0  72.0  78.0  120.0  108.0  107.0  108.0  126.0  111.0   \n",
       "56  37.0  32.0  58.0  36.0  50.0   39.0   47.0   72.0   67.0  100.0  108.0   \n",
       "\n",
       "       11  ti          dl  wkwn  \n",
       "54  152.0  11  2016-10-14    30  \n",
       "56  108.0  11  2016-10-16     0  "
      ]
     },
     "execution_count": 122,
     "metadata": {},
     "output_type": "execute_result"
    }
   ],
   "source": [
    "df_morning2_valid[(loss_ratio>0.4).reshape(-1,6).sum(axis=1)>0]"
   ]
  },
  {
   "cell_type": "code",
   "execution_count": null,
   "metadata": {
    "collapsed": true
   },
   "outputs": [],
   "source": []
  },
  {
   "cell_type": "code",
   "execution_count": null,
   "metadata": {
    "collapsed": true
   },
   "outputs": [],
   "source": []
  },
  {
   "cell_type": "code",
   "execution_count": 123,
   "metadata": {
    "collapsed": true
   },
   "outputs": [],
   "source": [
    "from scipy.stats import norm"
   ]
  },
  {
   "cell_type": "code",
   "execution_count": 124,
   "metadata": {
    "collapsed": false
   },
   "outputs": [
    {
     "data": {
      "text/plain": [
       "(0, 0.15801321045275163)"
      ]
     },
     "execution_count": 124,
     "metadata": {},
     "output_type": "execute_result"
    }
   ],
   "source": [
    "norm.fit(loss_ratio, floc=0)"
   ]
  },
  {
   "cell_type": "code",
   "execution_count": null,
   "metadata": {
    "collapsed": true
   },
   "outputs": [],
   "source": []
  },
  {
   "cell_type": "code",
   "execution_count": 258,
   "metadata": {
    "collapsed": false
   },
   "outputs": [
    {
     "name": "stderr",
     "output_type": "stream",
     "text": [
      "/Users/yutao/anaconda/lib/python2.7/site-packages/ipykernel/__main__.py:1: SettingWithCopyWarning: \n",
      "A value is trying to be set on a copy of a slice from a DataFrame.\n",
      "Try using .loc[row_indexer,col_indexer] = value instead\n",
      "\n",
      "See the caveats in the documentation: http://pandas.pydata.org/pandas-docs/stable/indexing.html#indexing-view-versus-copy\n",
      "  if __name__ == '__main__':\n",
      "/Users/yutao/anaconda/lib/python2.7/site-packages/ipykernel/__main__.py:2: SettingWithCopyWarning: \n",
      "A value is trying to be set on a copy of a slice from a DataFrame.\n",
      "Try using .loc[row_indexer,col_indexer] = value instead\n",
      "\n",
      "See the caveats in the documentation: http://pandas.pydata.org/pandas-docs/stable/indexing.html#indexing-view-versus-copy\n",
      "  from ipykernel import kernelapp as app\n"
     ]
    }
   ],
   "source": [
    "df_night2['wkwn'] = ([1,1,1,1,1,0,0,1,1,1,1,1,1,1,1]+[1,1,1,1,0,0,1])*5\n",
    "df_night2['wkwn'] *= 55"
   ]
  },
  {
   "cell_type": "code",
   "execution_count": 259,
   "metadata": {
    "collapsed": true
   },
   "outputs": [],
   "source": [
    "date_train = df_night2['dl'].unique()[:-7]\n",
    "df_night2_train = df_night2[df_night2['dl'].isin(date_train)]\n",
    "df_night2_valid = df_night2[~df_night2['dl'].isin(date_train)]"
   ]
  },
  {
   "cell_type": "code",
   "execution_count": 260,
   "metadata": {
    "collapsed": false
   },
   "outputs": [
    {
     "data": {
      "text/plain": [
       "0.15276924455586138"
      ]
     },
     "execution_count": 260,
     "metadata": {},
     "output_type": "execute_result"
    }
   ],
   "source": [
    "X = df_night2_train.iloc[:,[0,1,2,3,4,5,-1]]#.values\n",
    "y = df_night2_train.iloc[:,6:12]#.values\n",
    "\n",
    "neigh = KNeighborsRegressor(n_neighbors=12, weights='distance')\n",
    "neigh.fit(X, y) \n",
    "pred_loss(np.vectorize(round)(neigh.predict(df_night2_valid.iloc[:,[0,1,2,3,4,5,-1]])*0.97), \n",
    "          df_night2_valid.iloc[:,6:12])"
   ]
  },
  {
   "cell_type": "code",
   "execution_count": 261,
   "metadata": {
    "collapsed": false
   },
   "outputs": [
    {
     "data": {
      "text/plain": [
       "0.15188895554102858"
      ]
     },
     "execution_count": 261,
     "metadata": {},
     "output_type": "execute_result"
    }
   ],
   "source": [
    "pred_loss(np.vectorize(round)(neigh.predict(df_night2_valid.iloc[:,[0,1,2,3,4,5,-1]])-3), \n",
    "          df_night2_valid.iloc[:,6:12])"
   ]
  },
  {
   "cell_type": "code",
   "execution_count": null,
   "metadata": {
    "collapsed": true
   },
   "outputs": [],
   "source": []
  },
  {
   "cell_type": "code",
   "execution_count": null,
   "metadata": {
    "collapsed": true
   },
   "outputs": [],
   "source": []
  },
  {
   "cell_type": "code",
   "execution_count": 129,
   "metadata": {
    "collapsed": false
   },
   "outputs": [
    {
     "data": {
      "text/plain": [
       "0.17760321029581336"
      ]
     },
     "execution_count": 129,
     "metadata": {},
     "output_type": "execute_result"
    }
   ],
   "source": [
    "X = df_night2_train.iloc[:,[0,1,2,3,4,5,-1]]#.values\n",
    "y = df_night2_train.iloc[:,11]#.values\n",
    "\n",
    "neigh = KNeighborsRegressor(n_neighbors=12, weights='distance')\n",
    "neigh.fit(X, y) \n",
    "pred_loss(np.vectorize(round)(neigh.predict(df_night2_valid.iloc[:,[0,1,2,3,4,5,-1]])*0.97), \n",
    "          df_night2_valid.iloc[:,11])"
   ]
  },
  {
   "cell_type": "code",
   "execution_count": null,
   "metadata": {
    "collapsed": true
   },
   "outputs": [],
   "source": []
  },
  {
   "cell_type": "code",
   "execution_count": null,
   "metadata": {
    "collapsed": true
   },
   "outputs": [],
   "source": []
  },
  {
   "cell_type": "code",
   "execution_count": null,
   "metadata": {
    "collapsed": true
   },
   "outputs": [],
   "source": []
  },
  {
   "cell_type": "code",
   "execution_count": 130,
   "metadata": {
    "collapsed": false
   },
   "outputs": [
    {
     "data": {
      "text/plain": [
       "KNeighborsRegressor(algorithm='brute', leaf_size=30,\n",
       "          metric=<function <lambda> at 0x10c8accf8>, metric_params=None,\n",
       "          n_jobs=1, n_neighbors=12, p=2,\n",
       "          weights=<function <lambda> at 0x10c8acc08>)"
      ]
     },
     "execution_count": 130,
     "metadata": {},
     "output_type": "execute_result"
    }
   ],
   "source": [
    "X = df_night2_train.iloc[:,[0,1,2,3,4,5,-1]]#.values\n",
    "y = df_night2_train.iloc[:,6:12]#.values\n",
    "\n",
    "wmink = np.append(np.logspace(0,0,6), 1)\n",
    "\n",
    "neigh = KNeighborsRegressor(n_neighbors=12, \n",
    "                            algorithm='brute',\n",
    "                            weights=lambda x: 1/x,\n",
    "                            metric=lambda a,b: wminkowski(a,b,2,wmink))\n",
    "neigh.fit(X, y)\n",
    "    "
   ]
  },
  {
   "cell_type": "code",
   "execution_count": 131,
   "metadata": {
    "collapsed": true
   },
   "outputs": [],
   "source": [
    "def night_adjust(x):\n",
    "    return round(x * (1 - 2/x))"
   ]
  },
  {
   "cell_type": "code",
   "execution_count": 135,
   "metadata": {
    "collapsed": false
   },
   "outputs": [
    {
     "data": {
      "text/plain": [
       "0.15330111085177134"
      ]
     },
     "execution_count": 135,
     "metadata": {},
     "output_type": "execute_result"
    }
   ],
   "source": [
    "pred_loss(np.vectorize(night_adjust)(neigh.predict(df_night2_valid.iloc[:,[0,1,2,3,4,5,-1]])), \n",
    "          df_night2_valid.iloc[:,6:12])"
   ]
  },
  {
   "cell_type": "code",
   "execution_count": null,
   "metadata": {
    "collapsed": true
   },
   "outputs": [],
   "source": []
  },
  {
   "cell_type": "code",
   "execution_count": 74,
   "metadata": {
    "collapsed": false
   },
   "outputs": [
    {
     "data": {
      "text/plain": [
       "0.12330258711347994"
      ]
     },
     "execution_count": 74,
     "metadata": {},
     "output_type": "execute_result"
    }
   ],
   "source": [
    "pred_loss(np.vectorize(round)(neigh_morning.predict(df_morning2_valid.iloc[:,[0,1,2,3,4,5,-1]])*0.97), \n",
    "          df_morning2_valid.iloc[:,6:12])"
   ]
  },
  {
   "cell_type": "code",
   "execution_count": null,
   "metadata": {
    "collapsed": true
   },
   "outputs": [],
   "source": []
  },
  {
   "cell_type": "code",
   "execution_count": 136,
   "metadata": {
    "collapsed": true
   },
   "outputs": [],
   "source": [
    "neigh_night = copy.deepcopy(neigh)"
   ]
  },
  {
   "cell_type": "code",
   "execution_count": 137,
   "metadata": {
    "collapsed": true
   },
   "outputs": [],
   "source": [
    "npred = neigh.predict(df_night2_valid.iloc[:,[0,1,2,3,4,5,-1]])\n",
    "ntrue = df_night2_valid.iloc[:,6:12].values"
   ]
  },
  {
   "cell_type": "code",
   "execution_count": 138,
   "metadata": {
    "collapsed": true
   },
   "outputs": [],
   "source": [
    "npredf = npred.flatten()\n",
    "ntruef = ntrue.flatten()"
   ]
  },
  {
   "cell_type": "code",
   "execution_count": 139,
   "metadata": {
    "collapsed": false
   },
   "outputs": [
    {
     "data": {
      "text/plain": [
       "4.8022589407379268"
      ]
     },
     "execution_count": 139,
     "metadata": {},
     "output_type": "execute_result"
    }
   ],
   "source": [
    "((ntruef-npredf)**2/npredf*2/len(ntruef)).sum()"
   ]
  },
  {
   "cell_type": "code",
   "execution_count": null,
   "metadata": {
    "collapsed": true
   },
   "outputs": [],
   "source": []
  },
  {
   "cell_type": "code",
   "execution_count": 140,
   "metadata": {
    "collapsed": false
   },
   "outputs": [
    {
     "data": {
      "text/plain": [
       "<matplotlib.collections.PathCollection at 0x10cda0ad0>"
      ]
     },
     "execution_count": 140,
     "metadata": {},
     "output_type": "execute_result"
    },
    {
     "name": "stderr",
     "output_type": "stream",
     "text": [
      "/Users/yutao/anaconda/lib/python2.7/site-packages/matplotlib/collections.py:590: FutureWarning: elementwise comparison failed; returning scalar instead, but in the future will perform elementwise comparison\n",
      "  if self._edgecolors == str('face'):\n"
     ]
    },
    {
     "data": {
      "image/png": "[encoded data removed]",
      "text/plain": [
       "<matplotlib.figure.Figure at 0x10cd6d5d0>"
      ]
     },
     "metadata": {},
     "output_type": "display_data"
    }
   ],
   "source": [
    "plt.scatter(npred.flatten(), np.abs(ntrue-npred).flatten())"
   ]
  },
  {
   "cell_type": "code",
   "execution_count": null,
   "metadata": {
    "collapsed": true
   },
   "outputs": [],
   "source": []
  },
  {
   "cell_type": "code",
   "execution_count": 141,
   "metadata": {
    "collapsed": false
   },
   "outputs": [
    {
     "data": {
      "text/plain": [
       "(array([  2.,   5.,   9.,   6.,  10.,  28.,  24.,  30.,  22.,  25.,  18.,\n",
       "         21.,   5.,   4.,   0.,   0.,   0.,   1.]),\n",
       " array([-0.46982681, -0.4073253 , -0.34482379, -0.28232228, -0.21982077,\n",
       "        -0.15731926, -0.09481775, -0.03231624,  0.03018528,  0.09268679,\n",
       "         0.1551883 ,  0.21768981,  0.28019132,  0.34269283,  0.40519434,\n",
       "         0.46769585,  0.53019736,  0.59269887,  0.65520038]),\n",
       " <a list of 18 Patch objects>)"
      ]
     },
     "execution_count": 141,
     "metadata": {},
     "output_type": "execute_result"
    },
    {
     "data": {
      "image/png": "[encoded data removed]",
      "text/plain": [
       "<matplotlib.figure.Figure at 0x10cd6d690>"
      ]
     },
     "metadata": {},
     "output_type": "display_data"
    }
   ],
   "source": [
    "loss_ratio = ((ntrue-npred)/npred).flatten()\n",
    "plt.hist(loss_ratio, bins=18)"
   ]
  },
  {
   "cell_type": "code",
   "execution_count": 142,
   "metadata": {
    "collapsed": false
   },
   "outputs": [
    {
     "data": {
      "text/plain": [
       "(0, 0.18546269677586794)"
      ]
     },
     "execution_count": 142,
     "metadata": {},
     "output_type": "execute_result"
    }
   ],
   "source": [
    "norm.fit(loss_ratio, floc=0)"
   ]
  },
  {
   "cell_type": "code",
   "execution_count": null,
   "metadata": {
    "collapsed": true
   },
   "outputs": [],
   "source": []
  },
  {
   "cell_type": "code",
   "execution_count": 144,
   "metadata": {
    "collapsed": false
   },
   "outputs": [],
   "source": [
    "op = []\n",
    "k = 35\n",
    "\n",
    "for i, j in [(1,0), (1,1), (2,0), (3,0), (3,1)]:\n",
    "    tvm = test_vol_group_count.loc[i].loc[j].reshape(-1,6)[::2]\n",
    "    tvm = np.concatenate([tvm, [[k],[k],[k],[k],[0],[0],[k]]], axis=1)\n",
    "    op += list(0.97*neigh_morning.predict(tvm).T.reshape(1,-1)[0])\n",
    "\n",
    "for i, j in [(1,0), (1,1), (2,0), (3,0), (3,1)]:\n",
    "    tvm = test_vol_group_count.loc[i].loc[j].reshape(-1,6)[1::2]\n",
    "    tvm = np.concatenate([tvm, [[k],[k],[k],[k],[0],[0],[k]]], axis=1)\n",
    "    op += list(0.97*neigh_night.predict(tvm).T.reshape(1,-1)[0])"
   ]
  },
  {
   "cell_type": "code",
   "execution_count": 198,
   "metadata": {
    "collapsed": true
   },
   "outputs": [],
   "source": [
    "sample['volume'] = op\n",
    "\n",
    "sample.to_csv('submission/submission_0503v.csv', index=False)"
   ]
  },
  {
   "cell_type": "code",
   "execution_count": null,
   "metadata": {
    "collapsed": true
   },
   "outputs": [],
   "source": []
  },
  {
   "cell_type": "code",
   "execution_count": 966,
   "metadata": {
    "collapsed": true
   },
   "outputs": [],
   "source": [
    "op = []\n",
    "k = 35\n",
    "\n",
    "for i, j in [(1,0), (1,1), (2,0), (3,0), (3,1)]:\n",
    "    tvm = test_vol_group_count.loc[i].loc[j].reshape(-1,6)[::2]\n",
    "    tvm = np.concatenate([tvm, [[k],[k],[k],[k],[0],[0],[k]]], axis=1)\n",
    "    op += list((neigh_morning.predict(tvm)-3).T.reshape(1,-1)[0])\n",
    "\n",
    "for i, j in [(1,0), (1,1), (2,0), (3,0), (3,1)]:\n",
    "    tvm = test_vol_group_count.loc[i].loc[j].reshape(-1,6)[1::2]\n",
    "    tvm = np.concatenate([tvm, [[k],[k],[k],[k],[0],[0],[k]]], axis=1)\n",
    "    op += list((neigh_night.predict(tvm)-3).T.reshape(1,-1)[0])"
   ]
  },
  {
   "cell_type": "code",
   "execution_count": 963,
   "metadata": {
    "collapsed": false
   },
   "outputs": [],
   "source": [
    "sample['volume'] = op\n",
    "\n",
    "sample.to_csv('submission/submission_0504v.csv', index=False)"
   ]
  },
  {
   "cell_type": "code",
   "execution_count": null,
   "metadata": {
    "collapsed": true
   },
   "outputs": [],
   "source": []
  },
  {
   "cell_type": "code",
   "execution_count": null,
   "metadata": {
    "collapsed": true
   },
   "outputs": [],
   "source": [
    "op = []\n",
    "k = 35\n",
    "\n",
    "for i, j in [(1,0), (1,1), (2,0), (3,0), (3,1)]:\n",
    "    tvm = test_vol_group_count.loc[i].loc[j].reshape(-1,6)[::2]\n",
    "    tvm = np.concatenate([tvm, [[k],[k],[k],[k],[0],[0],[k]]], axis=1)\n",
    "    op += list((neigh_morning.predict(tvm)-5).T.reshape(1,-1)[0])\n",
    "\n",
    "for i, j in [(1,0), (1,1), (2,0), (3,0), (3,1)]:\n",
    "    tvm = test_vol_group_count.loc[i].loc[j].reshape(-1,6)[1::2]\n",
    "    tvm = np.concatenate([tvm, [[k],[k],[k],[k],[0],[0],[k]]], axis=1)\n",
    "    op += list((neigh_night.predict(tvm)-5).T.reshape(1,-1)[0])"
   ]
  },
  {
   "cell_type": "code",
   "execution_count": 998,
   "metadata": {
    "collapsed": true
   },
   "outputs": [],
   "source": [
    "sample['volume'] = op\n",
    "\n",
    "sample.to_csv('submission/submission_0506v.csv', index=False)"
   ]
  },
  {
   "cell_type": "code",
   "execution_count": null,
   "metadata": {
    "collapsed": true
   },
   "outputs": [],
   "source": []
  },
  {
   "cell_type": "code",
   "execution_count": null,
   "metadata": {
    "collapsed": true
   },
   "outputs": [],
   "source": []
  },
  {
   "cell_type": "code",
   "execution_count": 968,
   "metadata": {
    "collapsed": true
   },
   "outputs": [],
   "source": [
    "op = []\n",
    "k = 35\n",
    "\n",
    "for i, j in [(1,0), (1,1), (2,0), (3,0), (3,1)]:\n",
    "    tvm = test_vol_group_count.loc[i].loc[j].reshape(-1,6)[::2]\n",
    "    tvm = np.concatenate([tvm, [[k],[k],[k],[k],[0],[0],[k]]], axis=1)\n",
    "    op += list((neigh_morning.predict(tvm)-4).T.reshape(1,-1)[0])\n",
    "\n",
    "for i, j in [(1,0), (1,1), (2,0), (3,0), (3,1)]:\n",
    "    tvm = test_vol_group_count.loc[i].loc[j].reshape(-1,6)[1::2]\n",
    "    tvm = np.concatenate([tvm, [[k],[k],[k],[k],[0],[0],[k]]], axis=1)\n",
    "    op += list((neigh_night.predict(tvm)-4).T.reshape(1,-1)[0])"
   ]
  },
  {
   "cell_type": "code",
   "execution_count": 969,
   "metadata": {
    "collapsed": true
   },
   "outputs": [],
   "source": [
    "sample['volume'] = op\n",
    "\n",
    "sample.to_csv('submission/submission_0505v.csv', index=False)"
   ]
  },
  {
   "cell_type": "code",
   "execution_count": null,
   "metadata": {
    "collapsed": true
   },
   "outputs": [],
   "source": []
  },
  {
   "cell_type": "code",
   "execution_count": null,
   "metadata": {
    "collapsed": true
   },
   "outputs": [],
   "source": []
  },
  {
   "cell_type": "code",
   "execution_count": 1531,
   "metadata": {
    "collapsed": false,
    "scrolled": true
   },
   "outputs": [
    {
     "data": {
      "text/plain": [
       "<matplotlib.collections.PathCollection at 0x1186c7610>"
      ]
     },
     "execution_count": 1531,
     "metadata": {},
     "output_type": "execute_result"
    },
    {
     "data": {
      "image/png": "[encoded data removed]",
      "text/plain": [
       "<matplotlib.figure.Figure at 0x1184b3ad0>"
      ]
     },
     "metadata": {},
     "output_type": "display_data"
    }
   ],
   "source": [
    "plt.scatter(df_morning2.iloc[:,:6].sum(axis=1), df_morning2.iloc[:,6:12].sum(axis=1))"
   ]
  },
  {
   "cell_type": "code",
   "execution_count": null,
   "metadata": {
    "collapsed": true
   },
   "outputs": [],
   "source": []
  },
  {
   "cell_type": "code",
   "execution_count": 173,
   "metadata": {
    "collapsed": false
   },
   "outputs": [
    {
     "data": {
      "text/plain": [
       "0               11\n",
       "1               15\n",
       "2               10\n",
       "3               18\n",
       "4               29\n",
       "5               76\n",
       "6               56\n",
       "7               79\n",
       "8               69\n",
       "9               43\n",
       "10              54\n",
       "11              52\n",
       "ti              20\n",
       "dl      2016-09-28\n",
       "wkwn            35\n",
       "Name: 67, dtype: object"
      ]
     },
     "execution_count": 173,
     "metadata": {},
     "output_type": "execute_result"
    }
   ],
   "source": [
    "df_night2.loc[67]"
   ]
  },
  {
   "cell_type": "code",
   "execution_count": 163,
   "metadata": {
    "collapsed": false,
    "scrolled": true
   },
   "outputs": [
    {
     "data": {
      "text/plain": [
       "67      159.0\n",
       "20      252.0\n",
       "21      253.0\n",
       "19      255.0\n",
       "24      266.0\n",
       "23      267.0\n",
       "7       273.0\n",
       "22      278.0\n",
       "2       280.0\n",
       "28      289.0\n",
       "8       289.0\n",
       "0       291.0\n",
       "3       318.0\n",
       "10      328.0\n",
       "26      340.0\n",
       "1       361.0\n",
       "5       372.0\n",
       "6       384.0\n",
       "77      386.0\n",
       "4       397.0\n",
       "78      399.0\n",
       "27      404.0\n",
       "25      408.0\n",
       "59      422.0\n",
       "79      430.0\n",
       "65      431.0\n",
       "81      432.0\n",
       "66      444.0\n",
       "86      445.0\n",
       "61      446.0\n",
       "        ...  \n",
       "110     656.0\n",
       "108     657.0\n",
       "97      658.0\n",
       "11      658.0\n",
       "122     658.0\n",
       "33      660.0\n",
       "109     664.0\n",
       "89      667.0\n",
       "96      669.0\n",
       "140     670.0\n",
       "121     673.0\n",
       "120     683.0\n",
       "94      686.0\n",
       "56      687.0\n",
       "87      691.0\n",
       "95      691.0\n",
       "54      693.0\n",
       "107     696.0\n",
       "90      725.0\n",
       "111     729.0\n",
       "88      744.0\n",
       "114     760.0\n",
       "113     781.0\n",
       "143     784.0\n",
       "93      806.0\n",
       "69      826.0\n",
       "112     837.0\n",
       "92      847.0\n",
       "91      934.0\n",
       "98     1162.0\n",
       "dtype: float64"
      ]
     },
     "execution_count": 163,
     "metadata": {},
     "output_type": "execute_result"
    }
   ],
   "source": [
    "df_night2.iloc[:,:6].sum(axis=1).sort_values()"
   ]
  },
  {
   "cell_type": "code",
   "execution_count": 162,
   "metadata": {
    "collapsed": false
   },
   "outputs": [
    {
     "data": {
      "text/plain": [
       "120.8"
      ]
     },
     "execution_count": 162,
     "metadata": {},
     "output_type": "execute_result"
    }
   ],
   "source": [
    "(116+118+123+123+124)/5"
   ]
  },
  {
   "cell_type": "code",
   "execution_count": 171,
   "metadata": {
    "collapsed": false
   },
   "outputs": [
    {
     "data": {
      "text/plain": [
       "array([514, 532, 543, 583, 505, 633, 515])"
      ]
     },
     "execution_count": 171,
     "metadata": {},
     "output_type": "execute_result"
    }
   ],
   "source": [
    "test_vol_group_count.loc[3].loc[1].reshape(-1,6)[1::2].sum(axis=1)"
   ]
  },
  {
   "cell_type": "code",
   "execution_count": null,
   "metadata": {
    "collapsed": true
   },
   "outputs": [],
   "source": []
  },
  {
   "cell_type": "code",
   "execution_count": 1294,
   "metadata": {
    "collapsed": true
   },
   "outputs": [],
   "source": [
    "op = []\n",
    "k = 35\n",
    "\n",
    "for i, j in [(1,0), (1,1), (2,0), (3,0), (3,1)]:\n",
    "    tvm = test_vol_group_count.loc[i].loc[j].reshape(-1,6)[::2]\n",
    "    tvm = np.concatenate([tvm, [[k],[k],[k],[k],[0],[0],[k]]], axis=1)\n",
    "    if (i, j) != (1, 0):\n",
    "        op += list((neigh_morning.predict(tvm)-4).T.reshape(1,-1)[0])\n",
    "    else:\n",
    "        predtmp = neigh_morning.predict(tvm)\n",
    "        predtmp[4] = predtmp[4] * 112 / 125.6\n",
    "        predtmp[5] = predtmp[5] * 102 / 125.6\n",
    "        op += list((predtmp-4).T.reshape(1,-1)[0])\n",
    "\n",
    "for i, j in [(1,0), (1,1), (2,0), (3,0), (3,1)]:\n",
    "    tvm = test_vol_group_count.loc[i].loc[j].reshape(-1,6)[1::2]\n",
    "    tvm = np.concatenate([tvm, [[k],[k],[k],[k],[0],[0],[k]]], axis=1)\n",
    "    op += list((neigh_night.predict(tvm)-4).T.reshape(1,-1)[0])"
   ]
  },
  {
   "cell_type": "code",
   "execution_count": 1295,
   "metadata": {
    "collapsed": true
   },
   "outputs": [],
   "source": [
    "sample['volume'] = op\n",
    "\n",
    "sample.to_csv('submission/submission_0516v.csv', index=False)"
   ]
  },
  {
   "cell_type": "code",
   "execution_count": null,
   "metadata": {
    "collapsed": true
   },
   "outputs": [],
   "source": []
  },
  {
   "cell_type": "code",
   "execution_count": 262,
   "metadata": {
    "collapsed": true
   },
   "outputs": [],
   "source": [
    "op = []\n",
    "\n",
    "k = 35\n",
    "\n",
    "for i, j in [(1,0), (1,1), (2,0), (3,0), (3,1)]:\n",
    "    tvm = test_vol_group_count.loc[i].loc[j].reshape(-1,6)[::2]\n",
    "    tvm = np.concatenate([tvm, [[k],[k],[k],[k],[0],[0],[k]]], axis=1)\n",
    "    if (i, j) != (1, 0):\n",
    "        op += list((neigh_morning.predict(tvm)-4).T.reshape(1,-1)[0])\n",
    "    else:\n",
    "        predtmp = neigh_morning.predict(tvm)\n",
    "        predtmp[4] = predtmp[4] * 112 / 120.8\n",
    "        predtmp[5] = predtmp[5] * 102 / 120.8\n",
    "        op += list((predtmp-4).T.reshape(1,-1)[0])\n",
    "\n",
    "k = 55      \n",
    "        \n",
    "for i, j in [(1,0), (1,1), (2,0), (3,0), (3,1)]:\n",
    "    tvm = test_vol_group_count.loc[i].loc[j].reshape(-1,6)[1::2]\n",
    "    tvm = np.concatenate([tvm, [[k],[k],[k],[k],[0],[0],[k]]], axis=1)\n",
    "    op += list((neigh_night.predict(tvm)-4).T.reshape(1,-1)[0])"
   ]
  },
  {
   "cell_type": "code",
   "execution_count": 263,
   "metadata": {
    "collapsed": true
   },
   "outputs": [],
   "source": [
    "sample['volume'] = op\n",
    "\n",
    "sample.to_csv('submission/submission_0523v.csv', index=False)"
   ]
  },
  {
   "cell_type": "code",
   "execution_count": null,
   "metadata": {
    "collapsed": true
   },
   "outputs": [],
   "source": []
  },
  {
   "cell_type": "code",
   "execution_count": 665,
   "metadata": {
    "collapsed": false
   },
   "outputs": [
    {
     "data": {
      "text/html": [
       "<div>\n",
       "<table border=\"1\" class=\"dataframe\">\n",
       "  <thead>\n",
       "    <tr style=\"text-align: right;\">\n",
       "      <th></th>\n",
       "      <th>0</th>\n",
       "      <th>1</th>\n",
       "      <th>2</th>\n",
       "      <th>3</th>\n",
       "      <th>4</th>\n",
       "      <th>5</th>\n",
       "      <th>6</th>\n",
       "      <th>7</th>\n",
       "      <th>8</th>\n",
       "      <th>9</th>\n",
       "      <th>10</th>\n",
       "      <th>11</th>\n",
       "      <th>wkwn</th>\n",
       "    </tr>\n",
       "  </thead>\n",
       "  <tbody>\n",
       "    <tr>\n",
       "      <th>count</th>\n",
       "      <td>35.000000</td>\n",
       "      <td>35.000000</td>\n",
       "      <td>35.000000</td>\n",
       "      <td>35.000000</td>\n",
       "      <td>35.000000</td>\n",
       "      <td>35.000000</td>\n",
       "      <td>35.000000</td>\n",
       "      <td>35.000000</td>\n",
       "      <td>35.000000</td>\n",
       "      <td>35.000000</td>\n",
       "      <td>35.000000</td>\n",
       "      <td>35.000000</td>\n",
       "      <td>35.000000</td>\n",
       "    </tr>\n",
       "    <tr>\n",
       "      <th>mean</th>\n",
       "      <td>24.828571</td>\n",
       "      <td>36.657143</td>\n",
       "      <td>51.285714</td>\n",
       "      <td>67.800000</td>\n",
       "      <td>82.600000</td>\n",
       "      <td>92.542857</td>\n",
       "      <td>100.714286</td>\n",
       "      <td>106.628571</td>\n",
       "      <td>110.285714</td>\n",
       "      <td>107.485714</td>\n",
       "      <td>100.542857</td>\n",
       "      <td>93.142857</td>\n",
       "      <td>25.000000</td>\n",
       "    </tr>\n",
       "    <tr>\n",
       "      <th>std</th>\n",
       "      <td>10.664636</td>\n",
       "      <td>13.588366</td>\n",
       "      <td>23.447779</td>\n",
       "      <td>31.796966</td>\n",
       "      <td>33.962956</td>\n",
       "      <td>37.016962</td>\n",
       "      <td>39.767391</td>\n",
       "      <td>36.972236</td>\n",
       "      <td>39.023049</td>\n",
       "      <td>33.110662</td>\n",
       "      <td>28.289827</td>\n",
       "      <td>29.550697</td>\n",
       "      <td>16.042224</td>\n",
       "    </tr>\n",
       "    <tr>\n",
       "      <th>min</th>\n",
       "      <td>6.000000</td>\n",
       "      <td>7.000000</td>\n",
       "      <td>0.000000</td>\n",
       "      <td>0.000000</td>\n",
       "      <td>27.000000</td>\n",
       "      <td>30.000000</td>\n",
       "      <td>29.000000</td>\n",
       "      <td>44.000000</td>\n",
       "      <td>35.000000</td>\n",
       "      <td>43.000000</td>\n",
       "      <td>46.000000</td>\n",
       "      <td>34.000000</td>\n",
       "      <td>0.000000</td>\n",
       "    </tr>\n",
       "    <tr>\n",
       "      <th>25%</th>\n",
       "      <td>17.000000</td>\n",
       "      <td>29.000000</td>\n",
       "      <td>35.000000</td>\n",
       "      <td>40.000000</td>\n",
       "      <td>51.500000</td>\n",
       "      <td>61.500000</td>\n",
       "      <td>76.500000</td>\n",
       "      <td>80.000000</td>\n",
       "      <td>92.500000</td>\n",
       "      <td>97.500000</td>\n",
       "      <td>93.000000</td>\n",
       "      <td>74.500000</td>\n",
       "      <td>0.000000</td>\n",
       "    </tr>\n",
       "    <tr>\n",
       "      <th>50%</th>\n",
       "      <td>24.000000</td>\n",
       "      <td>39.000000</td>\n",
       "      <td>54.000000</td>\n",
       "      <td>72.000000</td>\n",
       "      <td>79.000000</td>\n",
       "      <td>92.000000</td>\n",
       "      <td>107.000000</td>\n",
       "      <td>111.000000</td>\n",
       "      <td>121.000000</td>\n",
       "      <td>112.000000</td>\n",
       "      <td>107.000000</td>\n",
       "      <td>98.000000</td>\n",
       "      <td>35.000000</td>\n",
       "    </tr>\n",
       "    <tr>\n",
       "      <th>75%</th>\n",
       "      <td>32.500000</td>\n",
       "      <td>45.000000</td>\n",
       "      <td>66.500000</td>\n",
       "      <td>91.000000</td>\n",
       "      <td>108.000000</td>\n",
       "      <td>119.000000</td>\n",
       "      <td>126.000000</td>\n",
       "      <td>132.500000</td>\n",
       "      <td>134.000000</td>\n",
       "      <td>127.000000</td>\n",
       "      <td>116.500000</td>\n",
       "      <td>115.500000</td>\n",
       "      <td>35.000000</td>\n",
       "    </tr>\n",
       "    <tr>\n",
       "      <th>max</th>\n",
       "      <td>45.000000</td>\n",
       "      <td>68.000000</td>\n",
       "      <td>95.000000</td>\n",
       "      <td>145.000000</td>\n",
       "      <td>162.000000</td>\n",
       "      <td>165.000000</td>\n",
       "      <td>175.000000</td>\n",
       "      <td>182.000000</td>\n",
       "      <td>180.000000</td>\n",
       "      <td>161.000000</td>\n",
       "      <td>150.000000</td>\n",
       "      <td>152.000000</td>\n",
       "      <td>35.000000</td>\n",
       "    </tr>\n",
       "  </tbody>\n",
       "</table>\n",
       "</div>"
      ],
      "text/plain": [
       "               0          1          2           3           4           5  \\\n",
       "count  35.000000  35.000000  35.000000   35.000000   35.000000   35.000000   \n",
       "mean   24.828571  36.657143  51.285714   67.800000   82.600000   92.542857   \n",
       "std    10.664636  13.588366  23.447779   31.796966   33.962956   37.016962   \n",
       "min     6.000000   7.000000   0.000000    0.000000   27.000000   30.000000   \n",
       "25%    17.000000  29.000000  35.000000   40.000000   51.500000   61.500000   \n",
       "50%    24.000000  39.000000  54.000000   72.000000   79.000000   92.000000   \n",
       "75%    32.500000  45.000000  66.500000   91.000000  108.000000  119.000000   \n",
       "max    45.000000  68.000000  95.000000  145.000000  162.000000  165.000000   \n",
       "\n",
       "                6           7           8           9          10          11  \\\n",
       "count   35.000000   35.000000   35.000000   35.000000   35.000000   35.000000   \n",
       "mean   100.714286  106.628571  110.285714  107.485714  100.542857   93.142857   \n",
       "std     39.767391   36.972236   39.023049   33.110662   28.289827   29.550697   \n",
       "min     29.000000   44.000000   35.000000   43.000000   46.000000   34.000000   \n",
       "25%     76.500000   80.000000   92.500000   97.500000   93.000000   74.500000   \n",
       "50%    107.000000  111.000000  121.000000  112.000000  107.000000   98.000000   \n",
       "75%    126.000000  132.500000  134.000000  127.000000  116.500000  115.500000   \n",
       "max    175.000000  182.000000  180.000000  161.000000  150.000000  152.000000   \n",
       "\n",
       "            wkwn  \n",
       "count  35.000000  \n",
       "mean   25.000000  \n",
       "std    16.042224  \n",
       "min     0.000000  \n",
       "25%     0.000000  \n",
       "50%    35.000000  \n",
       "75%    35.000000  \n",
       "max    35.000000  "
      ]
     },
     "execution_count": 665,
     "metadata": {},
     "output_type": "execute_result"
    }
   ],
   "source": [
    "df_morning2_valid.describe()"
   ]
  },
  {
   "cell_type": "code",
   "execution_count": 664,
   "metadata": {
    "collapsed": false
   },
   "outputs": [
    {
     "data": {
      "text/html": [
       "<div>\n",
       "<table border=\"1\" class=\"dataframe\">\n",
       "  <thead>\n",
       "    <tr style=\"text-align: right;\">\n",
       "      <th></th>\n",
       "      <th>0</th>\n",
       "      <th>1</th>\n",
       "      <th>2</th>\n",
       "      <th>3</th>\n",
       "      <th>4</th>\n",
       "      <th>5</th>\n",
       "      <th>6</th>\n",
       "      <th>7</th>\n",
       "      <th>8</th>\n",
       "      <th>9</th>\n",
       "      <th>10</th>\n",
       "      <th>11</th>\n",
       "      <th>wkwn</th>\n",
       "    </tr>\n",
       "  </thead>\n",
       "  <tbody>\n",
       "    <tr>\n",
       "      <th>count</th>\n",
       "      <td>35.000000</td>\n",
       "      <td>35.000000</td>\n",
       "      <td>35.000000</td>\n",
       "      <td>35.000000</td>\n",
       "      <td>35.000000</td>\n",
       "      <td>35.000000</td>\n",
       "      <td>35.000000</td>\n",
       "      <td>35.000000</td>\n",
       "      <td>35.000000</td>\n",
       "      <td>35.000000</td>\n",
       "      <td>35.000000</td>\n",
       "      <td>35.000000</td>\n",
       "      <td>35.000000</td>\n",
       "    </tr>\n",
       "    <tr>\n",
       "      <th>mean</th>\n",
       "      <td>89.771429</td>\n",
       "      <td>92.542857</td>\n",
       "      <td>88.971429</td>\n",
       "      <td>92.857143</td>\n",
       "      <td>93.628571</td>\n",
       "      <td>91.314286</td>\n",
       "      <td>90.628571</td>\n",
       "      <td>91.228571</td>\n",
       "      <td>86.371429</td>\n",
       "      <td>67.085714</td>\n",
       "      <td>66.085714</td>\n",
       "      <td>56.114286</td>\n",
       "      <td>25.000000</td>\n",
       "    </tr>\n",
       "    <tr>\n",
       "      <th>std</th>\n",
       "      <td>28.768943</td>\n",
       "      <td>27.110170</td>\n",
       "      <td>26.510249</td>\n",
       "      <td>28.370597</td>\n",
       "      <td>25.323885</td>\n",
       "      <td>27.138828</td>\n",
       "      <td>27.041456</td>\n",
       "      <td>32.079025</td>\n",
       "      <td>34.166621</td>\n",
       "      <td>25.509366</td>\n",
       "      <td>22.553689</td>\n",
       "      <td>20.619482</td>\n",
       "      <td>16.042224</td>\n",
       "    </tr>\n",
       "    <tr>\n",
       "      <th>min</th>\n",
       "      <td>37.000000</td>\n",
       "      <td>43.000000</td>\n",
       "      <td>33.000000</td>\n",
       "      <td>41.000000</td>\n",
       "      <td>42.000000</td>\n",
       "      <td>42.000000</td>\n",
       "      <td>39.000000</td>\n",
       "      <td>26.000000</td>\n",
       "      <td>24.000000</td>\n",
       "      <td>22.000000</td>\n",
       "      <td>24.000000</td>\n",
       "      <td>14.000000</td>\n",
       "      <td>0.000000</td>\n",
       "    </tr>\n",
       "    <tr>\n",
       "      <th>25%</th>\n",
       "      <td>74.000000</td>\n",
       "      <td>78.500000</td>\n",
       "      <td>74.000000</td>\n",
       "      <td>70.000000</td>\n",
       "      <td>79.000000</td>\n",
       "      <td>73.000000</td>\n",
       "      <td>76.000000</td>\n",
       "      <td>73.000000</td>\n",
       "      <td>66.000000</td>\n",
       "      <td>47.000000</td>\n",
       "      <td>53.500000</td>\n",
       "      <td>40.500000</td>\n",
       "      <td>0.000000</td>\n",
       "    </tr>\n",
       "    <tr>\n",
       "      <th>50%</th>\n",
       "      <td>93.000000</td>\n",
       "      <td>92.000000</td>\n",
       "      <td>89.000000</td>\n",
       "      <td>90.000000</td>\n",
       "      <td>94.000000</td>\n",
       "      <td>91.000000</td>\n",
       "      <td>89.000000</td>\n",
       "      <td>93.000000</td>\n",
       "      <td>90.000000</td>\n",
       "      <td>71.000000</td>\n",
       "      <td>70.000000</td>\n",
       "      <td>57.000000</td>\n",
       "      <td>35.000000</td>\n",
       "    </tr>\n",
       "    <tr>\n",
       "      <th>75%</th>\n",
       "      <td>108.500000</td>\n",
       "      <td>107.500000</td>\n",
       "      <td>107.000000</td>\n",
       "      <td>111.500000</td>\n",
       "      <td>114.000000</td>\n",
       "      <td>105.000000</td>\n",
       "      <td>111.500000</td>\n",
       "      <td>120.000000</td>\n",
       "      <td>112.500000</td>\n",
       "      <td>88.000000</td>\n",
       "      <td>83.500000</td>\n",
       "      <td>72.000000</td>\n",
       "      <td>35.000000</td>\n",
       "    </tr>\n",
       "    <tr>\n",
       "      <th>max</th>\n",
       "      <td>140.000000</td>\n",
       "      <td>159.000000</td>\n",
       "      <td>137.000000</td>\n",
       "      <td>144.000000</td>\n",
       "      <td>135.000000</td>\n",
       "      <td>149.000000</td>\n",
       "      <td>146.000000</td>\n",
       "      <td>139.000000</td>\n",
       "      <td>135.000000</td>\n",
       "      <td>125.000000</td>\n",
       "      <td>109.000000</td>\n",
       "      <td>99.000000</td>\n",
       "      <td>35.000000</td>\n",
       "    </tr>\n",
       "  </tbody>\n",
       "</table>\n",
       "</div>"
      ],
      "text/plain": [
       "                0           1           2           3           4           5  \\\n",
       "count   35.000000   35.000000   35.000000   35.000000   35.000000   35.000000   \n",
       "mean    89.771429   92.542857   88.971429   92.857143   93.628571   91.314286   \n",
       "std     28.768943   27.110170   26.510249   28.370597   25.323885   27.138828   \n",
       "min     37.000000   43.000000   33.000000   41.000000   42.000000   42.000000   \n",
       "25%     74.000000   78.500000   74.000000   70.000000   79.000000   73.000000   \n",
       "50%     93.000000   92.000000   89.000000   90.000000   94.000000   91.000000   \n",
       "75%    108.500000  107.500000  107.000000  111.500000  114.000000  105.000000   \n",
       "max    140.000000  159.000000  137.000000  144.000000  135.000000  149.000000   \n",
       "\n",
       "                6           7           8           9          10         11  \\\n",
       "count   35.000000   35.000000   35.000000   35.000000   35.000000  35.000000   \n",
       "mean    90.628571   91.228571   86.371429   67.085714   66.085714  56.114286   \n",
       "std     27.041456   32.079025   34.166621   25.509366   22.553689  20.619482   \n",
       "min     39.000000   26.000000   24.000000   22.000000   24.000000  14.000000   \n",
       "25%     76.000000   73.000000   66.000000   47.000000   53.500000  40.500000   \n",
       "50%     89.000000   93.000000   90.000000   71.000000   70.000000  57.000000   \n",
       "75%    111.500000  120.000000  112.500000   88.000000   83.500000  72.000000   \n",
       "max    146.000000  139.000000  135.000000  125.000000  109.000000  99.000000   \n",
       "\n",
       "            wkwn  \n",
       "count  35.000000  \n",
       "mean   25.000000  \n",
       "std    16.042224  \n",
       "min     0.000000  \n",
       "25%     0.000000  \n",
       "50%    35.000000  \n",
       "75%    35.000000  \n",
       "max    35.000000  "
      ]
     },
     "execution_count": 664,
     "metadata": {},
     "output_type": "execute_result"
    }
   ],
   "source": [
    "df_night2_valid.describe()"
   ]
  },
  {
   "cell_type": "code",
   "execution_count": null,
   "metadata": {
    "collapsed": true
   },
   "outputs": [],
   "source": []
  },
  {
   "cell_type": "code",
   "execution_count": 986,
   "metadata": {
    "collapsed": true
   },
   "outputs": [],
   "source": [
    "from sklearn.decomposition import PCA"
   ]
  },
  {
   "cell_type": "code",
   "execution_count": 991,
   "metadata": {
    "collapsed": false
   },
   "outputs": [
    {
     "data": {
      "text/plain": [
       "PCA(copy=True, n_components=None, whiten=False)"
      ]
     },
     "execution_count": 991,
     "metadata": {},
     "output_type": "execute_result"
    }
   ],
   "source": [
    "pca = PCA()\n",
    "pca.fit(df_night2.iloc[:,:6])"
   ]
  },
  {
   "cell_type": "code",
   "execution_count": 992,
   "metadata": {
    "collapsed": false
   },
   "outputs": [
    {
     "data": {
      "text/plain": [
       "array([[ 0.37872265,  0.3976921 ,  0.40932576,  0.43316427,  0.3947647 ,\n",
       "         0.43288812],\n",
       "       [ 0.5479476 ,  0.25093885,  0.05990307,  0.17947525, -0.2235362 ,\n",
       "        -0.74230381],\n",
       "       [-0.45182228, -0.38759207,  0.34969856,  0.56851206,  0.2467298 ,\n",
       "        -0.37317338],\n",
       "       [ 0.40910238, -0.53998244,  0.40779711, -0.49507521,  0.35249739,\n",
       "        -0.07349724],\n",
       "       [-0.17394916,  0.10099201,  0.71122249, -0.14620048, -0.64603849,\n",
       "         0.12232974],\n",
       "       [ 0.39313629, -0.57171903, -0.18557761,  0.43643709, -0.43783177,\n",
       "         0.31932453]])"
      ]
     },
     "execution_count": 992,
     "metadata": {},
     "output_type": "execute_result"
    }
   ],
   "source": [
    "pca.components_"
   ]
  },
  {
   "cell_type": "code",
   "execution_count": 996,
   "metadata": {
    "collapsed": false
   },
   "outputs": [],
   "source": [
    "dfnpca = pca.transform(df_night2.iloc[:,:6])"
   ]
  },
  {
   "cell_type": "code",
   "execution_count": null,
   "metadata": {
    "collapsed": true
   },
   "outputs": [],
   "source": []
  },
  {
   "cell_type": "code",
   "execution_count": null,
   "metadata": {
    "collapsed": true
   },
   "outputs": [],
   "source": []
  },
  {
   "cell_type": "code",
   "execution_count": null,
   "metadata": {
    "collapsed": true
   },
   "outputs": [],
   "source": []
  },
  {
   "cell_type": "code",
   "execution_count": 70,
   "metadata": {
    "collapsed": true
   },
   "outputs": [],
   "source": [
    "training_weather = pd.read_csv('weather (table 7)_training_update.csv')"
   ]
  },
  {
   "cell_type": "code",
   "execution_count": 80,
   "metadata": {
    "collapsed": false
   },
   "outputs": [],
   "source": [
    "training_weather['datetime'] = \\\n",
    "    [datetime(int(i[:4]), int(i[5:7]), int(i[8:10]), j) for i, j in \\\n",
    "         zip(training_weather['date'], training_weather['hour'])]"
   ]
  },
  {
   "cell_type": "code",
   "execution_count": null,
   "metadata": {
    "collapsed": true
   },
   "outputs": [],
   "source": []
  },
  {
   "cell_type": "code",
   "execution_count": 94,
   "metadata": {
    "collapsed": false
   },
   "outputs": [
    {
     "data": {
      "text/plain": [
       "[<matplotlib.lines.Line2D at 0x10fd47490>]"
      ]
     },
     "execution_count": 94,
     "metadata": {},
     "output_type": "execute_result"
    },
    {
     "data": {
      "image/png": "[encoded data removed]",
      "text/plain": [
       "<matplotlib.figure.Figure at 0x109b22ed0>"
      ]
     },
     "metadata": {},
     "output_type": "display_data"
    }
   ],
   "source": [
    "wt = training_weather.iloc[648:]\n",
    "\n",
    "plt.figure(figsize=(20,6))\n",
    "plt.plot(wt['datetime'], wt['precipitation'])"
   ]
  },
  {
   "cell_type": "code",
   "execution_count": null,
   "metadata": {
    "collapsed": true
   },
   "outputs": [],
   "source": []
  },
  {
   "cell_type": "code",
   "execution_count": 139,
   "metadata": {
    "collapsed": false
   },
   "outputs": [],
   "source": [
    "X1 = np.array([[1,2],[3,4],[5,3],[2,3]])"
   ]
  },
  {
   "cell_type": "code",
   "execution_count": 140,
   "metadata": {
    "collapsed": true
   },
   "outputs": [],
   "source": [
    "X2 = np.array([[1,7],[5,5],[4,3]])"
   ]
  },
  {
   "cell_type": "code",
   "execution_count": 141,
   "metadata": {
    "collapsed": true
   },
   "outputs": [],
   "source": [
    "m = np.array([1,2])\n",
    "n = np.array([2,7])"
   ]
  },
  {
   "cell_type": "code",
   "execution_count": 151,
   "metadata": {
    "collapsed": false
   },
   "outputs": [
    {
     "data": {
      "text/plain": [
       "26"
      ]
     },
     "execution_count": 151,
     "metadata": {},
     "output_type": "execute_result"
    }
   ],
   "source": [
    "((m-n)**2).sum()"
   ]
  },
  {
   "cell_type": "code",
   "execution_count": 145,
   "metadata": {
    "collapsed": true
   },
   "outputs": [],
   "source": [
    "fsf=None"
   ]
  },
  {
   "cell_type": "code",
   "execution_count": null,
   "metadata": {
    "collapsed": true
   },
   "outputs": [],
   "source": []
  },
  {
   "cell_type": "code",
   "execution_count": null,
   "metadata": {
    "collapsed": true
   },
   "outputs": [],
   "source": []
  },
  {
   "cell_type": "code",
   "execution_count": 272,
   "metadata": {
    "collapsed": false
   },
   "outputs": [
    {
     "ename": "SyntaxError",
     "evalue": "non-default argument follows default argument (<ipython-input-272-995ee8d9c80a>, line 1)",
     "output_type": "error",
     "traceback": [
      "\u001b[0;36m  File \u001b[0;32m\"<ipython-input-272-995ee8d9c80a>\"\u001b[0;36m, line \u001b[0;32m1\u001b[0m\n\u001b[0;31m    def f(y=5, x):\u001b[0m\n\u001b[0;31mSyntaxError\u001b[0m\u001b[0;31m:\u001b[0m non-default argument follows default argument\n"
     ]
    }
   ],
   "source": [
    "def f(y=5, x):\n",
    "    return x*y"
   ]
  },
  {
   "cell_type": "code",
   "execution_count": 271,
   "metadata": {
    "collapsed": false
   },
   "outputs": [
    {
     "ename": "NameError",
     "evalue": "global name 'x' is not defined",
     "output_type": "error",
     "traceback": [
      "\u001b[0;31m---------------------------------------------------------------------------\u001b[0m",
      "\u001b[0;31mNameError\u001b[0m                                 Traceback (most recent call last)",
      "\u001b[0;32m<ipython-input-271-8ffcfab90d28>\u001b[0m in \u001b[0;36m<module>\u001b[0;34m()\u001b[0m\n\u001b[0;32m----> 1\u001b[0;31m \u001b[0mf\u001b[0m\u001b[0;34m(\u001b[0m\u001b[0;36m2\u001b[0m\u001b[0;34m)\u001b[0m\u001b[0;34m\u001b[0m\u001b[0m\n\u001b[0m",
      "\u001b[0;32m<ipython-input-267-20b5183cb242>\u001b[0m in \u001b[0;36mf\u001b[0;34m(y)\u001b[0m\n\u001b[1;32m      1\u001b[0m \u001b[0;32mdef\u001b[0m \u001b[0mf\u001b[0m\u001b[0;34m(\u001b[0m\u001b[0my\u001b[0m\u001b[0;34m=\u001b[0m\u001b[0;36m5\u001b[0m\u001b[0;34m)\u001b[0m\u001b[0;34m:\u001b[0m\u001b[0;34m\u001b[0m\u001b[0m\n\u001b[0;32m----> 2\u001b[0;31m     \u001b[0;32mreturn\u001b[0m \u001b[0mx\u001b[0m\u001b[0;34m*\u001b[0m\u001b[0my\u001b[0m\u001b[0;34m\u001b[0m\u001b[0m\n\u001b[0m",
      "\u001b[0;31mNameError\u001b[0m: global name 'x' is not defined"
     ]
    }
   ],
   "source": [
    "f(2)"
   ]
  },
  {
   "cell_type": "code",
   "execution_count": null,
   "metadata": {
    "collapsed": true
   },
   "outputs": [],
   "source": []
  },
  {
   "cell_type": "code",
   "execution_count": null,
   "metadata": {
    "collapsed": true
   },
   "outputs": [],
   "source": []
  },
  {
   "cell_type": "markdown",
   "metadata": {},
   "source": [
    "# Self-written KNN"
   ]
  },
  {
   "cell_type": "code",
   "execution_count": 239,
   "metadata": {
    "collapsed": false
   },
   "outputs": [],
   "source": [
    "class KNeighborsRegressor_M():\n",
    "    def __init__(self, n_neighbors=5, weights='uniform', \n",
    "                 distance_weights=None):\n",
    "        self.n_neighbors = n_neighbors\n",
    "        self.weights = weights\n",
    "        self.distance_weights = distance_weights\n",
    "\n",
    "        \n",
    "    def fit(self, X, y):\n",
    "        self._fit_X = X\n",
    "        self._fit_y = y\n",
    "    \n",
    "    @staticmethod\n",
    "    def distance_metric(m, n, dw):\n",
    "        m = np.array(m)\n",
    "        n = np.array(n)\n",
    "        if dw != None:\n",
    "            try:\n",
    "                return np.sqrt(((m-n)**2*np.array(dw)).sum())\n",
    "            except:\n",
    "                raise ValueError('Check distance_weights')\n",
    "        return np.sqrt(((m-n)**2).sum())\n",
    "    \n",
    "    def distance_matrix(self, X1, X2):\n",
    "        dmatrix = \\\n",
    "            [[KNeighborsRegressor_M.distance_metric(\n",
    "                        i, j, self.distance_weights) \n",
    "              for i in X1] for j in X2]\n",
    "        dmatrix = np.array(dmatrix)\n",
    "        return dmatrix\n",
    "    \n",
    "    def predict(self, X):\n",
    "        _dmatrix = self.distance_matrix(self._fit_X, X)\n",
    "        nn = min(self.n_neighbors, self._fit_X.shape[0])\n",
    "        nn_dist_matrix = np.array([np.partition(i, 2)[:2] for i in _dmatrix])\n",
    "        nn_arg_matrix = np.array([np.argpartition(i, 2)[:2] for i in _dmatrix])\n",
    "        \n",
    "        \n",
    "        return None\n",
    "    \n",
    "    \n",
    "    "
   ]
  },
  {
   "cell_type": "code",
   "execution_count": 244,
   "metadata": {
    "collapsed": false
   },
   "outputs": [
    {
     "data": {
      "text/plain": [
       "array([[ 5.        ,  3.60555128,  5.65685425,  4.12310563],\n",
       "       [ 5.        ,  2.23606798,  2.        ,  3.60555128],\n",
       "       [ 3.16227766,  1.41421356,  1.        ,  2.        ]])"
      ]
     },
     "execution_count": 244,
     "metadata": {},
     "output_type": "execute_result"
    }
   ],
   "source": [
    "dm = KNeighborsRegressor_M(distance_weights=None).distance_matrix(X1, X2)\n",
    "dm"
   ]
  },
  {
   "cell_type": "code",
   "execution_count": 235,
   "metadata": {
    "collapsed": false
   },
   "outputs": [
    {
     "data": {
      "text/plain": [
       "array([[ 3.60555128,  4.12310563],\n",
       "       [ 2.        ,  2.23606798],\n",
       "       [ 1.        ,  1.41421356]])"
      ]
     },
     "execution_count": 235,
     "metadata": {},
     "output_type": "execute_result"
    }
   ],
   "source": [
    "np.array([np.partition(i, 2)[:2] for i in dm])"
   ]
  },
  {
   "cell_type": "code",
   "execution_count": 234,
   "metadata": {
    "collapsed": false
   },
   "outputs": [
    {
     "data": {
      "text/plain": [
       "[array([1, 3]), array([2, 1]), array([2, 1])]"
      ]
     },
     "execution_count": 234,
     "metadata": {},
     "output_type": "execute_result"
    }
   ],
   "source": [
    "[np.argpartition(i, 2)[:2] for i in dm]"
   ]
  },
  {
   "cell_type": "code",
   "execution_count": 229,
   "metadata": {
    "collapsed": false
   },
   "outputs": [
    {
     "data": {
      "text/plain": [
       "array([9, 1, 6, 2])"
      ]
     },
     "execution_count": 229,
     "metadata": {},
     "output_type": "execute_result"
    }
   ],
   "source": [
    "np.argpartition(test, 4)[:4]"
   ]
  },
  {
   "cell_type": "code",
   "execution_count": 230,
   "metadata": {
    "collapsed": false
   },
   "outputs": [
    {
     "data": {
      "text/plain": [
       "array([0, 1, 1, 3])"
      ]
     },
     "execution_count": 230,
     "metadata": {},
     "output_type": "execute_result"
    }
   ],
   "source": [
    "np.partition(test, 4)[:4]"
   ]
  },
  {
   "cell_type": "code",
   "execution_count": 231,
   "metadata": {
    "collapsed": true
   },
   "outputs": [],
   "source": [
    "?np.partition"
   ]
  },
  {
   "cell_type": "code",
   "execution_count": null,
   "metadata": {
    "collapsed": true
   },
   "outputs": [],
   "source": []
  }
 ],
 "metadata": {
  "kernelspec": {
   "display_name": "Python 2",
   "language": "python",
   "name": "python2"
  },
  "language_info": {
   "codemirror_mode": {
    "name": "ipython",
    "version": 2
   },
   "file_extension": ".py",
   "mimetype": "text/x-python",
   "name": "python",
   "nbconvert_exporter": "python",
   "pygments_lexer": "ipython2",
   "version": "2.7.12"
  }
 },
 "nbformat": 4,
 "nbformat_minor": 1
}
