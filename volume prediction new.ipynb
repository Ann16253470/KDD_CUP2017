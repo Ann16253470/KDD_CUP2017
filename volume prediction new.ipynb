{
 "cells": [
  {
   "cell_type": "code",
   "execution_count": 1,
   "metadata": {
    "collapsed": true
   },
   "outputs": [],
   "source": [
    "from __future__ import division\n",
    "\n",
    "import pandas as pd\n",
    "import numpy as np\n",
    "import math\n",
    "from datetime import datetime, timedelta, date, time\n",
    "\n",
    "import matplotlib.pyplot as plt\n",
    "import seaborn as sns; sns.set()\n",
    "\n",
    "%matplotlib inline"
   ]
  },
  {
   "cell_type": "code",
   "execution_count": 2,
   "metadata": {
    "collapsed": false
   },
   "outputs": [],
   "source": [
    "training_traj = pd.read_csv('dataSet_phase2/trajectories(table_5)_training2.csv')\n",
    "test_traj2 = pd.read_csv('dataSet_phase2/trajectories(table 5)_test2.csv')"
   ]
  },
  {
   "cell_type": "code",
   "execution_count": 3,
   "metadata": {
    "collapsed": true
   },
   "outputs": [],
   "source": [
    "training_path = 'dataSets/training/'\n",
    "test_path1 = 'dataSets/testing_phase1/'"
   ]
  },
  {
   "cell_type": "code",
   "execution_count": 4,
   "metadata": {
    "collapsed": true
   },
   "outputs": [],
   "source": [
    "training_vol_old = pd.read_csv(training_path+'volume(table 6)_training.csv')\n",
    "test_vol1 = pd.read_csv(test_path1+'volume(table 6)_test1.csv')"
   ]
  },
  {
   "cell_type": "code",
   "execution_count": 5,
   "metadata": {
    "collapsed": true
   },
   "outputs": [],
   "source": [
    "training_vol = pd.read_csv('dataSet_phase2/volume(table 6)_training2.csv')\n",
    "test_vol2 = pd.read_csv('dataSet_phase2/volume(table 6)_test2.csv')"
   ]
  },
  {
   "cell_type": "code",
   "execution_count": 6,
   "metadata": {
    "collapsed": false
   },
   "outputs": [],
   "source": [
    "training_vol_old.columns = training_vol.columns"
   ]
  },
  {
   "cell_type": "code",
   "execution_count": 7,
   "metadata": {
    "collapsed": false
   },
   "outputs": [],
   "source": [
    "training_vol = pd.concat([training_vol_old, training_vol])"
   ]
  },
  {
   "cell_type": "code",
   "execution_count": null,
   "metadata": {
    "collapsed": true
   },
   "outputs": [],
   "source": []
  },
  {
   "cell_type": "code",
   "execution_count": 8,
   "metadata": {
    "collapsed": false
   },
   "outputs": [
    {
     "data": {
      "text/html": [
       "<div>\n",
       "<table border=\"1\" class=\"dataframe\">\n",
       "  <thead>\n",
       "    <tr style=\"text-align: right;\">\n",
       "      <th></th>\n",
       "      <th>date_time</th>\n",
       "      <th>tollgate</th>\n",
       "      <th>direction</th>\n",
       "      <th>model</th>\n",
       "      <th>is_etc</th>\n",
       "      <th>veh_type</th>\n",
       "    </tr>\n",
       "  </thead>\n",
       "  <tbody>\n",
       "    <tr>\n",
       "      <th>0</th>\n",
       "      <td>2016-09-19 23:09:25</td>\n",
       "      <td>2</td>\n",
       "      <td>0</td>\n",
       "      <td>1</td>\n",
       "      <td>0</td>\n",
       "      <td>NaN</td>\n",
       "    </tr>\n",
       "    <tr>\n",
       "      <th>1</th>\n",
       "      <td>2016-09-19 23:11:53</td>\n",
       "      <td>2</td>\n",
       "      <td>0</td>\n",
       "      <td>1</td>\n",
       "      <td>0</td>\n",
       "      <td>NaN</td>\n",
       "    </tr>\n",
       "    <tr>\n",
       "      <th>2</th>\n",
       "      <td>2016-09-19 23:13:54</td>\n",
       "      <td>2</td>\n",
       "      <td>0</td>\n",
       "      <td>1</td>\n",
       "      <td>0</td>\n",
       "      <td>NaN</td>\n",
       "    </tr>\n",
       "    <tr>\n",
       "      <th>3</th>\n",
       "      <td>2016-09-19 23:17:48</td>\n",
       "      <td>1</td>\n",
       "      <td>0</td>\n",
       "      <td>1</td>\n",
       "      <td>1</td>\n",
       "      <td>NaN</td>\n",
       "    </tr>\n",
       "    <tr>\n",
       "      <th>4</th>\n",
       "      <td>2016-09-19 23:16:07</td>\n",
       "      <td>2</td>\n",
       "      <td>0</td>\n",
       "      <td>1</td>\n",
       "      <td>0</td>\n",
       "      <td>NaN</td>\n",
       "    </tr>\n",
       "  </tbody>\n",
       "</table>\n",
       "</div>"
      ],
      "text/plain": [
       "             date_time  tollgate  direction  model  is_etc  veh_type\n",
       "0  2016-09-19 23:09:25         2          0      1       0       NaN\n",
       "1  2016-09-19 23:11:53         2          0      1       0       NaN\n",
       "2  2016-09-19 23:13:54         2          0      1       0       NaN\n",
       "3  2016-09-19 23:17:48         1          0      1       1       NaN\n",
       "4  2016-09-19 23:16:07         2          0      1       0       NaN"
      ]
     },
     "execution_count": 8,
     "metadata": {},
     "output_type": "execute_result"
    }
   ],
   "source": [
    "training_vol.head()"
   ]
  },
  {
   "cell_type": "code",
   "execution_count": 9,
   "metadata": {
    "collapsed": true
   },
   "outputs": [],
   "source": [
    "def time_to_window(x):\n",
    "    dt = datetime.strptime(x, \"%Y-%m-%d %H:%M:%S\")\n",
    "    dtmin = int(dt.minute / 20) * 20\n",
    "    dtwindow = datetime(dt.year, dt.month, dt.day, dt.hour, dtmin, 0)\n",
    "    return dtwindow\n"
   ]
  },
  {
   "cell_type": "code",
   "execution_count": 10,
   "metadata": {
    "collapsed": true
   },
   "outputs": [],
   "source": [
    "def format_window(wd):\n",
    "    return '[{},{})'.format(str(wd), str(wd+timedelta(minutes=20)))"
   ]
  },
  {
   "cell_type": "code",
   "execution_count": 11,
   "metadata": {
    "collapsed": true
   },
   "outputs": [],
   "source": [
    "#training_traj['starting_datetime'] = pd.to_datetime(training_path['starting_time'])\n",
    "training_traj['window'] = training_traj['starting_time'].apply(time_to_window)\n",
    "\n",
    "training_traj_group_mean = \\\n",
    "training_traj.groupby(['intersection_id','tollgate_id','window']).mean()['travel_time']\n",
    "\n",
    "training_traj_group_count = \\\n",
    "training_traj.groupby(['intersection_id','tollgate_id','window']).count()['travel_time']"
   ]
  },
  {
   "cell_type": "code",
   "execution_count": 12,
   "metadata": {
    "collapsed": false
   },
   "outputs": [],
   "source": [
    "training_vol['window'] = training_vol['date_time'].apply(time_to_window)\n",
    "\n",
    "training_vol_group_count = \\\n",
    "training_vol.groupby(['tollgate','direction','window']).count()['date_time']\n"
   ]
  },
  {
   "cell_type": "code",
   "execution_count": 13,
   "metadata": {
    "collapsed": false
   },
   "outputs": [],
   "source": [
    "test_vol2['window'] = test_vol2['date_time'].apply(time_to_window)\n",
    "\n",
    "test_vol_group_count = \\\n",
    "test_vol2.groupby(['tollgate','direction','window']).count()['date_time']"
   ]
  },
  {
   "cell_type": "code",
   "execution_count": 14,
   "metadata": {
    "collapsed": true
   },
   "outputs": [],
   "source": [
    "sample = pd.read_csv('/Users/yutao/Documents/Contest/tianchi/KDD_CUP2017/submission/submission_sample_volume.csv')"
   ]
  },
  {
   "cell_type": "code",
   "execution_count": 15,
   "metadata": {
    "collapsed": true
   },
   "outputs": [],
   "source": [
    "date_list2 = []\n",
    "\n",
    "d1 = date(2016, 10, 25)  # start date\n",
    "d2 = date(2016, 10, 31)  # end date\n",
    "\n",
    "delta = d2 - d1         # timedelta\n",
    "\n",
    "for i in range(delta.days + 1):\n",
    "    date_list2.append(d1 + timedelta(days=i))\n",
    "\n",
    "\n",
    "\n"
   ]
  },
  {
   "cell_type": "code",
   "execution_count": 16,
   "metadata": {
    "collapsed": false
   },
   "outputs": [],
   "source": [
    "tiid2 = ['10']*7 + ['11']*7 + ['20']*7 + ['30']*7 + ['31']*7\n",
    "dlid2 = date_list2*5"
   ]
  },
  {
   "cell_type": "code",
   "execution_count": 17,
   "metadata": {
    "collapsed": true
   },
   "outputs": [],
   "source": [
    "df_morning_test = pd.DataFrame((test_vol_group_count.values).reshape(-1,6)[::2])\n",
    "df_night_test = pd.DataFrame((test_vol_group_count.values).reshape(-1,6)[1::2])"
   ]
  },
  {
   "cell_type": "code",
   "execution_count": 18,
   "metadata": {
    "collapsed": false
   },
   "outputs": [],
   "source": [
    "df_morning_test['ti'] = tiid2\n",
    "df_morning_test['dl'] = dlid2\n",
    "df_night_test['ti'] = tiid2\n",
    "df_night_test['dl'] = dlid2"
   ]
  },
  {
   "cell_type": "code",
   "execution_count": 19,
   "metadata": {
    "collapsed": true
   },
   "outputs": [],
   "source": [
    "df_morning_test['wkwn'] = [1,1,1,1,0,0,1]*5\n",
    "df_morning_test['wkwn'] *= 35\n",
    "\n",
    "df_night_test['wkwn'] = [1,1,1,1,0,0,1]*5\n",
    "df_night_test['wkwn'] *= 35"
   ]
  },
  {
   "cell_type": "code",
   "execution_count": 20,
   "metadata": {
    "collapsed": false,
    "scrolled": true
   },
   "outputs": [
    {
     "data": {
      "text/html": [
       "<div>\n",
       "<table border=\"1\" class=\"dataframe\">\n",
       "  <thead>\n",
       "    <tr style=\"text-align: right;\">\n",
       "      <th></th>\n",
       "      <th>0</th>\n",
       "      <th>1</th>\n",
       "      <th>2</th>\n",
       "      <th>3</th>\n",
       "      <th>4</th>\n",
       "      <th>5</th>\n",
       "      <th>ti</th>\n",
       "      <th>dl</th>\n",
       "      <th>wkwn</th>\n",
       "    </tr>\n",
       "  </thead>\n",
       "  <tbody>\n",
       "    <tr>\n",
       "      <th>0</th>\n",
       "      <td>10</td>\n",
       "      <td>17</td>\n",
       "      <td>30</td>\n",
       "      <td>25</td>\n",
       "      <td>38</td>\n",
       "      <td>44</td>\n",
       "      <td>10</td>\n",
       "      <td>2016-10-25</td>\n",
       "      <td>35</td>\n",
       "    </tr>\n",
       "    <tr>\n",
       "      <th>1</th>\n",
       "      <td>12</td>\n",
       "      <td>9</td>\n",
       "      <td>25</td>\n",
       "      <td>31</td>\n",
       "      <td>32</td>\n",
       "      <td>45</td>\n",
       "      <td>10</td>\n",
       "      <td>2016-10-26</td>\n",
       "      <td>35</td>\n",
       "    </tr>\n",
       "    <tr>\n",
       "      <th>2</th>\n",
       "      <td>14</td>\n",
       "      <td>14</td>\n",
       "      <td>23</td>\n",
       "      <td>20</td>\n",
       "      <td>36</td>\n",
       "      <td>42</td>\n",
       "      <td>10</td>\n",
       "      <td>2016-10-27</td>\n",
       "      <td>35</td>\n",
       "    </tr>\n",
       "    <tr>\n",
       "      <th>3</th>\n",
       "      <td>8</td>\n",
       "      <td>21</td>\n",
       "      <td>14</td>\n",
       "      <td>28</td>\n",
       "      <td>37</td>\n",
       "      <td>46</td>\n",
       "      <td>10</td>\n",
       "      <td>2016-10-28</td>\n",
       "      <td>35</td>\n",
       "    </tr>\n",
       "    <tr>\n",
       "      <th>4</th>\n",
       "      <td>11</td>\n",
       "      <td>17</td>\n",
       "      <td>19</td>\n",
       "      <td>27</td>\n",
       "      <td>37</td>\n",
       "      <td>24</td>\n",
       "      <td>10</td>\n",
       "      <td>2016-10-29</td>\n",
       "      <td>0</td>\n",
       "    </tr>\n",
       "  </tbody>\n",
       "</table>\n",
       "</div>"
      ],
      "text/plain": [
       "    0   1   2   3   4   5  ti          dl  wkwn\n",
       "0  10  17  30  25  38  44  10  2016-10-25    35\n",
       "1  12   9  25  31  32  45  10  2016-10-26    35\n",
       "2  14  14  23  20  36  42  10  2016-10-27    35\n",
       "3   8  21  14  28  37  46  10  2016-10-28    35\n",
       "4  11  17  19  27  37  24  10  2016-10-29     0"
      ]
     },
     "execution_count": 20,
     "metadata": {},
     "output_type": "execute_result"
    }
   ],
   "source": [
    "df_morning_test.head()"
   ]
  },
  {
   "cell_type": "code",
   "execution_count": 21,
   "metadata": {
    "collapsed": false,
    "scrolled": true
   },
   "outputs": [
    {
     "data": {
      "text/html": [
       "<div>\n",
       "<table border=\"1\" class=\"dataframe\">\n",
       "  <thead>\n",
       "    <tr style=\"text-align: right;\">\n",
       "      <th></th>\n",
       "      <th>0</th>\n",
       "      <th>1</th>\n",
       "      <th>2</th>\n",
       "      <th>3</th>\n",
       "      <th>4</th>\n",
       "      <th>5</th>\n",
       "      <th>ti</th>\n",
       "      <th>dl</th>\n",
       "      <th>wkwn</th>\n",
       "    </tr>\n",
       "  </thead>\n",
       "  <tbody>\n",
       "    <tr>\n",
       "      <th>0</th>\n",
       "      <td>52</td>\n",
       "      <td>44</td>\n",
       "      <td>46</td>\n",
       "      <td>50</td>\n",
       "      <td>40</td>\n",
       "      <td>50</td>\n",
       "      <td>10</td>\n",
       "      <td>2016-10-25</td>\n",
       "      <td>35</td>\n",
       "    </tr>\n",
       "    <tr>\n",
       "      <th>1</th>\n",
       "      <td>38</td>\n",
       "      <td>36</td>\n",
       "      <td>44</td>\n",
       "      <td>49</td>\n",
       "      <td>45</td>\n",
       "      <td>46</td>\n",
       "      <td>10</td>\n",
       "      <td>2016-10-26</td>\n",
       "      <td>35</td>\n",
       "    </tr>\n",
       "    <tr>\n",
       "      <th>2</th>\n",
       "      <td>40</td>\n",
       "      <td>37</td>\n",
       "      <td>45</td>\n",
       "      <td>49</td>\n",
       "      <td>41</td>\n",
       "      <td>45</td>\n",
       "      <td>10</td>\n",
       "      <td>2016-10-27</td>\n",
       "      <td>35</td>\n",
       "    </tr>\n",
       "    <tr>\n",
       "      <th>3</th>\n",
       "      <td>62</td>\n",
       "      <td>48</td>\n",
       "      <td>57</td>\n",
       "      <td>78</td>\n",
       "      <td>67</td>\n",
       "      <td>58</td>\n",
       "      <td>10</td>\n",
       "      <td>2016-10-28</td>\n",
       "      <td>35</td>\n",
       "    </tr>\n",
       "    <tr>\n",
       "      <th>4</th>\n",
       "      <td>60</td>\n",
       "      <td>48</td>\n",
       "      <td>52</td>\n",
       "      <td>48</td>\n",
       "      <td>62</td>\n",
       "      <td>48</td>\n",
       "      <td>10</td>\n",
       "      <td>2016-10-29</td>\n",
       "      <td>0</td>\n",
       "    </tr>\n",
       "  </tbody>\n",
       "</table>\n",
       "</div>"
      ],
      "text/plain": [
       "    0   1   2   3   4   5  ti          dl  wkwn\n",
       "0  52  44  46  50  40  50  10  2016-10-25    35\n",
       "1  38  36  44  49  45  46  10  2016-10-26    35\n",
       "2  40  37  45  49  41  45  10  2016-10-27    35\n",
       "3  62  48  57  78  67  58  10  2016-10-28    35\n",
       "4  60  48  52  48  62  48  10  2016-10-29     0"
      ]
     },
     "execution_count": 21,
     "metadata": {},
     "output_type": "execute_result"
    }
   ],
   "source": [
    "df_night_test.head()"
   ]
  },
  {
   "cell_type": "code",
   "execution_count": null,
   "metadata": {
    "collapsed": true
   },
   "outputs": [],
   "source": []
  },
  {
   "cell_type": "code",
   "execution_count": null,
   "metadata": {
    "collapsed": true
   },
   "outputs": [],
   "source": []
  },
  {
   "cell_type": "code",
   "execution_count": null,
   "metadata": {
    "collapsed": true
   },
   "outputs": [],
   "source": []
  },
  {
   "cell_type": "code",
   "execution_count": 22,
   "metadata": {
    "collapsed": true
   },
   "outputs": [],
   "source": [
    "date_list = []\n",
    "\n",
    "d1 = date(2016, 9, 19)  # start date\n",
    "d2 = date(2016, 10, 24)  # end date\n",
    "\n",
    "delta = d2 - d1         # timedelta\n",
    "\n",
    "for i in range(delta.days + 1):\n",
    "    date_list.append(d1 + timedelta(days=i))\n",
    "\n",
    "give_time_list1 = [time(6,0), time(6,20), time(6,40), \n",
    "                   time(7,0), time(7,20), time(7,40)]\n",
    "pred_time_list1 = [time(8,0), time(8,20), time(8,40), \n",
    "                   time(9,0), time(9,20), time(9,40)]\n",
    "\n",
    "give_time_list2 = [time(15,0), time(15,20), time(15,40), \n",
    "                   time(16,0), time(16,20), time(16,40)]\n",
    "pred_time_list2 = [time(17,0), time(17,20), time(17,40), \n",
    "                   time(18,0), time(18,20), time(18,40)]"
   ]
  },
  {
   "cell_type": "code",
   "execution_count": null,
   "metadata": {
    "collapsed": true
   },
   "outputs": [],
   "source": []
  },
  {
   "cell_type": "code",
   "execution_count": 23,
   "metadata": {
    "collapsed": true
   },
   "outputs": [],
   "source": [
    "def interpolate_missing_window(x):\n",
    "    ss = [(i-datetime(1970,1,1)).total_seconds() for i in x.index]\n",
    "    tt = x.values\n",
    "    ssall = np.linspace(ss[0], ss[-1], (ss[-1]-ss[0])/1200+1)\n",
    "    #print(len(ss), len(tt), len(ssall))\n",
    "    ttall = np.interp(ssall, ss, tt)\n",
    "    ssall = [int(i) for i in ssall]\n",
    "    ssall = [datetime(1970,1,1)+timedelta(seconds=i) for i in ssall]\n",
    "    return pd.Series(index=ssall, data=ttall)"
   ]
  },
  {
   "cell_type": "code",
   "execution_count": 24,
   "metadata": {
    "collapsed": true
   },
   "outputs": [],
   "source": [
    "first6 = np.array([])\n",
    "next6 = np.array([])\n",
    "for ti, d in [(1,0), (1,1), (2,0), (3,0), (3,1)]:\n",
    "    mtmp = training_vol_group_count.loc[ti, d]\n",
    "    #mtmp = interpolate_missing_window(mtmp)\n",
    "    test6 = []\n",
    "    for i in date_list:\n",
    "        tmp = []\n",
    "        for j in give_time_list1:\n",
    "            try:\n",
    "                tmp.append(mtmp[datetime.combine(i, j)])\n",
    "            except:\n",
    "                tmp.append(0)\n",
    "        test6.append(tmp)\n",
    "    result6 = test6\n",
    "    first6 = np.append(first6, result6)\n",
    "    \n",
    "    test6 = []\n",
    "    for i in date_list:\n",
    "        tmp = []\n",
    "        for j in pred_time_list1:\n",
    "            try:\n",
    "                tmp.append(mtmp[datetime.combine(i, j)])\n",
    "            except:\n",
    "                tmp.append(0)\n",
    "        test6.append(tmp)\n",
    "    result6 = test6\n",
    "    next6 = np.append(next6, result6)\n",
    "\n",
    "morning_volume66 = np.append(first6.reshape(-1,6), next6.reshape(-1,6), axis=1)"
   ]
  },
  {
   "cell_type": "code",
   "execution_count": null,
   "metadata": {
    "collapsed": true
   },
   "outputs": [],
   "source": []
  },
  {
   "cell_type": "code",
   "execution_count": null,
   "metadata": {
    "collapsed": true
   },
   "outputs": [],
   "source": []
  },
  {
   "cell_type": "code",
   "execution_count": 25,
   "metadata": {
    "collapsed": true
   },
   "outputs": [],
   "source": [
    "tiid = ['10']*36 + ['11']*36 + ['20']*36 + ['30']*36 + ['31']*36\n",
    "dlid = date_list*5"
   ]
  },
  {
   "cell_type": "code",
   "execution_count": 26,
   "metadata": {
    "collapsed": true
   },
   "outputs": [],
   "source": [
    "first6 = np.array([])\n",
    "next6 = np.array([])\n",
    "for ti, d in [(1,0), (1,1), (2,0), (3,0), (3,1)]:\n",
    "    mtmp = training_vol_group_count.loc[ti, d]\n",
    "    #mtmp = interpolate_missing_window(mtmp)\n",
    "    test6 = []\n",
    "    for i in date_list:\n",
    "        tmp = []\n",
    "        for j in give_time_list2:\n",
    "            try:\n",
    "                tmp.append(mtmp[datetime.combine(i, j)])\n",
    "            except:\n",
    "                tmp.append(0)\n",
    "        test6.append(tmp)\n",
    "    result6 = test6\n",
    "    first6 = np.append(first6, result6)\n",
    "    \n",
    "    test6 = []\n",
    "    for i in date_list:\n",
    "        tmp = []\n",
    "        for j in pred_time_list2:\n",
    "            try:\n",
    "                tmp.append(mtmp[datetime.combine(i, j)])\n",
    "            except:\n",
    "                tmp.append(0)\n",
    "        test6.append(tmp)\n",
    "    result6 = test6\n",
    "    next6 = np.append(next6, result6)\n",
    "\n",
    "night_volume66 = np.append(first6.reshape(-1,6), next6.reshape(-1,6), axis=1)"
   ]
  },
  {
   "cell_type": "code",
   "execution_count": 27,
   "metadata": {
    "collapsed": false
   },
   "outputs": [
    {
     "data": {
      "text/plain": [
       "<matplotlib.legend.Legend at 0x112aef510>"
      ]
     },
     "execution_count": 27,
     "metadata": {},
     "output_type": "execute_result"
    },
    {
     "data": {
      "image/png": "[encoded data removed]",
      "text/plain": [
       "<matplotlib.figure.Figure at 0x1045670d0>"
      ]
     },
     "metadata": {},
     "output_type": "display_data"
    }
   ],
   "source": [
    "ttt10 = training_vol_group_count.loc[1, 0]\n",
    "ttt11 = training_vol_group_count.loc[1, 1]\n",
    "ttt20 = training_vol_group_count.loc[2, 0]\n",
    "ttt30 = training_vol_group_count.loc[3, 0]\n",
    "ttt31 = training_vol_group_count.loc[3, 1]\n",
    "\n",
    "plt.figure(figsize=(20,5))\n",
    "plt.plot(ttt10.index, ttt10)\n",
    "plt.plot(ttt11.index, ttt11)\n",
    "plt.plot(ttt20.index, ttt20)\n",
    "plt.plot(ttt30.index, ttt30)\n",
    "plt.plot(ttt31.index, ttt31)\n",
    "\n",
    "plt.legend([10,11,20,30,31])"
   ]
  },
  {
   "cell_type": "code",
   "execution_count": null,
   "metadata": {
    "collapsed": true
   },
   "outputs": [],
   "source": []
  },
  {
   "cell_type": "code",
   "execution_count": null,
   "metadata": {
    "collapsed": true
   },
   "outputs": [],
   "source": []
  },
  {
   "cell_type": "code",
   "execution_count": 28,
   "metadata": {
    "collapsed": true
   },
   "outputs": [],
   "source": [
    "df_morning = pd.DataFrame(morning_volume66)\n",
    "\n",
    "df_night = pd.DataFrame(night_volume66)"
   ]
  },
  {
   "cell_type": "code",
   "execution_count": 29,
   "metadata": {
    "collapsed": true
   },
   "outputs": [],
   "source": [
    "df_morning['ti'] = tiid\n",
    "df_morning['dl'] = dlid\n",
    "df_night['ti'] = tiid\n",
    "df_night['dl'] = dlid"
   ]
  },
  {
   "cell_type": "code",
   "execution_count": null,
   "metadata": {
    "collapsed": true
   },
   "outputs": [],
   "source": []
  },
  {
   "cell_type": "code",
   "execution_count": 30,
   "metadata": {
    "collapsed": true
   },
   "outputs": [],
   "source": [
    "holiday_list = []\n",
    "\n",
    "d1 = date(2016, 10, 1)  # start date\n",
    "d2 = date(2016, 10, 7)  # end date\n",
    "\n",
    "delta = d2 - d1         # timedelta\n",
    "\n",
    "for i in range(delta.days + 1):\n",
    "    holiday_list.append(d1 + timedelta(days=i))"
   ]
  },
  {
   "cell_type": "code",
   "execution_count": 31,
   "metadata": {
    "collapsed": true
   },
   "outputs": [],
   "source": [
    "df_morning2 = df_morning[~df_morning['dl'].isin(holiday_list)]\n",
    "df_night2 = df_night[~df_night['dl'].isin(holiday_list)]"
   ]
  },
  {
   "cell_type": "code",
   "execution_count": null,
   "metadata": {
    "collapsed": true
   },
   "outputs": [],
   "source": []
  },
  {
   "cell_type": "code",
   "execution_count": 32,
   "metadata": {
    "collapsed": true
   },
   "outputs": [],
   "source": [
    "from sklearn.neighbors import KNeighborsRegressor"
   ]
  },
  {
   "cell_type": "code",
   "execution_count": 33,
   "metadata": {
    "collapsed": true
   },
   "outputs": [],
   "source": [
    "def pred_loss(x_pred, x_true):\n",
    "    x_pred = np.array(x_pred).reshape(1,-1)\n",
    "    x_true = np.array(x_true).reshape(1,-1)\n",
    "    #print(x_true)\n",
    "\n",
    "    return (abs(x_pred-x_true)/x_true).mean()"
   ]
  },
  {
   "cell_type": "code",
   "execution_count": 34,
   "metadata": {
    "collapsed": false
   },
   "outputs": [],
   "source": [
    "# atets = df_morning2.iloc[:,:6].values"
   ]
  },
  {
   "cell_type": "code",
   "execution_count": 35,
   "metadata": {
    "collapsed": false
   },
   "outputs": [],
   "source": [
    "# df_morning2.iloc[:,:6] = \\\n",
    "# np.array([np.convolve(i, [0.00,1,0.0], 'same') for i in atets])"
   ]
  },
  {
   "cell_type": "code",
   "execution_count": null,
   "metadata": {
    "collapsed": true
   },
   "outputs": [],
   "source": []
  },
  {
   "cell_type": "code",
   "execution_count": 36,
   "metadata": {
    "collapsed": false
   },
   "outputs": [
    {
     "name": "stderr",
     "output_type": "stream",
     "text": [
      "/Users/yutao/anaconda/lib/python2.7/site-packages/ipykernel/__main__.py:1: SettingWithCopyWarning: \n",
      "A value is trying to be set on a copy of a slice from a DataFrame.\n",
      "Try using .loc[row_indexer,col_indexer] = value instead\n",
      "\n",
      "See the caveats in the documentation: http://pandas.pydata.org/pandas-docs/stable/indexing.html#indexing-view-versus-copy\n",
      "  if __name__ == '__main__':\n",
      "/Users/yutao/anaconda/lib/python2.7/site-packages/ipykernel/__main__.py:2: SettingWithCopyWarning: \n",
      "A value is trying to be set on a copy of a slice from a DataFrame.\n",
      "Try using .loc[row_indexer,col_indexer] = value instead\n",
      "\n",
      "See the caveats in the documentation: http://pandas.pydata.org/pandas-docs/stable/indexing.html#indexing-view-versus-copy\n",
      "  from ipykernel import kernelapp as app\n"
     ]
    }
   ],
   "source": [
    "df_morning2['wkwn'] = ([1,1,1,1,1,0,0,1,1,1,1,1,1,1,1,1,1,1,1,0,0,1]+[1,1,1,1,0,0,1])*5\n",
    "df_morning2['wkwn'] *= 35"
   ]
  },
  {
   "cell_type": "code",
   "execution_count": 37,
   "metadata": {
    "collapsed": false
   },
   "outputs": [],
   "source": [
    "date_train = df_morning2['dl'].unique()[:-7]\n",
    "df_morning2_train = df_morning2[df_morning2['dl'].isin(date_train)]\n",
    "df_morning2_valid = df_morning2[~df_morning2['dl'].isin(date_train)]\n"
   ]
  },
  {
   "cell_type": "code",
   "execution_count": null,
   "metadata": {
    "collapsed": true
   },
   "outputs": [],
   "source": []
  },
  {
   "cell_type": "code",
   "execution_count": 38,
   "metadata": {
    "collapsed": true
   },
   "outputs": [],
   "source": [
    "X = df_morning2_train.iloc[:,[0,1,2,3,4,5,-1]]#.values\n",
    "y = df_morning2_train.iloc[:,6:12]#.values"
   ]
  },
  {
   "cell_type": "code",
   "execution_count": 39,
   "metadata": {
    "collapsed": false
   },
   "outputs": [
    {
     "data": {
      "text/plain": [
       "0.11112003991651773"
      ]
     },
     "execution_count": 39,
     "metadata": {},
     "output_type": "execute_result"
    }
   ],
   "source": [
    "neigh = KNeighborsRegressor(n_neighbors=9, weights='distance')\n",
    "neigh.fit(X, y)\n",
    "\n",
    "pred_loss((neigh.predict(df_morning2_valid.iloc[:,[0,1,2,3,4,5,-1]])-3), \n",
    "          df_morning2_valid.iloc[:,6:12])"
   ]
  },
  {
   "cell_type": "code",
   "execution_count": 40,
   "metadata": {
    "collapsed": true
   },
   "outputs": [],
   "source": [
    "import copy"
   ]
  },
  {
   "cell_type": "code",
   "execution_count": 41,
   "metadata": {
    "collapsed": true
   },
   "outputs": [],
   "source": [
    "# neigh_morning = copy.deepcopy(neigh)"
   ]
  },
  {
   "cell_type": "code",
   "execution_count": null,
   "metadata": {
    "collapsed": true
   },
   "outputs": [],
   "source": []
  },
  {
   "cell_type": "code",
   "execution_count": 42,
   "metadata": {
    "collapsed": false
   },
   "outputs": [],
   "source": [
    "neigh = KNeighborsRegressor(n_neighbors=5)\n",
    "neigh.fit(X, y)\n",
    "for _ in range(3):\n",
    "    y = 0.1*y + 0.9*neigh.predict(X)\n",
    "    neigh.fit(X, y)\n",
    "    "
   ]
  },
  {
   "cell_type": "code",
   "execution_count": 43,
   "metadata": {
    "collapsed": false
   },
   "outputs": [
    {
     "data": {
      "text/plain": [
       "0.1135065221579821"
      ]
     },
     "execution_count": 43,
     "metadata": {},
     "output_type": "execute_result"
    }
   ],
   "source": [
    "pred_loss(np.vectorize(round)(neigh.predict(df_morning2_valid.iloc[:,[0,1,2,3,4,5,-1]])-4), \n",
    "          df_morning2_valid.iloc[:,6:12])"
   ]
  },
  {
   "cell_type": "code",
   "execution_count": 44,
   "metadata": {
    "collapsed": true
   },
   "outputs": [],
   "source": [
    "# neigh = KNeighborsRegressor(n_neighbors=12, \n",
    "#                             algorithm='brute',\n",
    "#                             weights='distance',\n",
    "#                             #metric=lambda a,b: wminkowski(a,b,2,wmink),\n",
    "#                             #metric=lambda a, b: minkowski(a,b,2),\n",
    "#                             metric= adjusted_minkowski\n",
    "#                            )\n",
    "# neigh.fit(X, y)\n",
    "# for _ in range(0):\n",
    "#     y = 0.1*y + 0.9*neigh.predict(X)\n",
    "#     neigh.fit(X, y)\n",
    "    "
   ]
  },
  {
   "cell_type": "code",
   "execution_count": null,
   "metadata": {
    "collapsed": true
   },
   "outputs": [],
   "source": []
  },
  {
   "cell_type": "code",
   "execution_count": 45,
   "metadata": {
    "collapsed": true
   },
   "outputs": [],
   "source": [
    "# X = df_morning2_train.iloc[:,[0,1,2,3,4,5,-6]]#.values\n",
    "# y = df_morning2_train.iloc[:,6]#.values"
   ]
  },
  {
   "cell_type": "code",
   "execution_count": 46,
   "metadata": {
    "collapsed": true
   },
   "outputs": [],
   "source": [
    "# neigh = KNeighborsRegressor(n_neighbors=5)\n",
    "# neigh.fit(X, y)\n",
    "# for _ in range(3):\n",
    "#     y = 0.1*y + 0.9*neigh.predict(X)\n",
    "#     neigh.fit(X, y)"
   ]
  },
  {
   "cell_type": "code",
   "execution_count": 47,
   "metadata": {
    "collapsed": false
   },
   "outputs": [],
   "source": [
    "# pred_loss(np.vectorize(round)(neigh.predict(df_morning2_valid.iloc[:,[0,1,2,3,4,5,-6]])-4), \n",
    "#           df_morning2_valid.iloc[:,6])"
   ]
  },
  {
   "cell_type": "code",
   "execution_count": null,
   "metadata": {
    "collapsed": true
   },
   "outputs": [],
   "source": []
  },
  {
   "cell_type": "code",
   "execution_count": 48,
   "metadata": {
    "collapsed": true
   },
   "outputs": [],
   "source": [
    "X = df_morning2_train.iloc[:,[0,1,2,3,4,5,-1]]#.values\n",
    "y = df_morning2_train.iloc[:,6]#.values"
   ]
  },
  {
   "cell_type": "code",
   "execution_count": 49,
   "metadata": {
    "collapsed": false
   },
   "outputs": [
    {
     "data": {
      "text/plain": [
       "SVR(C=0.1, cache_size=200, coef0=0.0, degree=3, epsilon=0.1, gamma='auto',\n",
       "  kernel='rbf', max_iter=-1, shrinking=True, tol=0.001, verbose=False)"
      ]
     },
     "execution_count": 49,
     "metadata": {},
     "output_type": "execute_result"
    }
   ],
   "source": [
    "from sklearn import svm\n",
    "\n",
    "clf = svm.SVR(C=0.1, epsilon=0.1)\n",
    "clf.fit(X, y) \n"
   ]
  },
  {
   "cell_type": "code",
   "execution_count": 50,
   "metadata": {
    "collapsed": false
   },
   "outputs": [
    {
     "data": {
      "text/plain": [
       "0.55543543905019932"
      ]
     },
     "execution_count": 50,
     "metadata": {},
     "output_type": "execute_result"
    }
   ],
   "source": [
    "pred_loss(np.vectorize(round)(clf.predict(df_morning2_valid.iloc[:,[0,1,2,3,4,5,-6]])-4), \n",
    "          df_morning2_valid.iloc[:,6])"
   ]
  },
  {
   "cell_type": "code",
   "execution_count": 51,
   "metadata": {
    "collapsed": false
   },
   "outputs": [
    {
     "data": {
      "text/plain": [
       "array([ 112.13333331,  112.13333331,  112.13333331,  112.13324212,\n",
       "        112.13333331,  112.13333331,  112.13333331,  112.13333331,\n",
       "        112.13333331,  112.13333331,  112.13333331,  112.13333331,\n",
       "        112.13333331,  112.13333331,  112.13333331,  112.13333331,\n",
       "        112.13333331,  112.13333331,  112.13333331,  112.13333331,\n",
       "        112.13333331,  112.13333331,  112.13333331,  112.13333331,\n",
       "        112.13333331,  112.13333331,  112.13333331,  112.13333331,\n",
       "        112.13333331,  112.13333331,  112.13333331,  112.13333331,\n",
       "        112.13333331,  112.13333331,  112.13333331])"
      ]
     },
     "execution_count": 51,
     "metadata": {},
     "output_type": "execute_result"
    }
   ],
   "source": [
    "clf.predict(df_morning2_valid.iloc[:,[0,1,2,3,4,5,-6]])"
   ]
  },
  {
   "cell_type": "code",
   "execution_count": null,
   "metadata": {
    "collapsed": true
   },
   "outputs": [],
   "source": []
  },
  {
   "cell_type": "code",
   "execution_count": null,
   "metadata": {
    "collapsed": true
   },
   "outputs": [],
   "source": []
  },
  {
   "cell_type": "code",
   "execution_count": 52,
   "metadata": {
    "collapsed": true
   },
   "outputs": [],
   "source": [
    "npredm = neigh.predict(df_morning2_valid.iloc[:,[0,1,2,3,4,5,-1]])"
   ]
  },
  {
   "cell_type": "code",
   "execution_count": 53,
   "metadata": {
    "collapsed": false
   },
   "outputs": [],
   "source": [
    "ratio = (df_morning2_train.mean()[6:12])/sum(df_morning2_train.mean()[6:12])"
   ]
  },
  {
   "cell_type": "code",
   "execution_count": 54,
   "metadata": {
    "collapsed": false
   },
   "outputs": [],
   "source": [
    "ratio = np.array(ratio)"
   ]
  },
  {
   "cell_type": "code",
   "execution_count": 55,
   "metadata": {
    "collapsed": false,
    "scrolled": true
   },
   "outputs": [],
   "source": [
    "npredm2 = np.array([i.sum()*ratio for i in npredm])"
   ]
  },
  {
   "cell_type": "code",
   "execution_count": 56,
   "metadata": {
    "collapsed": false
   },
   "outputs": [
    {
     "data": {
      "text/plain": [
       "0.12821884251394103"
      ]
     },
     "execution_count": 56,
     "metadata": {},
     "output_type": "execute_result"
    }
   ],
   "source": [
    "pred_loss(npredm2, \n",
    "          df_morning2_valid.iloc[:,6:12])"
   ]
  },
  {
   "cell_type": "code",
   "execution_count": null,
   "metadata": {
    "collapsed": true
   },
   "outputs": [],
   "source": []
  },
  {
   "cell_type": "code",
   "execution_count": 57,
   "metadata": {
    "collapsed": true
   },
   "outputs": [],
   "source": [
    "from scipy.spatial.distance import wminkowski, minkowski"
   ]
  },
  {
   "cell_type": "code",
   "execution_count": 58,
   "metadata": {
    "collapsed": false
   },
   "outputs": [
    {
     "data": {
      "text/plain": [
       "4.4721359549995796"
      ]
     },
     "execution_count": 58,
     "metadata": {},
     "output_type": "execute_result"
    }
   ],
   "source": [
    "wminkowski([1,2], [3,4], 2, [1,2])"
   ]
  },
  {
   "cell_type": "code",
   "execution_count": 59,
   "metadata": {
    "collapsed": true
   },
   "outputs": [],
   "source": [
    "?KNeighborsRegressor"
   ]
  },
  {
   "cell_type": "code",
   "execution_count": 60,
   "metadata": {
    "collapsed": true
   },
   "outputs": [],
   "source": [
    "def adjusted_minkowski(a, b):\n",
    "    dist = minkowski(a, b, 2)\n",
    "    if dist > 1e-2:\n",
    "        return dist\n",
    "    return 1000"
   ]
  },
  {
   "cell_type": "code",
   "execution_count": 61,
   "metadata": {
    "collapsed": false
   },
   "outputs": [
    {
     "data": {
      "text/plain": [
       "KNeighborsRegressor(algorithm='brute', leaf_size=30,\n",
       "          metric=<function adjusted_minkowski at 0x10ac05a28>,\n",
       "          metric_params=None, n_jobs=1, n_neighbors=9, p=2,\n",
       "          weights='distance')"
      ]
     },
     "execution_count": 61,
     "metadata": {},
     "output_type": "execute_result"
    }
   ],
   "source": [
    "X = df_morning2_train.iloc[:,[0,1,2,3,4,5,-1]].values\n",
    "y = df_morning2_train.iloc[:,6:12].values\n",
    "\n",
    "#wmink = np.append(np.logspace(0,0,6), 1)\n",
    "\n",
    "neigh = KNeighborsRegressor(n_neighbors=9, \n",
    "                            algorithm='brute',\n",
    "                            weights='distance',\n",
    "                            #metric=lambda a,b: wminkowski(a,b,2,wmink),\n",
    "                            #metric=lambda a, b: minkowski(a,b,2),\n",
    "                            metric= adjusted_minkowski\n",
    "                           )\n",
    "neigh.fit(X, y)\n"
   ]
  },
  {
   "cell_type": "code",
   "execution_count": 62,
   "metadata": {
    "collapsed": false
   },
   "outputs": [
    {
     "data": {
      "text/plain": [
       "0.11245335741670558"
      ]
     },
     "execution_count": 62,
     "metadata": {},
     "output_type": "execute_result"
    }
   ],
   "source": [
    "pred_loss(np.vectorize(round)(neigh.predict(df_morning2_valid.iloc[:,[0,1,2,3,4,5,-1]])-4), \n",
    "          df_morning2_valid.iloc[:,6:12])"
   ]
  },
  {
   "cell_type": "code",
   "execution_count": null,
   "metadata": {
    "collapsed": true
   },
   "outputs": [],
   "source": []
  },
  {
   "cell_type": "code",
   "execution_count": 65,
   "metadata": {
    "collapsed": false
   },
   "outputs": [
    {
     "ename": "NameError",
     "evalue": "name 'neigh_morning' is not defined",
     "output_type": "error",
     "traceback": [
      "\u001b[0;31m---------------------------------------------------------------------------\u001b[0m",
      "\u001b[0;31mNameError\u001b[0m                                 Traceback (most recent call last)",
      "\u001b[0;32m<ipython-input-65-8584f31c49b9>\u001b[0m in \u001b[0;36m<module>\u001b[0;34m()\u001b[0m\n\u001b[0;32m----> 1\u001b[0;31m \u001b[0mnpred\u001b[0m \u001b[0;34m=\u001b[0m \u001b[0mneigh_morning\u001b[0m\u001b[0;34m.\u001b[0m\u001b[0mpredict\u001b[0m\u001b[0;34m(\u001b[0m\u001b[0mdf_morning2_valid\u001b[0m\u001b[0;34m.\u001b[0m\u001b[0miloc\u001b[0m\u001b[0;34m[\u001b[0m\u001b[0;34m:\u001b[0m\u001b[0;34m,\u001b[0m\u001b[0;34m[\u001b[0m\u001b[0;36m0\u001b[0m\u001b[0;34m,\u001b[0m\u001b[0;36m1\u001b[0m\u001b[0;34m,\u001b[0m\u001b[0;36m2\u001b[0m\u001b[0;34m,\u001b[0m\u001b[0;36m3\u001b[0m\u001b[0;34m,\u001b[0m\u001b[0;36m4\u001b[0m\u001b[0;34m,\u001b[0m\u001b[0;36m5\u001b[0m\u001b[0;34m,\u001b[0m\u001b[0;34m-\u001b[0m\u001b[0;36m1\u001b[0m\u001b[0;34m]\u001b[0m\u001b[0;34m]\u001b[0m\u001b[0;34m)\u001b[0m\u001b[0;34m\u001b[0m\u001b[0m\n\u001b[0m\u001b[1;32m      2\u001b[0m \u001b[0mntrue\u001b[0m \u001b[0;34m=\u001b[0m \u001b[0mdf_morning2_valid\u001b[0m\u001b[0;34m.\u001b[0m\u001b[0miloc\u001b[0m\u001b[0;34m[\u001b[0m\u001b[0;34m:\u001b[0m\u001b[0;34m,\u001b[0m\u001b[0;36m6\u001b[0m\u001b[0;34m:\u001b[0m\u001b[0;36m12\u001b[0m\u001b[0;34m]\u001b[0m\u001b[0;34m.\u001b[0m\u001b[0mvalues\u001b[0m\u001b[0;34m\u001b[0m\u001b[0m\n",
      "\u001b[0;31mNameError\u001b[0m: name 'neigh_morning' is not defined"
     ]
    }
   ],
   "source": [
    "npred = neigh_morning.predict(df_morning2_valid.iloc[:,[0,1,2,3,4,5,-1]])\n",
    "ntrue = df_morning2_valid.iloc[:,6:12].values\n"
   ]
  },
  {
   "cell_type": "code",
   "execution_count": 66,
   "metadata": {
    "collapsed": false
   },
   "outputs": [
    {
     "ename": "NameError",
     "evalue": "name 'ntrue' is not defined",
     "output_type": "error",
     "traceback": [
      "\u001b[0;31m---------------------------------------------------------------------------\u001b[0m",
      "\u001b[0;31mNameError\u001b[0m                                 Traceback (most recent call last)",
      "\u001b[0;32m<ipython-input-66-281ffef79c77>\u001b[0m in \u001b[0;36m<module>\u001b[0;34m()\u001b[0m\n\u001b[0;32m----> 1\u001b[0;31m \u001b[0mntruef\u001b[0m \u001b[0;34m=\u001b[0m \u001b[0mntrue\u001b[0m\u001b[0;34m.\u001b[0m\u001b[0mflatten\u001b[0m\u001b[0;34m(\u001b[0m\u001b[0;34m)\u001b[0m\u001b[0;34m\u001b[0m\u001b[0m\n\u001b[0m\u001b[1;32m      2\u001b[0m \u001b[0mnpredf\u001b[0m \u001b[0;34m=\u001b[0m \u001b[0mnpred\u001b[0m\u001b[0;34m.\u001b[0m\u001b[0mflatten\u001b[0m\u001b[0;34m(\u001b[0m\u001b[0;34m)\u001b[0m\u001b[0;34m\u001b[0m\u001b[0m\n",
      "\u001b[0;31mNameError\u001b[0m: name 'ntrue' is not defined"
     ]
    }
   ],
   "source": [
    "ntruef = ntrue.flatten()\n",
    "npredf = npred.flatten()"
   ]
  },
  {
   "cell_type": "code",
   "execution_count": 67,
   "metadata": {
    "collapsed": false
   },
   "outputs": [
    {
     "ename": "NameError",
     "evalue": "name 'ntruef' is not defined",
     "output_type": "error",
     "traceback": [
      "\u001b[0;31m---------------------------------------------------------------------------\u001b[0m",
      "\u001b[0;31mNameError\u001b[0m                                 Traceback (most recent call last)",
      "\u001b[0;32m<ipython-input-67-5ce3322068ce>\u001b[0m in \u001b[0;36m<module>\u001b[0;34m()\u001b[0m\n\u001b[0;32m----> 1\u001b[0;31m \u001b[0;34m(\u001b[0m\u001b[0;34m(\u001b[0m\u001b[0mntruef\u001b[0m\u001b[0;34m-\u001b[0m\u001b[0mnpredf\u001b[0m\u001b[0;34m)\u001b[0m\u001b[0;34m**\u001b[0m\u001b[0;36m2\u001b[0m\u001b[0;34m/\u001b[0m\u001b[0mnpredf\u001b[0m\u001b[0;34m*\u001b[0m\u001b[0;36m2\u001b[0m\u001b[0;34m/\u001b[0m\u001b[0mlen\u001b[0m\u001b[0;34m(\u001b[0m\u001b[0mntruef\u001b[0m\u001b[0;34m)\u001b[0m\u001b[0;34m)\u001b[0m\u001b[0;34m.\u001b[0m\u001b[0msum\u001b[0m\u001b[0;34m(\u001b[0m\u001b[0;34m)\u001b[0m\u001b[0;34m\u001b[0m\u001b[0m\n\u001b[0m",
      "\u001b[0;31mNameError\u001b[0m: name 'ntruef' is not defined"
     ]
    }
   ],
   "source": [
    "((ntruef-npredf)**2/npredf*2/len(ntruef)).sum()"
   ]
  },
  {
   "cell_type": "code",
   "execution_count": null,
   "metadata": {
    "collapsed": true
   },
   "outputs": [],
   "source": []
  },
  {
   "cell_type": "code",
   "execution_count": 68,
   "metadata": {
    "collapsed": true
   },
   "outputs": [],
   "source": [
    "# npred = neigh.predict(df_morning2_train.iloc[:,[0,1,2,3,4,5,-1]])\n",
    "# ntrue = df_morning2_train.iloc[:,6:12].values"
   ]
  },
  {
   "cell_type": "code",
   "execution_count": 69,
   "metadata": {
    "collapsed": false
   },
   "outputs": [
    {
     "ename": "NameError",
     "evalue": "name 'ntrue' is not defined",
     "output_type": "error",
     "traceback": [
      "\u001b[0;31m---------------------------------------------------------------------------\u001b[0m",
      "\u001b[0;31mNameError\u001b[0m                                 Traceback (most recent call last)",
      "\u001b[0;32m<ipython-input-69-91b3a015239c>\u001b[0m in \u001b[0;36m<module>\u001b[0;34m()\u001b[0m\n\u001b[0;32m----> 1\u001b[0;31m \u001b[0mloss_ratio\u001b[0m \u001b[0;34m=\u001b[0m \u001b[0;34m(\u001b[0m\u001b[0;34m(\u001b[0m\u001b[0mntrue\u001b[0m\u001b[0;34m-\u001b[0m\u001b[0mnpred\u001b[0m\u001b[0;34m)\u001b[0m\u001b[0;34m/\u001b[0m\u001b[0mnpred\u001b[0m\u001b[0;34m)\u001b[0m\u001b[0;34m.\u001b[0m\u001b[0mflatten\u001b[0m\u001b[0;34m(\u001b[0m\u001b[0;34m)\u001b[0m\u001b[0;34m\u001b[0m\u001b[0m\n\u001b[0m\u001b[1;32m      2\u001b[0m \u001b[0mplt\u001b[0m\u001b[0;34m.\u001b[0m\u001b[0mhist\u001b[0m\u001b[0;34m(\u001b[0m\u001b[0mloss_ratio\u001b[0m\u001b[0;34m,\u001b[0m \u001b[0mbins\u001b[0m\u001b[0;34m=\u001b[0m\u001b[0;36m18\u001b[0m\u001b[0;34m)\u001b[0m\u001b[0;34m\u001b[0m\u001b[0m\n",
      "\u001b[0;31mNameError\u001b[0m: name 'ntrue' is not defined"
     ]
    }
   ],
   "source": [
    "loss_ratio = ((ntrue-npred)/npred).flatten()\n",
    "plt.hist(loss_ratio, bins=18)"
   ]
  },
  {
   "cell_type": "code",
   "execution_count": 70,
   "metadata": {
    "collapsed": false
   },
   "outputs": [
    {
     "ename": "NameError",
     "evalue": "name 'loss_ratio' is not defined",
     "output_type": "error",
     "traceback": [
      "\u001b[0;31m---------------------------------------------------------------------------\u001b[0m",
      "\u001b[0;31mNameError\u001b[0m                                 Traceback (most recent call last)",
      "\u001b[0;32m<ipython-input-70-46902c32c6f0>\u001b[0m in \u001b[0;36m<module>\u001b[0;34m()\u001b[0m\n\u001b[0;32m----> 1\u001b[0;31m \u001b[0;34m(\u001b[0m\u001b[0mloss_ratio\u001b[0m\u001b[0;34m>\u001b[0m\u001b[0;36m0.4\u001b[0m\u001b[0;34m)\u001b[0m\u001b[0;34m.\u001b[0m\u001b[0mreshape\u001b[0m\u001b[0;34m(\u001b[0m\u001b[0;34m-\u001b[0m\u001b[0;36m1\u001b[0m\u001b[0;34m,\u001b[0m\u001b[0;36m6\u001b[0m\u001b[0;34m)\u001b[0m\u001b[0;34m.\u001b[0m\u001b[0msum\u001b[0m\u001b[0;34m(\u001b[0m\u001b[0maxis\u001b[0m\u001b[0;34m=\u001b[0m\u001b[0;36m1\u001b[0m\u001b[0;34m)\u001b[0m\u001b[0;34m\u001b[0m\u001b[0m\n\u001b[0m",
      "\u001b[0;31mNameError\u001b[0m: name 'loss_ratio' is not defined"
     ]
    }
   ],
   "source": [
    "(loss_ratio>0.4).reshape(-1,6).sum(axis=1)"
   ]
  },
  {
   "cell_type": "code",
   "execution_count": 71,
   "metadata": {
    "collapsed": false
   },
   "outputs": [
    {
     "ename": "NameError",
     "evalue": "name 'loss_ratio' is not defined",
     "output_type": "error",
     "traceback": [
      "\u001b[0;31m---------------------------------------------------------------------------\u001b[0m",
      "\u001b[0;31mNameError\u001b[0m                                 Traceback (most recent call last)",
      "\u001b[0;32m<ipython-input-71-91c690dcaa58>\u001b[0m in \u001b[0;36m<module>\u001b[0;34m()\u001b[0m\n\u001b[0;32m----> 1\u001b[0;31m \u001b[0mdf_morning2_valid\u001b[0m\u001b[0;34m[\u001b[0m\u001b[0;34m(\u001b[0m\u001b[0mloss_ratio\u001b[0m\u001b[0;34m>\u001b[0m\u001b[0;36m0.4\u001b[0m\u001b[0;34m)\u001b[0m\u001b[0;34m.\u001b[0m\u001b[0mreshape\u001b[0m\u001b[0;34m(\u001b[0m\u001b[0;34m-\u001b[0m\u001b[0;36m1\u001b[0m\u001b[0;34m,\u001b[0m\u001b[0;36m6\u001b[0m\u001b[0;34m)\u001b[0m\u001b[0;34m.\u001b[0m\u001b[0msum\u001b[0m\u001b[0;34m(\u001b[0m\u001b[0maxis\u001b[0m\u001b[0;34m=\u001b[0m\u001b[0;36m1\u001b[0m\u001b[0;34m)\u001b[0m\u001b[0;34m>\u001b[0m\u001b[0;36m0\u001b[0m\u001b[0;34m]\u001b[0m\u001b[0;34m\u001b[0m\u001b[0m\n\u001b[0m",
      "\u001b[0;31mNameError\u001b[0m: name 'loss_ratio' is not defined"
     ]
    }
   ],
   "source": [
    "df_morning2_valid[(loss_ratio>0.4).reshape(-1,6).sum(axis=1)>0]"
   ]
  },
  {
   "cell_type": "code",
   "execution_count": null,
   "metadata": {
    "collapsed": true
   },
   "outputs": [],
   "source": []
  },
  {
   "cell_type": "code",
   "execution_count": null,
   "metadata": {
    "collapsed": true
   },
   "outputs": [],
   "source": []
  },
  {
   "cell_type": "code",
   "execution_count": 63,
   "metadata": {
    "collapsed": true
   },
   "outputs": [],
   "source": [
    "from scipy.stats import norm"
   ]
  },
  {
   "cell_type": "code",
   "execution_count": 73,
   "metadata": {
    "collapsed": false
   },
   "outputs": [
    {
     "ename": "NameError",
     "evalue": "name 'loss_ratio' is not defined",
     "output_type": "error",
     "traceback": [
      "\u001b[0;31m---------------------------------------------------------------------------\u001b[0m",
      "\u001b[0;31mNameError\u001b[0m                                 Traceback (most recent call last)",
      "\u001b[0;32m<ipython-input-73-80cd05426233>\u001b[0m in \u001b[0;36m<module>\u001b[0;34m()\u001b[0m\n\u001b[0;32m----> 1\u001b[0;31m \u001b[0mnorm\u001b[0m\u001b[0;34m.\u001b[0m\u001b[0mfit\u001b[0m\u001b[0;34m(\u001b[0m\u001b[0mloss_ratio\u001b[0m\u001b[0;34m,\u001b[0m \u001b[0mfloc\u001b[0m\u001b[0;34m=\u001b[0m\u001b[0;36m0\u001b[0m\u001b[0;34m)\u001b[0m\u001b[0;34m\u001b[0m\u001b[0m\n\u001b[0m",
      "\u001b[0;31mNameError\u001b[0m: name 'loss_ratio' is not defined"
     ]
    }
   ],
   "source": [
    "norm.fit(loss_ratio, floc=0)"
   ]
  },
  {
   "cell_type": "code",
   "execution_count": null,
   "metadata": {
    "collapsed": true
   },
   "outputs": [],
   "source": []
  },
  {
   "cell_type": "code",
   "execution_count": 64,
   "metadata": {
    "collapsed": false
   },
   "outputs": [
    {
     "name": "stderr",
     "output_type": "stream",
     "text": [
      "/Users/yutao/anaconda/lib/python2.7/site-packages/ipykernel/__main__.py:1: SettingWithCopyWarning: \n",
      "A value is trying to be set on a copy of a slice from a DataFrame.\n",
      "Try using .loc[row_indexer,col_indexer] = value instead\n",
      "\n",
      "See the caveats in the documentation: http://pandas.pydata.org/pandas-docs/stable/indexing.html#indexing-view-versus-copy\n",
      "  if __name__ == '__main__':\n",
      "/Users/yutao/anaconda/lib/python2.7/site-packages/ipykernel/__main__.py:2: SettingWithCopyWarning: \n",
      "A value is trying to be set on a copy of a slice from a DataFrame.\n",
      "Try using .loc[row_indexer,col_indexer] = value instead\n",
      "\n",
      "See the caveats in the documentation: http://pandas.pydata.org/pandas-docs/stable/indexing.html#indexing-view-versus-copy\n",
      "  from ipykernel import kernelapp as app\n"
     ]
    }
   ],
   "source": [
    "df_night2['wkwn'] = ([1,1,1,1,1,0,0,1,1,1,1,1,1,1,1,1,1,1,1,0,0,1]+[1,1,1,1,0,0,1])*5\n",
    "df_night2['wkwn'] *= 35"
   ]
  },
  {
   "cell_type": "code",
   "execution_count": null,
   "metadata": {
    "collapsed": true
   },
   "outputs": [],
   "source": []
  },
  {
   "cell_type": "code",
   "execution_count": 65,
   "metadata": {
    "collapsed": true
   },
   "outputs": [],
   "source": [
    "date_train = df_night2['dl'].unique()[:-7]\n",
    "df_night2_train = df_night2[df_night2['dl'].isin(date_train)]\n",
    "df_night2_valid = df_night2[~df_night2['dl'].isin(date_train)]"
   ]
  },
  {
   "cell_type": "code",
   "execution_count": 66,
   "metadata": {
    "collapsed": false
   },
   "outputs": [],
   "source": [
    "df_night2_train = df_night2_train.drop(9)"
   ]
  },
  {
   "cell_type": "code",
   "execution_count": 67,
   "metadata": {
    "collapsed": true
   },
   "outputs": [],
   "source": [
    "df_night2_train = df_night2_train.drop(83)"
   ]
  },
  {
   "cell_type": "code",
   "execution_count": null,
   "metadata": {
    "collapsed": true
   },
   "outputs": [],
   "source": []
  },
  {
   "cell_type": "code",
   "execution_count": 68,
   "metadata": {
    "collapsed": false
   },
   "outputs": [
    {
     "data": {
      "text/plain": [
       "KNeighborsRegressor(algorithm='auto', leaf_size=30, metric='minkowski',\n",
       "          metric_params=None, n_jobs=1, n_neighbors=12, p=2,\n",
       "          weights='distance')"
      ]
     },
     "execution_count": 68,
     "metadata": {},
     "output_type": "execute_result"
    }
   ],
   "source": [
    "X = df_night2_train.iloc[:,[0,1,2,3,4,5,-1]]#.values\n",
    "y = df_night2_train.iloc[:,6:12]#.values\n",
    "\n",
    "neigh = KNeighborsRegressor(n_neighbors=12, weights='distance')\n",
    "neigh.fit(X, y) \n"
   ]
  },
  {
   "cell_type": "code",
   "execution_count": 69,
   "metadata": {
    "collapsed": false
   },
   "outputs": [
    {
     "data": {
      "text/plain": [
       "0.15062460697628188"
      ]
     },
     "execution_count": 69,
     "metadata": {},
     "output_type": "execute_result"
    }
   ],
   "source": [
    "pred_loss((neigh.predict(df_night2_valid.iloc[:,[0,1,2,3,4,5,-1]])-5), \n",
    "          df_night2_valid.iloc[:,6:12])\n"
   ]
  },
  {
   "cell_type": "code",
   "execution_count": null,
   "metadata": {
    "collapsed": true
   },
   "outputs": [],
   "source": []
  },
  {
   "cell_type": "code",
   "execution_count": 70,
   "metadata": {
    "collapsed": false
   },
   "outputs": [
    {
     "data": {
      "text/plain": [
       "0.20962742513223701"
      ]
     },
     "execution_count": 70,
     "metadata": {},
     "output_type": "execute_result"
    }
   ],
   "source": [
    "X = df_night2_train.iloc[:,[0,1,2,3,4,5,-1]]#.values\n",
    "y = df_night2_train.iloc[:,11]#.values\n",
    "\n",
    "neigh = KNeighborsRegressor(n_neighbors=12, weights='distance')\n",
    "neigh.fit(X, y) \n",
    "pred_loss((neigh.predict(df_night2_valid.iloc[:,[0,1,2,3,4,5,-1]]))-5, \n",
    "          df_night2_valid.iloc[:,11])"
   ]
  },
  {
   "cell_type": "code",
   "execution_count": 71,
   "metadata": {
    "collapsed": false
   },
   "outputs": [
    {
     "name": "stdout",
     "output_type": "stream",
     "text": [
      "0.114750695214\n",
      "0.135174884783\n",
      "0.157584985015\n",
      "0.135836799842\n",
      "0.150772851871\n",
      "0.209627425132\n"
     ]
    }
   ],
   "source": [
    "for i in range(6,12):\n",
    "    X = df_night2_train.iloc[:,[0,1,2,3,4,5,-1]]#.values\n",
    "    y = df_night2_train.iloc[:,i]#.values\n",
    "\n",
    "    neigh = KNeighborsRegressor(n_neighbors=12, weights='distance')\n",
    "    neigh.fit(X, y) \n",
    "    print \\\n",
    "    pred_loss((neigh.predict(df_night2_valid.iloc[:,[0,1,2,3,4,5,-1]]))-5, \n",
    "              df_night2_valid.iloc[:,i])\n",
    "    \n",
    "    "
   ]
  },
  {
   "cell_type": "code",
   "execution_count": 72,
   "metadata": {
    "collapsed": false
   },
   "outputs": [
    {
     "name": "stdout",
     "output_type": "stream",
     "text": [
      "0.103359000306\n",
      "0.137611091604\n",
      "0.147724332135\n",
      "0.131821936411\n",
      "0.140406726232\n",
      "0.203126280549\n"
     ]
    }
   ],
   "source": [
    "for i in range(6,12):\n",
    "    X = df_night2_train.iloc[:,[0,1,2,3,4,5,-1]]#.values\n",
    "    y = df_night2_train.iloc[:,i]#.values\n",
    "    k = -0.4\n",
    "    wmink = np.append(np.logspace(k,0,6), np.logspace(k,0,6).mean())\n",
    "\n",
    "    neigh = KNeighborsRegressor(n_neighbors=12, \n",
    "                                algorithm='brute',\n",
    "                                weights='distance',\n",
    "                                metric=lambda a,b: wminkowski(a,b,2,wmink))\n",
    "    neigh.fit(X, y) \n",
    "    print \\\n",
    "    pred_loss((neigh.predict(df_night2_valid.iloc[:,[0,1,2,3,4,5,-1]]))-5, \n",
    "              df_night2_valid.iloc[:,i])\n",
    "    \n",
    "    "
   ]
  },
  {
   "cell_type": "code",
   "execution_count": 268,
   "metadata": {
    "collapsed": false
   },
   "outputs": [
    {
     "data": {
      "text/plain": [
       "KNeighborsRegressor(algorithm='brute', leaf_size=30,\n",
       "          metric=<function <lambda> at 0x10b982488>, metric_params=None,\n",
       "          n_jobs=1, n_neighbors=12, p=2,\n",
       "          weights=<function <lambda> at 0x10b982500>)"
      ]
     },
     "execution_count": 268,
     "metadata": {},
     "output_type": "execute_result"
    }
   ],
   "source": [
    "X = df_night2_train.iloc[:,[0,1,2,3,4,5,-1]]#.values\n",
    "\n",
    "Xv = df_night2_valid.iloc[:,[0,1,2,3,4,5,-1]]\n",
    "\n",
    "\n",
    "y = df_night2_train.iloc[:,6:12]#.values\n",
    "k = -0.4\n",
    "wmink = np.append(np.logspace(k,0,6), np.logspace(k,0,6).mean())\n",
    "\n",
    "neigh = KNeighborsRegressor(n_neighbors=12, \n",
    "                            algorithm='brute',\n",
    "                            weights=lambda x: 1/(x**0),\n",
    "                            metric=lambda a,b: wminkowski(a,b,2,wmink))\n",
    "neigh.fit(X, y) \n"
   ]
  },
  {
   "cell_type": "code",
   "execution_count": null,
   "metadata": {
    "collapsed": true
   },
   "outputs": [],
   "source": []
  },
  {
   "cell_type": "code",
   "execution_count": 269,
   "metadata": {
    "collapsed": false
   },
   "outputs": [
    {
     "name": "stdout",
     "output_type": "stream",
     "text": [
      "0.144148284017\n"
     ]
    }
   ],
   "source": [
    "print \\\n",
    "pred_loss((neigh.predict(Xv))-5, \n",
    "          df_night2_valid.iloc[:,6:12])"
   ]
  },
  {
   "cell_type": "code",
   "execution_count": null,
   "metadata": {
    "collapsed": true
   },
   "outputs": [],
   "source": []
  },
  {
   "cell_type": "code",
   "execution_count": 75,
   "metadata": {
    "collapsed": false
   },
   "outputs": [],
   "source": [
    "from sklearn.gaussian_process import GaussianProcessRegressor"
   ]
  },
  {
   "cell_type": "code",
   "execution_count": 109,
   "metadata": {
    "collapsed": true
   },
   "outputs": [],
   "source": [
    "from sklearn.gaussian_process.kernels import RBF, ConstantKernel,WhiteKernel"
   ]
  },
  {
   "cell_type": "code",
   "execution_count": 207,
   "metadata": {
    "collapsed": false
   },
   "outputs": [
    {
     "data": {
      "text/plain": [
       "GaussianProcessRegressor(alpha=1e-10, copy_X_train=True,\n",
       "             kernel=1**2 * RBF(length_scale=1) + WhiteKernel(noise_level=10),\n",
       "             n_restarts_optimizer=10, normalize_y=False,\n",
       "             optimizer='fmin_l_bfgs_b', random_state=None)"
      ]
     },
     "execution_count": 207,
     "metadata": {},
     "output_type": "execute_result"
    }
   ],
   "source": [
    "X = df_night2_train.iloc[:,[0,1,2,3,4,5,-1]]#.values\n",
    "\n",
    "Xv = df_night2_valid.iloc[:,[0,1,2,3,4,5,-1]]\n",
    "\n",
    "\n",
    "y = df_night2_train.iloc[:,6]#.values\n",
    "\n",
    "kernel = 1* RBF(length_scale=1.0, length_scale_bounds=(1e-3, 1e3)) \\\n",
    "    + WhiteKernel(noise_level=10, noise_level_bounds=(1e-10, 1e10))\n",
    "gauss = GaussianProcessRegressor(kernel=kernel, n_restarts_optimizer=10)\n",
    "gauss.fit(X, y)\n"
   ]
  },
  {
   "cell_type": "code",
   "execution_count": 208,
   "metadata": {
    "collapsed": false
   },
   "outputs": [
    {
     "name": "stdout",
     "output_type": "stream",
     "text": [
      "0.121212546843\n"
     ]
    }
   ],
   "source": [
    "print \\\n",
    "pred_loss((gauss.predict(Xv))-5, df_night2_valid.iloc[:,6])"
   ]
  },
  {
   "cell_type": "code",
   "execution_count": null,
   "metadata": {
    "collapsed": true
   },
   "outputs": [],
   "source": []
  },
  {
   "cell_type": "code",
   "execution_count": 489,
   "metadata": {
    "collapsed": false
   },
   "outputs": [],
   "source": [
    "def weight_func(x):\n",
    "    lc = 10\n",
    "    ths = 15\n",
    "    if x.max()<ths:\n",
    "        return 1/x\n",
    "    elif np.partition(x, lc)[lc]<ths:\n",
    "        return np.array([1/i if i<=ths else 0 for i in x])\n",
    "    else:\n",
    "        #print np.array([[1/i if i<=np.partition(x[0], lc)[lc] else 0 for i in x[0]]])\n",
    "        return np.array([1/i if i<=np.partition(x, lc)[lc] else 0 for i in x])"
   ]
  },
  {
   "cell_type": "code",
   "execution_count": 490,
   "metadata": {
    "collapsed": true
   },
   "outputs": [],
   "source": [
    "def weight_func2(x):\n",
    "    #print x\n",
    "    return np.array([weight_func(i) for i in x])"
   ]
  },
  {
   "cell_type": "code",
   "execution_count": 628,
   "metadata": {
    "collapsed": false
   },
   "outputs": [
    {
     "data": {
      "text/plain": [
       "KNeighborsRegressor(algorithm='brute', leaf_size=30,\n",
       "          metric=<function <lambda> at 0x10be5e1b8>, metric_params=None,\n",
       "          n_jobs=1, n_neighbors=20, p=2,\n",
       "          weights=<function weight_func2 at 0x10bdec230>)"
      ]
     },
     "execution_count": 628,
     "metadata": {},
     "output_type": "execute_result"
    }
   ],
   "source": [
    "X = df_night2_train.iloc[:,[0,1,2,3,4,5,-1]]#.values\n",
    "y = df_night2_train.iloc[:,6:12]#.values\n",
    "\n",
    "k = -0.4\n",
    "wmink = np.append(np.logspace(k,0,6), np.logspace(k,0,6).mean())\n",
    "\n",
    "neigh = KNeighborsRegressor(n_neighbors=20, \n",
    "                            algorithm='brute',\n",
    "                            weights=weight_func2,\n",
    "                            metric=lambda a,b: wminkowski(a,b,2,wmink))\n",
    "neigh.fit(X, y) \n"
   ]
  },
  {
   "cell_type": "code",
   "execution_count": 629,
   "metadata": {
    "collapsed": false
   },
   "outputs": [
    {
     "name": "stdout",
     "output_type": "stream",
     "text": [
      "0.143783528658\n"
     ]
    }
   ],
   "source": [
    "print \\\n",
    "pred_loss((neigh.predict(df_night2_valid.iloc[:,[0,1,2,3,4,5,-1]]))-5, \n",
    "          df_night2_valid.iloc[:,6:12])"
   ]
  },
  {
   "cell_type": "code",
   "execution_count": null,
   "metadata": {
    "collapsed": true
   },
   "outputs": [],
   "source": []
  },
  {
   "cell_type": "code",
   "execution_count": 251,
   "metadata": {
    "collapsed": false
   },
   "outputs": [
    {
     "name": "stderr",
     "output_type": "stream",
     "text": [
      "/Users/yutao/anaconda/lib/python2.7/site-packages/sklearn/utils/validation.py:395: DeprecationWarning: Passing 1d arrays as data is deprecated in 0.17 and will raise ValueError in 0.19. Reshape your data either using X.reshape(-1, 1) if your data has a single feature or X.reshape(1, -1) if it contains a single sample.\n",
      "  DeprecationWarning)\n"
     ]
    },
    {
     "data": {
      "text/plain": [
       "(array([[ 16.07211494,  25.2823953 ,  25.68727451,  26.24738763,\n",
       "          26.61664244,  27.07212171,  27.29166149,  27.75646441,\n",
       "          28.42168032,  28.5876139 ,  29.16590051,  29.36190992,\n",
       "          29.67587932,  30.21477843,  31.15265666]]),\n",
       " array([[18,  7,  8,  0,  2, 15, 16,  5,  9,  6,  3, 14, 19, 20,  1]]))"
      ]
     },
     "execution_count": 251,
     "metadata": {},
     "output_type": "execute_result"
    }
   ],
   "source": [
    "neigh.kneighbors(df_night2_valid.iloc[4,[0,1,2,3,4,5,-1]])"
   ]
  },
  {
   "cell_type": "code",
   "execution_count": null,
   "metadata": {
    "collapsed": true
   },
   "outputs": [],
   "source": []
  },
  {
   "cell_type": "code",
   "execution_count": 361,
   "metadata": {
    "collapsed": false
   },
   "outputs": [
    {
     "data": {
      "text/plain": [
       "4"
      ]
     },
     "execution_count": 361,
     "metadata": {},
     "output_type": "execute_result"
    }
   ],
   "source": [
    "xx = np.array([1,5,2,7,8,9,3,4,0])\n",
    "np.partition(xx, -5)[-5]"
   ]
  },
  {
   "cell_type": "code",
   "execution_count": 365,
   "metadata": {
    "collapsed": false
   },
   "outputs": [
    {
     "data": {
      "text/plain": [
       "[0, 0.5, 0.3333333333333333]"
      ]
     },
     "execution_count": 365,
     "metadata": {},
     "output_type": "execute_result"
    }
   ],
   "source": [
    "[1/i if i>=2 else 0 for i in [1,2,3]]"
   ]
  },
  {
   "cell_type": "code",
   "execution_count": null,
   "metadata": {
    "collapsed": true
   },
   "outputs": [],
   "source": []
  },
  {
   "cell_type": "markdown",
   "metadata": {},
   "source": [
    "# Outlier in test data, use some outliers in national days as proxy training data"
   ]
  },
  {
   "cell_type": "code",
   "execution_count": 278,
   "metadata": {
    "collapsed": false
   },
   "outputs": [
    {
     "data": {
      "text/html": [
       "<div>\n",
       "<table border=\"1\" class=\"dataframe\">\n",
       "  <thead>\n",
       "    <tr style=\"text-align: right;\">\n",
       "      <th></th>\n",
       "      <th>0</th>\n",
       "      <th>1</th>\n",
       "      <th>2</th>\n",
       "      <th>3</th>\n",
       "      <th>4</th>\n",
       "      <th>5</th>\n",
       "      <th>ti</th>\n",
       "      <th>dl</th>\n",
       "      <th>wkwn</th>\n",
       "    </tr>\n",
       "  </thead>\n",
       "  <tbody>\n",
       "    <tr>\n",
       "      <th>19</th>\n",
       "      <td>5</td>\n",
       "      <td>3</td>\n",
       "      <td>6</td>\n",
       "      <td>6</td>\n",
       "      <td>11</td>\n",
       "      <td>16</td>\n",
       "      <td>20</td>\n",
       "      <td>2016-10-30</td>\n",
       "      <td>0</td>\n",
       "    </tr>\n",
       "    <tr>\n",
       "      <th>20</th>\n",
       "      <td>10</td>\n",
       "      <td>10</td>\n",
       "      <td>14</td>\n",
       "      <td>37</td>\n",
       "      <td>42</td>\n",
       "      <td>58</td>\n",
       "      <td>20</td>\n",
       "      <td>2016-10-31</td>\n",
       "      <td>35</td>\n",
       "    </tr>\n",
       "  </tbody>\n",
       "</table>\n",
       "</div>"
      ],
      "text/plain": [
       "     0   1   2   3   4   5  ti          dl  wkwn\n",
       "19   5   3   6   6  11  16  20  2016-10-30     0\n",
       "20  10  10  14  37  42  58  20  2016-10-31    35"
      ]
     },
     "execution_count": 278,
     "metadata": {},
     "output_type": "execute_result"
    }
   ],
   "source": [
    "df_morning_test.loc[[19,20]]"
   ]
  },
  {
   "cell_type": "code",
   "execution_count": 279,
   "metadata": {
    "collapsed": false
   },
   "outputs": [
    {
     "data": {
      "text/html": [
       "<div>\n",
       "<table border=\"1\" class=\"dataframe\">\n",
       "  <thead>\n",
       "    <tr style=\"text-align: right;\">\n",
       "      <th></th>\n",
       "      <th>0</th>\n",
       "      <th>1</th>\n",
       "      <th>2</th>\n",
       "      <th>3</th>\n",
       "      <th>4</th>\n",
       "      <th>5</th>\n",
       "      <th>ti</th>\n",
       "      <th>dl</th>\n",
       "      <th>wkwn</th>\n",
       "    </tr>\n",
       "  </thead>\n",
       "  <tbody>\n",
       "    <tr>\n",
       "      <th>19</th>\n",
       "      <td>13</td>\n",
       "      <td>25</td>\n",
       "      <td>26</td>\n",
       "      <td>13</td>\n",
       "      <td>27</td>\n",
       "      <td>19</td>\n",
       "      <td>20</td>\n",
       "      <td>2016-10-30</td>\n",
       "      <td>0</td>\n",
       "    </tr>\n",
       "    <tr>\n",
       "      <th>20</th>\n",
       "      <td>13</td>\n",
       "      <td>17</td>\n",
       "      <td>13</td>\n",
       "      <td>19</td>\n",
       "      <td>12</td>\n",
       "      <td>17</td>\n",
       "      <td>20</td>\n",
       "      <td>2016-10-31</td>\n",
       "      <td>35</td>\n",
       "    </tr>\n",
       "  </tbody>\n",
       "</table>\n",
       "</div>"
      ],
      "text/plain": [
       "     0   1   2   3   4   5  ti          dl  wkwn\n",
       "19  13  25  26  13  27  19  20  2016-10-30     0\n",
       "20  13  17  13  19  12  17  20  2016-10-31    35"
      ]
     },
     "execution_count": 279,
     "metadata": {},
     "output_type": "execute_result"
    }
   ],
   "source": [
    "df_night_test.loc[[19,20]]"
   ]
  },
  {
   "cell_type": "code",
   "execution_count": null,
   "metadata": {
    "collapsed": true
   },
   "outputs": [],
   "source": []
  },
  {
   "cell_type": "code",
   "execution_count": 280,
   "metadata": {
    "collapsed": false
   },
   "outputs": [
    {
     "name": "stderr",
     "output_type": "stream",
     "text": [
      "/Users/yutao/anaconda/lib/python2.7/site-packages/ipykernel/__main__.py:1: UserWarning: Boolean Series key will be reindexed to match DataFrame index.\n",
      "  if __name__ == '__main__':\n"
     ]
    }
   ],
   "source": [
    "df_morning_least = df_morning[df_morning['dl'].isin(holiday_list)][df_morning['ti'].isin(['11','20','31'])]"
   ]
  },
  {
   "cell_type": "code",
   "execution_count": 281,
   "metadata": {
    "collapsed": false
   },
   "outputs": [
    {
     "name": "stderr",
     "output_type": "stream",
     "text": [
      "/Users/yutao/anaconda/lib/python2.7/site-packages/ipykernel/__main__.py:1: UserWarning: Boolean Series key will be reindexed to match DataFrame index.\n",
      "  if __name__ == '__main__':\n"
     ]
    }
   ],
   "source": [
    "df_night_least = df_night[df_night['dl'].isin(holiday_list)][df_night['ti'].isin(['11','20','31'])]"
   ]
  },
  {
   "cell_type": "code",
   "execution_count": 282,
   "metadata": {
    "collapsed": false
   },
   "outputs": [],
   "source": [
    "df_night_least2 = df_night_least[df_night_least.iloc[:,:6].sum(axis=1)>70]"
   ]
  },
  {
   "cell_type": "code",
   "execution_count": 283,
   "metadata": {
    "collapsed": false
   },
   "outputs": [
    {
     "data": {
      "text/plain": [
       "0     19.588235\n",
       "1     19.470588\n",
       "2     20.235294\n",
       "3     17.411765\n",
       "4     16.588235\n",
       "5     16.529412\n",
       "6     12.294118\n",
       "7     14.470588\n",
       "8     12.823529\n",
       "9     11.588235\n",
       "10    11.294118\n",
       "11     8.647059\n",
       "dtype: float64"
      ]
     },
     "execution_count": 283,
     "metadata": {},
     "output_type": "execute_result"
    }
   ],
   "source": [
    "df_night_least2.mean()"
   ]
  },
  {
   "cell_type": "code",
   "execution_count": 284,
   "metadata": {
    "collapsed": false
   },
   "outputs": [],
   "source": [
    "df_night_least_pred = \\\n",
    "np.array([np.array(df_night_least2.iloc[:,:6].sum(axis=1) / df_night_least2.mean()[:6].sum()) \\\n",
    " * i for i in np.array(df_night_least2.mean()[6:12])]).T"
   ]
  },
  {
   "cell_type": "code",
   "execution_count": 285,
   "metadata": {
    "collapsed": false
   },
   "outputs": [
    {
     "data": {
      "text/plain": [
       "0.29358450514150003"
      ]
     },
     "execution_count": 285,
     "metadata": {},
     "output_type": "execute_result"
    }
   ],
   "source": [
    "pred_loss(df_night_least_pred-1, df_night_least2.iloc[:,6:12])"
   ]
  },
  {
   "cell_type": "code",
   "execution_count": null,
   "metadata": {
    "collapsed": true
   },
   "outputs": [],
   "source": []
  },
  {
   "cell_type": "code",
   "execution_count": 286,
   "metadata": {
    "collapsed": false
   },
   "outputs": [
    {
     "data": {
      "text/plain": [
       "array([ 0.1119443 ,  0.13176219,  0.11676486,  0.10551687,  0.10283878,\n",
       "        0.07873594])"
      ]
     },
     "execution_count": 286,
     "metadata": {},
     "output_type": "execute_result"
    }
   ],
   "source": [
    "df_ratio_least = np.array(df_night_least2.mean()[6:12]) / df_night_least2.mean()[:6].sum()\n",
    "df_ratio_least"
   ]
  },
  {
   "cell_type": "code",
   "execution_count": 287,
   "metadata": {
    "collapsed": true
   },
   "outputs": [],
   "source": [
    "df_ratio_least[0] = df_ratio_least[1] = df_ratio_least[:2].mean()"
   ]
  },
  {
   "cell_type": "code",
   "execution_count": 288,
   "metadata": {
    "collapsed": false
   },
   "outputs": [],
   "source": [
    "adjusted19 = df_night_test.iloc[19, :6].sum() * df_ratio_least - 1\n",
    "adjusted20 = df_night_test.iloc[20, :6].sum() * df_ratio_least - 1"
   ]
  },
  {
   "cell_type": "code",
   "execution_count": null,
   "metadata": {
    "collapsed": true
   },
   "outputs": [],
   "source": []
  },
  {
   "cell_type": "markdown",
   "metadata": {},
   "source": [
    "# Remove outliers"
   ]
  },
  {
   "cell_type": "code",
   "execution_count": 87,
   "metadata": {
    "collapsed": false
   },
   "outputs": [
    {
     "data": {
      "text/plain": [
       "<matplotlib.collections.PathCollection at 0x10c443150>"
      ]
     },
     "execution_count": 87,
     "metadata": {},
     "output_type": "execute_result"
    },
    {
     "name": "stderr",
     "output_type": "stream",
     "text": [
      "/Users/yutao/anaconda/lib/python2.7/site-packages/matplotlib/collections.py:590: FutureWarning: elementwise comparison failed; returning scalar instead, but in the future will perform elementwise comparison\n",
      "  if self._edgecolors == str('face'):\n"
     ]
    },
    {
     "data": {
      "image/png": "[encoded data removed]",
      "text/plain": [
       "<matplotlib.figure.Figure at 0x10c38b650>"
      ]
     },
     "metadata": {},
     "output_type": "display_data"
    }
   ],
   "source": [
    "plt.scatter(df_night2.iloc[:,:6].sum(axis=1), df_night2.iloc[:,6:12].sum(axis=1))"
   ]
  },
  {
   "cell_type": "code",
   "execution_count": 88,
   "metadata": {
    "collapsed": false
   },
   "outputs": [
    {
     "data": {
      "text/html": [
       "<div>\n",
       "<table border=\"1\" class=\"dataframe\">\n",
       "  <thead>\n",
       "    <tr style=\"text-align: right;\">\n",
       "      <th></th>\n",
       "      <th>0</th>\n",
       "      <th>1</th>\n",
       "      <th>2</th>\n",
       "      <th>3</th>\n",
       "      <th>4</th>\n",
       "      <th>5</th>\n",
       "      <th>6</th>\n",
       "      <th>7</th>\n",
       "      <th>8</th>\n",
       "      <th>9</th>\n",
       "      <th>10</th>\n",
       "      <th>11</th>\n",
       "      <th>ti</th>\n",
       "      <th>dl</th>\n",
       "      <th>wkwn</th>\n",
       "    </tr>\n",
       "  </thead>\n",
       "  <tbody>\n",
       "    <tr>\n",
       "      <th>9</th>\n",
       "      <td>91.0</td>\n",
       "      <td>97.0</td>\n",
       "      <td>88.0</td>\n",
       "      <td>105.0</td>\n",
       "      <td>97.0</td>\n",
       "      <td>45.0</td>\n",
       "      <td>31.0</td>\n",
       "      <td>37.0</td>\n",
       "      <td>31.0</td>\n",
       "      <td>26.0</td>\n",
       "      <td>24.0</td>\n",
       "      <td>18.0</td>\n",
       "      <td>10</td>\n",
       "      <td>2016-09-28</td>\n",
       "      <td>35</td>\n",
       "    </tr>\n",
       "  </tbody>\n",
       "</table>\n",
       "</div>"
      ],
      "text/plain": [
       "      0     1     2      3     4     5     6     7     8     9    10    11  \\\n",
       "9  91.0  97.0  88.0  105.0  97.0  45.0  31.0  37.0  31.0  26.0  24.0  18.0   \n",
       "\n",
       "   ti          dl  wkwn  \n",
       "9  10  2016-09-28    35  "
      ]
     },
     "execution_count": 88,
     "metadata": {},
     "output_type": "execute_result"
    }
   ],
   "source": [
    "df_night2[(df_night2.iloc[:,:6].sum(axis=1)>400)&(df_night2.iloc[:,6:12].sum(axis=1)<200)]"
   ]
  },
  {
   "cell_type": "code",
   "execution_count": 89,
   "metadata": {
    "collapsed": false
   },
   "outputs": [
    {
     "data": {
      "text/html": [
       "<div>\n",
       "<table border=\"1\" class=\"dataframe\">\n",
       "  <thead>\n",
       "    <tr style=\"text-align: right;\">\n",
       "      <th></th>\n",
       "      <th>0</th>\n",
       "      <th>1</th>\n",
       "      <th>2</th>\n",
       "      <th>3</th>\n",
       "      <th>4</th>\n",
       "      <th>5</th>\n",
       "      <th>6</th>\n",
       "      <th>7</th>\n",
       "      <th>8</th>\n",
       "      <th>9</th>\n",
       "      <th>10</th>\n",
       "      <th>11</th>\n",
       "      <th>ti</th>\n",
       "      <th>dl</th>\n",
       "      <th>wkwn</th>\n",
       "    </tr>\n",
       "  </thead>\n",
       "  <tbody>\n",
       "    <tr>\n",
       "      <th>83</th>\n",
       "      <td>138.0</td>\n",
       "      <td>133.0</td>\n",
       "      <td>135.0</td>\n",
       "      <td>129.0</td>\n",
       "      <td>148.0</td>\n",
       "      <td>143.0</td>\n",
       "      <td>131.0</td>\n",
       "      <td>133.0</td>\n",
       "      <td>52.0</td>\n",
       "      <td>25.0</td>\n",
       "      <td>32.0</td>\n",
       "      <td>27.0</td>\n",
       "      <td>20</td>\n",
       "      <td>2016-09-30</td>\n",
       "      <td>35</td>\n",
       "    </tr>\n",
       "  </tbody>\n",
       "</table>\n",
       "</div>"
      ],
      "text/plain": [
       "        0      1      2      3      4      5      6      7     8     9    10  \\\n",
       "83  138.0  133.0  135.0  129.0  148.0  143.0  131.0  133.0  52.0  25.0  32.0   \n",
       "\n",
       "      11  ti          dl  wkwn  \n",
       "83  27.0  20  2016-09-30    35  "
      ]
     },
     "execution_count": 89,
     "metadata": {},
     "output_type": "execute_result"
    }
   ],
   "source": [
    "df_night2[(df_night2.iloc[:,:6].sum(axis=1)>800)&(df_night2.iloc[:,6:12].sum(axis=1)<420)]"
   ]
  },
  {
   "cell_type": "code",
   "execution_count": 90,
   "metadata": {
    "collapsed": false
   },
   "outputs": [
    {
     "data": {
      "text/html": [
       "<div>\n",
       "<table border=\"1\" class=\"dataframe\">\n",
       "  <thead>\n",
       "    <tr style=\"text-align: right;\">\n",
       "      <th></th>\n",
       "      <th>0</th>\n",
       "      <th>1</th>\n",
       "      <th>2</th>\n",
       "      <th>3</th>\n",
       "      <th>4</th>\n",
       "      <th>5</th>\n",
       "      <th>6</th>\n",
       "      <th>7</th>\n",
       "      <th>8</th>\n",
       "      <th>9</th>\n",
       "      <th>10</th>\n",
       "      <th>11</th>\n",
       "      <th>ti</th>\n",
       "      <th>dl</th>\n",
       "      <th>wkwn</th>\n",
       "    </tr>\n",
       "  </thead>\n",
       "  <tbody>\n",
       "    <tr>\n",
       "      <th>81</th>\n",
       "      <td>11.0</td>\n",
       "      <td>15.0</td>\n",
       "      <td>10.0</td>\n",
       "      <td>18.0</td>\n",
       "      <td>29.0</td>\n",
       "      <td>76.0</td>\n",
       "      <td>56.0</td>\n",
       "      <td>79.0</td>\n",
       "      <td>69.0</td>\n",
       "      <td>43.0</td>\n",
       "      <td>54.0</td>\n",
       "      <td>52.0</td>\n",
       "      <td>20</td>\n",
       "      <td>2016-09-28</td>\n",
       "      <td>35</td>\n",
       "    </tr>\n",
       "  </tbody>\n",
       "</table>\n",
       "</div>"
      ],
      "text/plain": [
       "       0     1     2     3     4     5     6     7     8     9    10    11  \\\n",
       "81  11.0  15.0  10.0  18.0  29.0  76.0  56.0  79.0  69.0  43.0  54.0  52.0   \n",
       "\n",
       "    ti          dl  wkwn  \n",
       "81  20  2016-09-28    35  "
      ]
     },
     "execution_count": 90,
     "metadata": {},
     "output_type": "execute_result"
    }
   ],
   "source": [
    "df_night2[(df_night2.iloc[:,:6].sum(axis=1)<200)&(df_night2.iloc[:,6:12].sum(axis=1)>220)]"
   ]
  },
  {
   "cell_type": "code",
   "execution_count": null,
   "metadata": {
    "collapsed": true
   },
   "outputs": [],
   "source": []
  },
  {
   "cell_type": "code",
   "execution_count": null,
   "metadata": {
    "collapsed": true
   },
   "outputs": [],
   "source": []
  },
  {
   "cell_type": "code",
   "execution_count": 91,
   "metadata": {
    "collapsed": false
   },
   "outputs": [],
   "source": [
    "dm = df_night2_train.mean()[:12]"
   ]
  },
  {
   "cell_type": "code",
   "execution_count": 92,
   "metadata": {
    "collapsed": false
   },
   "outputs": [],
   "source": [
    "rn = np.array(df_night2_valid.iloc[:,:6].sum(axis=1)/dm[:6].sum())"
   ]
  },
  {
   "cell_type": "code",
   "execution_count": 93,
   "metadata": {
    "collapsed": false
   },
   "outputs": [],
   "source": [
    "pn = np.array([i*np.array(dm[6:12]) for i in rn])"
   ]
  },
  {
   "cell_type": "code",
   "execution_count": 94,
   "metadata": {
    "collapsed": false
   },
   "outputs": [
    {
     "data": {
      "text/plain": [
       "0.17802639520849733"
      ]
     },
     "execution_count": 94,
     "metadata": {},
     "output_type": "execute_result"
    }
   ],
   "source": [
    "pred_loss(pn-5, df_night2_valid.iloc[:,6:12])"
   ]
  },
  {
   "cell_type": "code",
   "execution_count": null,
   "metadata": {
    "collapsed": true
   },
   "outputs": [],
   "source": []
  },
  {
   "cell_type": "markdown",
   "metadata": {},
   "source": [
    "# Model for Night!"
   ]
  },
  {
   "cell_type": "code",
   "execution_count": 501,
   "metadata": {
    "collapsed": false
   },
   "outputs": [],
   "source": [
    "X = df_night2.iloc[:,[0,1,2,3,4,5,-1]]#.values\n",
    "y = df_night2.iloc[:,6:12]#.values\n",
    "X.drop([9,83])\n",
    "y.drop([9,83])\n",
    "\n",
    "k = -0.4\n",
    "wmink = np.append(np.logspace(k,0,6), np.logspace(k,0,6).mean())\n",
    "\n",
    "neigh = KNeighborsRegressor(n_neighbors=12, \n",
    "                            algorithm='brute',\n",
    "                            weights='distance',\n",
    "                            metric=lambda a,b: wminkowski(a,b,2,wmink))\n",
    "neigh.fit(X, y) \n",
    "neigh_night_all = copy.deepcopy(neigh)\n"
   ]
  },
  {
   "cell_type": "code",
   "execution_count": null,
   "metadata": {
    "collapsed": true
   },
   "outputs": [],
   "source": []
  },
  {
   "cell_type": "code",
   "execution_count": 96,
   "metadata": {
    "collapsed": false
   },
   "outputs": [],
   "source": [
    "weight_result = []\n",
    "for k in np.linspace(-0.8,0,41):\n",
    "\n",
    "    X = df_night2_train.iloc[:,[0,1,2,3,4,5,-1]]#.values\n",
    "    y = df_night2_train.iloc[:,6:12]#.values\n",
    "\n",
    "    wmink = np.append(np.logspace(k,0,6), np.logspace(k,0,6).mean())\n",
    "\n",
    "    neigh = KNeighborsRegressor(n_neighbors=12, \n",
    "                                algorithm='brute',\n",
    "                                weights='distance',\n",
    "                                metric=lambda a,b: wminkowski(a,b,2,wmink))\n",
    "    neigh.fit(X, y)\n",
    "\n",
    "    loss = \\\n",
    "    pred_loss((neigh.predict(df_night2_valid.iloc[:,[0,1,2,3,4,5,-1]]))-5, \n",
    "          df_night2_valid.iloc[:,6:12])\n",
    "    weight_result.append(([k, loss]))"
   ]
  },
  {
   "cell_type": "code",
   "execution_count": 97,
   "metadata": {
    "collapsed": false
   },
   "outputs": [
    {
     "data": {
      "text/plain": [
       "[<matplotlib.lines.Line2D at 0x10cb83fd0>]"
      ]
     },
     "execution_count": 97,
     "metadata": {},
     "output_type": "execute_result"
    },
    {
     "data": {
      "image/png": "[encoded data removed]",
      "text/plain": [
       "<matplotlib.figure.Figure at 0x10c4bde50>"
      ]
     },
     "metadata": {},
     "output_type": "display_data"
    }
   ],
   "source": [
    "plt.plot([i[0] for i in weight_result], [i[1] for i in weight_result])"
   ]
  },
  {
   "cell_type": "code",
   "execution_count": 464,
   "metadata": {
    "collapsed": true
   },
   "outputs": [],
   "source": [
    "k = -0.4\n",
    "X = df_night2_train.iloc[:,[0,1,2,3,4,5,-1]]#.values\n",
    "y = df_night2_train.iloc[:,6:12]#.values\n",
    "\n",
    "wmink = np.append(np.logspace(k,0,6), np.logspace(k,0,6).mean())\n",
    "\n",
    "neigh = KNeighborsRegressor(n_neighbors=12, \n",
    "                            algorithm='brute',\n",
    "                            weights='distance',\n",
    "                            metric=lambda a,b: wminkowski(a,b,2,wmink))\n",
    "neigh.fit(X, y)\n",
    "\n",
    "loss = \\\n",
    "pred_loss((neigh.predict(df_night2_valid.iloc[:,[0,1,2,3,4,5,-1]]))-5, \n",
    "      df_night2_valid.iloc[:,6:12])\n",
    "weight_result.append(([k, loss]))"
   ]
  },
  {
   "cell_type": "code",
   "execution_count": 465,
   "metadata": {
    "collapsed": false
   },
   "outputs": [
    {
     "data": {
      "text/plain": [
       "0.14400822787283304"
      ]
     },
     "execution_count": 465,
     "metadata": {},
     "output_type": "execute_result"
    }
   ],
   "source": [
    "pred_loss((neigh.predict(df_night2_valid.iloc[:,[0,1,2,3,4,5,-1]]))-5, \n",
    "          df_night2_valid.iloc[:,6:12])"
   ]
  },
  {
   "cell_type": "code",
   "execution_count": 223,
   "metadata": {
    "collapsed": false
   },
   "outputs": [
    {
     "data": {
      "text/plain": [
       "0.14332312498368247"
      ]
     },
     "execution_count": 223,
     "metadata": {},
     "output_type": "execute_result"
    }
   ],
   "source": [
    "pred_loss(np.vectorize(round)(neigh.predict(df_night2_valid.iloc[:,[0,1,2,3,4,5,-1]]))-5, \n",
    "          df_night2_valid.iloc[:,6:12])"
   ]
  },
  {
   "cell_type": "code",
   "execution_count": null,
   "metadata": {
    "collapsed": true
   },
   "outputs": [],
   "source": []
  },
  {
   "cell_type": "code",
   "execution_count": 344,
   "metadata": {
    "collapsed": true
   },
   "outputs": [],
   "source": [
    "neigh_night = copy.deepcopy(neigh)"
   ]
  },
  {
   "cell_type": "code",
   "execution_count": 345,
   "metadata": {
    "collapsed": false
   },
   "outputs": [
    {
     "data": {
      "text/plain": [
       "0.14400822787283304"
      ]
     },
     "execution_count": 345,
     "metadata": {},
     "output_type": "execute_result"
    }
   ],
   "source": [
    "pred_loss((neigh_night.predict(df_night2_valid.iloc[:,[0,1,2,3,4,5,-1]]))-5, \n",
    "          df_night2_valid.iloc[:,6:12])"
   ]
  },
  {
   "cell_type": "code",
   "execution_count": null,
   "metadata": {
    "collapsed": true
   },
   "outputs": [],
   "source": []
  },
  {
   "cell_type": "code",
   "execution_count": null,
   "metadata": {
    "collapsed": true
   },
   "outputs": [],
   "source": []
  },
  {
   "cell_type": "code",
   "execution_count": 521,
   "metadata": {
    "collapsed": false
   },
   "outputs": [
    {
     "ename": "NameError",
     "evalue": "name 'neigh_morning' is not defined",
     "output_type": "error",
     "traceback": [
      "\u001b[0;31m---------------------------------------------------------------------------\u001b[0m",
      "\u001b[0;31mNameError\u001b[0m                                 Traceback (most recent call last)",
      "\u001b[0;32m<ipython-input-521-748ba65e7efd>\u001b[0m in \u001b[0;36m<module>\u001b[0;34m()\u001b[0m\n\u001b[0;32m----> 1\u001b[0;31m pred_loss((neigh_morning.predict(df_morning2_valid.iloc[:,[0,1,2,3,4,5,-1]]))-2, \n\u001b[0m\u001b[1;32m      2\u001b[0m           df_morning2_valid.iloc[:,6:12])\n",
      "\u001b[0;31mNameError\u001b[0m: name 'neigh_morning' is not defined"
     ]
    }
   ],
   "source": [
    "pred_loss((neigh_morning.predict(df_morning2_valid.iloc[:,[0,1,2,3,4,5,-1]]))-2, \n",
    "          df_morning2_valid.iloc[:,6:12])"
   ]
  },
  {
   "cell_type": "code",
   "execution_count": null,
   "metadata": {
    "collapsed": true
   },
   "outputs": [],
   "source": []
  },
  {
   "cell_type": "code",
   "execution_count": 316,
   "metadata": {
    "collapsed": false
   },
   "outputs": [
    {
     "name": "stderr",
     "output_type": "stream",
     "text": [
      "/Users/yutao/anaconda/lib/python2.7/site-packages/sklearn/utils/validation.py:386: DeprecationWarning: Passing 1d arrays as data is deprecated in 0.17 and willraise ValueError in 0.19. Reshape your data either using X.reshape(-1, 1) if your data has a single feature or X.reshape(1, -1) if it contains a single sample.\n",
      "  DeprecationWarning)\n"
     ]
    },
    {
     "data": {
      "text/plain": [
       "(array([[ 18.60107524,  18.89444363,  20.14944168,  20.59126028,\n",
       "          21.07130751,  21.70253441,  21.86321111,  22.64950331,\n",
       "          23.70653918]]),\n",
       " array([[ 48,  34,  37,  24,  62, 109,  55,  45,  57]]))"
      ]
     },
     "execution_count": 316,
     "metadata": {},
     "output_type": "execute_result"
    }
   ],
   "source": [
    "neigh_morning.kneighbors(df_morning2_valid.iloc[34,[0,1,2,3,4,5,-1]])"
   ]
  },
  {
   "cell_type": "code",
   "execution_count": 315,
   "metadata": {
    "collapsed": true
   },
   "outputs": [],
   "source": [
    "?neigh_morning.kneighbors"
   ]
  },
  {
   "cell_type": "code",
   "execution_count": null,
   "metadata": {
    "collapsed": true
   },
   "outputs": [],
   "source": []
  },
  {
   "cell_type": "code",
   "execution_count": 302,
   "metadata": {
    "collapsed": false
   },
   "outputs": [
    {
     "data": {
      "text/plain": [
       "10    116.0\n",
       "20    118.0\n",
       "6     123.0\n",
       "27    123.0\n",
       "19    124.0\n",
       "dtype: float64"
      ]
     },
     "execution_count": 302,
     "metadata": {},
     "output_type": "execute_result"
    }
   ],
   "source": [
    "df_morning2_train.iloc[:,:6].sum(axis=1).sort_values().iloc[:5]"
   ]
  },
  {
   "cell_type": "code",
   "execution_count": 303,
   "metadata": {
    "collapsed": false
   },
   "outputs": [
    {
     "data": {
      "text/plain": [
       "34     102.0\n",
       "33     112.0\n",
       "31     139.0\n",
       "30     146.0\n",
       "106    150.0\n",
       "dtype: float64"
      ]
     },
     "execution_count": 303,
     "metadata": {},
     "output_type": "execute_result"
    }
   ],
   "source": [
    "df_morning2_valid.iloc[:,:6].sum(axis=1).sort_values().iloc[:5]"
   ]
  },
  {
   "cell_type": "code",
   "execution_count": null,
   "metadata": {
    "collapsed": true
   },
   "outputs": [],
   "source": []
  },
  {
   "cell_type": "code",
   "execution_count": null,
   "metadata": {
    "collapsed": true
   },
   "outputs": [],
   "source": []
  },
  {
   "cell_type": "code",
   "execution_count": 525,
   "metadata": {
    "collapsed": true
   },
   "outputs": [],
   "source": [
    "npred = neigh_night.predict(df_night2_valid.iloc[:,[0,1,2,3,4,5,-1]])\n",
    "ntrue = df_night2_valid.iloc[:,6:12].values"
   ]
  },
  {
   "cell_type": "code",
   "execution_count": 538,
   "metadata": {
    "collapsed": false
   },
   "outputs": [
    {
     "data": {
      "text/plain": [
       "array([[ 0.78522024,  0.20143545,  0.44158199,  0.95595654,  1.20693121,\n",
       "         1.4668315 ,  2.17778315],\n",
       "       [ 1.12093509, -0.44729458,  0.1893305 , -0.72917915,  0.94492375,\n",
       "         0.13277878, -0.48846122],\n",
       "       [ 0.49054349, -0.99531158,  1.249482  ,  0.94306756,  1.46553707,\n",
       "        -0.15648272,  1.1302546 ],\n",
       "       [ 0.64965047,  0.05985812,  0.53278963,  0.13143711,  0.59057663,\n",
       "         0.45156159,  0.64625081],\n",
       "       [ 0.4803627 ,  0.2065571 ,  0.65983697,  0.82119064,  0.48339385,\n",
       "         0.16410021, -0.2911715 ]])"
      ]
     },
     "execution_count": 538,
     "metadata": {},
     "output_type": "execute_result"
    }
   ],
   "source": [
    "((npred-ntrue)/ntrue).sum(axis=1).reshape(5,7)"
   ]
  },
  {
   "cell_type": "code",
   "execution_count": null,
   "metadata": {
    "collapsed": true
   },
   "outputs": [],
   "source": []
  },
  {
   "cell_type": "code",
   "execution_count": 526,
   "metadata": {
    "collapsed": true
   },
   "outputs": [],
   "source": [
    "npredf = npred.flatten()\n",
    "ntruef = ntrue.flatten()"
   ]
  },
  {
   "cell_type": "code",
   "execution_count": 527,
   "metadata": {
    "collapsed": false
   },
   "outputs": [
    {
     "data": {
      "text/plain": [
       "4.1770619248814533"
      ]
     },
     "execution_count": 527,
     "metadata": {},
     "output_type": "execute_result"
    }
   ],
   "source": [
    "((ntruef-npredf)**2/npredf*2/len(ntruef)).sum()"
   ]
  },
  {
   "cell_type": "code",
   "execution_count": null,
   "metadata": {
    "collapsed": true
   },
   "outputs": [],
   "source": []
  },
  {
   "cell_type": "code",
   "execution_count": 528,
   "metadata": {
    "collapsed": false
   },
   "outputs": [
    {
     "data": {
      "text/plain": [
       "<matplotlib.collections.PathCollection at 0x10d9f9350>"
      ]
     },
     "execution_count": 528,
     "metadata": {},
     "output_type": "execute_result"
    },
    {
     "data": {
      "image/png": "[encoded data removed]",
      "text/plain": [
       "<matplotlib.figure.Figure at 0x10d86fc10>"
      ]
     },
     "metadata": {},
     "output_type": "display_data"
    }
   ],
   "source": [
    "plt.scatter(npred.flatten(), np.abs(ntrue-npred).flatten())"
   ]
  },
  {
   "cell_type": "code",
   "execution_count": null,
   "metadata": {
    "collapsed": true
   },
   "outputs": [],
   "source": []
  },
  {
   "cell_type": "code",
   "execution_count": 529,
   "metadata": {
    "collapsed": false
   },
   "outputs": [
    {
     "data": {
      "text/plain": [
       "(array([  3.,   5.,   9.,  16.,  20.,  34.,  27.,  30.,  28.,   9.,  11.,\n",
       "          8.,   4.,   2.,   2.,   0.,   1.,   1.]),\n",
       " array([-0.46734337, -0.40542391, -0.34350445, -0.28158498, -0.21966552,\n",
       "        -0.15774606, -0.09582659, -0.03390713,  0.02801233,  0.08993179,\n",
       "         0.15185126,  0.21377072,  0.27569018,  0.33760965,  0.39952911,\n",
       "         0.46144857,  0.52336803,  0.5852875 ,  0.64720696]),\n",
       " <a list of 18 Patch objects>)"
      ]
     },
     "execution_count": 529,
     "metadata": {},
     "output_type": "execute_result"
    },
    {
     "data": {
      "image/png": "[encoded data removed]",
      "text/plain": [
       "<matplotlib.figure.Figure at 0x10da20510>"
      ]
     },
     "metadata": {},
     "output_type": "display_data"
    }
   ],
   "source": [
    "loss_ratio = ((ntrue-npred)/npred).flatten()\n",
    "plt.hist(loss_ratio, bins=18)"
   ]
  },
  {
   "cell_type": "code",
   "execution_count": 530,
   "metadata": {
    "collapsed": false
   },
   "outputs": [
    {
     "data": {
      "text/plain": [
       "(0, 0.18570650614259099)"
      ]
     },
     "execution_count": 530,
     "metadata": {},
     "output_type": "execute_result"
    }
   ],
   "source": [
    "norm.fit(loss_ratio, floc=0)"
   ]
  },
  {
   "cell_type": "code",
   "execution_count": null,
   "metadata": {
    "collapsed": true
   },
   "outputs": [],
   "source": []
  },
  {
   "cell_type": "code",
   "execution_count": null,
   "metadata": {
    "collapsed": true
   },
   "outputs": [],
   "source": []
  },
  {
   "cell_type": "code",
   "execution_count": 582,
   "metadata": {
    "collapsed": true
   },
   "outputs": [],
   "source": [
    "def change_time_window(x):\n",
    "    for i in range(18, 25):\n",
    "        iold = str(i)\n",
    "        inew = str(i+7)\n",
    "        x = x.replace('10-'+iold, '10-'+inew)\n",
    "    return x"
   ]
  },
  {
   "cell_type": "code",
   "execution_count": null,
   "metadata": {
    "collapsed": true
   },
   "outputs": [],
   "source": []
  },
  {
   "cell_type": "code",
   "execution_count": 583,
   "metadata": {
    "collapsed": false
   },
   "outputs": [],
   "source": [
    "sample['time_window'] = sample['time_window'].apply(change_time_window)"
   ]
  },
  {
   "cell_type": "code",
   "execution_count": 186,
   "metadata": {
    "collapsed": true
   },
   "outputs": [],
   "source": [
    "# daily_mean = df_night2.mean()[:12]\n",
    "\n",
    "# adjusted19 = np.array(df_night_test.iloc[19,:6].sum() / daily_mean[:6].sum() * daily_mean[6:12])\n",
    "# adjusted20 = np.array(df_night_test.iloc[20,:6].sum() / daily_mean[:6].sum() * daily_mean[6:12])"
   ]
  },
  {
   "cell_type": "code",
   "execution_count": 636,
   "metadata": {
    "collapsed": true
   },
   "outputs": [],
   "source": [
    "def wfunc(x):\n",
    "    if x==0:\n",
    "        return 0\n",
    "    return 1/x"
   ]
  },
  {
   "cell_type": "code",
   "execution_count": 663,
   "metadata": {
    "collapsed": false
   },
   "outputs": [
    {
     "data": {
      "text/plain": [
       "KNeighborsRegressor(algorithm='brute', leaf_size=30,\n",
       "          metric=<function <lambda> at 0x10bfad230>, metric_params=None,\n",
       "          n_jobs=1, n_neighbors=12, p=2,\n",
       "          weights=<function <lambda> at 0x10bfad1b8>)"
      ]
     },
     "execution_count": 663,
     "metadata": {},
     "output_type": "execute_result"
    }
   ],
   "source": [
    "X = df_night2.iloc[:,[0,1,2,3,4,5,-1]]#.values\n",
    "y = df_night2.iloc[:,6:12]#.values\n",
    "X = X.drop([9,77,83])\n",
    "y = y.drop([9,77,83])\n",
    "\n",
    "k = -0.4\n",
    "wmink = np.append(np.logspace(k,0,6), np.logspace(k,0,6).mean())\n",
    "\n",
    "neigh = KNeighborsRegressor(n_neighbors=12, \n",
    "                            algorithm='brute',\n",
    "                            weights=lambda x: [[wfunc(i) for i in j] for j in x],\n",
    "                            metric=lambda a,b: wminkowski(a,b,2,wmink))\n",
    "neigh.fit(X, y) \n"
   ]
  },
  {
   "cell_type": "code",
   "execution_count": 664,
   "metadata": {
    "collapsed": false
   },
   "outputs": [
    {
     "data": {
      "text/plain": [
       "0.18422465765405197"
      ]
     },
     "execution_count": 664,
     "metadata": {},
     "output_type": "execute_result"
    }
   ],
   "source": [
    "pred_loss((neigh.predict(X)-5), y)"
   ]
  },
  {
   "cell_type": "code",
   "execution_count": 643,
   "metadata": {
    "collapsed": false
   },
   "outputs": [
    {
     "data": {
      "text/plain": [
       "6     29.0\n",
       "7     21.0\n",
       "8     16.0\n",
       "9     15.0\n",
       "10     0.0\n",
       "11     1.0\n",
       "dtype: float64"
      ]
     },
     "execution_count": 643,
     "metadata": {},
     "output_type": "execute_result"
    }
   ],
   "source": [
    "y.min()"
   ]
  },
  {
   "cell_type": "code",
   "execution_count": null,
   "metadata": {
    "collapsed": true
   },
   "outputs": [],
   "source": []
  },
  {
   "cell_type": "code",
   "execution_count": 632,
   "metadata": {
    "collapsed": true
   },
   "outputs": [],
   "source": [
    "X = df_night2.iloc[:,[0,1,2,3,4,5,-1]]#.values\n",
    "y = df_night2.iloc[:,6:12]#.values\n",
    "X = X.drop([9,77,83])\n",
    "y = y.drop([9,77,83])\n",
    "\n",
    "k = -0.4\n",
    "wmink = np.append(np.logspace(k,0,6), np.logspace(k,0,6).mean())\n",
    "\n",
    "neigh = KNeighborsRegressor(n_neighbors=12, \n",
    "                            algorithm='brute',\n",
    "                            weights='distance',\n",
    "                            metric=lambda a,b: wminkowski(a,b,2,wmink))\n",
    "neigh.fit(X, y) \n",
    "neigh_night_all = copy.deepcopy(neigh)\n",
    "\n"
   ]
  },
  {
   "cell_type": "code",
   "execution_count": 668,
   "metadata": {
    "collapsed": false
   },
   "outputs": [
    {
     "data": {
      "text/plain": [
       "0               80\n",
       "1               89\n",
       "2               94\n",
       "3               87\n",
       "4               83\n",
       "5               89\n",
       "6               71\n",
       "7               89\n",
       "8               85\n",
       "9               34\n",
       "10               0\n",
       "11               1\n",
       "ti              20\n",
       "dl      2016-09-24\n",
       "wkwn             0\n",
       "Name: 77, dtype: object"
      ]
     },
     "execution_count": 668,
     "metadata": {},
     "output_type": "execute_result"
    }
   ],
   "source": [
    "df_night2.loc[77]"
   ]
  },
  {
   "cell_type": "code",
   "execution_count": null,
   "metadata": {
    "collapsed": true
   },
   "outputs": [],
   "source": []
  },
  {
   "cell_type": "code",
   "execution_count": 669,
   "metadata": {
    "collapsed": false
   },
   "outputs": [],
   "source": [
    "night_pred = neigh_night_all.predict(df_night_test.iloc[:,[0,1,2,3,4,5,-1]])-5"
   ]
  },
  {
   "cell_type": "code",
   "execution_count": 670,
   "metadata": {
    "collapsed": false
   },
   "outputs": [
    {
     "name": "stderr",
     "output_type": "stream",
     "text": [
      "/Users/yutao/anaconda/lib/python2.7/site-packages/sklearn/utils/validation.py:395: DeprecationWarning: Passing 1d arrays as data is deprecated in 0.17 and will raise ValueError in 0.19. Reshape your data either using X.reshape(-1, 1) if your data has a single feature or X.reshape(1, -1) if it contains a single sample.\n",
      "  DeprecationWarning)\n"
     ]
    },
    {
     "data": {
      "text/plain": [
       "array([[ 126.96180859,  115.64879765,  112.92358408,   90.49715306,\n",
       "          91.29694495,   72.53716191]])"
      ]
     },
     "execution_count": 670,
     "metadata": {},
     "output_type": "execute_result"
    }
   ],
   "source": [
    "neigh_night_all.predict(df_night_test.iloc[24, [0,1,2,3,4,5,-1]])"
   ]
  },
  {
   "cell_type": "code",
   "execution_count": 671,
   "metadata": {
    "collapsed": false
   },
   "outputs": [
    {
     "data": {
      "text/plain": [
       "array([ 15.83748321,  13.86285218,  14.92042988,  25.49284618,\n",
       "        28.8654451 ,  34.72161759,  14.40456861,  19.36047174,\n",
       "        15.04323   ,  17.21668161,  25.05042987,  31.18542235,\n",
       "        29.60874267,  17.82146604,  22.82740638,  20.63850658,\n",
       "        22.61276695,  19.41861636,  26.26816859,  52.78388688,\n",
       "        56.94649034,  31.47523201,  27.4061537 ,  22.00924581,\n",
       "        63.68397977,  37.75016907,  38.72806648,  21.06839349,\n",
       "        17.40971271,  27.42608729,  20.8455901 ,  24.26710918,\n",
       "        28.28905574,  43.78404883,  21.08777435])"
      ]
     },
     "execution_count": 671,
     "metadata": {},
     "output_type": "execute_result"
    }
   ],
   "source": [
    "neigh_night_all.kneighbors(df_night_test.iloc[:,[0,1,2,3,4,5,-1]])[0][:,-1]"
   ]
  },
  {
   "cell_type": "code",
   "execution_count": 672,
   "metadata": {
    "collapsed": false
   },
   "outputs": [],
   "source": [
    "X24neigh = X.iloc[neigh_night_all.kneighbors(df_night_test.iloc[:,[0,1,2,3,4,5,-1]])[1][24],:-1]"
   ]
  },
  {
   "cell_type": "code",
   "execution_count": 673,
   "metadata": {
    "collapsed": false
   },
   "outputs": [],
   "source": [
    "d24neigh = 1/neigh_night_all.kneighbors(df_night_test.iloc[:,[0,1,2,3,4,5,-1]])[0][24]"
   ]
  },
  {
   "cell_type": "code",
   "execution_count": 674,
   "metadata": {
    "collapsed": false
   },
   "outputs": [
    {
     "data": {
      "text/plain": [
       "747.53444957672173"
      ]
     },
     "execution_count": 674,
     "metadata": {},
     "output_type": "execute_result"
    }
   ],
   "source": [
    "sum1 = (sum([X24neigh.values[i] * d24neigh[i] for i in range(12)])/d24neigh.sum()).sum()\n",
    "sum1"
   ]
  },
  {
   "cell_type": "code",
   "execution_count": 675,
   "metadata": {
    "collapsed": false
   },
   "outputs": [
    {
     "data": {
      "text/plain": [
       "926"
      ]
     },
     "execution_count": 675,
     "metadata": {},
     "output_type": "execute_result"
    }
   ],
   "source": [
    "sum2 = df_night_test.iloc[24,:6].sum()\n",
    "sum2"
   ]
  },
  {
   "cell_type": "code",
   "execution_count": 676,
   "metadata": {
    "collapsed": false
   },
   "outputs": [
    {
     "data": {
      "text/plain": [
       "array([ 121.96180859,  110.64879765,  107.92358408,   85.49715306,\n",
       "         86.29694495,   67.53716191])"
      ]
     },
     "execution_count": 676,
     "metadata": {},
     "output_type": "execute_result"
    }
   ],
   "source": [
    "night_pred[24]"
   ]
  },
  {
   "cell_type": "code",
   "execution_count": 677,
   "metadata": {
    "collapsed": false
   },
   "outputs": [],
   "source": [
    "night_pred[24] = (night_pred[24]+5) * sum2 / sum1 - 5"
   ]
  },
  {
   "cell_type": "code",
   "execution_count": 678,
   "metadata": {
    "collapsed": false
   },
   "outputs": [
    {
     "data": {
      "text/plain": [
       "array([ 152.27253082,  138.25866411,  134.88283606,  107.10234362,\n",
       "        108.09307695,   84.85460398])"
      ]
     },
     "execution_count": 678,
     "metadata": {},
     "output_type": "execute_result"
    }
   ],
   "source": [
    "night_pred[24]"
   ]
  },
  {
   "cell_type": "code",
   "execution_count": null,
   "metadata": {
    "collapsed": true
   },
   "outputs": [],
   "source": []
  },
  {
   "cell_type": "code",
   "execution_count": 681,
   "metadata": {
    "collapsed": false
   },
   "outputs": [],
   "source": [
    "night_pred[19] = adjusted19\n",
    "night_pred[20] = adjusted20"
   ]
  },
  {
   "cell_type": "code",
   "execution_count": null,
   "metadata": {
    "collapsed": true
   },
   "outputs": [],
   "source": []
  },
  {
   "cell_type": "code",
   "execution_count": 682,
   "metadata": {
    "collapsed": false,
    "scrolled": true
   },
   "outputs": [],
   "source": [
    "night_pred = np.transpose(night_pred.reshape(5,7,6), axes=(0,2,1)).reshape(1,-1)[0]"
   ]
  },
  {
   "cell_type": "code",
   "execution_count": 610,
   "metadata": {
    "collapsed": false,
    "scrolled": true
   },
   "outputs": [
    {
     "data": {
      "text/plain": [
       "81    159.0\n",
       "30    239.0\n",
       "31    242.0\n",
       "20    252.0\n",
       "21    253.0\n",
       "dtype: float64"
      ]
     },
     "execution_count": 610,
     "metadata": {},
     "output_type": "execute_result"
    }
   ],
   "source": [
    "df_night2.iloc[:,:6].sum(axis=1).sort_values().iloc[:5]"
   ]
  },
  {
   "cell_type": "code",
   "execution_count": 611,
   "metadata": {
    "collapsed": false
   },
   "outputs": [
    {
     "data": {
      "text/plain": [
       "20     91\n",
       "19    123\n",
       "2     257\n",
       "1     258\n",
       "0     282\n",
       "dtype: int64"
      ]
     },
     "execution_count": 611,
     "metadata": {},
     "output_type": "execute_result"
    }
   ],
   "source": [
    "df_night_test.iloc[:,:6].sum(axis=1).sort_values().iloc[:5]"
   ]
  },
  {
   "cell_type": "code",
   "execution_count": 612,
   "metadata": {
    "collapsed": false
   },
   "outputs": [
    {
     "data": {
      "text/plain": [
       "133     837.0\n",
       "113     847.0\n",
       "140     924.0\n",
       "112     934.0\n",
       "119    1162.0\n",
       "dtype: float64"
      ]
     },
     "execution_count": 612,
     "metadata": {},
     "output_type": "execute_result"
    }
   ],
   "source": [
    "df_night2.iloc[:,:6].sum(axis=1).sort_values().iloc[-5:]"
   ]
  },
  {
   "cell_type": "code",
   "execution_count": 613,
   "metadata": {
    "collapsed": false
   },
   "outputs": [
    {
     "data": {
      "text/plain": [
       "5     743\n",
       "21    757\n",
       "33    785\n",
       "26    814\n",
       "24    926\n",
       "dtype: int64"
      ]
     },
     "execution_count": 613,
     "metadata": {},
     "output_type": "execute_result"
    }
   ],
   "source": [
    "df_night_test.iloc[:,:6].sum(axis=1).sort_values().iloc[-5:]"
   ]
  },
  {
   "cell_type": "code",
   "execution_count": null,
   "metadata": {
    "collapsed": true
   },
   "outputs": [],
   "source": []
  },
  {
   "cell_type": "code",
   "execution_count": 683,
   "metadata": {
    "collapsed": true
   },
   "outputs": [],
   "source": [
    "import pickle"
   ]
  },
  {
   "cell_type": "code",
   "execution_count": 684,
   "metadata": {
    "collapsed": true
   },
   "outputs": [],
   "source": [
    "morn_pred = pickle.load(open('morn_pred1.p', 'rb'))"
   ]
  },
  {
   "cell_type": "code",
   "execution_count": null,
   "metadata": {
    "collapsed": true
   },
   "outputs": [],
   "source": []
  },
  {
   "cell_type": "code",
   "execution_count": 685,
   "metadata": {
    "collapsed": false
   },
   "outputs": [
    {
     "data": {
      "text/plain": [
       "420"
      ]
     },
     "execution_count": 685,
     "metadata": {},
     "output_type": "execute_result"
    }
   ],
   "source": [
    "len(np.append(morn_pred, night_pred))"
   ]
  },
  {
   "cell_type": "code",
   "execution_count": null,
   "metadata": {
    "collapsed": true
   },
   "outputs": [],
   "source": []
  },
  {
   "cell_type": "code",
   "execution_count": 686,
   "metadata": {
    "collapsed": true
   },
   "outputs": [],
   "source": [
    "sample['volume'] = np.vectorize(round)(np.append(morn_pred, night_pred))"
   ]
  },
  {
   "cell_type": "code",
   "execution_count": 687,
   "metadata": {
    "collapsed": false
   },
   "outputs": [
    {
     "data": {
      "text/html": [
       "<div>\n",
       "<table border=\"1\" class=\"dataframe\">\n",
       "  <thead>\n",
       "    <tr style=\"text-align: right;\">\n",
       "      <th></th>\n",
       "      <th>tollgate_id</th>\n",
       "      <th>time_window</th>\n",
       "      <th>direction</th>\n",
       "      <th>volume</th>\n",
       "    </tr>\n",
       "  </thead>\n",
       "  <tbody>\n",
       "    <tr>\n",
       "      <th>334</th>\n",
       "      <td>2</td>\n",
       "      <td>[2016-10-30 18:40:00,2016-10-30 19:00:00)</td>\n",
       "      <td>0</td>\n",
       "      <td>9.0</td>\n",
       "    </tr>\n",
       "  </tbody>\n",
       "</table>\n",
       "</div>"
      ],
      "text/plain": [
       "     tollgate_id                                time_window  direction  volume\n",
       "334            2  [2016-10-30 18:40:00,2016-10-30 19:00:00)          0     9.0"
      ]
     },
     "execution_count": 687,
     "metadata": {},
     "output_type": "execute_result"
    }
   ],
   "source": [
    "sample[(sample['tollgate_id']==2) & (sample['direction']==0) & (sample['time_window']=='[2016-10-30 18:40:00,2016-10-30 19:00:00)')]\n"
   ]
  },
  {
   "cell_type": "code",
   "execution_count": null,
   "metadata": {
    "collapsed": true
   },
   "outputs": [],
   "source": []
  },
  {
   "cell_type": "code",
   "execution_count": 688,
   "metadata": {
    "collapsed": true
   },
   "outputs": [],
   "source": [
    "sample.to_csv('submission/submission_0601v.csv', index=False)"
   ]
  },
  {
   "cell_type": "code",
   "execution_count": 689,
   "metadata": {
    "collapsed": false
   },
   "outputs": [],
   "source": [
    "sub30 = pd.read_csv('submission/submission_0601v.csv')\n",
    "sub31 = pd.read_csv('submission/submission_0531v.csv')"
   ]
  },
  {
   "cell_type": "code",
   "execution_count": 690,
   "metadata": {
    "collapsed": false
   },
   "outputs": [],
   "source": [
    "sub30['volume_new'] = sub31['volume']"
   ]
  },
  {
   "cell_type": "code",
   "execution_count": 691,
   "metadata": {
    "collapsed": false
   },
   "outputs": [],
   "source": [
    "sub30['dif'] = (sub30['volume_new'] - sub30['volume'] ).apply(np.abs)"
   ]
  },
  {
   "cell_type": "code",
   "execution_count": 692,
   "metadata": {
    "collapsed": false
   },
   "outputs": [],
   "source": [
    "subsort = sub30.sort_values(by='dif', ascending=False)"
   ]
  },
  {
   "cell_type": "code",
   "execution_count": 696,
   "metadata": {
    "collapsed": false
   },
   "outputs": [
    {
     "data": {
      "text/html": [
       "<div>\n",
       "<table border=\"1\" class=\"dataframe\">\n",
       "  <thead>\n",
       "    <tr style=\"text-align: right;\">\n",
       "      <th></th>\n",
       "      <th>tollgate_id</th>\n",
       "      <th>time_window</th>\n",
       "      <th>direction</th>\n",
       "      <th>volume</th>\n",
       "      <th>volume_new</th>\n",
       "      <th>dif</th>\n",
       "    </tr>\n",
       "  </thead>\n",
       "  <tbody>\n",
       "    <tr>\n",
       "      <th>353</th>\n",
       "      <td>3</td>\n",
       "      <td>[2016-10-28 17:40:00,2016-10-28 18:00:00)</td>\n",
       "      <td>0</td>\n",
       "      <td>135.0</td>\n",
       "      <td>102.0</td>\n",
       "      <td>33.0</td>\n",
       "    </tr>\n",
       "    <tr>\n",
       "      <th>339</th>\n",
       "      <td>3</td>\n",
       "      <td>[2016-10-28 17:00:00,2016-10-28 17:20:00)</td>\n",
       "      <td>0</td>\n",
       "      <td>152.0</td>\n",
       "      <td>123.0</td>\n",
       "      <td>29.0</td>\n",
       "    </tr>\n",
       "    <tr>\n",
       "      <th>360</th>\n",
       "      <td>3</td>\n",
       "      <td>[2016-10-28 18:00:00,2016-10-28 18:20:00)</td>\n",
       "      <td>0</td>\n",
       "      <td>107.0</td>\n",
       "      <td>79.0</td>\n",
       "      <td>28.0</td>\n",
       "    </tr>\n",
       "    <tr>\n",
       "      <th>367</th>\n",
       "      <td>3</td>\n",
       "      <td>[2016-10-28 18:20:00,2016-10-28 18:40:00)</td>\n",
       "      <td>0</td>\n",
       "      <td>108.0</td>\n",
       "      <td>82.0</td>\n",
       "      <td>26.0</td>\n",
       "    </tr>\n",
       "    <tr>\n",
       "      <th>346</th>\n",
       "      <td>3</td>\n",
       "      <td>[2016-10-28 17:20:00,2016-10-28 17:40:00)</td>\n",
       "      <td>0</td>\n",
       "      <td>138.0</td>\n",
       "      <td>113.0</td>\n",
       "      <td>25.0</td>\n",
       "    </tr>\n",
       "    <tr>\n",
       "      <th>374</th>\n",
       "      <td>3</td>\n",
       "      <td>[2016-10-28 18:40:00,2016-10-28 19:00:00)</td>\n",
       "      <td>0</td>\n",
       "      <td>85.0</td>\n",
       "      <td>63.0</td>\n",
       "      <td>22.0</td>\n",
       "    </tr>\n",
       "    <tr>\n",
       "      <th>74</th>\n",
       "      <td>1</td>\n",
       "      <td>[2016-10-29 09:20:00,2016-10-29 09:40:00)</td>\n",
       "      <td>1</td>\n",
       "      <td>105.0</td>\n",
       "      <td>98.0</td>\n",
       "      <td>7.0</td>\n",
       "    </tr>\n",
       "    <tr>\n",
       "      <th>46</th>\n",
       "      <td>1</td>\n",
       "      <td>[2016-10-29 08:00:00,2016-10-29 08:20:00)</td>\n",
       "      <td>1</td>\n",
       "      <td>93.0</td>\n",
       "      <td>87.0</td>\n",
       "      <td>6.0</td>\n",
       "    </tr>\n",
       "    <tr>\n",
       "      <th>357</th>\n",
       "      <td>3</td>\n",
       "      <td>[2016-10-25 18:00:00,2016-10-25 18:20:00)</td>\n",
       "      <td>0</td>\n",
       "      <td>86.0</td>\n",
       "      <td>80.0</td>\n",
       "      <td>6.0</td>\n",
       "    </tr>\n",
       "    <tr>\n",
       "      <th>187</th>\n",
       "      <td>3</td>\n",
       "      <td>[2016-10-30 08:40:00,2016-10-30 09:00:00)</td>\n",
       "      <td>1</td>\n",
       "      <td>86.0</td>\n",
       "      <td>80.0</td>\n",
       "      <td>6.0</td>\n",
       "    </tr>\n",
       "    <tr>\n",
       "      <th>49</th>\n",
       "      <td>1</td>\n",
       "      <td>[2016-10-25 08:20:00,2016-10-25 08:40:00)</td>\n",
       "      <td>1</td>\n",
       "      <td>119.0</td>\n",
       "      <td>124.0</td>\n",
       "      <td>5.0</td>\n",
       "    </tr>\n",
       "    <tr>\n",
       "      <th>364</th>\n",
       "      <td>3</td>\n",
       "      <td>[2016-10-25 18:20:00,2016-10-25 18:40:00)</td>\n",
       "      <td>0</td>\n",
       "      <td>75.0</td>\n",
       "      <td>70.0</td>\n",
       "      <td>5.0</td>\n",
       "    </tr>\n",
       "    <tr>\n",
       "      <th>78</th>\n",
       "      <td>1</td>\n",
       "      <td>[2016-10-26 09:40:00,2016-10-26 10:00:00)</td>\n",
       "      <td>1</td>\n",
       "      <td>106.0</td>\n",
       "      <td>111.0</td>\n",
       "      <td>5.0</td>\n",
       "    </tr>\n",
       "    <tr>\n",
       "      <th>198</th>\n",
       "      <td>3</td>\n",
       "      <td>[2016-10-27 09:20:00,2016-10-27 09:40:00)</td>\n",
       "      <td>1</td>\n",
       "      <td>107.0</td>\n",
       "      <td>102.0</td>\n",
       "      <td>5.0</td>\n",
       "    </tr>\n",
       "    <tr>\n",
       "      <th>101</th>\n",
       "      <td>2</td>\n",
       "      <td>[2016-10-28 08:40:00,2016-10-28 09:00:00)</td>\n",
       "      <td>0</td>\n",
       "      <td>120.0</td>\n",
       "      <td>115.0</td>\n",
       "      <td>5.0</td>\n",
       "    </tr>\n",
       "    <tr>\n",
       "      <th>173</th>\n",
       "      <td>3</td>\n",
       "      <td>[2016-10-30 08:00:00,2016-10-30 08:20:00)</td>\n",
       "      <td>1</td>\n",
       "      <td>73.0</td>\n",
       "      <td>69.0</td>\n",
       "      <td>4.0</td>\n",
       "    </tr>\n",
       "    <tr>\n",
       "      <th>72</th>\n",
       "      <td>1</td>\n",
       "      <td>[2016-10-27 09:20:00,2016-10-27 09:40:00)</td>\n",
       "      <td>1</td>\n",
       "      <td>103.0</td>\n",
       "      <td>107.0</td>\n",
       "      <td>4.0</td>\n",
       "    </tr>\n",
       "    <tr>\n",
       "      <th>140</th>\n",
       "      <td>3</td>\n",
       "      <td>[2016-10-25 08:40:00,2016-10-25 09:00:00)</td>\n",
       "      <td>0</td>\n",
       "      <td>143.0</td>\n",
       "      <td>139.0</td>\n",
       "      <td>4.0</td>\n",
       "    </tr>\n",
       "    <tr>\n",
       "      <th>119</th>\n",
       "      <td>2</td>\n",
       "      <td>[2016-10-25 09:40:00,2016-10-25 10:00:00)</td>\n",
       "      <td>0</td>\n",
       "      <td>82.0</td>\n",
       "      <td>78.0</td>\n",
       "      <td>4.0</td>\n",
       "    </tr>\n",
       "    <tr>\n",
       "      <th>208</th>\n",
       "      <td>3</td>\n",
       "      <td>[2016-10-30 09:40:00,2016-10-30 10:00:00)</td>\n",
       "      <td>1</td>\n",
       "      <td>91.0</td>\n",
       "      <td>87.0</td>\n",
       "      <td>4.0</td>\n",
       "    </tr>\n",
       "    <tr>\n",
       "      <th>201</th>\n",
       "      <td>3</td>\n",
       "      <td>[2016-10-30 09:20:00,2016-10-30 09:40:00)</td>\n",
       "      <td>1</td>\n",
       "      <td>90.0</td>\n",
       "      <td>86.0</td>\n",
       "      <td>4.0</td>\n",
       "    </tr>\n",
       "    <tr>\n",
       "      <th>58</th>\n",
       "      <td>1</td>\n",
       "      <td>[2016-10-27 08:40:00,2016-10-27 09:00:00)</td>\n",
       "      <td>1</td>\n",
       "      <td>122.0</td>\n",
       "      <td>126.0</td>\n",
       "      <td>4.0</td>\n",
       "    </tr>\n",
       "    <tr>\n",
       "      <th>60</th>\n",
       "      <td>1</td>\n",
       "      <td>[2016-10-29 08:40:00,2016-10-29 09:00:00)</td>\n",
       "      <td>1</td>\n",
       "      <td>105.0</td>\n",
       "      <td>101.0</td>\n",
       "      <td>4.0</td>\n",
       "    </tr>\n",
       "    <tr>\n",
       "      <th>115</th>\n",
       "      <td>2</td>\n",
       "      <td>[2016-10-28 09:20:00,2016-10-28 09:40:00)</td>\n",
       "      <td>0</td>\n",
       "      <td>111.0</td>\n",
       "      <td>107.0</td>\n",
       "      <td>4.0</td>\n",
       "    </tr>\n",
       "    <tr>\n",
       "      <th>113</th>\n",
       "      <td>2</td>\n",
       "      <td>[2016-10-26 09:20:00,2016-10-26 09:40:00)</td>\n",
       "      <td>0</td>\n",
       "      <td>97.0</td>\n",
       "      <td>93.0</td>\n",
       "      <td>4.0</td>\n",
       "    </tr>\n",
       "    <tr>\n",
       "      <th>112</th>\n",
       "      <td>2</td>\n",
       "      <td>[2016-10-25 09:20:00,2016-10-25 09:40:00)</td>\n",
       "      <td>0</td>\n",
       "      <td>100.0</td>\n",
       "      <td>96.0</td>\n",
       "      <td>4.0</td>\n",
       "    </tr>\n",
       "    <tr>\n",
       "      <th>75</th>\n",
       "      <td>1</td>\n",
       "      <td>[2016-10-30 09:20:00,2016-10-30 09:40:00)</td>\n",
       "      <td>1</td>\n",
       "      <td>98.0</td>\n",
       "      <td>94.0</td>\n",
       "      <td>4.0</td>\n",
       "    </tr>\n",
       "    <tr>\n",
       "      <th>36</th>\n",
       "      <td>1</td>\n",
       "      <td>[2016-10-26 09:40:00,2016-10-26 10:00:00)</td>\n",
       "      <td>0</td>\n",
       "      <td>50.0</td>\n",
       "      <td>46.0</td>\n",
       "      <td>4.0</td>\n",
       "    </tr>\n",
       "    <tr>\n",
       "      <th>180</th>\n",
       "      <td>3</td>\n",
       "      <td>[2016-10-30 08:20:00,2016-10-30 08:40:00)</td>\n",
       "      <td>1</td>\n",
       "      <td>80.0</td>\n",
       "      <td>76.0</td>\n",
       "      <td>4.0</td>\n",
       "    </tr>\n",
       "    <tr>\n",
       "      <th>178</th>\n",
       "      <td>3</td>\n",
       "      <td>[2016-10-28 08:20:00,2016-10-28 08:40:00)</td>\n",
       "      <td>1</td>\n",
       "      <td>109.0</td>\n",
       "      <td>105.0</td>\n",
       "      <td>4.0</td>\n",
       "    </tr>\n",
       "    <tr>\n",
       "      <th>...</th>\n",
       "      <td>...</td>\n",
       "      <td>...</td>\n",
       "      <td>...</td>\n",
       "      <td>...</td>\n",
       "      <td>...</td>\n",
       "      <td>...</td>\n",
       "    </tr>\n",
       "    <tr>\n",
       "      <th>268</th>\n",
       "      <td>1</td>\n",
       "      <td>[2016-10-27 17:40:00,2016-10-27 18:00:00)</td>\n",
       "      <td>1</td>\n",
       "      <td>102.0</td>\n",
       "      <td>102.0</td>\n",
       "      <td>0.0</td>\n",
       "    </tr>\n",
       "    <tr>\n",
       "      <th>267</th>\n",
       "      <td>1</td>\n",
       "      <td>[2016-10-26 17:40:00,2016-10-26 18:00:00)</td>\n",
       "      <td>1</td>\n",
       "      <td>108.0</td>\n",
       "      <td>108.0</td>\n",
       "      <td>0.0</td>\n",
       "    </tr>\n",
       "    <tr>\n",
       "      <th>252</th>\n",
       "      <td>1</td>\n",
       "      <td>[2016-10-25 17:00:00,2016-10-25 17:20:00)</td>\n",
       "      <td>1</td>\n",
       "      <td>98.0</td>\n",
       "      <td>98.0</td>\n",
       "      <td>0.0</td>\n",
       "    </tr>\n",
       "    <tr>\n",
       "      <th>240</th>\n",
       "      <td>1</td>\n",
       "      <td>[2016-10-27 18:20:00,2016-10-27 18:40:00)</td>\n",
       "      <td>0</td>\n",
       "      <td>19.0</td>\n",
       "      <td>19.0</td>\n",
       "      <td>0.0</td>\n",
       "    </tr>\n",
       "    <tr>\n",
       "      <th>241</th>\n",
       "      <td>1</td>\n",
       "      <td>[2016-10-28 18:20:00,2016-10-28 18:40:00)</td>\n",
       "      <td>0</td>\n",
       "      <td>35.0</td>\n",
       "      <td>35.0</td>\n",
       "      <td>0.0</td>\n",
       "    </tr>\n",
       "    <tr>\n",
       "      <th>242</th>\n",
       "      <td>1</td>\n",
       "      <td>[2016-10-29 18:20:00,2016-10-29 18:40:00)</td>\n",
       "      <td>0</td>\n",
       "      <td>22.0</td>\n",
       "      <td>22.0</td>\n",
       "      <td>0.0</td>\n",
       "    </tr>\n",
       "    <tr>\n",
       "      <th>243</th>\n",
       "      <td>1</td>\n",
       "      <td>[2016-10-30 18:20:00,2016-10-30 18:40:00)</td>\n",
       "      <td>0</td>\n",
       "      <td>79.0</td>\n",
       "      <td>79.0</td>\n",
       "      <td>0.0</td>\n",
       "    </tr>\n",
       "    <tr>\n",
       "      <th>244</th>\n",
       "      <td>1</td>\n",
       "      <td>[2016-10-31 18:20:00,2016-10-31 18:40:00)</td>\n",
       "      <td>0</td>\n",
       "      <td>63.0</td>\n",
       "      <td>63.0</td>\n",
       "      <td>0.0</td>\n",
       "    </tr>\n",
       "    <tr>\n",
       "      <th>245</th>\n",
       "      <td>1</td>\n",
       "      <td>[2016-10-25 18:40:00,2016-10-25 19:00:00)</td>\n",
       "      <td>0</td>\n",
       "      <td>15.0</td>\n",
       "      <td>15.0</td>\n",
       "      <td>0.0</td>\n",
       "    </tr>\n",
       "    <tr>\n",
       "      <th>246</th>\n",
       "      <td>1</td>\n",
       "      <td>[2016-10-26 18:40:00,2016-10-26 19:00:00)</td>\n",
       "      <td>0</td>\n",
       "      <td>16.0</td>\n",
       "      <td>16.0</td>\n",
       "      <td>0.0</td>\n",
       "    </tr>\n",
       "    <tr>\n",
       "      <th>247</th>\n",
       "      <td>1</td>\n",
       "      <td>[2016-10-27 18:40:00,2016-10-27 19:00:00)</td>\n",
       "      <td>0</td>\n",
       "      <td>16.0</td>\n",
       "      <td>16.0</td>\n",
       "      <td>0.0</td>\n",
       "    </tr>\n",
       "    <tr>\n",
       "      <th>248</th>\n",
       "      <td>1</td>\n",
       "      <td>[2016-10-28 18:40:00,2016-10-28 19:00:00)</td>\n",
       "      <td>0</td>\n",
       "      <td>34.0</td>\n",
       "      <td>34.0</td>\n",
       "      <td>0.0</td>\n",
       "    </tr>\n",
       "    <tr>\n",
       "      <th>249</th>\n",
       "      <td>1</td>\n",
       "      <td>[2016-10-29 18:40:00,2016-10-29 19:00:00)</td>\n",
       "      <td>0</td>\n",
       "      <td>21.0</td>\n",
       "      <td>21.0</td>\n",
       "      <td>0.0</td>\n",
       "    </tr>\n",
       "    <tr>\n",
       "      <th>250</th>\n",
       "      <td>1</td>\n",
       "      <td>[2016-10-30 18:40:00,2016-10-30 19:00:00)</td>\n",
       "      <td>0</td>\n",
       "      <td>65.0</td>\n",
       "      <td>65.0</td>\n",
       "      <td>0.0</td>\n",
       "    </tr>\n",
       "    <tr>\n",
       "      <th>251</th>\n",
       "      <td>1</td>\n",
       "      <td>[2016-10-31 18:40:00,2016-10-31 19:00:00)</td>\n",
       "      <td>0</td>\n",
       "      <td>69.0</td>\n",
       "      <td>69.0</td>\n",
       "      <td>0.0</td>\n",
       "    </tr>\n",
       "    <tr>\n",
       "      <th>253</th>\n",
       "      <td>1</td>\n",
       "      <td>[2016-10-26 17:00:00,2016-10-26 17:20:00)</td>\n",
       "      <td>1</td>\n",
       "      <td>102.0</td>\n",
       "      <td>102.0</td>\n",
       "      <td>0.0</td>\n",
       "    </tr>\n",
       "    <tr>\n",
       "      <th>266</th>\n",
       "      <td>1</td>\n",
       "      <td>[2016-10-25 17:40:00,2016-10-25 18:00:00)</td>\n",
       "      <td>1</td>\n",
       "      <td>106.0</td>\n",
       "      <td>106.0</td>\n",
       "      <td>0.0</td>\n",
       "    </tr>\n",
       "    <tr>\n",
       "      <th>254</th>\n",
       "      <td>1</td>\n",
       "      <td>[2016-10-27 17:00:00,2016-10-27 17:20:00)</td>\n",
       "      <td>1</td>\n",
       "      <td>90.0</td>\n",
       "      <td>90.0</td>\n",
       "      <td>0.0</td>\n",
       "    </tr>\n",
       "    <tr>\n",
       "      <th>255</th>\n",
       "      <td>1</td>\n",
       "      <td>[2016-10-28 17:00:00,2016-10-28 17:20:00)</td>\n",
       "      <td>1</td>\n",
       "      <td>106.0</td>\n",
       "      <td>106.0</td>\n",
       "      <td>0.0</td>\n",
       "    </tr>\n",
       "    <tr>\n",
       "      <th>256</th>\n",
       "      <td>1</td>\n",
       "      <td>[2016-10-29 17:00:00,2016-10-29 17:20:00)</td>\n",
       "      <td>1</td>\n",
       "      <td>82.0</td>\n",
       "      <td>82.0</td>\n",
       "      <td>0.0</td>\n",
       "    </tr>\n",
       "    <tr>\n",
       "      <th>257</th>\n",
       "      <td>1</td>\n",
       "      <td>[2016-10-30 17:00:00,2016-10-30 17:20:00)</td>\n",
       "      <td>1</td>\n",
       "      <td>103.0</td>\n",
       "      <td>103.0</td>\n",
       "      <td>0.0</td>\n",
       "    </tr>\n",
       "    <tr>\n",
       "      <th>258</th>\n",
       "      <td>1</td>\n",
       "      <td>[2016-10-31 17:00:00,2016-10-31 17:20:00)</td>\n",
       "      <td>1</td>\n",
       "      <td>96.0</td>\n",
       "      <td>96.0</td>\n",
       "      <td>0.0</td>\n",
       "    </tr>\n",
       "    <tr>\n",
       "      <th>259</th>\n",
       "      <td>1</td>\n",
       "      <td>[2016-10-25 17:20:00,2016-10-25 17:40:00)</td>\n",
       "      <td>1</td>\n",
       "      <td>109.0</td>\n",
       "      <td>109.0</td>\n",
       "      <td>0.0</td>\n",
       "    </tr>\n",
       "    <tr>\n",
       "      <th>260</th>\n",
       "      <td>1</td>\n",
       "      <td>[2016-10-26 17:20:00,2016-10-26 17:40:00)</td>\n",
       "      <td>1</td>\n",
       "      <td>111.0</td>\n",
       "      <td>111.0</td>\n",
       "      <td>0.0</td>\n",
       "    </tr>\n",
       "    <tr>\n",
       "      <th>261</th>\n",
       "      <td>1</td>\n",
       "      <td>[2016-10-27 17:20:00,2016-10-27 17:40:00)</td>\n",
       "      <td>1</td>\n",
       "      <td>94.0</td>\n",
       "      <td>94.0</td>\n",
       "      <td>0.0</td>\n",
       "    </tr>\n",
       "    <tr>\n",
       "      <th>262</th>\n",
       "      <td>1</td>\n",
       "      <td>[2016-10-28 17:20:00,2016-10-28 17:40:00)</td>\n",
       "      <td>1</td>\n",
       "      <td>115.0</td>\n",
       "      <td>115.0</td>\n",
       "      <td>0.0</td>\n",
       "    </tr>\n",
       "    <tr>\n",
       "      <th>263</th>\n",
       "      <td>1</td>\n",
       "      <td>[2016-10-29 17:20:00,2016-10-29 17:40:00)</td>\n",
       "      <td>1</td>\n",
       "      <td>94.0</td>\n",
       "      <td>94.0</td>\n",
       "      <td>0.0</td>\n",
       "    </tr>\n",
       "    <tr>\n",
       "      <th>264</th>\n",
       "      <td>1</td>\n",
       "      <td>[2016-10-30 17:20:00,2016-10-30 17:40:00)</td>\n",
       "      <td>1</td>\n",
       "      <td>106.0</td>\n",
       "      <td>106.0</td>\n",
       "      <td>0.0</td>\n",
       "    </tr>\n",
       "    <tr>\n",
       "      <th>265</th>\n",
       "      <td>1</td>\n",
       "      <td>[2016-10-31 17:20:00,2016-10-31 17:40:00)</td>\n",
       "      <td>1</td>\n",
       "      <td>104.0</td>\n",
       "      <td>104.0</td>\n",
       "      <td>0.0</td>\n",
       "    </tr>\n",
       "    <tr>\n",
       "      <th>419</th>\n",
       "      <td>3</td>\n",
       "      <td>[2016-10-31 18:40:00,2016-10-31 19:00:00)</td>\n",
       "      <td>1</td>\n",
       "      <td>60.0</td>\n",
       "      <td>60.0</td>\n",
       "      <td>0.0</td>\n",
       "    </tr>\n",
       "  </tbody>\n",
       "</table>\n",
       "<p>420 rows × 6 columns</p>\n",
       "</div>"
      ],
      "text/plain": [
       "     tollgate_id                                time_window  direction  \\\n",
       "353            3  [2016-10-28 17:40:00,2016-10-28 18:00:00)          0   \n",
       "339            3  [2016-10-28 17:00:00,2016-10-28 17:20:00)          0   \n",
       "360            3  [2016-10-28 18:00:00,2016-10-28 18:20:00)          0   \n",
       "367            3  [2016-10-28 18:20:00,2016-10-28 18:40:00)          0   \n",
       "346            3  [2016-10-28 17:20:00,2016-10-28 17:40:00)          0   \n",
       "374            3  [2016-10-28 18:40:00,2016-10-28 19:00:00)          0   \n",
       "74             1  [2016-10-29 09:20:00,2016-10-29 09:40:00)          1   \n",
       "46             1  [2016-10-29 08:00:00,2016-10-29 08:20:00)          1   \n",
       "357            3  [2016-10-25 18:00:00,2016-10-25 18:20:00)          0   \n",
       "187            3  [2016-10-30 08:40:00,2016-10-30 09:00:00)          1   \n",
       "49             1  [2016-10-25 08:20:00,2016-10-25 08:40:00)          1   \n",
       "364            3  [2016-10-25 18:20:00,2016-10-25 18:40:00)          0   \n",
       "78             1  [2016-10-26 09:40:00,2016-10-26 10:00:00)          1   \n",
       "198            3  [2016-10-27 09:20:00,2016-10-27 09:40:00)          1   \n",
       "101            2  [2016-10-28 08:40:00,2016-10-28 09:00:00)          0   \n",
       "173            3  [2016-10-30 08:00:00,2016-10-30 08:20:00)          1   \n",
       "72             1  [2016-10-27 09:20:00,2016-10-27 09:40:00)          1   \n",
       "140            3  [2016-10-25 08:40:00,2016-10-25 09:00:00)          0   \n",
       "119            2  [2016-10-25 09:40:00,2016-10-25 10:00:00)          0   \n",
       "208            3  [2016-10-30 09:40:00,2016-10-30 10:00:00)          1   \n",
       "201            3  [2016-10-30 09:20:00,2016-10-30 09:40:00)          1   \n",
       "58             1  [2016-10-27 08:40:00,2016-10-27 09:00:00)          1   \n",
       "60             1  [2016-10-29 08:40:00,2016-10-29 09:00:00)          1   \n",
       "115            2  [2016-10-28 09:20:00,2016-10-28 09:40:00)          0   \n",
       "113            2  [2016-10-26 09:20:00,2016-10-26 09:40:00)          0   \n",
       "112            2  [2016-10-25 09:20:00,2016-10-25 09:40:00)          0   \n",
       "75             1  [2016-10-30 09:20:00,2016-10-30 09:40:00)          1   \n",
       "36             1  [2016-10-26 09:40:00,2016-10-26 10:00:00)          0   \n",
       "180            3  [2016-10-30 08:20:00,2016-10-30 08:40:00)          1   \n",
       "178            3  [2016-10-28 08:20:00,2016-10-28 08:40:00)          1   \n",
       "..           ...                                        ...        ...   \n",
       "268            1  [2016-10-27 17:40:00,2016-10-27 18:00:00)          1   \n",
       "267            1  [2016-10-26 17:40:00,2016-10-26 18:00:00)          1   \n",
       "252            1  [2016-10-25 17:00:00,2016-10-25 17:20:00)          1   \n",
       "240            1  [2016-10-27 18:20:00,2016-10-27 18:40:00)          0   \n",
       "241            1  [2016-10-28 18:20:00,2016-10-28 18:40:00)          0   \n",
       "242            1  [2016-10-29 18:20:00,2016-10-29 18:40:00)          0   \n",
       "243            1  [2016-10-30 18:20:00,2016-10-30 18:40:00)          0   \n",
       "244            1  [2016-10-31 18:20:00,2016-10-31 18:40:00)          0   \n",
       "245            1  [2016-10-25 18:40:00,2016-10-25 19:00:00)          0   \n",
       "246            1  [2016-10-26 18:40:00,2016-10-26 19:00:00)          0   \n",
       "247            1  [2016-10-27 18:40:00,2016-10-27 19:00:00)          0   \n",
       "248            1  [2016-10-28 18:40:00,2016-10-28 19:00:00)          0   \n",
       "249            1  [2016-10-29 18:40:00,2016-10-29 19:00:00)          0   \n",
       "250            1  [2016-10-30 18:40:00,2016-10-30 19:00:00)          0   \n",
       "251            1  [2016-10-31 18:40:00,2016-10-31 19:00:00)          0   \n",
       "253            1  [2016-10-26 17:00:00,2016-10-26 17:20:00)          1   \n",
       "266            1  [2016-10-25 17:40:00,2016-10-25 18:00:00)          1   \n",
       "254            1  [2016-10-27 17:00:00,2016-10-27 17:20:00)          1   \n",
       "255            1  [2016-10-28 17:00:00,2016-10-28 17:20:00)          1   \n",
       "256            1  [2016-10-29 17:00:00,2016-10-29 17:20:00)          1   \n",
       "257            1  [2016-10-30 17:00:00,2016-10-30 17:20:00)          1   \n",
       "258            1  [2016-10-31 17:00:00,2016-10-31 17:20:00)          1   \n",
       "259            1  [2016-10-25 17:20:00,2016-10-25 17:40:00)          1   \n",
       "260            1  [2016-10-26 17:20:00,2016-10-26 17:40:00)          1   \n",
       "261            1  [2016-10-27 17:20:00,2016-10-27 17:40:00)          1   \n",
       "262            1  [2016-10-28 17:20:00,2016-10-28 17:40:00)          1   \n",
       "263            1  [2016-10-29 17:20:00,2016-10-29 17:40:00)          1   \n",
       "264            1  [2016-10-30 17:20:00,2016-10-30 17:40:00)          1   \n",
       "265            1  [2016-10-31 17:20:00,2016-10-31 17:40:00)          1   \n",
       "419            3  [2016-10-31 18:40:00,2016-10-31 19:00:00)          1   \n",
       "\n",
       "     volume  volume_new   dif  \n",
       "353   135.0       102.0  33.0  \n",
       "339   152.0       123.0  29.0  \n",
       "360   107.0        79.0  28.0  \n",
       "367   108.0        82.0  26.0  \n",
       "346   138.0       113.0  25.0  \n",
       "374    85.0        63.0  22.0  \n",
       "74    105.0        98.0   7.0  \n",
       "46     93.0        87.0   6.0  \n",
       "357    86.0        80.0   6.0  \n",
       "187    86.0        80.0   6.0  \n",
       "49    119.0       124.0   5.0  \n",
       "364    75.0        70.0   5.0  \n",
       "78    106.0       111.0   5.0  \n",
       "198   107.0       102.0   5.0  \n",
       "101   120.0       115.0   5.0  \n",
       "173    73.0        69.0   4.0  \n",
       "72    103.0       107.0   4.0  \n",
       "140   143.0       139.0   4.0  \n",
       "119    82.0        78.0   4.0  \n",
       "208    91.0        87.0   4.0  \n",
       "201    90.0        86.0   4.0  \n",
       "58    122.0       126.0   4.0  \n",
       "60    105.0       101.0   4.0  \n",
       "115   111.0       107.0   4.0  \n",
       "113    97.0        93.0   4.0  \n",
       "112   100.0        96.0   4.0  \n",
       "75     98.0        94.0   4.0  \n",
       "36     50.0        46.0   4.0  \n",
       "180    80.0        76.0   4.0  \n",
       "178   109.0       105.0   4.0  \n",
       "..      ...         ...   ...  \n",
       "268   102.0       102.0   0.0  \n",
       "267   108.0       108.0   0.0  \n",
       "252    98.0        98.0   0.0  \n",
       "240    19.0        19.0   0.0  \n",
       "241    35.0        35.0   0.0  \n",
       "242    22.0        22.0   0.0  \n",
       "243    79.0        79.0   0.0  \n",
       "244    63.0        63.0   0.0  \n",
       "245    15.0        15.0   0.0  \n",
       "246    16.0        16.0   0.0  \n",
       "247    16.0        16.0   0.0  \n",
       "248    34.0        34.0   0.0  \n",
       "249    21.0        21.0   0.0  \n",
       "250    65.0        65.0   0.0  \n",
       "251    69.0        69.0   0.0  \n",
       "253   102.0       102.0   0.0  \n",
       "266   106.0       106.0   0.0  \n",
       "254    90.0        90.0   0.0  \n",
       "255   106.0       106.0   0.0  \n",
       "256    82.0        82.0   0.0  \n",
       "257   103.0       103.0   0.0  \n",
       "258    96.0        96.0   0.0  \n",
       "259   109.0       109.0   0.0  \n",
       "260   111.0       111.0   0.0  \n",
       "261    94.0        94.0   0.0  \n",
       "262   115.0       115.0   0.0  \n",
       "263    94.0        94.0   0.0  \n",
       "264   106.0       106.0   0.0  \n",
       "265   104.0       104.0   0.0  \n",
       "419    60.0        60.0   0.0  \n",
       "\n",
       "[420 rows x 6 columns]"
      ]
     },
     "execution_count": 696,
     "metadata": {},
     "output_type": "execute_result"
    }
   ],
   "source": [
    "subsort"
   ]
  },
  {
   "cell_type": "code",
   "execution_count": 218,
   "metadata": {
    "collapsed": false
   },
   "outputs": [
    {
     "data": {
      "text/plain": [
       "0.004064502882011287"
      ]
     },
     "execution_count": 218,
     "metadata": {},
     "output_type": "execute_result"
    }
   ],
   "source": [
    "(subsort['dif']/subsort['volume_new']).iloc[:10].sum()/420"
   ]
  },
  {
   "cell_type": "code",
   "execution_count": null,
   "metadata": {
    "collapsed": true
   },
   "outputs": [],
   "source": []
  },
  {
   "cell_type": "code",
   "execution_count": 559,
   "metadata": {
    "collapsed": false
   },
   "outputs": [
    {
     "data": {
      "text/plain": [
       "420"
      ]
     },
     "execution_count": 559,
     "metadata": {},
     "output_type": "execute_result"
    }
   ],
   "source": [
    "len(subsort)"
   ]
  },
  {
   "cell_type": "code",
   "execution_count": null,
   "metadata": {
    "collapsed": true
   },
   "outputs": [],
   "source": []
  },
  {
   "cell_type": "code",
   "execution_count": 70,
   "metadata": {
    "collapsed": true
   },
   "outputs": [],
   "source": [
    "training_weather = pd.read_csv('weather (table 7)_training_update.csv')"
   ]
  },
  {
   "cell_type": "code",
   "execution_count": 539,
   "metadata": {
    "collapsed": true
   },
   "outputs": [],
   "source": [
    "test_weather = pd.read_csv('dataSet_phase2/weather (table 7)_2.csv')"
   ]
  },
  {
   "cell_type": "code",
   "execution_count": 80,
   "metadata": {
    "collapsed": false
   },
   "outputs": [],
   "source": [
    "training_weather['datetime'] = \\\n",
    "    [datetime(int(i[:4]), int(i[5:7]), int(i[8:10]), j) for i, j in \\\n",
    "         zip(training_weather['date'], training_weather['hour'])]"
   ]
  },
  {
   "cell_type": "code",
   "execution_count": null,
   "metadata": {
    "collapsed": true
   },
   "outputs": [],
   "source": []
  },
  {
   "cell_type": "code",
   "execution_count": 94,
   "metadata": {
    "collapsed": false
   },
   "outputs": [
    {
     "data": {
      "text/plain": [
       "[<matplotlib.lines.Line2D at 0x10fd47490>]"
      ]
     },
     "execution_count": 94,
     "metadata": {},
     "output_type": "execute_result"
    },
    {
     "data": {
      "image/png": "[encoded data removed]",
      "text/plain": [
       "<matplotlib.figure.Figure at 0x109b22ed0>"
      ]
     },
     "metadata": {},
     "output_type": "display_data"
    }
   ],
   "source": [
    "wt = training_weather.iloc[648:]\n",
    "\n",
    "plt.figure(figsize=(20,6))\n",
    "plt.plot(wt['datetime'], wt['precipitation'])"
   ]
  },
  {
   "cell_type": "code",
   "execution_count": null,
   "metadata": {
    "collapsed": true
   },
   "outputs": [],
   "source": []
  },
  {
   "cell_type": "code",
   "execution_count": null,
   "metadata": {
    "collapsed": true
   },
   "outputs": [],
   "source": []
  },
  {
   "cell_type": "code",
   "execution_count": null,
   "metadata": {
    "collapsed": true
   },
   "outputs": [],
   "source": []
  },
  {
   "cell_type": "code",
   "execution_count": null,
   "metadata": {
    "collapsed": true
   },
   "outputs": [],
   "source": []
  },
  {
   "cell_type": "code",
   "execution_count": null,
   "metadata": {
    "collapsed": true
   },
   "outputs": [],
   "source": []
  },
  {
   "cell_type": "markdown",
   "metadata": {},
   "source": [
    "# Self-written KNN"
   ]
  },
  {
   "cell_type": "code",
   "execution_count": 239,
   "metadata": {
    "collapsed": false
   },
   "outputs": [],
   "source": [
    "class KNeighborsRegressor_M():\n",
    "    def __init__(self, n_neighbors=5, weights='uniform', \n",
    "                 distance_weights=None):\n",
    "        self.n_neighbors = n_neighbors\n",
    "        self.weights = weights\n",
    "        self.distance_weights = distance_weights\n",
    "\n",
    "        \n",
    "    def fit(self, X, y):\n",
    "        self._fit_X = X\n",
    "        self._fit_y = y\n",
    "    \n",
    "    @staticmethod\n",
    "    def distance_metric(m, n, dw):\n",
    "        m = np.array(m)\n",
    "        n = np.array(n)\n",
    "        if dw != None:\n",
    "            try:\n",
    "                return np.sqrt(((m-n)**2*np.array(dw)).sum())\n",
    "            except:\n",
    "                raise ValueError('Check distance_weights')\n",
    "        return np.sqrt(((m-n)**2).sum())\n",
    "    \n",
    "    def distance_matrix(self, X1, X2):\n",
    "        dmatrix = \\\n",
    "            [[KNeighborsRegressor_M.distance_metric(\n",
    "                        i, j, self.distance_weights) \n",
    "              for i in X1] for j in X2]\n",
    "        dmatrix = np.array(dmatrix)\n",
    "        return dmatrix\n",
    "    \n",
    "    def predict(self, X):\n",
    "        _dmatrix = self.distance_matrix(self._fit_X, X)\n",
    "        nn = min(self.n_neighbors, self._fit_X.shape[0])\n",
    "        nn_dist_matrix = np.array([np.partition(i, 2)[:2] for i in _dmatrix])\n",
    "        nn_arg_matrix = np.array([np.argpartition(i, 2)[:2] for i in _dmatrix])\n",
    "        \n",
    "        \n",
    "        return None\n",
    "    \n",
    "    \n",
    "    "
   ]
  },
  {
   "cell_type": "code",
   "execution_count": 244,
   "metadata": {
    "collapsed": false
   },
   "outputs": [
    {
     "data": {
      "text/plain": [
       "array([[ 5.        ,  3.60555128,  5.65685425,  4.12310563],\n",
       "       [ 5.        ,  2.23606798,  2.        ,  3.60555128],\n",
       "       [ 3.16227766,  1.41421356,  1.        ,  2.        ]])"
      ]
     },
     "execution_count": 244,
     "metadata": {},
     "output_type": "execute_result"
    }
   ],
   "source": [
    "dm = KNeighborsRegressor_M(distance_weights=None).distance_matrix(X1, X2)\n",
    "dm"
   ]
  },
  {
   "cell_type": "code",
   "execution_count": 235,
   "metadata": {
    "collapsed": false
   },
   "outputs": [
    {
     "data": {
      "text/plain": [
       "array([[ 3.60555128,  4.12310563],\n",
       "       [ 2.        ,  2.23606798],\n",
       "       [ 1.        ,  1.41421356]])"
      ]
     },
     "execution_count": 235,
     "metadata": {},
     "output_type": "execute_result"
    }
   ],
   "source": [
    "np.array([np.partition(i, 2)[:2] for i in dm])"
   ]
  },
  {
   "cell_type": "code",
   "execution_count": 234,
   "metadata": {
    "collapsed": false
   },
   "outputs": [
    {
     "data": {
      "text/plain": [
       "[array([1, 3]), array([2, 1]), array([2, 1])]"
      ]
     },
     "execution_count": 234,
     "metadata": {},
     "output_type": "execute_result"
    }
   ],
   "source": [
    "[np.argpartition(i, 2)[:2] for i in dm]"
   ]
  },
  {
   "cell_type": "code",
   "execution_count": 229,
   "metadata": {
    "collapsed": false
   },
   "outputs": [
    {
     "data": {
      "text/plain": [
       "array([9, 1, 6, 2])"
      ]
     },
     "execution_count": 229,
     "metadata": {},
     "output_type": "execute_result"
    }
   ],
   "source": [
    "np.argpartition(test, 4)[:4]"
   ]
  },
  {
   "cell_type": "code",
   "execution_count": 230,
   "metadata": {
    "collapsed": false
   },
   "outputs": [
    {
     "data": {
      "text/plain": [
       "array([0, 1, 1, 3])"
      ]
     },
     "execution_count": 230,
     "metadata": {},
     "output_type": "execute_result"
    }
   ],
   "source": [
    "np.partition(test, 4)[:4]"
   ]
  },
  {
   "cell_type": "code",
   "execution_count": 231,
   "metadata": {
    "collapsed": true
   },
   "outputs": [],
   "source": [
    "?np.partition"
   ]
  },
  {
   "cell_type": "code",
   "execution_count": null,
   "metadata": {
    "collapsed": true
   },
   "outputs": [],
   "source": []
  }
 ],
 "metadata": {
  "kernelspec": {
   "display_name": "Python 2",
   "language": "python",
   "name": "python2"
  },
  "language_info": {
   "codemirror_mode": {
    "name": "ipython",
    "version": 2
   },
   "file_extension": ".py",
   "mimetype": "text/x-python",
   "name": "python",
   "nbconvert_exporter": "python",
   "pygments_lexer": "ipython2",
   "version": "2.7.12"
  }
 },
 "nbformat": 4,
 "nbformat_minor": 1
}
